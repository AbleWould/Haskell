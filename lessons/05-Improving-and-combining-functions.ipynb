{
 "cells": [
  {
   "cell_type": "markdown",
   "metadata": {},
   "source": [
    "# Improving and combining functions"
   ]
  },
  {
   "cell_type": "markdown",
   "metadata": {},
   "source": [
    "## Outline\n",
    "\n",
    "- Curried functions\n",
    "\t- What are Curried functions?\n",
    "    - Partial application and simple example\n",
    "\t- Useful example\n",
    "<br><br>\n",
    "- Higher-order functions\n",
    "\t- What are they?\n",
    "\t- Why are they useful?\n",
    "\t- Example taking a function as a parameter\n",
    "\t- Example returning a function as a result\n",
    "<br><br>\n",
    "- Applying and composing functions \n",
    "\t- precedence, and associativity\n",
    "\t- Function composition\n",
    "\t- The `$` operator\n",
    "\t- Composition and the `.` operator\n",
    "\t- Point-free style\n",
    "<br><br>\n",
    "- Lambda functions\n",
    "\t- What are they?\n",
    "\t- Why do I care?\n",
    "\t- How to use them\n",
    "\t- Other examples"
   ]
  },
  {
   "cell_type": "markdown",
   "metadata": {},
   "source": [
    "## Curried functions"
   ]
  },
  {
   "cell_type": "markdown",
   "metadata": {},
   "source": [
    "### What are curried functions?"
   ]
  },
  {
   "cell_type": "markdown",
   "metadata": {},
   "source": [
    "In mathematics and computer science, currying is the technique of converting a function that takes multiple arguments into a sequence of functions that each takes a single argument. \n",
    "\n",
    "The converted function is then called a **curried function**. It is named after the American mathematician and logician **Haskell Curry**."
   ]
  },
  {
   "cell_type": "markdown",
   "metadata": {},
   "source": [
    "Under the hood, every function in Haskell officially only takes one parameter. All the functions that accepted several parameters so far have been **curried functions**.\n",
    "\n",
    "So how is it possible that in Haskell there are functions that take in more than one parameter? To understand how this works in Haskell we have to understand **partial application**."
   ]
  },
  {
   "cell_type": "markdown",
   "metadata": {},
   "source": [
    "### Partial application"
   ]
  },
  {
   "cell_type": "markdown",
   "metadata": {},
   "source": [
    "Partial application in Haskell means that you provide less arguments to a function then it accepts.\n",
    "\n",
    "The result you get is a new function which takes in the rest of the parameters that you did not provide to the original function. "
   ]
  },
  {
   "cell_type": "markdown",
   "metadata": {},
   "source": [
    "Let's understand it on an example of the `max` function: `max :: a -> a -> a`. It takes in two parameters and returns the larger one.\n",
    "\n",
    "`a` is called a type parameter and can be of any type that supports comparison operations, as for instance `Int`, `Double`, `Char`."
   ]
  },
  {
   "cell_type": "markdown",
   "metadata": {},
   "source": [
    "You can apply the function to only one parameter and you get another function that takes in only one parameter:"
   ]
  },
  {
   "cell_type": "code",
   "execution_count": null,
   "metadata": {},
   "outputs": [],
   "source": [
    "fourOrLarger :: Int -> Int\n",
    "fourOrLarger = max 4\n",
    "\n",
    "fourOrLarger' :: Int -> Int\n",
    "fourOrLarger' x = max 4 x\n",
    "\n",
    "fourOrLarger 3\n",
    "fourOrLarger 5"
   ]
  },
  {
   "cell_type": "markdown",
   "metadata": {},
   "source": [
    "Notice that even though we specified the type signature as `Int -> Int` we did not provide any input argument to `fourOrLarger` as in `fourOrLarger'`.\n",
    "\n",
    "When we say `max 4` we use partial application and Haskell created a new function that accepts only one argument and compares it to 4 with the `max` function."
   ]
  },
  {
   "cell_type": "markdown",
   "metadata": {},
   "source": [
    "The type of the `max` function can also be written as `max :: a -> (a -> a)`. You can read it as: the `max` function takes an `a` and returns a function that takes an `a` and returns an `a`.\n",
    "\n",
    "That's why the return type and the parameters of functions are all simply separated with arrows."
   ]
  },
  {
   "cell_type": "markdown",
   "metadata": {},
   "source": [
    "The first version `max :: a -> a -> a` is an **uncurried function**, while the second one `max :: a -> (a -> a)` is **curried**."
   ]
  },
  {
   "cell_type": "markdown",
   "metadata": {},
   "source": [
    "### Useful example"
   ]
  },
  {
   "cell_type": "markdown",
   "metadata": {},
   "source": [
    "Lets say you have a function that is used to create an email in the format `name.lastName@domain`. The parameters you provide it are the domain, the name and the last name."
   ]
  },
  {
   "cell_type": "code",
   "execution_count": null,
   "metadata": {},
   "outputs": [],
   "source": [
    "createEmail :: String -> String -> String -> String\n",
    "createEmail domain name lastName = name ++ \".\" ++ lastName ++ \"@\" ++ domain"
   ]
  },
  {
   "cell_type": "markdown",
   "metadata": {},
   "source": [
    "Now your company has only two other companies as clients which have two different domain names. You do not want your users to write out the domain name every time.\n",
    "\n",
    "So you create 2 functions where you provide their domain names to the `createEmail` function."
   ]
  },
  {
   "cell_type": "code",
   "execution_count": null,
   "metadata": {},
   "outputs": [],
   "source": [
    "createEmailTweag :: String -> String -> String\n",
    "createEmailTweag = createEmail \"tweag.com\"\n",
    "\n",
    "createEmailWellTyped :: String -> String -> String\n",
    "createEmailWellTyped = createEmail \"welltyped.com\"\n",
    "\n",
    "createEmailTweag \"Shanai\" \"Twain\"\n",
    "createEmailWellTyped \"Bob\" \"Dylan\""
   ]
  },
  {
   "cell_type": "markdown",
   "metadata": {},
   "source": [
    "It's important to notice that this is only possible because in the function `createEmail` we set the domain parameter as the first one. \n",
    "\n",
    "So the order of the arguments matters and should be preferably from most general to leas general."
   ]
  },
  {
   "cell_type": "markdown",
   "metadata": {},
   "source": [
    "If for some reason the parameter you want to apply is not first and you are not allowed to rewrite the exisitng function you can make a helper function."
   ]
  },
  {
   "cell_type": "code",
   "execution_count": null,
   "metadata": {},
   "outputs": [],
   "source": [
    "swap1and3 :: (a -> a -> a) -> a -> a -> a -> a\n",
    "swap1and3 f x1 x2 x3 = f x3 x2 x1\n",
    "\n",
    "createEmail' = swap1and3 createEmail\n",
    "createEmail' \"Twain\" \"Shanai\" \"tweag.com\""
   ]
  },
  {
   "cell_type": "markdown",
   "metadata": {},
   "source": [
    "## Higher-order functions"
   ]
  },
  {
   "cell_type": "markdown",
   "metadata": {},
   "source": [
    "### What are they"
   ]
  },
  {
   "cell_type": "markdown",
   "metadata": {},
   "source": [
    "As we've already learned, functions are data in Haskell. You can pass them them as a input parameter to another function or return it as a result.\n",
    "\n",
    "Because we can do this in Haskell we say that functions are **first class citizens**.\n",
    "\n",
    "The function that operates on other functions as arguments and / or returns a function as a result is called a **higher-order function**."
   ]
  },
  {
   "cell_type": "markdown",
   "metadata": {},
   "source": [
    "### Why are they useful"
   ]
  },
  {
   "cell_type": "markdown",
   "metadata": {},
   "source": [
    "They are useful because it gives you more flexibily to design code if your functions can also take in other functions as parameters or return them as a result.\n",
    "\n",
    "Haskell has some build in functions that are higher order functions which are commonly used for working with lists. We will learn about them in the Lists lesson.\n",
    "\n",
    "In fact using functions as arguments is generaly an extremely common practice in Haskell."
   ]
  },
  {
   "cell_type": "markdown",
   "metadata": {},
   "source": [
    "### Example taking a function as parameter"
   ]
  },
  {
   "cell_type": "markdown",
   "metadata": {},
   "source": [
    "Lets create a simple function and then another function that takes the first one as a parameter."
   ]
  },
  {
   "cell_type": "code",
   "execution_count": null,
   "metadata": {},
   "outputs": [],
   "source": [
    "add :: Int -> Int -> Int\n",
    "add x y = x + y\n",
    "\n",
    "applyToThree :: (Int -> Int -> Int) -> Int -> Int -> Int -> Int\n",
    "applyToThree f x1 x2 x3 = x1 `f` x2 `f` x3\n",
    "\n",
    "applyToThree add 1 2 3"
   ]
  },
  {
   "cell_type": "markdown",
   "metadata": {},
   "source": [
    "This gets usefull if we have a complex long function `complexAndLong` instead of `applyToThree` in our code. \n",
    "\n",
    "And somewhere in this function we need to apply another function that can change, depending on what we want to do.\n",
    "\n",
    "So instead of hardcoding the external functions and making several versions of `complexAndLong` we can make it a higher-order function."
   ]
  },
  {
   "cell_type": "markdown",
   "metadata": {},
   "source": [
    "### Example returning a function as a result"
   ]
  },
  {
   "cell_type": "markdown",
   "metadata": {},
   "source": [
    "We have already seen an example of that when we wrote the functions `fourOrLarger` and `swap1and3`.\n",
    "\n",
    "The first one does not take in any functions and returns a function. And it uses partial application on a Haskell build-in function.\n",
    "\n",
    "The second one takes in a function and also returns a function. It does not use partial application."
   ]
  },
  {
   "cell_type": "markdown",
   "metadata": {},
   "source": [
    "## Applying and composing functions "
   ]
  },
  {
   "cell_type": "markdown",
   "metadata": {},
   "source": [
    "### Precedence and associativity"
   ]
  },
  {
   "cell_type": "markdown",
   "metadata": {},
   "source": [
    "Precedence means the priority an operator has. So if we use two operators with different precedence the one with the higher precedence gets applied first.\n",
    "\n",
    "We can get the precedence for an operator with the info command `:i`. "
   ]
  },
  {
   "cell_type": "code",
   "execution_count": null,
   "metadata": {},
   "outputs": [],
   "source": [
    ":i (+)\n",
    "-- infixl 6 +\n",
    ":i (*)\n",
    "-- infixl 7 *\n",
    "\n",
    "1 + 2 * 3"
   ]
  },
  {
   "cell_type": "markdown",
   "metadata": {},
   "source": [
    "Because multiplication has a precedence of 7 which is higher then the addition precedence 6, ther result is 7 and not 9.\n",
    "\n",
    "We see also the `:i` command returns the keyword `infixl` which means the operators are infix operators and `l` stands for left associative.\n",
    "\n",
    "Together the informatin `infixl 6 +` is called **fixity**."
   ]
  },
  {
   "cell_type": "markdown",
   "metadata": {},
   "source": [
    "Associativity for an operator tells you if you apply this operator twice which side (left or right) will be evaluated first.\n",
    "\n",
    "For the operators `(+)` and `(\\*)` the expressions below evaluate the left side first (`1 + 2` and `1 * 2` get evaluated first)."
   ]
  },
  {
   "cell_type": "code",
   "execution_count": null,
   "metadata": {},
   "outputs": [],
   "source": [
    "1 + 2 + 3\n",
    "1 * 2 * 3"
   ]
  },
  {
   "cell_type": "markdown",
   "metadata": {},
   "source": [
    "In the above example the associativity does not matter. But for the exponentiation operator `(**)` which is right associative it does matter."
   ]
  },
  {
   "cell_type": "code",
   "execution_count": null,
   "metadata": {},
   "outputs": [],
   "source": [
    "2**3**4\n",
    "(2**3)**4"
   ]
  },
  {
   "cell_type": "markdown",
   "metadata": {},
   "source": [
    "We see if it would be left associative the result would be different. When we create our own operator we can also define the precedence and associativity."
   ]
  },
  {
   "cell_type": "code",
   "execution_count": null,
   "metadata": {},
   "outputs": [],
   "source": [
    "x +++ y = x + y; infixl 7 +++\n",
    "\n",
    "1 +++ 2 * 3"
   ]
  },
  {
   "cell_type": "markdown",
   "metadata": {},
   "source": [
    "Now the result is 9, because `+++` and `*` are both left associative and have the same precedence.\n",
    "\n",
    "But we get a compile error if we use operators of different associativity and same precedence."
   ]
  },
  {
   "cell_type": "code",
   "execution_count": null,
   "metadata": {},
   "outputs": [],
   "source": [
    "x +++ y = x + y; infixr 7 +++\n",
    "\n",
    "1 +++ 2 * 3"
   ]
  },
  {
   "cell_type": "markdown",
   "metadata": {},
   "source": [
    "### Function composition"
   ]
  },
  {
   "cell_type": "markdown",
   "metadata": {},
   "source": [
    "Recall the function `checkLocalHost` from a previous lesson that checks if the argument is a localhost or not and reports the user the result."
   ]
  },
  {
   "cell_type": "code",
   "execution_count": null,
   "metadata": {},
   "outputs": [],
   "source": [
    "checkLocalhost :: String -> String\n",
    "checkLocalhost ip =\n",
    "    if ip == \"127.0.0.1\"\n",
    "        then \"It’s a localhost!\"\n",
    "        else \"No, it's not a localhost.\""
   ]
  },
  {
   "cell_type": "markdown",
   "metadata": {},
   "source": [
    "A function `fourToIP` takes four integers and makes IP address. Then we can use it together with the previous function."
   ]
  },
  {
   "cell_type": "code",
   "execution_count": null,
   "metadata": {},
   "outputs": [],
   "source": [
    "fourToIP :: Int -> Int -> Int -> Int -> String\n",
    "fourToIP a b c d = show a ++ \".\" ++ show b ++ \".\" ++ show c ++ \".\" ++ show d\n",
    "\n",
    "checkLocalhost (fourToIP 127 0 0 1)"
   ]
  },
  {
   "cell_type": "markdown",
   "metadata": {},
   "source": [
    "Two functions are **composed** here, `checkLocalhost` and `fourToIP` because `fourToIP` returns `String` and `checkLocalhost` function has `String` at the input. \n",
    "\n",
    "Schematically, this can be represented as follows:"
   ]
  },
  {
   "cell_type": "markdown",
   "metadata": {},
   "source": [
    "$$\n",
    "    \\boxed{\\mathrm{(Int, Int, Int, Int)}}\n",
    "        \\xrightarrow{\\mathrm{~~~~~~fourToIP~~~~~~}}\n",
    "    \\boxed{\\mathrm{String}}\n",
    "        \\xrightarrow{~~~~~~\\mathrm{checkLocalhost}~~~~~~}\n",
    "    \\boxed{\\mathrm{String}}\n",
    "$$"
   ]
  },
  {
   "cell_type": "markdown",
   "metadata": {},
   "source": [
    "The way of composing functions above uses parenthesis. But what will happen if we need to compose three, four or more functions? \n",
    "\n",
    "The number of parenthesis grows, and our code becomes less readable. There is another way how to compose functions."
   ]
  },
  {
   "cell_type": "markdown",
   "metadata": {},
   "source": [
    "### The application `$` operator"
   ]
  },
  {
   "cell_type": "markdown",
   "metadata": {},
   "source": [
    "The application operator has the following type signature and fixity:\n",
    "```haskell\n",
    ":i ($)\n",
    "($) :: (a -> b) -> a -> b\n",
    "infixr 0 $\n",
    "```"
   ]
  },
  {
   "cell_type": "markdown",
   "metadata": {},
   "source": [
    "We see it takes in a function and a variable and then applies the function to it. It is right associative and it has a precedence of 0. \n",
    "\n",
    "Because of that any expression you write on the right side will be evaluated first and then the function will be applied to the result."
   ]
  },
  {
   "cell_type": "code",
   "execution_count": null,
   "metadata": {},
   "outputs": [],
   "source": [
    "(2 *) 3 + 4\n",
    "(2 *) $ 3 + 4\n",
    "\n",
    "max 5 4 + 2\n",
    "max 5 $ 4 + 2"
   ]
  },
  {
   "cell_type": "markdown",
   "metadata": {},
   "source": [
    "We see how the application operator changes the result of the above expressions. We can also chain multiple function calls with it."
   ]
  },
  {
   "cell_type": "code",
   "execution_count": null,
   "metadata": {},
   "outputs": [],
   "source": [
    "show ((2**) (max 3 (2 + 2)))\n",
    "show $ (2**) $ max 3 $ 2 + 2"
   ]
  },
  {
   "cell_type": "markdown",
   "metadata": {},
   "source": [
    "So for the example in the previous chapter we could now re-write it to:"
   ]
  },
  {
   "cell_type": "code",
   "execution_count": null,
   "metadata": {},
   "outputs": [],
   "source": [
    "checkLocalhost $ fourToIP 127 0 0 1"
   ]
  },
  {
   "cell_type": "markdown",
   "metadata": {},
   "source": [
    "In general you can re-write chained functions calls that use parantheses always with the application operator:\n",
    "```haskell\n",
    "f1 (f2 (f3 (... x)))\n",
    "or\n",
    "f1 $ f2 $ f3 $ ... x\n",
    "```"
   ]
  },
  {
   "cell_type": "markdown",
   "metadata": {},
   "source": [
    "### Composition and the dot `.` operator"
   ]
  },
  {
   "cell_type": "markdown",
   "metadata": {},
   "source": [
    "Another way to compose functions is with the dot operator. It has the following type signature and fixity:\n",
    "```haskell\n",
    ":i (.)\n",
    "(.) :: (b -> c) -> (a -> b) -> a -> c\n",
    "infixr 9 .\n",
    "```"
   ]
  },
  {
   "cell_type": "markdown",
   "metadata": {},
   "source": [
    "It takes in two functions and a parameter and applies the functions to the parameter. Here is an example."
   ]
  },
  {
   "cell_type": "code",
   "execution_count": null,
   "metadata": {},
   "outputs": [],
   "source": [
    "add1, add2 :: Int -> Int\n",
    "add1 x = x + 1\n",
    "add2 x = x + 2\n",
    "\n",
    "(add2 . add1) 3\n",
    "add2 . add1 $ 3\n",
    "\n",
    "add3 :: Int -> Int\n",
    "add3 x = add1 . add2 $ x\n",
    "add3 3"
   ]
  },
  {
   "cell_type": "markdown",
   "metadata": {},
   "source": [
    "We see that we need to use parentheses around the composed functions when applying them to a variable.\n",
    "\n",
    "Also the application operator can be used. Or we can just declare a new function by composing the first two."
   ]
  },
  {
   "cell_type": "markdown",
   "metadata": {},
   "source": [
    "If we rewrite now an example from the application operator chapter by using the dot operator we get:"
   ]
  },
  {
   "cell_type": "code",
   "execution_count": null,
   "metadata": {},
   "outputs": [],
   "source": [
    "show ((2**) (max 3 (2 + 2)))\n",
    "show . (2**) . max 3 $ 2 + 2"
   ]
  },
  {
   "cell_type": "markdown",
   "metadata": {},
   "source": [
    "Again we can rewrite our initial example as follows:"
   ]
  },
  {
   "cell_type": "code",
   "execution_count": null,
   "metadata": {},
   "outputs": [],
   "source": [
    "(checkLocalhost . fourToIP) 127 0 0 1"
   ]
  },
  {
   "cell_type": "markdown",
   "metadata": {},
   "source": [
    "Instead of two functions `checkLocalhost` and `fourToIP` we obtain a new one `checkLocalhost . fourToIP` called their **composition**. Schematically, this can be represented as follows:"
   ]
  },
  {
   "cell_type": "markdown",
   "metadata": {},
   "source": [
    "$$\n",
    "    \\boxed{\\mathrm{(Int, Int, Int, Int)}}\n",
    "        \\xrightarrow{\\mathrm{~~~~~~fourToIP~~~~~~}}\n",
    "    \\boxed{\\mathrm{String}}\n",
    "        \\xrightarrow{~~~~~~\\mathrm{checkLocalhost}~~~~~~}\n",
    "    \\boxed{\\mathrm{String}}\n",
    "    ~~~~~\n",
    "    =\n",
    "    ~~~~~\n",
    "    \\boxed{\\mathrm{(Int, Int, Int, Int)}}\n",
    "        \\xrightarrow{\\mathrm{~~~~~~checkLocalhost~.~fourToIP~~~~~~}}\n",
    "    \\boxed{\\mathrm{String}}\n",
    "$$\n"
   ]
  },
  {
   "cell_type": "markdown",
   "metadata": {},
   "source": [
    "### Point-free style"
   ]
  },
  {
   "cell_type": "markdown",
   "metadata": {},
   "source": [
    "This style in Haskell means we are declaring functions without writing out the variables.\n",
    "\n",
    "We saw allready one example when we used partial application. Below you can see the some of the previous defined functions in point-free style."
   ]
  },
  {
   "cell_type": "code",
   "execution_count": null,
   "metadata": {},
   "outputs": [],
   "source": [
    "fourOrLarger :: Int -> Int\n",
    "fourOrLarger = max 4\n",
    "\n",
    "add3 :: Int -> Int\n",
    "add3 = add1 . add2\n",
    "\n",
    "composition :: Int -> Int -> Int -> Int -> String\n",
    "composition = checkLocalhost . fourToIP"
   ]
  },
  {
   "cell_type": "markdown",
   "metadata": {},
   "source": [
    "## Lambda functions"
   ]
  },
  {
   "cell_type": "markdown",
   "metadata": {},
   "source": [
    "The term lambda function comes from the mathematical system called **lambda calculus** developed in the 1930s by Alonzo Church. \n",
    "\n",
    "Since this system can simulate a Turing machine it can be used for programming and Haskell is based on lambda calculus."
   ]
  },
  {
   "cell_type": "markdown",
   "metadata": {},
   "source": [
    "### What are they?"
   ]
  },
  {
   "cell_type": "markdown",
   "metadata": {},
   "source": [
    "The idea of ​the ​lambda functions or so-called anonymous function is that you can define it without naming it.\n",
    "\n",
    "Here's how a multiplication lambda function $f(x,y)=x*y$ looks like in Haskell:"
   ]
  },
  {
   "cell_type": "markdown",
   "metadata": {},
   "source": [
    "```haskell\n",
    "\\x y -> x * y\n",
    "```\n",
    "The backslash `\\` at the beginning denotes the beginning of the lambda function, after which the arguments follow. And after the arrow `->` comes the main body of the function."
   ]
  },
  {
   "cell_type": "markdown",
   "metadata": {},
   "source": [
    "### Why do I care?"
   ]
  },
  {
   "cell_type": "markdown",
   "metadata": {},
   "source": [
    "Sometimes we don't want to write functions out and we rather define them directly. It can make the code more compact.\n",
    "\n",
    "You will also see later in the Monad lesson that lambda functions are used by Haskell internally when it does some code syntax translation in the background. "
   ]
  },
  {
   "cell_type": "markdown",
   "metadata": {},
   "source": [
    "### How to use them"
   ]
  },
  {
   "cell_type": "markdown",
   "metadata": {},
   "source": [
    "An ordinary function starts with a signature/definition, and it is used somewhere by its name.\n",
    "\n",
    "A lambda function doesn't need to have a signature and a name, and it can be applied immediately."
   ]
  },
  {
   "cell_type": "markdown",
   "metadata": {},
   "source": [
    "Here is an example:"
   ]
  },
  {
   "cell_type": "code",
   "execution_count": null,
   "metadata": {},
   "outputs": [],
   "source": [
    "(\\x y -> x * y) 2 3"
   ]
  },
  {
   "cell_type": "markdown",
   "metadata": {},
   "source": [
    "Any function has a type, so does a lambda function. It is a polymorphic function, meaning the types are not fixed but are type variables. \n",
    "\n",
    "In the previous example, the `mult` has the following type signature show below. This means that the input parameters can be of any type for which the multiplication operation is defined.\n",
    "```haskell\n",
    "mult :: a -> a -> a\n",
    "```"
   ]
  },
  {
   "cell_type": "markdown",
   "metadata": {},
   "source": [
    "Same for the lambda function. You can input data to the function which are of types for which the operators in the lambda function can operate on them.\n",
    "\n",
    "Lambda functions can also be given *names*, and we can call them as ordinary functions (for instance, using `where` construction)."
   ]
  },
  {
   "cell_type": "code",
   "execution_count": null,
   "metadata": {},
   "outputs": [],
   "source": [
    "rectangleArea :: Double -> Double -> Double\n",
    "rectangleArea width length = mult width length\n",
    "    where mult = \\x y -> x * y"
   ]
  },
  {
   "cell_type": "markdown",
   "metadata": {},
   "source": [
    "### Lexical scope"
   ]
  },
  {
   "cell_type": "markdown",
   "metadata": {},
   "source": [
    "Lexical scope is a type of variable lookup that is used by Haskell. The priorities for lookup are following: \n",
    "\n",
    "* when you declare variable names in lambda functions they have the highest priority\n",
    "\n",
    "* next priority have function varaiable names that are fdefined in the begining of the function\n",
    "\n",
    "* the lowest priority have global variables names"
   ]
  },
  {
   "cell_type": "markdown",
   "metadata": {},
   "source": [
    "Here is an example where you can see how these rules apply."
   ]
  },
  {
   "cell_type": "code",
   "execution_count": null,
   "metadata": {},
   "outputs": [],
   "source": [
    "x = 1 :: Int\n",
    "\n",
    "add1, add2, add3 :: Int -> Int\n",
    "add1 y = x + y\n",
    "add2 y = (\\x -> x + y) 2\n",
    "add3 y = (\\y -> (\\x -> x + y) 4) 3"
   ]
  },
  {
   "cell_type": "markdown",
   "metadata": {},
   "source": [
    "### Other examples"
   ]
  },
  {
   "cell_type": "markdown",
   "metadata": {},
   "source": [
    "You can also chain lambda functions one inside the other. Here is an example:"
   ]
  },
  {
   "cell_type": "code",
   "execution_count": null,
   "metadata": {},
   "outputs": [],
   "source": [
    "add3 :: Int -> Int -> Int -> Int\n",
    "add3 = \\x -> \\y -> \\z -> x + y + z"
   ]
  },
  {
   "cell_type": "markdown",
   "metadata": {},
   "source": [
    "Or you can define a function as ussually and then use also a lamdba function inside of it."
   ]
  },
  {
   "cell_type": "code",
   "execution_count": null,
   "metadata": {},
   "outputs": [],
   "source": [
    "mixedFunction :: Int -> Int -> String -> String\n",
    "mixedFunction x y = \\z -> show (x + y) ++ \" and \" ++ z\n",
    "\n",
    "mixedFunction 1 2 \"3\""
   ]
  },
  {
   "cell_type": "markdown",
   "metadata": {},
   "source": [
    "You can see that the first parameters for the input are the ones defined in the function and the last one is the lambda function parameter."
   ]
  },
  {
   "cell_type": "markdown",
   "metadata": {},
   "source": [
    "## Summary\n",
    "\n",
    "In this lesson, we've discussed:\n",
    "\n",
    "* How to curry functions and how does partial application work.\n",
    "\n",
    "* What are higher-order functions and why are they useful.\n",
    "\n",
    "* Various ways of composing and applying functions.\n",
    "\n",
    "* Lambda functions and how to use them."
   ]
  }
 ],
 "metadata": {
  "kernelspec": {
   "display_name": "Python 3.10.4 64-bit",
   "language": "python",
   "name": "python3"
  },
  "language_info": {
   "codemirror_mode": "ihaskell",
   "file_extension": ".hs",
   "mimetype": "text/x-haskell",
   "name": "python",
   "pygments_lexer": "Haskell",
   "version": "3.10.4"
  },
  "rise": {
   "enable_chalkboard": true,
   "header": "<img style=\"position: relative; left: 1230px; width: 200px; top: 10px;\" src=\"https://raw.githubusercontent.com/rober-m/haskell-bootcamp/main/images/input-output.svg\"/>"
  },
  "vscode": {
   "interpreter": {
    "hash": "e7370f93d1d0cde622a1f8e1c04877d8463912d04d973331ad4851f04de6915a"
   }
  }
 },
 "nbformat": 4,
 "nbformat_minor": 4
}
