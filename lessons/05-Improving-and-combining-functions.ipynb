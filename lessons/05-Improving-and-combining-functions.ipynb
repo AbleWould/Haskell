{
  "cells": [
    {
      "cell_type": "markdown",
      "metadata": {},
      "source": [
        "# Improving and combining functions"
      ]
    },
    {
      "cell_type": "markdown",
      "metadata": {},
      "source": [
        "### Outline\n",
        "\n",
        "* Lambda functions\n",
        "\n",
        "* Composing and applying functions\n",
        "\n",
        "* Higher order functions\n",
        "\n",
        "    * Curried functions\n",
        "    \n",
        "    * Partial application"
      ]
    },
    {
      "cell_type": "markdown",
      "metadata": {},
      "source": [
        "## Lambda functions"
      ]
    },
    {
      "cell_type": "markdown",
      "metadata": {},
      "source": [
        "The term lamba function comes from the mathematical system called \"lambda calculus\" developed in the 1930s by Alonzo Church. This system is implemeted in functional programming languages. Lamba functions are often used in Haskell programs. "
      ]
    },
    {
      "cell_type": "markdown",
      "metadata": {},
      "source": [
        "### What is a lambda function?\n",
        "\n",
        "The idea of ​the ​lambda functions or so called anonymous function is that you can define it without naming it.\n",
        "\n",
        "Here's how a multiplication lambda function $f(x,y)=x*y$ looks like in Haskell:"
      ]
    },
    {
      "cell_type": "markdown",
      "metadata": {},
      "source": [
        "```haskell\n",
        "\\x y -> x * y\n",
        "```"
      ]
    },
    {
      "cell_type": "markdown",
      "metadata": {},
      "source": [
        "The backslash `\\` at the beginning denotes the beginning of lambda function after which the arguments follow. And after the arrow `->` comes the main body of the function."
      ]
    },
    {
      "cell_type": "markdown",
      "metadata": {},
      "source": [
        "### What is a difference between lambda function and an ordinary function?"
      ]
    },
    {
      "cell_type": "markdown",
      "metadata": {},
      "source": [
        "* An ordinary function starts with a signature/definition, and it is used somewhere by its name.\n",
        "\n",
        "* A lambda function doesn't need to have signature and a name, and it can be applied immediately."
      ]
    },
    {
      "cell_type": "markdown",
      "metadata": {},
      "source": [
        "Here is an example:"
      ]
    },
    {
      "cell_type": "code",
      "execution_count": null,
      "metadata": {},
      "outputs": [],
      "source": [
        "(\\x y -> x * y) 2 3"
      ]
    },
    {
      "cell_type": "markdown",
      "metadata": {},
      "source": [
        "Lambda functions can also be given *names* and we can call them as ordinary functions (for instance, using `where` construction)."
      ]
    },
    {
      "cell_type": "code",
      "execution_count": null,
      "metadata": {},
      "outputs": [],
      "source": [
        "rectangleArea :: Double -> Double -> Double\n",
        "rectangleArea width length = mult width length\n",
        "    where mult = \\x y -> x * y"
      ]
    },
    {
      "cell_type": "markdown",
      "metadata": {},
      "source": [
        "### Type of lambda function"
      ]
    },
    {
      "cell_type": "markdown",
      "metadata": {},
      "source": [
        "Any function has a type, so does a lambda function. It is a polymorphic function meaning the types are not fixed but are type variables. In the previous example the `mult` has the following type signature show below. This means that the input parameters can be of any type for which the multiplication operation is defined."
      ]
    },
    {
      "cell_type": "markdown",
      "metadata": {},
      "source": [
        "```haskell\n",
        "mult :: a -> a -> a\n",
        "```"
      ]
    },
    {
      "cell_type": "markdown",
      "metadata": {},
      "source": [
        "Functions in Haskell are first class citizens which means we can pass them around like any other data structure. For example, you can create a list of functions:"
      ]
    },
    {
      "cell_type": "code",
      "execution_count": null,
      "metadata": {},
      "outputs": [],
      "source": [
        "helloFunction :: String -> String\n",
        "helloFunction msg = (head functions) msg\n",
        "    where\n",
        "        functions = [ \\x -> x ++ \" world!\"\n",
        "                    , \\x -> x ++ \" everyone!\"\n",
        "                    ]\n",
        "\n",
        "helloFunction \"Welcome\""
      ]
    },
    {
      "cell_type": "markdown",
      "metadata": {},
      "source": [
        "The list `functions` has two functions. Two lambda expressions give these two functions, but until the moment they are applied, they do nothing. \n",
        "\n",
        "When we apply the head function to this list, we get the first element of the list, that is, the first function. And after that we apply this function to the string `msg`."
      ]
    },
    {
      "cell_type": "markdown",
      "metadata": {},
      "source": [
        "## Composing functions"
      ]
    },
    {
      "cell_type": "markdown",
      "metadata": {},
      "source": [
        "Now we'll explain how to compose functions together and how to get rid of (or just reduce) number of parentheses in the body of the function."
      ]
    },
    {
      "cell_type": "markdown",
      "metadata": {},
      "source": [
        "### Example with parentheses"
      ]
    },
    {
      "cell_type": "markdown",
      "metadata": {},
      "source": [
        "Recall our old function `checkLocalHost` that checks if the argument is a localhost or not and reports the user the result."
      ]
    },
    {
      "cell_type": "code",
      "execution_count": null,
      "metadata": {},
      "outputs": [],
      "source": [
        "checkLocalhost :: String -> String\n",
        "checkLocalhost ip =\n",
        "    if ip == \"127.0.0.1\"\n",
        "        then \"It’s a localhost!\"\n",
        "        else \"No, it's not a localhost.\""
      ]
    },
    {
      "cell_type": "markdown",
      "metadata": {},
      "source": [
        "A function `fourToIP` takes four integers and makes IP address. Then we can use it together with the previous function."
      ]
    },
    {
      "cell_type": "code",
      "execution_count": null,
      "metadata": {},
      "outputs": [],
      "source": [
        "fourToIP :: Int -> Int -> Int -> Int -> String\n",
        "fourToIP a b c d = show a ++ \".\" ++ show b ++ \".\" ++ show c ++ \".\" ++ show d\n",
        "\n",
        "checkLocalhost (fourToIP 127 0 0 1)"
      ]
    },
    {
      "cell_type": "markdown",
      "metadata": {},
      "source": [
        "Two functions are **composed** here, `checkLocalhost` and `fourToIP`, because `fourToIP` returns `String` and `checkLocalhost` function has `String` at the input. \n",
        "\n",
        "Schematically, this can be represented as follows:"
      ]
    },
    {
      "cell_type": "markdown",
      "metadata": {},
      "source": [
        "$$\n",
        "    \\boxed{\\mathrm{(Int, Int, Int, Int)}}\n",
        "        \\xrightarrow{\\mathrm{~~~~~~fourToIP~~~~~~}}\n",
        "    \\boxed{\\mathrm{String}}\n",
        "        \\xrightarrow{~~~~~~\\mathrm{checkLocalhost}~~~~~~}\n",
        "    \\boxed{\\mathrm{String}}\n",
        "$$"
      ]
    },
    {
      "cell_type": "markdown",
      "metadata": {},
      "source": [
        "The way of composing functions above uses parenthesis. But what will happen if we need to compose three, four or more functions? The number of parenthesis grows and our code becomes less readable. There is another way how to compose functions."
      ]
    },
    {
      "cell_type": "markdown",
      "metadata": {},
      "source": [
        "### Function composition and application operator"
      ]
    },
    {
      "cell_type": "markdown",
      "metadata": {},
      "source": [
        "The composition `checkLocalhost (fourToIP 127 0 0 1)` can be written as"
      ]
    },
    {
      "cell_type": "markdown",
      "metadata": {},
      "source": [
        "```haskell\n",
        "checkLocalhost . fourToIP $ 127 0 0 1\n",
        "```"
      ]
    },
    {
      "cell_type": "markdown",
      "metadata": {},
      "source": [
        "We have two new standard operators that save us from extra parentheses and making our code easier."
      ]
    },
    {
      "cell_type": "markdown",
      "metadata": {},
      "source": [
        "* The function **composition operator** given by a dot character `.`\n",
        "\n",
        "* The **application operator** `$`"
      ]
    },
    {
      "cell_type": "markdown",
      "metadata": {},
      "source": [
        "The composition operator combines two functions together (or **composes** them). When we write"
      ]
    },
    {
      "cell_type": "markdown",
      "metadata": {},
      "source": [
        "```haskell\n",
        "checkLocalhost . fourToIP\n",
        "```"
      ]
    },
    {
      "cell_type": "markdown",
      "metadata": {},
      "source": [
        "instead of two functions `checkLocalhost` and `fourToIP` we obtain a new one `checkLocalhost . fourToIP` called their **composition**. Schematically, this can be represented as follows:"
      ]
    },
    {
      "cell_type": "markdown",
      "metadata": {},
      "source": [
        "$$\n",
        "    \\boxed{\\mathrm{(Int, Int, Int, Int)}}\n",
        "        \\xrightarrow{\\mathrm{~~~~~~fourToIP~~~~~~}}\n",
        "    \\boxed{\\mathrm{String}}\n",
        "        \\xrightarrow{~~~~~~\\mathrm{checkLocalhost}~~~~~~}\n",
        "    \\boxed{\\mathrm{String}}\n",
        "    ~~~~~\n",
        "    =\n",
        "    ~~~~~\n",
        "    \\boxed{\\mathrm{(Int, Int, Int, Int)}}\n",
        "        \\xrightarrow{\\mathrm{~~~~~~checkLocalhost~.~fourToIP~~~~~~}}\n",
        "    \\boxed{\\mathrm{String}}\n",
        "$$\n"
      ]
    },
    {
      "cell_type": "markdown",
      "metadata": {},
      "source": [
        "You can use the composition operator to also combine multiple functions together."
      ]
    },
    {
      "cell_type": "markdown",
      "metadata": {},
      "source": [
        "The application operator `$` is simply an evaluation of a function at a given value. Without `$` our code will look"
      ]
    },
    {
      "cell_type": "markdown",
      "metadata": {},
      "source": [
        "```haskell\n",
        "(checkLocalhost . quadrToIP) 127 0 0 1\n",
        "```"
      ]
    },
    {
      "cell_type": "markdown",
      "metadata": {},
      "source": [
        "But we wanted to get rid of the parentheses and for this we need the application operator `$`. Its scheme is simple:"
      ]
    },
    {
      "cell_type": "markdown",
      "metadata": {},
      "source": [
        "```haskell\n",
        "FUNCTION $ ARGUMENT\n",
        "```"
      ]
    },
    {
      "cell_type": "markdown",
      "metadata": {},
      "source": [
        "where `FUNCTION` is applied to `ARGUMENT`."
      ]
    },
    {
      "cell_type": "markdown",
      "metadata": {},
      "source": [
        "#### Remarks about composition and application"
      ]
    },
    {
      "cell_type": "markdown",
      "metadata": {},
      "source": [
        "* Composition is *right associative*: the function on the right is applied first, and then the one on the left."
      ]
    },
    {
      "cell_type": "markdown",
      "metadata": {},
      "source": [
        "* If there are two functions `f :: a -> b` and `g :: b -> c` then their composition as a function can be written without the application operator. For instance, you can write the composition of `checkLocalhost` and `fourToIP` as a new function `isFourLocalhost` using arguments"
      ]
    },
    {
      "cell_type": "markdown",
      "metadata": {},
      "source": [
        "```haskell\n",
        "isFourLocalhost :: Int -> Int -> Int -> Int -> String\n",
        "isFourLocalhost a b c d = checkLocalhost . fourToIP $ a b c d\n",
        "```"
      ]
    },
    {
      "cell_type": "markdown",
      "metadata": {},
      "source": [
        "or without them"
      ]
    },
    {
      "cell_type": "markdown",
      "metadata": {},
      "source": [
        "```haskell\n",
        "isFourLocalhost :: Int -> Int -> Int -> Int -> String\n",
        "isFourLocalhost = checkLocalhost . quadrToIP \n",
        "```"
      ]
    },
    {
      "cell_type": "markdown",
      "metadata": {},
      "source": [
        "* The application operator for a composition can be applied before the argument or after the first evaluation. You can write a code"
      ]
    },
    {
      "cell_type": "markdown",
      "metadata": {},
      "source": [
        "```haskell\n",
        "checkLocalhost . quadrToIP $ 127 0 0 1\n",
        "```"
      ]
    },
    {
      "cell_type": "markdown",
      "metadata": {},
      "source": [
        "in the other alternative form"
      ]
    },
    {
      "cell_type": "markdown",
      "metadata": {},
      "source": [
        "```haskell\n",
        "checkLocalhost $ quadrToIP 127 0 0 1\n",
        "```"
      ]
    },
    {
      "cell_type": "markdown",
      "metadata": {},
      "source": [
        "## Higher order functions"
      ]
    },
    {
      "cell_type": "markdown",
      "metadata": {},
      "source": [
        "As we've already learned, functions are data in Haskell. The function that operates on other functions as arguments and / or returns a function as a result is called a **higher order function**. "
      ]
    },
    {
      "cell_type": "markdown",
      "metadata": {},
      "source": [
        "Thus, the function composition operator is a higher order function, because\n",
        "\n",
        "* it takes functions as arguments and\n",
        "\n",
        "* it returns another function (in the form of lambda function) as a result of its application. \n",
        "\n",
        "Using functions as arguments is an extremely common practice in Haskell."
      ]
    },
    {
      "cell_type": "markdown",
      "metadata": {},
      "source": [
        "### Curried functions"
      ]
    },
    {
      "cell_type": "markdown",
      "metadata": {},
      "source": [
        "Under the hood every function in Haskell officially only takes one parameter. So how is it possible that there are functions that take more than one parameter? \n",
        "\n",
        "All the functions that accepted several parameters so far have been **curried functions** (the name *curry* derives from the person who popularized the idea: Haskell Curry). "
      ]
    },
    {
      "cell_type": "markdown",
      "metadata": {},
      "source": [
        "Let's understand it on an example of the `max` function: it looks like it takes two parameters and returns the one that's bigger. But you can apply the function to only one parameter and you get another function that takes in only one parameter. The following two calls are equivalent:"
      ]
    },
    {
      "cell_type": "code",
      "execution_count": null,
      "metadata": {},
      "outputs": [],
      "source": [
        "max 4 5\n",
        "(max 4) 5"
      ]
    },
    {
      "cell_type": "markdown",
      "metadata": {},
      "source": [
        "`max` function is polymorphic and its type is `max :: a -> a -> a`, which can also be written as `max :: a -> (a -> a)`. \n",
        "\n",
        "That could be read as: `max` function takes an `a` and returns a function that takes an `a` and returns an `a`. That's why the return type and the parameters of functions are all simply separated with arrows."
      ]
    },
    {
      "cell_type": "markdown",
      "metadata": {},
      "source": [
        "The first version `max :: a -> a -> a` is an **uncurried function**, while the second one `max :: a -> (a -> a)` is **curried**."
      ]
    },
    {
      "cell_type": "markdown",
      "metadata": {},
      "source": [
        "### Partial application"
      ]
    },
    {
      "cell_type": "markdown",
      "metadata": {},
      "source": [
        "In the previous example when we provided only one argument to the `max` function we created a new function that takes in only one argument. The application of a function is partial when there are less arguments than expected so we call this process **partial application**."
      ]
    },
    {
      "cell_type": "markdown",
      "metadata": {},
      "source": [
        "Using partial application (calling functions with too few parameters) is a neat way to create new functions on the fly so we can pass them to another function or provide them additional data."
      ]
    },
    {
      "cell_type": "markdown",
      "metadata": {},
      "source": [
        "Thus, `max 4` creates the following partial function "
      ]
    },
    {
      "cell_type": "markdown",
      "metadata": {},
      "source": [
        "```haskell\n",
        "\\x -> max 4 x\n",
        "```"
      ]
    },
    {
      "cell_type": "markdown",
      "metadata": {},
      "source": [
        "### Is there a difference between the application operator $ and a function application given by space?"
      ]
    },
    {
      "cell_type": "markdown",
      "metadata": {},
      "source": [
        "The `$` operator is an infix operator for function application and its signature is"
      ]
    },
    {
      "cell_type": "markdown",
      "metadata": {},
      "source": [
        "```haskell\n",
        "($) :: (a -> b) -> a -> b\n",
        "```"
      ]
    },
    {
      "cell_type": "markdown",
      "metadata": {},
      "source": [
        "So, given an `a -> b` function and an `a` to apply it to, it gives us a `b`."
      ]
    },
    {
      "cell_type": "markdown",
      "metadata": {},
      "source": [
        "On the level of application both `$` and space give the same results:"
      ]
    },
    {
      "cell_type": "code",
      "execution_count": null,
      "metadata": {},
      "outputs": [],
      "source": [
        "sqrt 4\n",
        "sqrt $ 4"
      ]
    },
    {
      "cell_type": "markdown",
      "metadata": {},
      "source": [
        "However, if we try the following code, the results will be surprising."
      ]
    },
    {
      "cell_type": "code",
      "execution_count": null,
      "metadata": {},
      "outputs": [],
      "source": [
        "sqrt 4 + 12\n",
        "sqrt $ 4 + 12"
      ]
    },
    {
      "cell_type": "markdown",
      "metadata": {},
      "source": [
        "In the first case the square root is applied first to 4, and only then 12 is added, while in the second one the square root is taken from the sum of 4 and 12. The reason is that the application operator has the lowest priority, and function application - the highest one. Moreover, one of them is right and another one is left associative."
      ]
    },
    {
      "cell_type": "markdown",
      "metadata": {},
      "source": [
        "* `$` is an infix operator with right associativity and has the lowest priority possible (Haskell takes everything to its left (that doesn't include another $) and everything to its right (likewise), and effectively puts both sides in parentheses).\n",
        "\n",
        "* The function application (via space) is left associative and has the highest priority possible (Haskell evaluates each function application first and perform other actions afterwards). "
      ]
    },
    {
      "cell_type": "markdown",
      "metadata": {},
      "source": [
        "What that means is you usually see `$` used instead of parentheses to associate things that otherwise wouldn’t."
      ]
    },
    {
      "cell_type": "markdown",
      "metadata": {},
      "source": [
        "For any existing or user made operator you can see the information for associativity and priority with the command:\n",
        "```haskell\n",
        ":i (<operator_name>)\n",
        "```"
      ]
    },
    {
      "cell_type": "markdown",
      "metadata": {},
      "source": [
        "## Summary\n",
        "\n",
        "In this lesson we've discussed:\n",
        "\n",
        "* Lambda functions and how to use them.\n",
        "\n",
        "* Various ways of composing and applying functions.\n",
        "\n",
        "* What are higher order functions.\n",
        "\n",
        "* How to curry functions and how does partial application work."
      ]
    }
  ],
  "metadata": {
    "kernelspec": {
      "display_name": "Haskell",
      "language": "haskell",
      "name": "haskell"
    },
    "language_info": {
      "codemirror_mode": "ihaskell",
      "file_extension": ".hs",
      "mimetype": "text/x-haskell",
      "name": "haskell",
      "pygments_lexer": "Haskell",
      "version": "8.10.7"
    },
    "rise": {
      "enable_chalkboard": true,
      "header": "<img style=\"position: relative; left: 1230px; width: 200px; top: 10px;\" src=\"https://raw.githubusercontent.com/rober-m/haskell-bootcamp/main/images/input-output.svg\"/>"
    },
    "vscode": {
      "interpreter": {
        "hash": "e7370f93d1d0cde622a1f8e1c04877d8463912d04d973331ad4851f04de6915a"
      }
    }
  },
  "nbformat": 4,
  "nbformat_minor": 4
}
