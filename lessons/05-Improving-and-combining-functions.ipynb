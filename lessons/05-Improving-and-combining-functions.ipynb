{
 "cells": [
  {
   "cell_type": "markdown",
   "metadata": {
    "slideshow": {
     "slide_type": "slide"
    }
   },
   "source": [
    "# Improving and combining functions"
   ]
  },
  {
   "cell_type": "markdown",
   "metadata": {
    "slideshow": {
     "slide_type": "slide"
    }
   },
   "source": [
    "## Outline\n",
    "\n",
    "- Higher-order functions\n",
    "\t- `filter`\n",
    "\t- `any`\n",
    "- Lambda functions\n",
    "- Precedence and associativity\n",
    "- Curried functions\n",
    "    - Partial application\n",
    "- Applying and composing functions \n",
    "\t- The `$` operator\n",
    "\t- The `.` operator"
   ]
  },
  {
   "cell_type": "markdown",
   "metadata": {
    "slideshow": {
     "slide_type": "slide"
    }
   },
   "source": [
    "## Higher-order functions"
   ]
  },
  {
   "cell_type": "markdown",
   "metadata": {
    "slideshow": {
     "slide_type": "fragment"
    }
   },
   "source": [
    "A **higher-order function** is a function that takes other functions as arguments or returns a function as a result. "
   ]
  },
  {
   "cell_type": "markdown",
   "metadata": {
    "slideshow": {
     "slide_type": "notes"
    }
   },
   "source": [
    "Because we can pass functions as an input, return them as a result, and assign them to variables, they are like any other value. So we say that functions are **first-class citizens**.\n",
    "\n",
    "Let's start with a classic example. Imagine that you have a function you usually apply twice (for some reason). Like this:"
   ]
  },
  {
   "cell_type": "code",
   "execution_count": null,
   "metadata": {
    "slideshow": {
     "slide_type": "fragment"
    }
   },
   "outputs": [],
   "source": [
    "complexFunc1 :: Int -> Int\n",
    "complexFunc1 x = x + 1\n",
    "\n",
    "func1 :: Int -> Int\n",
    "func1 x = complexFunc1 (complexFunc1 x)\n",
    "\n",
    "complexFunc2 :: Int -> Int\n",
    "complexFunc2 x = x + 2\n",
    "\n",
    "func2 :: Int -> Int\n",
    "func2 x = (complexFunc2 (complexFunc2 x)) + (complexFunc2 (complexFunc2 x))"
   ]
  },
  {
   "cell_type": "markdown",
   "metadata": {
    "slideshow": {
     "slide_type": "notes"
    }
   },
   "source": [
    "This is an exaggerated example, but you can see how a pattern starts to emerge. You always use the `complexFunc1` and `complexFunc2` twice! As soon as we saw this pattern, we realized we could do better. What if we create a function that takes two parameters–a function and a value–and applies the function to the value twice!\n",
    "\n",
    "We can do that by simply writing:"
   ]
  },
  {
   "cell_type": "code",
   "execution_count": null,
   "metadata": {
    "slideshow": {
     "slide_type": "slide"
    }
   },
   "outputs": [],
   "source": [
    "applyTwice :: (a -> a) -> a -> a\n",
    "applyTwice f x = f (f x)"
   ]
  },
  {
   "cell_type": "markdown",
   "metadata": {
    "slideshow": {
     "slide_type": "notes"
    }
   },
   "source": [
    "Here, the type signature is different from previous ones. The `(a -> a)` part indicates that the first parameter is a function that takes a value of type `a` and returns a value of the same type. The second parameter is just a value of type `a`, and the whole `applyTwice` function returns a value of type `a`."
   ]
  },
  {
   "cell_type": "markdown",
   "metadata": {
    "slideshow": {
     "slide_type": "notes"
    }
   },
   "source": [
    "And in the body of the function, you can see that it takes the first parameter (the function `f`), applies it to `x`, and then applies `f` again to the result. So we're applying the function `f` twice.\n",
    "\n",
    "And that's it! We created a higher-order function!\n",
    "\n",
    "We can use the `applyTwice` function to simplify the previous code like this:"
   ]
  },
  {
   "cell_type": "code",
   "execution_count": null,
   "metadata": {
    "slideshow": {
     "slide_type": "fragment"
    }
   },
   "outputs": [],
   "source": [
    "func1' :: Int -> Int\n",
    "func1' x = applyTwice complexFunc1 x\n",
    "\n",
    "func2' :: Int -> Int\n",
    "func2' x = (applyTwice complexFunc2 x) + (applyTwice complexFunc2 x)"
   ]
  },
  {
   "cell_type": "markdown",
   "metadata": {
    "slideshow": {
     "slide_type": "notes"
    }
   },
   "source": [
    "This is a simple example, but higher-order functions are an extremely powerful feature. So much so that they are everywhere! In fact, you could create your own Domain Specific Language using higher-order functions! But let's take it step-by-step. Let's start by using two higher-order functions that come with Haskell."
   ]
  },
  {
   "cell_type": "markdown",
   "metadata": {
    "slideshow": {
     "slide_type": "slide"
    }
   },
   "source": [
    "### `filter` function"
   ]
  },
  {
   "cell_type": "markdown",
   "metadata": {
    "slideshow": {
     "slide_type": "notes"
    }
   },
   "source": [
    "Let's start with the `filter` function:"
   ]
  },
  {
   "cell_type": "code",
   "execution_count": null,
   "metadata": {
    "slideshow": {
     "slide_type": "fragment"
    }
   },
   "outputs": [],
   "source": [
    ":t filter "
   ]
  },
  {
   "cell_type": "markdown",
   "metadata": {
    "slideshow": {
     "slide_type": "notes"
    }
   },
   "source": [
    "This function takes a predicate (a function that returns a boolean) `a -> Bool` and a list of elements of type `a` and filters the elements of the list given the predicate.\n",
    "\n",
    "For example, if we want to filter only the even numbers from a list of 1 to 20, we could do something like:"
   ]
  },
  {
   "cell_type": "code",
   "execution_count": null,
   "metadata": {
    "slideshow": {
     "slide_type": "fragment"
    }
   },
   "outputs": [],
   "source": [
    "filter even [1..20]"
   ]
  },
  {
   "cell_type": "markdown",
   "metadata": {
    "slideshow": {
     "slide_type": "notes"
    }
   },
   "source": [
    "Or, for a more involved condition, we could filter from a list of fruits only the ones that contain the letter `'a'`:"
   ]
  },
  {
   "cell_type": "code",
   "execution_count": null,
   "metadata": {
    "slideshow": {
     "slide_type": "fragment"
    }
   },
   "outputs": [],
   "source": [
    "fruitWithA = filter tempFunct [\"Apple\", \"Banana\", \"Pear\", \"Grape\", \"Wood\"]\n",
    "                where tempFunct x = 'a' `elem` x\n",
    "fruitWithA"
   ]
  },
  {
   "cell_type": "markdown",
   "metadata": {
    "slideshow": {
     "slide_type": "notes"
    }
   },
   "source": [
    "As you can see, you can also define a function in a `where` clause to pass it as the predicate of the `filter` function."
   ]
  },
  {
   "cell_type": "markdown",
   "metadata": {
    "slideshow": {
     "slide_type": "slide"
    }
   },
   "source": [
    "### `any` function"
   ]
  },
  {
   "cell_type": "markdown",
   "metadata": {
    "slideshow": {
     "slide_type": "notes"
    }
   },
   "source": [
    "We also have the `any` function:"
   ]
  },
  {
   "cell_type": "code",
   "execution_count": null,
   "metadata": {
    "slideshow": {
     "slide_type": "fragment"
    }
   },
   "outputs": [],
   "source": [
    ":t any"
   ]
  },
  {
   "cell_type": "markdown",
   "metadata": {
    "slideshow": {
     "slide_type": "notes"
    }
   },
   "source": [
    "This function also takes a predicate and a list of elements. But this one checks if there exists **any** element in the list for which the predicate holds.\n",
    "\n",
    "For example, here we're checking if any of the elements of the list is greater than 4. If only one is, `any` returns `True`, else, it returns `False`:"
   ]
  },
  {
   "cell_type": "code",
   "execution_count": null,
   "metadata": {
    "slideshow": {
     "slide_type": "fragment"
    }
   },
   "outputs": [],
   "source": [
    "biggerThan4 x = x > 4\n",
    "\n",
    "any biggerThan4 [1,2,3,4] "
   ]
  },
  {
   "cell_type": "markdown",
   "metadata": {
    "slideshow": {
     "slide_type": "notes"
    }
   },
   "source": [
    "A more realistic way to use `any` would be to check if we have any cars left on our car-selling website:"
   ]
  },
  {
   "cell_type": "code",
   "execution_count": null,
   "metadata": {
    "slideshow": {
     "slide_type": "fragment"
    }
   },
   "outputs": [],
   "source": [
    "cars = [(\"Toyota\",0), (\"Nissan\",3), (\"Ford\",1)]\n",
    "\n",
    "biggerThan0 (_,x) = x > 0\n",
    "\n",
    "anyCarsLeft = any biggerThan0 cars"
   ]
  },
  {
   "cell_type": "markdown",
   "metadata": {
    "slideshow": {
     "slide_type": "notes"
    }
   },
   "source": [
    "In `biggerThan0`, we're pattern matching on the tuple to extract the number of cars and check if it's greater than zero. Then, we're using `any` to check if any of all the pairs in the list has at least one car left."
   ]
  },
  {
   "cell_type": "markdown",
   "metadata": {
    "slideshow": {
     "slide_type": "notes"
    }
   },
   "source": [
    "Ok, we saw plenty of examples of functions that take other functions as parameters. But what about functions that return functions as results? We'll get there. First we'll learn about lambda abstractions and curried functions."
   ]
  },
  {
   "cell_type": "markdown",
   "metadata": {
    "slideshow": {
     "slide_type": "slide"
    }
   },
   "source": [
    "## Lambda functions"
   ]
  },
  {
   "cell_type": "markdown",
   "metadata": {
    "slideshow": {
     "slide_type": "notes"
    }
   },
   "source": [
    "The term lambda function comes from the mathematical system called **lambda calculus**. It's an intriguing and powerful subject by itself, but today, we're going to look at it from the practical-programmer point of view."
   ]
  },
  {
   "cell_type": "markdown",
   "metadata": {
    "slideshow": {
     "slide_type": "fragment"
    }
   },
   "source": [
    "A lambda function (also called anonymous function) is a function definition that doesn't have a name."
   ]
  },
  {
   "cell_type": "markdown",
   "metadata": {
    "slideshow": {
     "slide_type": "notes"
    }
   },
   "source": [
    "For example, here's how a lambda function that takes two arguments and multiplies them ( $f(x,y)=x*y$ ) looks in Haskell:"
   ]
  },
  {
   "cell_type": "markdown",
   "metadata": {
    "slideshow": {
     "slide_type": "fragment"
    }
   },
   "source": [
    "```haskell\n",
    "\\x y -> x * y\n",
    "```"
   ]
  },
  {
   "cell_type": "markdown",
   "metadata": {
    "slideshow": {
     "slide_type": "notes"
    }
   },
   "source": [
    "A lambda function consists of four things:\n",
    "\n",
    " 1. The backslash `\\` at the beginning tells us that this is a lambda function.\n",
    " 2. The parameter names (in this case `x y`) that the function takes as inputs.\n",
    " 3. The arrow (`->`) that **separates** the inputs from the body.\n",
    " 4. And everything after the arrow that is the **body** of the function."
   ]
  },
  {
   "cell_type": "markdown",
   "metadata": {
    "slideshow": {
     "slide_type": "notes"
    }
   },
   "source": [
    "<div class=\"alert alert-block alert-info\">\n",
    "Most modern programming languages also have anonymous functions. But not all of them work the same way.\n",
    "</div>"
   ]
  },
  {
   "cell_type": "markdown",
   "metadata": {
    "slideshow": {
     "slide_type": "slide"
    }
   },
   "source": [
    "### Why should you care?"
   ]
  },
  {
   "cell_type": "markdown",
   "metadata": {
    "slideshow": {
     "slide_type": "notes"
    }
   },
   "source": [
    "It sounds useless because how can you use a name-less function? You have no way of calling it later!"
   ]
  },
  {
   "cell_type": "markdown",
   "metadata": {
    "slideshow": {
     "slide_type": "notes"
    }
   },
   "source": [
    "Actually, it's a powerful component of the language! Through this course, we'll encounter many situations where lambda expressions are practical. For starters, you can use lambda expressions to avoid naming functions that you'll only use once!\n",
    "\n",
    "This is useful in and of itself, but it really shines when working with higher-order functions! For example, take a look at the previous example:"
   ]
  },
  {
   "cell_type": "code",
   "execution_count": null,
   "metadata": {
    "slideshow": {
     "slide_type": "fragment"
    }
   },
   "outputs": [],
   "source": [
    "biggerThan4 x = x > 4\n",
    "\n",
    "any biggerThan4 [1,2,3,4] "
   ]
  },
  {
   "cell_type": "markdown",
   "metadata": {
    "slideshow": {
     "slide_type": "notes"
    }
   },
   "source": [
    "That `biggerThan4` function won't be used anywhere else, but it will linger in our environment forever. Also, it's an awfully simple function! The name is longer than the body!\n",
    "\n",
    "By using lambda expressions, we can create and use `biggerThan4` as a parameter for `any` all at the same time like this:"
   ]
  },
  {
   "cell_type": "code",
   "execution_count": null,
   "metadata": {
    "slideshow": {
     "slide_type": "fragment"
    }
   },
   "outputs": [],
   "source": [
    "any (\\x -> x > 4) [1,2,3,4]"
   ]
  },
  {
   "cell_type": "markdown",
   "metadata": {
    "slideshow": {
     "slide_type": "notes"
    }
   },
   "source": [
    "We can also use lambda expressions to simplify other functions. Let's review the `fruitWithA` function:"
   ]
  },
  {
   "cell_type": "code",
   "execution_count": null,
   "metadata": {
    "slideshow": {
     "slide_type": "fragment"
    }
   },
   "outputs": [],
   "source": [
    "fruitWithA = filter tempFunct [\"Apple\", \"Banana\", \"Pear\", \"Grape\", \"Wood\"]\n",
    "                where tempFunct x = 'a' `elem` x\n",
    "fruitWithA"
   ]
  },
  {
   "cell_type": "markdown",
   "metadata": {
    "slideshow": {
     "slide_type": "notes"
    }
   },
   "source": [
    "We can simplify `fruitWithA` by removing the `tempFunct` and replacing it with a lambda function:"
   ]
  },
  {
   "cell_type": "code",
   "execution_count": null,
   "metadata": {
    "slideshow": {
     "slide_type": "fragment"
    }
   },
   "outputs": [],
   "source": [
    "fruitWithA = filter (\\x -> 'a' `elem` x) [\"Apple\", \"Banana\", \"Pear\", \"Grape\", \"Wood\"]"
   ]
  },
  {
   "cell_type": "markdown",
   "metadata": {
    "slideshow": {
     "slide_type": "notes"
    }
   },
   "source": [
    "And, of course, because lambda functions are just expressions, you could use them anywhere an expression can be used. Even by themselves:"
   ]
  },
  {
   "cell_type": "code",
   "execution_count": null,
   "metadata": {
    "slideshow": {
     "slide_type": "fragment"
    }
   },
   "outputs": [],
   "source": [
    "(\\x -> x*2 + 1) 3"
   ]
  },
  {
   "cell_type": "markdown",
   "metadata": {
    "slideshow": {
     "slide_type": "notes"
    }
   },
   "source": [
    "If you need more examples, keep watching/reading. Lambda functions will be a valuable tool to easily visualize currying.\n",
    "\n",
    "Right now, we'll take a few minutes to learn about precedence and associativity."
   ]
  },
  {
   "cell_type": "markdown",
   "metadata": {
    "slideshow": {
     "slide_type": "slide"
    }
   },
   "source": [
    "## Precedence and associativity"
   ]
  },
  {
   "cell_type": "markdown",
   "metadata": {
    "slideshow": {
     "slide_type": "slide"
    }
   },
   "source": [
    "### Precedence"
   ]
  },
  {
   "cell_type": "markdown",
   "metadata": {
    "slideshow": {
     "slide_type": "notes"
    }
   },
   "source": [
    "Precedence indicates the priority of an operator (denoted by a number from 0 to 9). If we use two operators with different precedence, the one with the higher precedence gets applied first. Meaning that higher precedence operators bind more tightly!\n",
    "\n",
    "We can get the precedence for an operator with the info command `:i`. "
   ]
  },
  {
   "cell_type": "code",
   "execution_count": null,
   "metadata": {
    "slideshow": {
     "slide_type": "fragment"
    }
   },
   "outputs": [],
   "source": [
    ":i (+)  -- infixl 6 +\n",
    ":i (*)  -- infixl 7 *\n",
    "\n",
    "1 + 2 * 3  -- Same as 1 + (2 * 3)"
   ]
  },
  {
   "cell_type": "markdown",
   "metadata": {
    "slideshow": {
     "slide_type": "fragment"
    }
   },
   "source": [
    "<div class=\"alert alert-block alert-info\">\n",
    "    <code>infixl 6 +</code> and <code>infixl 7 *</code> are called <b>fixity declarations</b>.\n",
    "</div>"
   ]
  },
  {
   "cell_type": "markdown",
   "metadata": {
    "slideshow": {
     "slide_type": "notes"
    }
   },
   "source": [
    "Because multiplication has precedence of 7, which is higher than the addition's precedence of 6, the result is 7 and not 9."
   ]
  },
  {
   "cell_type": "markdown",
   "metadata": {
    "slideshow": {
     "slide_type": "notes"
    }
   },
   "source": [
    "And what happens when two operators have the same precedence? This is when associativity comes into play."
   ]
  },
  {
   "cell_type": "markdown",
   "metadata": {
    "slideshow": {
     "slide_type": "slide"
    }
   },
   "source": [
    "### Associativity"
   ]
  },
  {
   "cell_type": "markdown",
   "metadata": {
    "slideshow": {
     "slide_type": "notes"
    }
   },
   "source": [
    "When we used the `:i` command previously, it also returned the keyword `infixl`. This is the operator's associativity."
   ]
  },
  {
   "cell_type": "markdown",
   "metadata": {
    "slideshow": {
     "slide_type": "notes"
    }
   },
   "source": [
    "When two operators have the same precedence, the associativity tells you which side (left with `infixl` or right with `infixr`) will be evaluated first.\n",
    "\n",
    "For example:\n",
    "- The operators `(+)` and `(*)` have left associativity, which means they evaluate the left side first.\n",
    "- The `(:)` operator has right associativity, which means it evaluates the right side first.\n",
    "- The `(==)` operator has no associativity (`infix`), which means that, if you use more than one, you need parenthesis to indicate the order."
   ]
  },
  {
   "cell_type": "code",
   "execution_count": null,
   "metadata": {
    "slideshow": {
     "slide_type": "fragment"
    }
   },
   "outputs": [],
   "source": [
    "1 + 2 + 3 + 4  -- infixl: Same as ((1 + 2) + 3) + 4\n",
    "\n",
    "1 : 2 : 3 : [] -- infixr: Same as 1 : (2 : (3 : []))\n",
    "\n",
    "True == (False == False) -- infix: If you remove parenthesis, you'll get an error."
   ]
  },
  {
   "cell_type": "markdown",
   "metadata": {
    "slideshow": {
     "slide_type": "notes"
    }
   },
   "source": [
    "And, of course, you can change the evaluation order using parenthesis:"
   ]
  },
  {
   "cell_type": "code",
   "execution_count": null,
   "metadata": {
    "slideshow": {
     "slide_type": "notes"
    }
   },
   "outputs": [],
   "source": [
    ":i (**) -- infixr 8 **\n",
    "\n",
    "2**3**4  -- infixr: Same as 2 ** (3 ** 4)\n",
    "(2**3)**4"
   ]
  },
  {
   "cell_type": "markdown",
   "metadata": {
    "slideshow": {
     "slide_type": "notes"
    }
   },
   "source": [
    "Finally, we can define precedence and associativity when creating our own operator. Like this:"
   ]
  },
  {
   "cell_type": "code",
   "execution_count": null,
   "metadata": {
    "slideshow": {
     "slide_type": "fragment"
    }
   },
   "outputs": [],
   "source": [
    "x +++ y = x + y; infixl 7 +++  -- Creating +++ operator\n",
    "\n",
    "1 +++ 2 * 3  -- 9"
   ]
  },
  {
   "cell_type": "markdown",
   "metadata": {
    "slideshow": {
     "slide_type": "notes"
    }
   },
   "source": [
    "Now, the result is 9 because `+++` and `*` are both left-associative and have the same precedence."
   ]
  },
  {
   "cell_type": "markdown",
   "metadata": {
    "slideshow": {
     "slide_type": "fragment"
    }
   },
   "source": [
    "<div class=\"alert alert-block alert-info\">\n",
    "<b>Important note:</b> Operators without an explicit fixity declaration are <code>infixl 9</code>, and function application (the \"whitespace operator\") always has the highest precedence (imagine precedence 10).\n",
    "</div>"
   ]
  },
  {
   "cell_type": "markdown",
   "metadata": {
    "slideshow": {
     "slide_type": "slide"
    }
   },
   "source": [
    "## Curried functions"
   ]
  },
  {
   "cell_type": "markdown",
   "metadata": {
    "slideshow": {
     "slide_type": "notes"
    }
   },
   "source": [
    "Currying is the process of changing a function so that rather than taking multiple inputs, it takes a single input and returns a function which accepts the second input, and so forth.\n",
    "\n",
    "And here's the kicker:"
   ]
  },
  {
   "cell_type": "markdown",
   "metadata": {
    "slideshow": {
     "slide_type": "notes"
    }
   },
   "source": [
    "**In Haskell, all functions are considered curried! That is, all functions in Haskell take just one argument!**"
   ]
  },
  {
   "cell_type": "markdown",
   "metadata": {
    "slideshow": {
     "slide_type": "notes"
    }
   },
   "source": [
    "To exemplify this, take a look at this function:"
   ]
  },
  {
   "cell_type": "code",
   "execution_count": null,
   "metadata": {
    "slideshow": {
     "slide_type": "fragment"
    }
   },
   "outputs": [],
   "source": [
    "add3 :: Int -> Int -> Int -> Int\n",
    "add3 x y z = x + y + z"
   ]
  },
  {
   "cell_type": "markdown",
   "metadata": {
    "slideshow": {
     "slide_type": "notes"
    }
   },
   "source": [
    "It seems like a multi-parameter function. But!, there are hidden associativities in play! We know that function application (the \"whitespace operator\") always has the highest precedence and associates to the left, so if we make that obvious, we get:"
   ]
  },
  {
   "cell_type": "code",
   "execution_count": null,
   "metadata": {
    "slideshow": {
     "slide_type": "fragment"
    }
   },
   "outputs": [],
   "source": [
    "add3 :: Int -> Int -> Int -> Int\n",
    "((add3 x) y) z = x + y + z"
   ]
  },
  {
   "cell_type": "markdown",
   "metadata": {
    "slideshow": {
     "slide_type": "notes"
    }
   },
   "source": [
    "And if we check the fixture of `->`:"
   ]
  },
  {
   "cell_type": "code",
   "execution_count": null,
   "metadata": {
    "slideshow": {
     "slide_type": "fragment"
    }
   },
   "outputs": [],
   "source": [
    ":i (->)  -- infixr -1 ->"
   ]
  },
  {
   "cell_type": "markdown",
   "metadata": {
    "slideshow": {
     "slide_type": "notes"
    }
   },
   "source": [
    "We see that it associates to the right! So, a more explicit way of writing the signature of the `add3` function is:"
   ]
  },
  {
   "cell_type": "code",
   "execution_count": null,
   "metadata": {
    "slideshow": {
     "slide_type": "fragment"
    }
   },
   "outputs": [],
   "source": [
    "add3 :: Int -> (Int -> (Int -> Int))\n",
    "((add3 x) y) z = x + y + z"
   ]
  },
  {
   "cell_type": "markdown",
   "metadata": {
    "slideshow": {
     "slide_type": "notes"
    }
   },
   "source": [
    "Which perfectly corresponds with the function's definition! But, just to make it painfully obvious, we'll make currying explicit using lambda functions.\n",
    "\n",
    "Starting with the previous definition:"
   ]
  },
  {
   "cell_type": "code",
   "execution_count": null,
   "metadata": {
    "slideshow": {
     "slide_type": "slide"
    }
   },
   "outputs": [],
   "source": [
    "add3 :: Int -> (Int -> (Int -> Int)) -- Same as: add3 :: Int -> Int -> Int -> Int\n",
    "((add3 x) y) z = x + y + z           -- Same as: add3 x y z = x + y + z"
   ]
  },
  {
   "cell_type": "markdown",
   "metadata": {
    "slideshow": {
     "slide_type": "notes"
    }
   },
   "source": [
    "We'll move each parameter from the left side of the `=` sign to the right side. Creating the same function several times but written differently. So, starting with `z` (the outermost parameter), an equivalent `add3` function that does exactly the same as the original can be written like this:"
   ]
  },
  {
   "cell_type": "code",
   "execution_count": null,
   "metadata": {
    "slideshow": {
     "slide_type": "fragment"
    }
   },
   "outputs": [],
   "source": [
    "add3 :: Int -> (Int -> (Int -> Int))\n",
    "(add3 x) y = \\z -> x + y + z"
   ]
  },
  {
   "cell_type": "markdown",
   "metadata": {
    "slideshow": {
     "slide_type": "notes"
    }
   },
   "source": [
    "Now, `add3` is a function that takes two numbers (`x y`) and returns a function that takes another number (`z`) and adds the three together.\n",
    "\n",
    "If we do it again for the second value:"
   ]
  },
  {
   "cell_type": "code",
   "execution_count": null,
   "metadata": {
    "slideshow": {
     "slide_type": "fragment"
    }
   },
   "outputs": [],
   "source": [
    "add3 :: Int -> (Int -> (Int -> Int))\n",
    "add3 x = \\y -> (\\z -> x + y + z)"
   ]
  },
  {
   "cell_type": "markdown",
   "metadata": {
    "slideshow": {
     "slide_type": "notes"
    }
   },
   "source": [
    "Now, `add3` is a function that takes one number (`x`) and returns a function that takes one number (`y`) that returns a function that takes one number (`z`) and adds the three together.\n",
    "\n",
    "And if we do it one more time:"
   ]
  },
  {
   "cell_type": "code",
   "execution_count": null,
   "metadata": {
    "slideshow": {
     "slide_type": "fragment"
    }
   },
   "outputs": [],
   "source": [
    "add3 :: Int -> (Int -> (Int -> Int))\n",
    "add3 = \\x -> (\\y -> (\\z -> x + y + z))"
   ]
  },
  {
   "cell_type": "markdown",
   "metadata": {
    "slideshow": {
     "slide_type": "notes"
    }
   },
   "source": [
    "We get that `add3` is a name that returns a function that takes one number (`x`) and returns a function that takes one number (`y`) that returns a function that takes one number (`z`) that adds the three numbers together."
   ]
  },
  {
   "cell_type": "markdown",
   "metadata": {
    "slideshow": {
     "slide_type": "notes"
    }
   },
   "source": [
    "That was quite a journey, but we managed to make currying explicit!\n",
    "\n",
    "And now, the way signatures are written makes way more sense! Each time you replace one parameter, it returns a new function as a result. That is until you replace the final one that gives you the final result.\n",
    "\n",
    "And because `->` is right-associative, we can remove the use-less parentheses of both the signature and definition to get a cleaner code:"
   ]
  },
  {
   "cell_type": "code",
   "execution_count": null,
   "metadata": {
    "slideshow": {
     "slide_type": "fragment"
    }
   },
   "outputs": [],
   "source": [
    "add3 :: Int -> Int -> Int -> Int\n",
    "add3 = \\x -> \\y -> \\z -> x + y + z"
   ]
  },
  {
   "cell_type": "markdown",
   "metadata": {
    "slideshow": {
     "slide_type": "notes"
    }
   },
   "source": [
    "And now, for example, if we apply the function to 3 parameters like this:"
   ]
  },
  {
   "cell_type": "code",
   "execution_count": null,
   "metadata": {
    "slideshow": {
     "slide_type": "slide"
    }
   },
   "outputs": [],
   "source": [
    "add3 1 2 3 "
   ]
  },
  {
   "cell_type": "markdown",
   "metadata": {
    "slideshow": {
     "slide_type": "skip"
    }
   },
   "source": [
    "This is what happens step by step (I added the parentheses for visual aid):"
   ]
  },
  {
   "cell_type": "code",
   "execution_count": null,
   "metadata": {
    "slideshow": {
     "slide_type": "fragment"
    }
   },
   "outputs": [],
   "source": [
    "add3 = \\x -> (\\y -> (\\z -> x + y + z)) :: Int -> (Int -> (Int -> Int))\n",
    "\n",
    "add3 1 = \\y -> (\\z -> 1 + y + z)       :: Int -> (Int -> Int)\n",
    "\n",
    "add3 1 2 = \\z -> 1 + 2 + z             :: Int -> Int\n",
    "\n",
    "add3 1 2 3 = 1 + 2 + 3                 :: Int"
   ]
  },
  {
   "cell_type": "markdown",
   "metadata": {
    "slideshow": {
     "slide_type": "notes"
    }
   },
   "source": [
    "So, besides being a cool conversation starter at the club, how is this useful to you? Well... with uncurried functions, if you provide fewer parameters than the ones required, you get an error. But because, in Haskell, all functions are curried, you can take advantage of it to use partial application!"
   ]
  },
  {
   "cell_type": "markdown",
   "metadata": {
    "slideshow": {
     "slide_type": "slide"
    }
   },
   "source": [
    "### Partial application"
   ]
  },
  {
   "cell_type": "markdown",
   "metadata": {
    "slideshow": {
     "slide_type": "notes"
    }
   },
   "source": [
    "Partial application in Haskell means that you provide fewer arguments than the maximum amount the function accepts."
   ]
  },
  {
   "cell_type": "markdown",
   "metadata": {
    "slideshow": {
     "slide_type": "notes"
    }
   },
   "source": [
    "The result (like we saw earlier) is a new function that takes in the rest of the parameters you did not provide to the original function. "
   ]
  },
  {
   "cell_type": "markdown",
   "metadata": {
    "slideshow": {
     "slide_type": "notes"
    }
   },
   "source": [
    "As a practical example of how this is useful, let's say you have a function used to create an email in the format `name.lastName@domain`. The parameters you provide are the domain, the name, and the last name:"
   ]
  },
  {
   "cell_type": "code",
   "execution_count": null,
   "metadata": {
    "slideshow": {
     "slide_type": "fragment"
    }
   },
   "outputs": [],
   "source": [
    "createEmail :: String -> String -> String -> String\n",
    "createEmail domain name lastName = name ++ \".\" ++ lastName ++ \"@\" ++ domain"
   ]
  },
  {
   "cell_type": "markdown",
   "metadata": {
    "slideshow": {
     "slide_type": "notes"
    }
   },
   "source": [
    "Now, your company has two communities as clients, which have two different domain names. You don't want your users to write out the domain name every time, so you create 2 functions where you partially apply their domain names:"
   ]
  },
  {
   "cell_type": "code",
   "execution_count": null,
   "metadata": {
    "slideshow": {
     "slide_type": "fragment"
    }
   },
   "outputs": [],
   "source": [
    "createEmailTeckel :: String -> String -> String\n",
    "createEmailTeckel = createEmail \"teckel-owners.com\"\n",
    "\n",
    "createEmailSCL :: String -> String -> String\n",
    "createEmailSCL = createEmail \"secret-cardano-lovers.com\"\n",
    "\n",
    "createEmailTeckel \"Robertino\" \"Martinez\"\n",
    "createEmailSCL \"Vitalik\" \"Buterin\""
   ]
  },
  {
   "cell_type": "markdown",
   "metadata": {
    "slideshow": {
     "slide_type": "notes"
    }
   },
   "source": [
    "Notice that this is possible because the domain is the first parameter in the function `createEmail`. So the order of the arguments matters."
   ]
  },
  {
   "cell_type": "markdown",
   "metadata": {
    "slideshow": {
     "slide_type": "notes"
    }
   },
   "source": [
    "If, for some reason, the parameter you want to apply is not the first one and you are not allowed to rewrite the existing function, you can create a helper function:"
   ]
  },
  {
   "cell_type": "code",
   "execution_count": null,
   "metadata": {
    "slideshow": {
     "slide_type": "slide"
    }
   },
   "outputs": [],
   "source": [
    "-- With partial application:\n",
    "\n",
    "createEmailJohn :: String -> String -> String -> String\n",
    "createEmailJohn lastName domain = createEmail domain \"John\" lastName\n",
    "\n",
    "-- Without partial application:\n",
    "\n",
    "createEmail' :: String -> String -> String -> String\n",
    "createEmail' name lastName domain = createEmail domain name lastName"
   ]
  },
  {
   "cell_type": "markdown",
   "metadata": {
    "slideshow": {
     "slide_type": "notes"
    }
   },
   "source": [
    "And because operators are just infix functions, we can also partially apply them!\n",
    "\n",
    "For example, recalling the previous example of a higher-order function:"
   ]
  },
  {
   "cell_type": "code",
   "execution_count": null,
   "metadata": {
    "slideshow": {
     "slide_type": "slide"
    }
   },
   "outputs": [],
   "source": [
    "any (\\x -> x > 4) [1,2,3,4]"
   ]
  },
  {
   "cell_type": "markdown",
   "metadata": {
    "slideshow": {
     "slide_type": "notes"
    }
   },
   "source": [
    "In the function we pass as a parameter, we need to compare if the input is larger than `4`. And the `>` operator is already a function that takes two parameters and compares if the first is larger than the second. So we can partially apply the parameter on the right to get the same result:"
   ]
  },
  {
   "cell_type": "code",
   "execution_count": null,
   "metadata": {
    "slideshow": {
     "slide_type": "fragment"
    }
   },
   "outputs": [],
   "source": [
    "any (>4) [1,2,3,4]"
   ]
  },
  {
   "cell_type": "markdown",
   "metadata": {
    "slideshow": {
     "slide_type": "notes"
    }
   },
   "source": [
    "The partial application of an infix operator is called a *section*."
   ]
  },
  {
   "cell_type": "markdown",
   "metadata": {
    "slideshow": {
     "slide_type": "notes"
    }
   },
   "source": [
    "And I'm not sure if you noticed, but we just replaced the second parameter (the one on the right). The cool thing about sections is that you can partially apply the more convenient side:"
   ]
  },
  {
   "cell_type": "code",
   "execution_count": null,
   "metadata": {
    "slideshow": {
     "slide_type": "fragment"
    }
   },
   "outputs": [],
   "source": [
    "(++ \"ing\") \"Think\"     -- Same as \\x -> x ++ \"ing\"\n",
    "\n",
    "(\"Anti\" ++) \"library\"  -- Same as \\x -> \"Anti\" ++ x"
   ]
  },
  {
   "cell_type": "markdown",
   "metadata": {
    "slideshow": {
     "slide_type": "notes"
    }
   },
   "source": [
    "<div class=\"alert alert-block alert-warning\">\n",
    "<b>Warning:</b> The <code>-</code> operator is special because you can't partially apply it. <code>-1</code> is parsed as the literal <code>-1</code> rather than the sectioned operator <code>-</code> applied to <code>1</code>. The <code>subtract</code> function exists to circumvent this issue.\n",
    "</div>"
   ]
  },
  {
   "cell_type": "markdown",
   "metadata": {
    "slideshow": {
     "slide_type": "slide"
    }
   },
   "source": [
    "## Applying and composing functions "
   ]
  },
  {
   "cell_type": "markdown",
   "metadata": {},
   "source": [
    "### Function composition"
   ]
  },
  {
   "cell_type": "markdown",
   "metadata": {},
   "source": [
    "Recall the function `checkLocalHost` from a previous lesson that checks if the argument is a localhost or not and reports the user the result."
   ]
  },
  {
   "cell_type": "code",
   "execution_count": null,
   "metadata": {},
   "outputs": [],
   "source": [
    "checkLocalhost :: String -> String\n",
    "checkLocalhost ip =\n",
    "    if ip == \"127.0.0.1\"\n",
    "        then \"It’s a localhost!\"\n",
    "        else \"No, it's not a localhost.\""
   ]
  },
  {
   "cell_type": "markdown",
   "metadata": {},
   "source": [
    "A function `fourToIP` takes four integers and makes IP address. Then we can use it together with the previous function."
   ]
  },
  {
   "cell_type": "code",
   "execution_count": null,
   "metadata": {},
   "outputs": [],
   "source": [
    "fourToIP :: Int -> Int -> Int -> Int -> String\n",
    "fourToIP a b c d = show a ++ \".\" ++ show b ++ \".\" ++ show c ++ \".\" ++ show d\n",
    "\n",
    "checkLocalhost (fourToIP 127 0 0 1)"
   ]
  },
  {
   "cell_type": "markdown",
   "metadata": {},
   "source": [
    "***Add another function: Only positive. Checks if all the numbers are positive."
   ]
  },
  {
   "cell_type": "markdown",
   "metadata": {},
   "source": [
    "Two functions are **composed** here, `checkLocalhost` and `fourToIP` because `fourToIP` returns `String` and `checkLocalhost` function has `String` at the input. \n",
    "\n",
    "Schematically, this can be represented as follows:"
   ]
  },
  {
   "cell_type": "markdown",
   "metadata": {},
   "source": [
    "$$\n",
    "    \\boxed{\\mathrm{(Int, Int, Int, Int)}}\n",
    "        \\xrightarrow{\\mathrm{~~~~~~fourToIP~~~~~~}}\n",
    "    \\boxed{\\mathrm{String}}\n",
    "        \\xrightarrow{~~~~~~\\mathrm{checkLocalhost}~~~~~~}\n",
    "    \\boxed{\\mathrm{String}}\n",
    "$$"
   ]
  },
  {
   "cell_type": "markdown",
   "metadata": {},
   "source": [
    "The way of composing functions above uses parenthesis. But what will happen if we need to compose three, four or more functions? \n",
    "\n",
    "The number of parenthesis grows, and our code becomes less readable. There is another way how to compose functions."
   ]
  },
  {
   "cell_type": "markdown",
   "metadata": {},
   "source": [
    "### The application `$` operator"
   ]
  },
  {
   "cell_type": "markdown",
   "metadata": {},
   "source": [
    "The application operator has the following type signature and fixity:\n",
    "```haskell\n",
    ":i ($)\n",
    "($) :: (a -> b) -> a -> b\n",
    "infixr 0 $\n",
    "```"
   ]
  },
  {
   "cell_type": "markdown",
   "metadata": {},
   "source": [
    "We see it takes in a function and a variable and then applies the function to it. It is right associative and it has a precedence of 0. \n",
    "\n",
    "Because of that any expression you write on the right side will be evaluated first and then the function will be applied to the result."
   ]
  },
  {
   "cell_type": "code",
   "execution_count": null,
   "metadata": {},
   "outputs": [],
   "source": [
    "(2 *) 3 + 4\n",
    "(2 *) $ 3 + 4\n",
    "\n",
    "max 5 4 + 2\n",
    "max 5 $ 4 + 2"
   ]
  },
  {
   "cell_type": "markdown",
   "metadata": {},
   "source": [
    "We see how the application operator changes the result of the above expressions. We can also chain multiple function calls with it."
   ]
  },
  {
   "cell_type": "code",
   "execution_count": null,
   "metadata": {},
   "outputs": [],
   "source": [
    "show ((2**) (max 3 (2 + 2)))\n",
    "show $ (2**) $ max 3 $ 2 + 2"
   ]
  },
  {
   "cell_type": "markdown",
   "metadata": {},
   "source": [
    "So for the example in the previous chapter we could now re-write it to:"
   ]
  },
  {
   "cell_type": "code",
   "execution_count": null,
   "metadata": {},
   "outputs": [],
   "source": [
    "checkLocalhost $ fourToIP 127 0 0 1"
   ]
  },
  {
   "cell_type": "markdown",
   "metadata": {},
   "source": [
    "In general you can re-write chained functions calls that use parantheses always with the application operator:\n",
    "```haskell\n",
    "f1 (f2 (f3 (... x)))\n",
    "or\n",
    "f1 $ f2 $ f3 $ ... x\n",
    "```"
   ]
  },
  {
   "cell_type": "markdown",
   "metadata": {},
   "source": [
    "### Composition and the dot `.` operator"
   ]
  },
  {
   "cell_type": "markdown",
   "metadata": {},
   "source": [
    "Another way to compose functions is with the dot operator. It has the following type signature and fixity:\n",
    "```haskell\n",
    ":i (.)\n",
    "(.) :: (b -> c) -> (a -> b) -> a -> c\n",
    "infixr 9 .\n",
    "```"
   ]
  },
  {
   "cell_type": "markdown",
   "metadata": {},
   "source": [
    "It takes in two functions and a parameter and applies the functions to the parameter. Here is an example."
   ]
  },
  {
   "cell_type": "code",
   "execution_count": null,
   "metadata": {},
   "outputs": [],
   "source": [
    "add1, add2 :: Int -> Int\n",
    "add1 x = x + 1\n",
    "add2 x = x + 2\n",
    "\n",
    "(add2 . add1) 3\n",
    "add2 . add1 $ 3\n",
    "\n",
    "add3 :: Int -> Int\n",
    "add3 x = add1 . add2 $ x\n",
    "add3 3"
   ]
  },
  {
   "cell_type": "markdown",
   "metadata": {},
   "source": [
    "We see that we need to use parentheses around the composed functions when applying them to a variable.\n",
    "\n",
    "Also the application operator can be used. Or we can just declare a new function by composing the first two."
   ]
  },
  {
   "cell_type": "markdown",
   "metadata": {},
   "source": [
    "If we rewrite now an example from the application operator chapter by using the dot operator we get:"
   ]
  },
  {
   "cell_type": "code",
   "execution_count": null,
   "metadata": {},
   "outputs": [],
   "source": [
    "show ((2**) (max 3 (2 + 2)))\n",
    "show . (2**) . max 3 $ 2 + 2"
   ]
  },
  {
   "cell_type": "markdown",
   "metadata": {},
   "source": [
    "Again we can rewrite our initial example as follows:"
   ]
  },
  {
   "cell_type": "code",
   "execution_count": null,
   "metadata": {},
   "outputs": [],
   "source": [
    "(checkLocalhost . fourToIP) 127 0 0 1"
   ]
  },
  {
   "cell_type": "markdown",
   "metadata": {},
   "source": [
    "Instead of two functions `checkLocalhost` and `fourToIP` we obtain a new one `checkLocalhost . fourToIP` called their **composition**. Schematically, this can be represented as follows:"
   ]
  },
  {
   "cell_type": "markdown",
   "metadata": {},
   "source": [
    "$$\n",
    "    \\boxed{\\mathrm{(Int, Int, Int, Int)}}\n",
    "        \\xrightarrow{\\mathrm{~~~~~~fourToIP~~~~~~}}\n",
    "    \\boxed{\\mathrm{String}}\n",
    "        \\xrightarrow{~~~~~~\\mathrm{checkLocalhost}~~~~~~}\n",
    "    \\boxed{\\mathrm{String}}\n",
    "    ~~~~~\n",
    "    =\n",
    "    ~~~~~\n",
    "    \\boxed{\\mathrm{(Int, Int, Int, Int)}}\n",
    "        \\xrightarrow{\\mathrm{~~~~~~checkLocalhost~.~fourToIP~~~~~~}}\n",
    "    \\boxed{\\mathrm{String}}\n",
    "$$\n"
   ]
  },
  {
   "cell_type": "markdown",
   "metadata": {},
   "source": [
    "### Point-free style"
   ]
  },
  {
   "cell_type": "markdown",
   "metadata": {},
   "source": [
    "This style in Haskell means we are declaring functions without writing out the variables.\n",
    "\n",
    "We saw allready one example when we used partial application. Below you can see the some of the previous defined functions in point-free style."
   ]
  },
  {
   "cell_type": "code",
   "execution_count": null,
   "metadata": {},
   "outputs": [],
   "source": [
    "fourOrLarger :: Int -> Int\n",
    "fourOrLarger = max 4\n",
    "\n",
    "add3 :: Int -> Int\n",
    "add3 = add1 . add2\n",
    "\n",
    "composition :: Int -> Int -> Int -> Int -> String\n",
    "composition = checkLocalhost . fourToIP"
   ]
  },
  {
   "cell_type": "markdown",
   "metadata": {},
   "source": [
    "## Summary\n",
    "\n",
    "In this lesson, we've discussed:\n",
    "\n",
    "* How to curry functions and how does partial application work.\n",
    "\n",
    "* What are higher-order functions and why are they useful.\n",
    "\n",
    "* Various ways of composing and applying functions.\n",
    "\n",
    "* Lambda functions and how to use them."
   ]
  }
 ],
 "metadata": {
  "celltoolbar": "Slideshow",
  "kernelspec": {
   "display_name": "Python 3",
   "language": "python",
   "name": "python3"
  },
  "language_info": {
   "codemirror_mode": "ihaskell",
   "file_extension": ".hs",
   "mimetype": "text/x-haskell",
   "name": "python",
   "pygments_lexer": "Haskell",
   "version": "3.10.4"
  },
  "rise": {
   "enable_chalkboard": true,
   "header": "<img style=\"position: relative; left: 1230px; width: 200px; top: 10px;\" src=\"https://raw.githubusercontent.com/rober-m/haskell-bootcamp/main/images/input-output.svg\"/>"
  },
  "vscode": {
   "interpreter": {
    "hash": "e7370f93d1d0cde622a1f8e1c04877d8463912d04d973331ad4851f04de6915a"
   }
  }
 },
 "nbformat": 4,
 "nbformat_minor": 4
}
