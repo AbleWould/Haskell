{
 "cells": [
  {
   "cell_type": "markdown",
   "metadata": {},
   "source": [
    "## Tentative expanded outline for rewriting\n",
    "\n",
    "- Curried functions\n",
    "\t- What are Curried functions?\n",
    "    - Partial application\n",
    "\t- Simple example (Starts with 3 parameters and keeps replacing them and checking the signature)\n",
    "\t- Useful example\n",
    "\n",
    "- Higher-order functions\n",
    "\t- What are they?\n",
    "\t- Why are they useful?\n",
    "\t- Example taking a function as a parameter\n",
    "\t- Example returning a function as a result (partial application)\n",
    "\t\n",
    "- Applying and composing functions \n",
    "\t- precedence, and associativity\n",
    "\t- The `$` operator (Examples changing complex functions from having `()` to having `$`)\n",
    "\t- Composition and the `.` operator (I already explained composition in lesson 1, so it's mostly about using the operator)\n",
    "\t  - Example composing a chain of simple functions.\n",
    "\t  - Example transforming ugly parentheses with `$` and `.` together.\n",
    "\t- Point-free style\n",
    "\t- (As the last example in this section, use a one-time simple function with a long name to present it as a problem to be solved later in the Lambda section.)\n",
    "\n",
    "- Lambda functions\n",
    "\t- What are they?\n",
    "\t- Why do I care? (sometimes, it is more convenient to use a lambda expression rather than giving a name to a function. Use the previous example as the example.)\n",
    "\t- How to use them (Solve the previous problem)\n",
    "\t- Other examples"
   ]
  },
  {
   "cell_type": "markdown",
   "metadata": {},
   "source": [
    "## Curried Functions"
   ]
  },
  {
   "cell_type": "markdown",
   "metadata": {},
   "source": []
  }
 ],
 "metadata": {
  "kernelspec": {
   "display_name": "Haskell",
   "language": "haskell",
   "name": "haskell"
  },
  "language_info": {
   "codemirror_mode": "ihaskell",
   "file_extension": ".hs",
   "mimetype": "text/x-haskell",
   "name": "haskell",
   "pygments_lexer": "Haskell",
   "version": "8.10.7"
  },
  "rise": {
   "enable_chalkboard": true,
   "header": "<img style=\"position: relative; left: 1230px; width: 200px; top: 10px;\" src=\"https://raw.githubusercontent.com/rober-m/haskell-bootcamp/main/images/input-output.svg\"/>"
  },
  "vscode": {
   "interpreter": {
    "hash": "e7370f93d1d0cde622a1f8e1c04877d8463912d04d973331ad4851f04de6915a"
   }
  }
 },
 "nbformat": 4,
 "nbformat_minor": 4
}
