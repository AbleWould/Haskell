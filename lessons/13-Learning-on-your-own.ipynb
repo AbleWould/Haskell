{
 "cells": [
  {
   "cell_type": "markdown",
   "metadata": {},
   "source": [
    "# Learning on your own"
   ]
  },
  {
   "cell_type": "markdown",
   "metadata": {},
   "source": [
    "## Outline\n",
    "\n",
    "* Loading modules \n",
    "\n",
    "* Using :type and :info in GHCi\n",
    "\n",
    "* Using Hoogle and Hackage\n",
    "\n",
    "* Using the Haskell Wiki\n",
    "\n",
    "* Walking through while teaching Map module\n",
    "\n",
    "In this lesson, we will learn how you can explore types, functions and modules in Haskell on your own."
   ]
  },
  {
   "cell_type": "markdown",
   "metadata": {},
   "source": [
    "## Loading modules"
   ]
  },
  {
   "cell_type": "markdown",
   "metadata": {},
   "source": [
    "When working in GHCi some function are available as for instance `head`, `sum` and `length`. This is because those function are part of the standard Haskell module called **Prelude** that is imported by default. You can use those functions in your .hs files and the code will compile without having to import any module. \n",
    "\n",
    "The majority of functions however needs to be imported with modules. Modules are just plain haskell files that define some functions. You can create a module on your own. Lets say we want another version of the Prelude function `sum` that by default returns for an empty list the value 0. Instead we want an error message to be displayed for the empty list. \n",
    "\n",
    "First we create or module file that we call sum.hs and write a module statement in the begining of the file. The name of the module should be same as the name of the file, just uppercase. Then we define our own parameterized type `Check` that can be used for displaying an error message. We will learn in depth about handling errors in the chapter **Maybe and Either**. After that we define our `sum` function."
   ]
  },
  {
   "cell_type": "code",
   "execution_count": null,
   "metadata": {},
   "outputs": [],
   "source": [
    "module Sum where\n",
    "\n",
    "data Check a b = Error a | Result b\n",
    "\n",
    "sum :: Num a => [a] -> Check String a\n",
    "sum [] = Error \"List is empty\"\n",
    "sum xs = Result $ Prelude.sum xs"
   ]
  },
  {
   "cell_type": "markdown",
   "metadata": {},
   "source": [
    "Notice that in the definition of our `sum` function we use the prelude version of `sum` that we acces by `Prelude.sum`. Now if we were in another haskell file and wanted to import our Sum module we would have to do this with a qualified import to avoid name colision of both `sum` functions."
   ]
  },
  {
   "cell_type": "markdown",
   "metadata": {},
   "source": [
    "```haskell\n",
    "import qualified Sum as SumModule\n",
    "\n",
    "Prelude.sum []       -- 0\n",
    "Prelude.sum [1..3]   -- 6\n",
    "\n",
    "SumModule.sum []     -- Error \"List is empty\" \n",
    "SumModule.sum [1..3] -- Result 6\n",
    "```"
   ]
  },
  {
   "cell_type": "markdown",
   "metadata": {},
   "source": [
    "If you would not want to rename the Sum module you could simply write `import qualified Sum` and then you would access the function with `Sum.sum`. If your user defined sum function name however would not match any default function name from Prelude, you could use a simple import statement as `import Sum`. This would work if our function name would be e.g. `sum1`. Then you could use the function names directly. "
   ]
  },
  {
   "cell_type": "markdown",
   "metadata": {},
   "source": [
    "```haskell\n",
    "import Sum\n",
    "\n",
    "sum []      -- 0\n",
    "sum [1..3]  -- 6\n",
    "\n",
    "sum1 []     -- Error \"List is empty\" \n",
    "sum1 [1..3] -- Result 6\n",
    "```"
   ]
  },
  {
   "cell_type": "markdown",
   "metadata": {},
   "source": [
    "Haskell defines many modules for your convinience. For instance let's say you want to run a haskell file from the command line by giving it some input parameters and then read them from the program. You can do this with the function `getArgs` that is part of the `System.Environment` module."
   ]
  },
  {
   "cell_type": "code",
   "execution_count": null,
   "metadata": {},
   "outputs": [],
   "source": [
    "import System.Environment ( getArgs )\n",
    "\n",
    "main :: IO ()\n",
    "main = do\n",
    "  args <- getArgs\n",
    "  print $ args !! 0"
   ]
  },
  {
   "cell_type": "markdown",
   "metadata": {},
   "source": [
    "Because we wrote the `getArgs` function in the import statement only this function was imported from the module. If we would instead written `import System.Environment` all function from the System.Environment module would have been imported."
   ]
  },
  {
   "cell_type": "markdown",
   "metadata": {},
   "source": [
    "Now you might be asking yourself how you know which module to import and which function to use. The best answer is always google what you want to achive and once you find a module or function that fits your needs you can use Hackage and Hoogle to learn more about them. We will discuss those web services later in this lesson. For our example of the getArgs function you could for instance write into google: `haskell get command line arguments`."
   ]
  },
  {
   "cell_type": "markdown",
   "metadata": {},
   "source": [
    "## Using :type and :info in GHCi"
   ]
  },
  {
   "cell_type": "markdown",
   "metadata": {},
   "source": [
    "The two most usefull GHCi commands are `:type` and `:info`. They can also be abreviated as `:t` and `:i`. You can open up the REPL and explore the type signatures of functions with `:t` and the type signature of types with `:i`. Lets look directly at an example how those commands can be used. Say for instance you want to open a file. You google and you find out you can use the `openFile` function from `System.IO` module."
   ]
  },
  {
   "cell_type": "code",
   "execution_count": null,
   "metadata": {},
   "outputs": [],
   "source": [
    "import System.IO\n",
    "\n",
    ":t openFile\n",
    "-- openFile :: FilePath -> IOMode -> IO Handle\n",
    "\n",
    ":i FilePath\n",
    "-- type FilePath = String\n",
    "\n",
    ":i IOMode\n",
    "-- data IOMode = ReadMode | WriteMode | AppendMode | ReadWriteMode"
   ]
  },
  {
   "cell_type": "markdown",
   "metadata": {},
   "source": [
    "From the information you get you understand that the function `openFile` takes in a file path, which is a string and a mode which tells Haskell for what purpose we are opening the file. You can always research functions and types in that way. \n",
    "\n",
    "But the :i command is also useful for exploring Haskell types. For instance if you type `:i Int` you get information about the Int type. There you can see to which type classes Int bellongs."
   ]
  },
  {
   "cell_type": "markdown",
   "metadata": {},
   "source": [
    "```haskell\n",
    ":i Int\n",
    "type Int :: *\n",
    "data Int = GHC.Types.I# GHC.Prim.Int#\n",
    "  \t-- Defined in ‘GHC.Types’\n",
    "instance Eq Int -- Defined in ‘GHC.Classes’\n",
    "instance Ord Int -- Defined in ‘GHC.Classes’\n",
    "instance Enum Int -- Defined in ‘GHC.Enum’\n",
    "instance Num Int -- Defined in ‘GHC.Num’\n",
    "instance Real Int -- Defined in ‘GHC.Real’\n",
    "instance Show Int -- Defined in ‘GHC.Show’\n",
    "instance Read Int -- Defined in ‘GHC.Read’\n",
    "instance Bounded Int -- Defined in ‘GHC.Enum’\n",
    "instance Integral Int -- Defined in ‘GHC.Real’\n",
    "```"
   ]
  },
  {
   "cell_type": "markdown",
   "metadata": {},
   "source": [
    "If you now want to check out information about a type class you can do this as well. Let's look for instance at the Num type class."
   ]
  },
  {
   "cell_type": "markdown",
   "metadata": {},
   "source": [
    "```haskell\n",
    ":i Num\n",
    "type Num :: * -> Constraint\n",
    "class Num a where\n",
    "  (+) :: a -> a -> a\n",
    "  (-) :: a -> a -> a\n",
    "  (*) :: a -> a -> a\n",
    "  negate :: a -> a\n",
    "  abs :: a -> a\n",
    "  signum :: a -> a\n",
    "  fromInteger :: Integer -> a\n",
    "  {-# MINIMAL (+), (*), abs, signum, fromInteger, (negate | (-)) #-}\n",
    "  \t-- Defined in ‘GHC.Num’\n",
    "instance Num Word -- Defined in ‘GHC.Num’\n",
    "instance Num Integer -- Defined in ‘GHC.Num’\n",
    "instance Num Int -- Defined in ‘GHC.Num’\n",
    "instance Num Float -- Defined in ‘GHC.Float’\n",
    "instance Num Double -- Defined in ‘GHC.Float’\n",
    "```"
   ]
  },
  {
   "cell_type": "markdown",
   "metadata": {},
   "source": [
    "We get all of the functions and their type signatures that this class contains. This means that if a type as Int is member of the Num type class it has to implement all of the stated functions. Below the functions there is also the minimal complete definition line, that tells you which functions you have to define for a user defined type that you want to make member of this class. In the end all Haskell types that are member of this type class are listed. "
   ]
  },
  {
   "cell_type": "markdown",
   "metadata": {},
   "source": [
    "## Using Hoogle and Hackage"
   ]
  },
  {
   "cell_type": "markdown",
   "metadata": {},
   "source": [
    "Hoogle (*hoogle.haskell.org*) is a Haskell API search engine, which allows you to search the Haskell libraries on Hackage by either function name, or by approximate type signature. This is an alternative to the :info and :type commands from the previous chapter. With Hoogle you get a more detailed and graphically friendly explanation of types and function. Hoogle also enables you to search for modules contained in Haskell and see information about the functions that are defined in a specific module. "
   ]
  },
  {
   "cell_type": "markdown",
   "metadata": {},
   "source": [
    "Here are some example searches:\n",
    "\n",
    "* **map** searches as text, finding map, concatMap, mapM\n",
    "* **con map** searches for the text \"map\" and \"con\" finding concatMap, but not map\n",
    "* **a -> a** searches by type, finding id :: a -> a\n",
    "* **a** searches for the text \"a\"\n",
    "* **:: a** searches for the type \"a\"\n",
    "* **id :: a -> a** searches for the text \"id\" and the type \"a -> a\""
   ]
  },
  {
   "cell_type": "markdown",
   "metadata": {},
   "source": [
    "With the set of packages you are searching, you can also restrict the set of modules searched:\n",
    "\n",
    "* **file -System** excludes results from modules such as System.IO, System.FilePath.Windows and Distribution.System\n",
    "* **foldr +Data.Map** finds results in the Data.Map module"
   ]
  },
  {
   "cell_type": "markdown",
   "metadata": {},
   "source": [
    "Hackage is the Haskell community's central package archive of open source software. If you tried out Hoogle you may have noticed that when you click on a item from the list that your search has returned, the page that loads and shows you information about the function, type, or module is actually hosted on *hackage.haskell.org*. If we for instance type in hoogle **Map** the first result we get is the **Data.Map** module. When we click on it, we get redirected to hackage. On the begining of the page we see the following note:"
   ]
  },
  {
   "cell_type": "markdown",
   "metadata": {},
   "source": [
    "Note: You should use **Data.Map.Strict** instead of this module if:\n",
    "\n",
    "* You will eventually need all the values stored.\n",
    "* The stored values don't represent large virtual data structures to be lazily computed."
   ]
  },
  {
   "cell_type": "markdown",
   "metadata": {},
   "source": [
    "When we click on **Data.Map.Strict** a new page gets loaded and we see that this module contains an updated description of all the functions and data typed used in Haskell that are part of the **Data.Map** module. Because in the dot notation we go one step into the tree when you import **Data.Map** everything from the child branches contained in **Data.Map** is also imported. Do not forget to check the notes at the top section of the module you are checking out, since they can state this module should use a qualified import. "
   ]
  },
  {
   "cell_type": "markdown",
   "metadata": {},
   "source": [
    "Another thing to mention about Hackage is when you are looking at a module as **Data.Map.Strict** you may see on the left side a table of contents that defines the module. Also on the top left conrner of the page you can see the name of the package that contains this module. For the module **Data.Map.Strict** the package name is **containers** with current version **0.6.6**. If you go to the starting page of Hackage, click on Browse packages you can type in **containers** in the serach bar and list of packages that contains this name will be displayed. Then you can further click on the package **containers** and you will get some information about the package together with a list of all the modules it contains, of which **Data.Map** is just one."
   ]
  },
  {
   "cell_type": "markdown",
   "metadata": {},
   "source": [
    "### Installation of packages"
   ]
  },
  {
   "cell_type": "markdown",
   "metadata": {},
   "source": [
    "It is important to state that some modules can be directly imported into Haskell code because the packages that contain them get shiped with the installation of the Haskell toolchain using GHCup. The **container** package is just one of them. But there are also other packages that you can find on Hackage which need to be installed in order to be able to use their modules in Haskell code. One of them is for instance the **aeson** package that provides modules for processing JSON data. If you look at the Hackage page you see that it contains the **Data.Aeson** module"
   ]
  },
  {
   "cell_type": "markdown",
   "metadata": {},
   "source": [
    "In order to check weather a module can be imported in Haskell simply start GHCi and type `import <module_name>`. If the package containing the module is not installed you will get an error. You can also use the TAB button for auto-completion. For instnce type `import Data.A` and hit TAB. You wil get a list of all modules that start with `Data.A`. In the default installation of Haskell you will not see the `Data.Aeson` module so you know you have to install it. For installation of packages the **cabal** command is used which stands for Common Architecture for Building Applications and Libraries."
   ]
  },
  {
   "cell_type": "markdown",
   "metadata": {},
   "source": [
    "To install a package from Hackage you can use the command:\n",
    "```\n",
    "cabal install --lib <package_name>\n",
    "```\n",
    "\n",
    "If you download a tar.gz file for instance, you can install the executable with the command:\n",
    "```\n",
    "cabal install ./<package_name>.tar.gz\n",
    "```"
   ]
  },
  {
   "cell_type": "markdown",
   "metadata": {},
   "source": [
    "## Using the Haskell Wiki"
   ]
  },
  {
   "cell_type": "markdown",
   "metadata": {},
   "source": [
    "The Haskell wiki page can be found here *wiki.haskell.org*. It contains a lot of useful articles and links that cover various areas of Haskell as:\n",
    "\n",
    "* Learning Haskell\n",
    "* Using Haskell\n",
    "* Joining the community\n",
    "\n",
    "You can also use the wiki serach bar on the top right corner to search for articles on the Haskell wiki page. Keep in mind that for a specif problem it is maybe good to do a google search but for learning general things about the Haskell ecosystem this is a good starting point. A more up-to-date list of comunity pages and learning resources can be found on *haskell.org*:\n",
    "\n",
    "* https://www.haskell.org/community/\n",
    "* https://www.haskell.org/documentation/ \n",
    "\n",
    "Nevertheless you could find also interesting education content if you search on google and youtube. A good example of a learning resource that is not stated anywhere on the Haskell wiki page or the Haskell documentation page at current time of writing, is the FP Complete's Haskell education hub https://www.fpcomplete.com/haskell/learn/ that provides some advance Haskell tutorials. "
   ]
  },
  {
   "cell_type": "markdown",
   "metadata": {},
   "source": [
    "## Walking through while teaching Map module"
   ]
  },
  {
   "cell_type": "markdown",
   "metadata": {},
   "source": [
    "You maybe breifly looked at the Hackage page of the Map module while reading the chapter about Hoogle and Hackage. Let's now go through the page for the `Data.Map.Strict` module to learn how to work with it's functions and data structures. In the begining you can read that you need to do a qualified import for `Data.Map` and that the size of a Map should not exceed the maximum bound of the Int type `maxBound::Int` which is 9223372036854775807, quite enough space."
   ]
  },
  {
   "cell_type": "markdown",
   "metadata": {},
   "source": [
    "Next the Map data type is shown with a short description and a list of type classes this data type bellongs to. We can see that a Map is a kind of data structure that contains pairs of data that are called keys and values. After the type description, functions that work with Map objects follow and they are grouped into chapters based on similar functionality. In the **Constructions** chapter you can see how to create an empty Map with `empty` or a Map from a single element with `singleton`. "
   ]
  },
  {
   "cell_type": "markdown",
   "metadata": {},
   "source": [
    "In the **From Unordered Lists** chapter the most commonly used function is `fromList` for which you can see a code example below. From the type signature you can see that all keys have to be of same type which should be an instance of the Ord type class and also all values should be of the same type."
   ]
  },
  {
   "cell_type": "code",
   "execution_count": null,
   "metadata": {},
   "outputs": [],
   "source": [
    "import qualified Map as Map\n",
    "\n",
    ":i Map.fromList\n",
    "-- fromList :: Ord k => [(k, a)] -> Map k a \n",
    "\n",
    "myMap = Map.fromList [(5,\"a\"), (3,\"b\"), (5, \"c\")]\n",
    "myMap -- fromList [(3,\"b\"),(5,\"c\")]"
   ]
  },
  {
   "cell_type": "markdown",
   "metadata": {},
   "source": [
    "You also see that if you insert diferent values for the same key only the last one is saved. Next lets look at some more functions. The function for inserting an element is calle `insert`, the function for deleting an element is called `delete` and the function for looking up a value by providing the key is called `lookup`."
   ]
  },
  {
   "cell_type": "code",
   "execution_count": null,
   "metadata": {},
   "outputs": [],
   "source": [
    ":i Map.insert\n",
    "-- insert :: Ord k => k -> a -> Map k a -> Map k a \n",
    "myMap1 = Map.insert 1 \"d\" myMap\n",
    "\n",
    ":i Map.delete\n",
    "-- delete :: Ord k => k -> Map k a -> Map k a \n",
    "myMap2 = Map.delete 3 myMap1\n",
    "\n",
    ":i Map.lookup\n",
    "-- lookup :: Ord k => k -> Map k a -> Maybe a \n",
    "myValue = Map.lookup 1 myMap2"
   ]
  },
  {
   "cell_type": "markdown",
   "metadata": {},
   "source": [
    "There are many other functions contained in the `Data.Map` module. You can skimm through them or just leave it until you get to a problem where you need to do something with a Map and none of the functions you know can achive it. Remember, you can also search on Hoogle by typing in a type signature."
   ]
  },
  {
   "cell_type": "markdown",
   "metadata": {},
   "source": [
    "## Recap"
   ]
  },
  {
   "cell_type": "markdown",
   "metadata": {},
   "source": [
    "In this lecture, we have shown how to learn about Haskell types, functions and modules on your own. \n",
    "\n",
    "- how to load modules and how to write them on your own\n",
    "- how you can help yourself with the :i and :t commands\n",
    "- how to help yourself with Hoogle and Hackage and install packages\n",
    "- we mentioned where to find additional learning resources\n",
    "- we did a walkthrough of the Data.Map.Strict module"
   ]
  }
 ],
 "metadata": {
  "kernelspec": {
   "display_name": "Haskell",
   "language": "haskell",
   "name": "haskell"
  },
  "language_info": {
   "codemirror_mode": "ihaskell",
   "file_extension": ".hs",
   "mimetype": "text/x-haskell",
   "name": "haskell",
   "pygments_lexer": "Haskell",
   "version": "8.10.7"
  }
 },
 "nbformat": 4,
 "nbformat_minor": 4
}
