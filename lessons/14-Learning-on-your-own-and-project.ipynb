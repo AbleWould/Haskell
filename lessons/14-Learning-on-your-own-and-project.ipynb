{
 "cells": [
  {
   "cell_type": "markdown",
   "metadata": {},
   "source": [
    "# Learning on your own and project"
   ]
  },
  {
   "cell_type": "markdown",
   "metadata": {},
   "source": [
    "## Outline\n",
    "\n",
    "* Using **:type** and **:info** in GHCi\n",
    "\n",
    "* Using Hoogle and Hackage\n",
    "  - Hoogle\n",
    "  - Hackage\n",
    "  - Using **:i** together with Hoogle and Hackage\n",
    "<br><br>\n",
    "* Using the Haskell Wiki\n",
    "\n",
    "* Walking through while teaching the **Map** module\n",
    "\n",
    "In this lesson, we will learn how you can explore types, functions and modules in Haskell on your own."
   ]
  },
  {
   "cell_type": "markdown",
   "metadata": {},
   "source": [
    "## Using **:type** and **:info** in GHCi"
   ]
  },
  {
   "cell_type": "markdown",
   "metadata": {},
   "source": [
    "The two most usefull GHCi commands are `:type` and `:info`. They can also be abreviated as `:t` and `:i`. \n",
    "\n",
    "You can open up the REPL and explore the type signatures of functions with `:t` and the type signature of types with `:i`. \n",
    "\n",
    "Say for instance you want to open a file. You google *\"haskell open file\"* and you find out you can use the `openFile` function from `System.IO` module."
   ]
  },
  {
   "cell_type": "code",
   "execution_count": null,
   "metadata": {},
   "outputs": [],
   "source": [
    "import System.IO\n",
    "\n",
    ":t openFile\n",
    "-- openFile :: FilePath -> IOMode -> IO Handle\n",
    "\n",
    ":i FilePath\n",
    "-- type FilePath = String\n",
    "\n",
    ":i IOMode\n",
    "-- data IOMode = ReadMode | WriteMode | AppendMode | ReadWriteMode"
   ]
  },
  {
   "cell_type": "markdown",
   "metadata": {},
   "source": [
    "From the information you get you understand that the function `openFile` takes in a file path, which is a string and a mode which tells Haskell for what purpose we are opening the file. You can always research functions and types in that way. \n",
    "\n",
    "But the `:i` command is also useful for exploring Haskell types. For instance if you type `:i Int` you get information about the Int type. There you can see to which type classes Int bellongs."
   ]
  },
  {
   "cell_type": "markdown",
   "metadata": {},
   "source": [
    "```haskell\n",
    ":i Int\n",
    "type Int :: *\n",
    "data Int = GHC.Types.I# GHC.Prim.Int#\n",
    "  \t-- Defined in ‘GHC.Types’\n",
    "instance Eq Int -- Defined in ‘GHC.Classes’\n",
    "instance Ord Int -- Defined in ‘GHC.Classes’\n",
    "instance Enum Int -- Defined in ‘GHC.Enum’\n",
    "instance Num Int -- Defined in ‘GHC.Num’\n",
    "instance Real Int -- Defined in ‘GHC.Real’\n",
    "instance Show Int -- Defined in ‘GHC.Show’\n",
    "instance Read Int -- Defined in ‘GHC.Read’\n",
    "instance Bounded Int -- Defined in ‘GHC.Enum’\n",
    "instance Integral Int -- Defined in ‘GHC.Real’\n",
    "```"
   ]
  },
  {
   "cell_type": "markdown",
   "metadata": {},
   "source": [
    "If you now want to check out information about a type class you can do this as well with the `:i` command. Let's look for instance at the Num type class."
   ]
  },
  {
   "cell_type": "markdown",
   "metadata": {},
   "source": [
    "```haskell\n",
    ":i Num\n",
    "type Num :: * -> Constraint\n",
    "class Num a where\n",
    "  (+) :: a -> a -> a\n",
    "  (-) :: a -> a -> a\n",
    "  (*) :: a -> a -> a\n",
    "  negate :: a -> a\n",
    "  abs :: a -> a\n",
    "  signum :: a -> a\n",
    "  fromInteger :: Integer -> a\n",
    "  {-# MINIMAL (+), (*), abs, signum, fromInteger, (negate | (-)) #-}\n",
    "  \t-- Defined in ‘GHC.Num’\n",
    "instance Num Word -- Defined in ‘GHC.Num’\n",
    "instance Num Integer -- Defined in ‘GHC.Num’\n",
    "instance Num Int -- Defined in ‘GHC.Num’\n",
    "instance Num Float -- Defined in ‘GHC.Float’\n",
    "instance Num Double -- Defined in ‘GHC.Float’\n",
    "```"
   ]
  },
  {
   "cell_type": "markdown",
   "metadata": {},
   "source": [
    "We get all of the functions and their type signatures that this class contains. This means that if a type as Int is member of the Num type class it has to implement all of the stated functions. \n",
    "\n",
    "Below the functions there is also the minimal complete definition line, that tells you which functions you have to define for a user defined type that you want to make member of this class. \n",
    "\n",
    "In the end all built in Haskell types that are member of this type class are listed. "
   ]
  },
  {
   "cell_type": "markdown",
   "metadata": {},
   "source": [
    "## Using Hoogle and Hackage"
   ]
  },
  {
   "cell_type": "markdown",
   "metadata": {},
   "source": [
    "### Hoogle"
   ]
  },
  {
   "cell_type": "markdown",
   "metadata": {},
   "source": [
    "**Hoogle** (*hoogle.haskell.org*) is a Haskell API search engine, which allows you to search the Haskell libraries on Hackage by either function name, or by approximate type signature. \n",
    "\n",
    "This is an alternative to the `:info` and `:type` commands from the previous chapter. With Hoogle you get a more detailed and graphically friendly explanation of types and functions. \n",
    "\n",
    "Hoogle also enables you to search for modules contained in Haskell and see information about the functions that are defined in a specific module. "
   ]
  },
  {
   "cell_type": "markdown",
   "metadata": {},
   "source": [
    "Here are some example searches:\n",
    "\n",
    "* **map** searches as text, finding map, concatMap, mapM\n",
    "* **con map** searches for the text \"map\" and \"con\" finding concatMap, but not map\n",
    "* **a -> a** searches by type, finding id :: a -> a\n",
    "* **a** searches for the text \"a\"\n",
    "* **:: a** searches for the type \"a\"\n",
    "* **id :: a -> a** searches for the text \"id\" and the type \"a -> a\""
   ]
  },
  {
   "cell_type": "markdown",
   "metadata": {},
   "source": [
    "With the set of packages you are searching, you can also restrict the set of modules searched:\n",
    "\n",
    "* **file -System** excludes results from modules such as System.IO, System.FilePath.Windows and Distribution.System\n",
    "* **foldr +Data.Map** finds results in the Data.Map module"
   ]
  },
  {
   "cell_type": "markdown",
   "metadata": {},
   "source": [
    "### Hackage"
   ]
  },
  {
   "cell_type": "markdown",
   "metadata": {},
   "source": [
    "**Hackage** (*hackage.haskell.org*) is the Haskell community's central package archive of open source software. \n",
    "\n",
    "If you tried out Hoogle you may have noticed that when you click on a item from the list that your search has returned, the page that loads and shows you information about the function, type, or module is actually hosted on *hackage.haskell.org*. \n",
    "\n",
    "If we for instance type in hoogle **Map** the first result we get is the **Data.Map** module. When we click on it, we get redirected to hackage. On the begining of the page we see the following note:"
   ]
  },
  {
   "cell_type": "markdown",
   "metadata": {},
   "source": [
    "```\n",
    "Note: You should use **Data.Map.Strict** instead of this module if:\n",
    "\n",
    "- You will eventually need all the values stored.\n",
    "- The stored values don't represent large virtual data structures to be lazily computed.\n",
    "```"
   ]
  },
  {
   "cell_type": "markdown",
   "metadata": {},
   "source": [
    "When we click on **Data.Map.Strict** a new page gets loaded and we see that this module contains an updated description of all the functions and data typed used in Haskell that are part of the **Data.Map** module. \n",
    "\n",
    "Because in the dot notation we go one step into the tree when you import **Data.Map** everything from the child branches contained in **Data.Map** is also imported. \n",
    "\n",
    "Do not forget to check the notes at the top section of the module you are looking at, since they can state this module should use a qualified import. "
   ]
  },
  {
   "cell_type": "markdown",
   "metadata": {},
   "source": [
    "Another thing to mention about Hackage is when you are looking at a module as **Data.Map.Strict** you may see on the left side a table of contents that defines the module. \n",
    "\n",
    "Also on the top left conrner of the page you can see the name of the package that contains this module. For the module **Data.Map.Strict** the package name is **containers** with current version **0.6.6**. \n",
    "\n",
    "If you go to the starting page of Hackage, click on Browse packages you can type in **containers** in the serach bar and list of packages that contains this name will be displayed. \n",
    "\n",
    "Then you can further click on the package **containers** and you will get some information about the package together with a list of all the modules it contains, of which **Data.Map** is just one."
   ]
  },
  {
   "cell_type": "markdown",
   "metadata": {},
   "source": [
    "### Using **:i** together with Hoogle and Hackage"
   ]
  },
  {
   "cell_type": "markdown",
   "metadata": {},
   "source": [
    "When we used the command `:i Int` or `:i Num` beside the instance statements there were comments as: \n",
    "```haskell\n",
    "-- Defined in ...\n",
    "```"
   ]
  },
  {
   "cell_type": "markdown",
   "metadata": {},
   "source": [
    "These comments tell you where you can find the definition of these instances. \n",
    "\n",
    "For the `Num` type class we have an instance for `Int` which is defined in `GHC.Num`."
   ]
  },
  {
   "cell_type": "markdown",
   "metadata": {},
   "source": [
    "You can go to Hoogle type in *GHC.Num*, click on the result and scroll down until you find the line in the Instances table `Num Int`.\n",
    "\n",
    "Then click on the text `# source` that is on the right side of the definition and you will see the source code where this instance is defined:\n",
    "```haskell\n",
    "instance Num Int where\n",
    "    I# x + I# y = I# (x +# y)\n",
    "    I# x - I# y = I# (x -# y)\n",
    "    negate (I# x) = I# (negateInt# x)\n",
    "    I# x * I# y = I# (x *# y)\n",
    "    abs n  = if n `geInt` 0 then n else negate n\n",
    "\n",
    "    signum n | n `ltInt` 0 = negate 1\n",
    "             | n `eqInt` 0 = 0\n",
    "             | otherwise   = 1\n",
    "\n",
    "    fromInteger i = I# (integerToInt# i)\n",
    "```"
   ]
  },
  {
   "cell_type": "markdown",
   "metadata": {},
   "source": [
    "You can do the same for any function, type or instance definition that you find on Hackage."
   ]
  },
  {
   "cell_type": "markdown",
   "metadata": {},
   "source": [
    "## Using the Haskell Wiki"
   ]
  },
  {
   "cell_type": "markdown",
   "metadata": {},
   "source": [
    "The Haskell wiki page can be found here *wiki.haskell.org*. It contains a lot of useful articles and links that cover various areas of Haskell as:\n",
    "\n",
    "* Learning Haskell\n",
    "* Using Haskell\n",
    "* Joining the community\n",
    "\n",
    "You can also use the wiki serach bar on the top right corner to search for articles on the Haskell wiki page. \n",
    "\n",
    "Keep in mind that for a specif problem it is maybe good to do a google search but for learning general things about the Haskell ecosystem this is a good starting point."
   ]
  },
  {
   "cell_type": "markdown",
   "metadata": {},
   "source": [
    "A more up-to-date list of comunity pages and learning resources can be found on *haskell.org*:\n",
    "\n",
    "* https://www.haskell.org/community/\n",
    "* https://www.haskell.org/documentation/ \n",
    "\n",
    "Nevertheless you could find also interesting education content if you search on google and youtube. \n",
    "\n",
    "A good example of a learning resource that is not stated anywhere on the Haskell wiki page or the Haskell documentation page at current time of writing, is the StackOverflow tutorial https://devtut.github.io/haskell/ that provides a basic and advanced Haskell tutorial. "
   ]
  },
  {
   "cell_type": "markdown",
   "metadata": {},
   "source": [
    "## Walking through while teaching Map module"
   ]
  },
  {
   "cell_type": "markdown",
   "metadata": {},
   "source": [
    "You maybe breifly looked at the Hackage page of the **Data.Map.Strict** module while reading the chapter about Hoogle and Hackage. \n",
    "\n",
    "Let's now go through this page to learn how to work with it's functions and data structures. "
   ]
  },
  {
   "cell_type": "markdown",
   "metadata": {},
   "source": [
    "In the beggining we look at some code that uses function from the Map module."
   ]
  },
  {
   "cell_type": "code",
   "execution_count": null,
   "metadata": {},
   "outputs": [],
   "source": []
  },
  {
   "cell_type": "markdown",
   "metadata": {},
   "source": [
    "Reading now through the Hackage page you can see that you need to do a qualified import for **Data.Map** and that the size of a Map should not exceed the maximum bound of the `Int` type. \n",
    "\n",
    "If you type into ghci `maxBound::Int` you get the maximum bound for `Int` which is 9223372036854775807. Quite enough space."
   ]
  },
  {
   "cell_type": "markdown",
   "metadata": {},
   "source": [
    "Next the Map data type is shown with a short description and a list of type classes this data type bellongs to. \n",
    "\n",
    "We can see that a Map is a kind of data structure that contains pairs of data that are called keys and values. "
   ]
  },
  {
   "cell_type": "markdown",
   "metadata": {},
   "source": [
    "After the type description, functions that work with Map objects follow and they are grouped into chapters based on similar functionality. \n",
    "\n",
    "In the **Constructions** chapter you can see how to create an empty Map with `empty` or a Map from a single element with `singleton`. "
   ]
  },
  {
   "cell_type": "markdown",
   "metadata": {},
   "source": [
    "In the **From Unordered Lists** chapter the most commonly used function is `fromList` for which you can see a code example below. \n",
    "\n",
    "From the type signature you can see that all keys have to be of same type which should be an instance of the Ord type class and also all values should be of the same type."
   ]
  },
  {
   "cell_type": "code",
   "execution_count": null,
   "metadata": {},
   "outputs": [],
   "source": [
    "import qualified Data.Map as Map\n",
    "\n",
    ":i Map.fromList\n",
    "-- fromList :: Ord k => [(k, a)] -> Map k a \n",
    "\n",
    "myMap = Map.fromList [(5,\"a\"), (3,\"b\"), (5, \"c\")]\n",
    "myMap -- fromList [(3,\"b\"),(5,\"c\")]"
   ]
  },
  {
   "cell_type": "markdown",
   "metadata": {},
   "source": [
    "You also see that if you insert diferent values for the same key only the last one is saved. Next lets look at some more functions. \n",
    "\n",
    "The function for inserting an element is calle `insert`, the function for deleting an element is called `delete` and the function for looking up a value by providing the key is called `lookup`."
   ]
  },
  {
   "cell_type": "code",
   "execution_count": null,
   "metadata": {},
   "outputs": [],
   "source": [
    ":i Map.insert\n",
    "-- insert :: Ord k => k -> a -> Map k a -> Map k a \n",
    "myMap1 = Map.insert 1 \"d\" myMap\n",
    "\n",
    ":i Map.delete\n",
    "-- delete :: Ord k => k -> Map k a -> Map k a \n",
    "myMap2 = Map.delete 3 myMap1\n",
    "\n",
    ":i Map.lookup\n",
    "-- lookup :: Ord k => k -> Map k a -> Maybe a \n",
    "myValue = Map.lookup 1 myMap2"
   ]
  },
  {
   "cell_type": "markdown",
   "metadata": {},
   "source": [
    "There are many other functions contained in the **Data.Map** module. \n",
    "\n",
    "You can skimm through them when you get to a problem where you need to do something with a Map and none of the functions you know can achive it.\n",
    "\n",
    "Remember, you can also search on Hoogle by typing in a type signature."
   ]
  },
  {
   "cell_type": "markdown",
   "metadata": {},
   "source": [
    "## Recap"
   ]
  },
  {
   "cell_type": "markdown",
   "metadata": {},
   "source": [
    "In this lesson, we have discussed:\n",
    "\n",
    "- how you can help yourself with the `:i` and `:t` commands\n",
    "- how to help yourself with **Hoogle** and **Hackage**\n",
    "- we mentioned where to find additional learning resources\n",
    "- we did a walkthrough of the **Data.Map.Strict** module"
   ]
  }
 ],
 "metadata": {
  "kernelspec": {
   "display_name": "Haskell",
   "language": "haskell",
   "name": "haskell"
  },
  "language_info": {
   "codemirror_mode": "ihaskell",
   "file_extension": ".hs",
   "mimetype": "text/x-haskell",
   "name": "haskell",
   "pygments_lexer": "Haskell",
   "version": "8.10.7"
  }
 },
 "nbformat": 4,
 "nbformat_minor": 4
}
