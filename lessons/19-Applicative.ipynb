{
 "cells": [
  {
   "cell_type": "markdown",
   "metadata": {},
   "source": [
    "# Applicative"
   ]
  },
  {
   "cell_type": "markdown",
   "metadata": {},
   "source": [
    "## Outline\n",
    "\n",
    "* Incentive for Applicative\n",
    "\n",
    "* Using Applicative and Functor together\n",
    "\n",
    "* Applicative examples\n",
    "\n",
    "* Applicative laws\n",
    "\n",
    "In this lesson, we will learn about the Applicative type classe and how you can use it."
   ]
  },
  {
   "cell_type": "markdown",
   "metadata": {},
   "source": [
    "## Incentive for Applicative"
   ]
  },
  {
   "cell_type": "markdown",
   "metadata": {},
   "source": [
    "Imagine you have a function `maybeAdd1 :: Num a => Maybe (a -> a)`. This means that the function migh exist or not. How can this be? Well a practical example is if you use the `<$>` operator with a function like `(+)` and apply it to a `Maybe a` value. Here is a simple example."
   ]
  },
  {
   "cell_type": "code",
   "execution_count": null,
   "metadata": {},
   "outputs": [],
   "source": [
    "maybeAddition :: Num a => Maybe a -> Maybe (a -> a)\n",
    "maybeAddition maybeVal = (+) <$> maybeVal\n",
    "\n",
    "-- Here is a more detailed breakdown of this function without using <$>\n",
    "maybeAddition' :: Num a => Maybe a -> Maybe (a -> a)\n",
    "maybeAddition' Nothing = Nothing\n",
    "maybeAddition' (Just n) = Just $ (+) n\n",
    "\n",
    "var1 :: Maybe Int\n",
    "var1 = Just 1\n",
    "\n",
    "maybeAdd1 :: Maybe (Int -> Int)\n",
    "maybeAdd1 = maybeAddition var1\n",
    ":t maybeAdd1"
   ]
  },
  {
   "cell_type": "markdown",
   "metadata": {},
   "source": [
    "We see that the command :t in the code above returns the signature we defined in the begining where type a is now Int. Now comes the question if you want to use this function on another `Maybe Int` variale how would you do it? One possibility would be to write a custom function that handles the case of the missing function."
   ]
  },
  {
   "cell_type": "code",
   "execution_count": null,
   "metadata": {},
   "outputs": [],
   "source": [
    "import Data.Maybe ( fromJust )\n",
    "\n",
    "var2 :: Maybe Int\n",
    "var2 = Just 2\n",
    "\n",
    "add1 :: Maybe Int -> Maybe Int\n",
    "add1 Nothing = Nothing\n",
    "add1 (Just n) = Just $ fromJust maybeAdd1 n\n",
    "\n",
    "print $ add1 var2"
   ]
  },
  {
   "cell_type": "markdown",
   "metadata": {},
   "source": [
    "Another option is to use the functions the Applicative type class provides:\n",
    "```haskell\n",
    "class Functor f => Applicative f where\n",
    "  pure :: a -> f a\n",
    "  (<*>) :: f (a -> b) -> f a -> f b\n",
    "  GHC.Base.liftA2 :: (a -> b -> c) -> f a -> f b -> f c\n",
    "  (*>) :: f a -> f b -> f b\n",
    "  (<*) :: f a -> f b -> f a\n",
    "```"
   ]
  },
  {
   "cell_type": "markdown",
   "metadata": {},
   "source": [
    "We see that Functor is a superclass of Applicative. The minimal complete definition requires just the app operator `<*>` or `liftA2`. Since the Maybe type has also an instance of Applicative let's see how the app operator can help us to avoid using again custom defined functions for transformations. Here is the same problem solved with `<*>`."
   ]
  },
  {
   "cell_type": "code",
   "execution_count": null,
   "metadata": {},
   "outputs": [],
   "source": [
    "add1UsingApp :: Maybe Int -> Maybe Int\n",
    "add1UsingApp maybeInt = maybeAdd1 <*> maybeInt\n",
    "\n",
    "print $ add1UsingApp var2"
   ]
  },
  {
   "cell_type": "markdown",
   "metadata": {},
   "source": [
    "We get the same result as before and the function is one line shorter. But this is not main reason why to use this operator. The main reason is that it's easier to read the code because it's generic. The same symbol serves the same purpose for all Applicatives. "
   ]
  },
  {
   "cell_type": "markdown",
   "metadata": {},
   "source": [
    "## Using Applicative and Functor together"
   ]
  },
  {
   "cell_type": "markdown",
   "metadata": {},
   "source": [
    "If we think a bit about the examples from the previous chapter we may ask ourselves how to write a function `addUsingApp` that takes in two Maybe values and returns also a Maybe value."
   ]
  },
  {
   "cell_type": "code",
   "execution_count": null,
   "metadata": {},
   "outputs": [],
   "source": [
    "addTwoUsingApp :: Num a => Maybe a -> Maybe a -> Maybe a\n",
    "addTwoUsingApp maybeVal1 maybeVal2 = (+) <$> maybeVal1 <*> maybeVal2\n",
    "\n",
    "print $ addTwoUsingApp var1 var2"
   ]
  },
  {
   "cell_type": "markdown",
   "metadata": {},
   "source": [
    "We see we get again the same result and used much less lines of code. Because of how `<*>` is defined you can always add one more parameter to the function. Also instead of using the `<$>` operator you can use `pure` that puts the function in the begining directly in the maybe context."
   ]
  },
  {
   "cell_type": "code",
   "execution_count": null,
   "metadata": {},
   "outputs": [],
   "source": [
    "var3 :: Maybe Int\n",
    "var3 = Just 3\n",
    "\n",
    "addThreeUsingApp :: Num a => Maybe a -> Maybe a -> Maybe a -> Maybe a\n",
    "addThreeUsingApp maybeVal1 maybeVal2 maybeVal3 = pure (+) <*> (pure (+) <*> maybeVal1 <*> maybeVal2) <*> maybeVal3\n",
    "\n",
    "print $ addThreeUsingApp var1 var2 var3"
   ]
  },
  {
   "cell_type": "markdown",
   "metadata": {},
   "source": [
    "## Applicative examples"
   ]
  },
  {
   "cell_type": "markdown",
   "metadata": {},
   "source": [
    "Another way how to use the Applicative type class is in IO which has also an instance of Applicative. Let's imagine you ask the user for two numbers and then calculate their product. Here is the code where we make use of the `<*>` and `<$>` operators."
   ]
  },
  {
   "cell_type": "code",
   "execution_count": null,
   "metadata": {},
   "outputs": [],
   "source": [
    "myProduct :: Num a => a -> a -> a\n",
    "myProduct x1 x2 = x1*x2\n",
    "\n",
    "readDouble :: IO Double\n",
    "readDouble = read <$> getLine\n",
    "\n",
    "intProduct :: IO Double\n",
    "intProduct = myProduct <$> readDouble <*> readDouble\n",
    "\n",
    "main :: IO ()\n",
    "main = do\n",
    "    print \"Input 2 numbers. Use dot for decimal seperator.\"\n",
    "    result <- intProduct\n",
    "    print result\n",
    "\n",
    "main"
   ]
  },
  {
   "cell_type": "markdown",
   "metadata": {},
   "source": [
    "You can also use the `<*>` operator on lists to get all possible combinations. This is because if you view a list type as a context instead as a container, you can say that a list represents more possible values. For instance [Int] represent more possible values of type Int. Here is a code example:"
   ]
  },
  {
   "cell_type": "code",
   "execution_count": null,
   "metadata": {},
   "outputs": [],
   "source": [
    "list1 = [1,2,3] :: [Int]\n",
    "list2 = [4,5] :: [Int]\n",
    "\n",
    "allCombinations :: Num a => [a] -> [a] -> [a]\n",
    "allCombinations l1 l2 = pure (+) <*> l1 <*> l2\n",
    "\n",
    "print $ allCombinations list1 list2"
   ]
  },
  {
   "cell_type": "markdown",
   "metadata": {},
   "source": [
    "Another example for creating all possible combination is by using lists to create an instance of a user defined type with record syntax. Here is the code:"
   ]
  },
  {
   "cell_type": "code",
   "execution_count": null,
   "metadata": {},
   "outputs": [],
   "source": [
    "data Car = Car {\n",
    "    company :: String,\n",
    "    color :: String\n",
    "} deriving Show\n",
    "\n",
    "companies = [\"Toyota\", \"Mercedes\", \"Ford\"]\n",
    "colors = [\"yellow\", \"gree\", \"blue\"]\n",
    "\n",
    "allPossibleCars :: [Car]\n",
    "allPossibleCars = pure Car <*> companies <*> colors\n",
    "\n",
    "print allPossibleCars"
   ]
  },
  {
   "cell_type": "markdown",
   "metadata": {},
   "source": [
    "## Applicative laws"
   ]
  },
  {
   "cell_type": "markdown",
   "metadata": {},
   "source": [
    "Applicative has 4 laws. They are as follows:\n",
    "\n",
    "- Identity:<br>`pure id <*> x = x`\n",
    "\n",
    "- Composition:<br>`pure (.) <*> x1 <*> x2 <*> x3 = x1 <*> (x2 <*> x3)`\n",
    "\n",
    "- Homomorphism:<br>`pure f <*> pure x = pure (f x)`\n",
    "\n",
    "- Interchange:<br>`x1 <*> pure x2 = pure ($ x2) <*> x1`"
   ]
  },
  {
   "cell_type": "markdown",
   "metadata": {},
   "source": [
    "## Recap"
   ]
  },
  {
   "cell_type": "markdown",
   "metadata": {},
   "source": [
    "In this lesson we've discussed:\n",
    "\n",
    "- the motivation for introducing the Applicative type \n",
    "\n",
    "- how to use the `<*>` operator together with `<$>`\n",
    "\n",
    "- examples that show how to use the Applicative type class\n",
    "\n",
    "- laws that apply to the Applicative type class"
   ]
  }
 ],
 "metadata": {
  "kernelspec": {
   "display_name": "Haskell",
   "language": "haskell",
   "name": "haskell"
  },
  "language_info": {
   "codemirror_mode": "ihaskell",
   "file_extension": ".hs",
   "mimetype": "text/x-haskell",
   "name": "haskell",
   "pygments_lexer": "Haskell",
   "version": "8.10.7"
  }
 },
 "nbformat": 4,
 "nbformat_minor": 4
}
