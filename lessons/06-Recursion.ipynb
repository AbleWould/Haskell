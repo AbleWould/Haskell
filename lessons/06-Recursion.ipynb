{
 "cells": [
  {
   "cell_type": "markdown",
   "metadata": {
    "slideshow": {
     "slide_type": "slide"
    }
   },
   "source": [
    "# Recursion"
   ]
  },
  {
   "cell_type": "markdown",
   "metadata": {
    "slideshow": {
     "slide_type": "slide"
    }
   },
   "source": [
    "## Outline\n",
    "\n",
    "- Motivation\n",
    "\n",
    "- What is recursion\n",
    "\n",
    "- Examples of recursion"
   ]
  },
  {
   "cell_type": "markdown",
   "metadata": {},
   "source": [
    "## Motivation"
   ]
  },
  {
   "cell_type": "markdown",
   "metadata": {},
   "source": [
    "Haskell does not have built-in looping constructs as `for` or `while` loops that can be found in many other programming languages. However, we can't live without cycles in code. So, we use `recursion` instead."
   ]
  },
  {
   "cell_type": "markdown",
   "metadata": {
    "slideshow": {
     "slide_type": "slide"
    }
   },
   "source": [
    "## What is recursion"
   ]
  },
  {
   "cell_type": "markdown",
   "metadata": {
    "slideshow": {
     "slide_type": "skip"
    }
   },
   "source": [
    "Recursion in programming occurs when a function calls itself. That means the function name is used somewhere in the function body. It is a way to construct loops. Recursion in Haskell is made simpler when using pattern matching. Defining functions with pattern matching offers an elegant way to define when the recursive loop stops."
   ]
  },
  {
   "cell_type": "markdown",
   "metadata": {
    "slideshow": {
     "slide_type": "fragment"
    }
   },
   "source": [
    "Here is a basic example of recursion with and without pattern matching. We define a function called `myProduct` that takes a list of type `[Int]` and returns the product of its elements. For an empty list, the function should return 0. For the second variant, we use the build in function `head` and `tail` that return the first element of the list and the list without the first element:\n",
    "```haskell\n",
    "head :: [a] -> a \n",
    "tail :: [a] -> [a] \n",
    "```"
   ]
  },
  {
   "cell_type": "code",
   "execution_count": null,
   "metadata": {},
   "outputs": [],
   "source": [
    "myProduct :: [Int] -> Int\n",
    "myProduct [] = 0\n",
    "myProduct [x] = x\n",
    "myProduct (x:xs) = x * myProduct xs\n",
    "\n",
    "myProduct' :: [Int] -> Int\n",
    "myProduct' xs = if xs == [] then 0\n",
    "               else multiply xs \n",
    "  where multiply xs = if xs == [] then 1\n",
    "                      else head xs * multiply (tail xs)"
   ]
  },
  {
   "cell_type": "markdown",
   "metadata": {},
   "source": [
    "We see that the solution in the function `myProduct` that uses pattern matching is much more elegant as the one in the function `myProduct'` that does not use it. The things you have to be careful when writing recursive functions is that they come to an end and when using pattern matching that the patterns are not non-exhaustive. "
   ]
  },
  {
   "cell_type": "markdown",
   "metadata": {},
   "source": [
    "For instance, the pattern match in the `myProduct` function above would be non-exhaustive if you would skip the line `myProduct [] = 0`. The compiler would still accept your code, but the function would not work for all user inputs. For `[]` it would return an error. "
   ]
  },
  {
   "cell_type": "markdown",
   "metadata": {},
   "source": [
    "## Recursion examples"
   ]
  },
  {
   "cell_type": "markdown",
   "metadata": {},
   "source": [
    "Let's write our own version of some simple Haskell functions with the use of recursion and pattern matching and test them against the Haskell built-in functions: \n",
    "\n",
    "- the function `length` returns the length of a list\n",
    "\n",
    "- the function `take n` returns the first n elements of a list\n",
    "\n",
    "- the function `sum` sums the elements of a list"
   ]
  },
  {
   "cell_type": "code",
   "execution_count": null,
   "metadata": {},
   "outputs": [],
   "source": [
    "myLength [] = 0\n",
    "myLength (x:xs) = 1 + myLength xs\n",
    "\n",
    "myLength [1..3] == length [1..3]\n",
    "\n",
    "myTake _ [] = []\n",
    "myTake 0 _ = []\n",
    "myTake n (x:xs) = x : myTake (n-1) xs\n",
    "\n",
    "myTake 3 [1..5] == take 3 [1..5]\n",
    "myTake 7 [1..5] == take 7 [1..5]\n",
    "\n",
    "mySum [x] = x\n",
    "mySum (x:xs) = x + (mySum xs)\n",
    "\n",
    "mySum [1..3] == sum [1..3]"
   ]
  },
  {
   "cell_type": "markdown",
   "metadata": {},
   "source": [
    "A more complicated example of recursion is if we try to implement the function `sort` that sorts the elements of a list. Here we use beside the functions `head` and `tail` also the `minimum` function that returns the smallest number of a list that contains numbers."
   ]
  },
  {
   "cell_type": "code",
   "execution_count": null,
   "metadata": {},
   "outputs": [],
   "source": [
    "mySort :: [Int] -> [Int]\n",
    "mySort [] = []\n",
    "mySort xs = minimum xs : mySort (removeMin xs)\n",
    "  where removeMin ys = let minYs = minimum ys\n",
    "                       in removeMin' minYs ys\n",
    "        removeMin' minYs [] = []\n",
    "        removeMin' minYs ys = if head ys == minYs \n",
    "                              then removeMin' minYs (tail ys)\n",
    "                              else head ys : removeMin' minYs (tail ys)\n",
    "\n",
    "print $ mySort [2,6,1,7,3,0,3]"
   ]
  },
  {
   "cell_type": "markdown",
   "metadata": {},
   "source": [
    "The reason we did not do a comparison with the actual `sort` function is that our function does not preserve repeated elements and the `sort` function does."
   ]
  },
  {
   "cell_type": "markdown",
   "metadata": {},
   "source": [
    "For our last example of recursion, we implement the function `fib` that takes in the number `n` of type `Int` and return the first n elements of the Fibonacci list (https://en.wikipedia.org/wiki/Fibonacci_number). Here we use the functions `last` and `init` that return the last element of the list and all the elements of the list except the last.\n",
    "```haskell\n",
    "last :: [a] -> a \n",
    "init :: [a] -> [a] \n",
    "```"
   ]
  },
  {
   "cell_type": "code",
   "execution_count": null,
   "metadata": {},
   "outputs": [],
   "source": [
    "fib :: Int -> [Int]\n",
    "fib n = addElement [1,1]\n",
    "  where addElement xs = \n",
    "          if length xs == n then xs \n",
    "          else addElement (xs ++ [last xs + last (init xs)])\n",
    "\n",
    "print $ fib 10"
   ]
  },
  {
   "cell_type": "code",
   "execution_count": null,
   "metadata": {},
   "outputs": [],
   "source": []
  }
 ],
 "metadata": {
  "celltoolbar": "Slideshow",
  "kernelspec": {
   "display_name": "Haskell",
   "language": "haskell",
   "name": "haskell"
  },
  "language_info": {
   "codemirror_mode": "ihaskell",
   "file_extension": ".hs",
   "mimetype": "text/x-haskell",
   "name": "haskell",
   "pygments_lexer": "Haskell",
   "version": "8.10.7"
  },
  "rise": {
   "enable_chalkboard": true,
   "header": "<img style=\"position: relative; left: 1230px; width: 200px; top: 10px;\" src=\"https://raw.githubusercontent.com/rober-m/haskell-bootcamp/main/images/input-output.svg\"/>"
  },
  "vscode": {
   "interpreter": {
    "hash": "31f2aee4e71d21fbe5cf8b01ff0e069b9275f58929596ceb00d14d90e3e16cd6"
   }
  }
 },
 "nbformat": 4,
 "nbformat_minor": 4
}
