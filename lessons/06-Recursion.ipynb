{
 "cells": [
  {
   "cell_type": "markdown",
   "metadata": {
    "slideshow": {
     "slide_type": "slide"
    }
   },
   "source": [
    "# Recursion"
   ]
  },
  {
   "cell_type": "markdown",
   "metadata": {
    "slideshow": {
     "slide_type": "slide"
    }
   },
   "source": [
    "## Outline\n",
    "\n",
    "- Motivation\n",
    "\n",
    "- What is recursion\n",
    "\n",
    "- Examples of recursion\n",
    "\n",
    "- Advanced recursive patterns"
   ]
  },
  {
   "cell_type": "markdown",
   "metadata": {},
   "source": [
    "## Motivation"
   ]
  },
  {
   "cell_type": "markdown",
   "metadata": {},
   "source": [
    "In any programming language, we want to automate calculations to make our life easier, especially tasks that are repetitive in nature."
   ]
  },
  {
   "cell_type": "markdown",
   "metadata": {},
   "source": [
    "In imperative programming languages these repetitive tasks are dealt with using loops, for example in python you can have"
   ]
  },
  {
   "cell_type": "markdown",
   "metadata": {},
   "source": [
    "```python\n",
    "for i in [1, 2, 3, 4]:\n",
    "    print(i)\n",
    "    \n",
    "i = 1\n",
    "while i < 5:\n",
    "  print(i)\n",
    "  i += 1\n",
    "```"
   ]
  },
  {
   "cell_type": "markdown",
   "metadata": {},
   "source": [
    "Both result in the output of the sequence\n",
    "```\n",
    "1\n",
    "2\n",
    "3\n",
    "4\n",
    "```"
   ]
  },
  {
   "cell_type": "markdown",
   "metadata": {},
   "source": [
    "Since Haskell is a functional programming language, we do not have these built-in looping functions `for` or `while`."
   ]
  },
  {
   "cell_type": "markdown",
   "metadata": {},
   "source": [
    "However, we can't live without cycles in code to automate repetitive tasks, this is where `recursion` helps Haskell out."
   ]
  },
  {
   "cell_type": "markdown",
   "metadata": {},
   "source": [
    "<div class=\"alert alert-block alert-info\">\n",
    "    Fundamentally, imperative and functional language differ in that their core structures are described by two different things.  In a functional language, we only define what things are, in an imperative language we describe how things become.\n",
    "</div>"
   ]
  },
  {
   "cell_type": "markdown",
   "metadata": {
    "slideshow": {
     "slide_type": "slide"
    }
   },
   "source": [
    "## What is recursion precisely"
   ]
  },
  {
   "cell_type": "markdown",
   "metadata": {},
   "source": [
    "Say we want to calculate the sum of a list of numbers."
   ]
  },
  {
   "cell_type": "markdown",
   "metadata": {},
   "source": [
    "Then for an imperative language we set two things, first we start with setting a variable `sum` to zero. Secondly, for each element in the list, we **describe** how to add that element to that sum in incremental steps."
   ]
  },
  {
   "cell_type": "markdown",
   "metadata": {},
   "source": [
    "```python\n",
    "sum = 0\n",
    "for i in list:\n",
    "    sum = sum + i\n",
    "\n",
    "print(sum)\n",
    "```"
   ]
  },
  {
   "cell_type": "markdown",
   "metadata": {},
   "source": [
    "In a functional language, we also do two things. First, we **define** what the sum of an empty list is (which is zero). Then we **define** the sum of a non-empty list as the value of the first element plus the sum of the remaining list."
   ]
  },
  {
   "cell_type": "markdown",
   "metadata": {},
   "source": [
    "```haskell\n",
    "sum [] = 0\n",
    "sum (x:xs) = x + sum xs\n",
    "```"
   ]
  },
  {
   "cell_type": "markdown",
   "metadata": {},
   "source": [
    "Visually, this evaluates `[1,2,3,4,5]` as"
   ]
  },
  {
   "cell_type": "markdown",
   "metadata": {},
   "source": [
    "```haskell\n",
    "sum [1,2,3,4,5] = 1 + sum [2,3,4,5]\n",
    "                = 1 + 2 + sum [3,4,5]\n",
    "                = 1 + 2 + 3 + sum [4,5]\n",
    "                = 1 + 2 + 3 + 4 + sum [5]\n",
    "                = 1 + 2 + 3 + 4 + 5 + sum []\n",
    "                = 1 + 2 + 3 + 4 + 5 + 0\n",
    "                = 15\n",
    "```"
   ]
  },
  {
   "cell_type": "markdown",
   "metadata": {
    "slideshow": {
     "slide_type": "skip"
    }
   },
   "source": [
    "In the above example, we see that recursion is a pattern where a function calls itself! This means that the function name is used somewhere in the function body itself. The simplest example of recursion is the following example"
   ]
  },
  {
   "cell_type": "code",
   "execution_count": null,
   "metadata": {},
   "outputs": [],
   "source": [
    "f x = x + f x\n",
    "f 1"
   ]
  },
  {
   "cell_type": "markdown",
   "metadata": {},
   "source": [
    "But notice that when we evaluate this function, it never stops calling itself! The result will be an overflow of computer resources due to the calculation growing too big. This is similar to the more imperative `while true` loop that never stops."
   ]
  },
  {
   "cell_type": "markdown",
   "metadata": {},
   "source": [
    "```python\n",
    "sum = 0\n",
    "while true:\n",
    "  sum = sum + 1\n",
    "```"
   ]
  },
  {
   "cell_type": "markdown",
   "metadata": {},
   "source": [
    "Though a never-ending loop can be handy, we generally want recursion to stop at some point. This is why we need an edge condition that stops the recursive call of the function, like the `sum [] = 0` in the above example."
   ]
  },
  {
   "cell_type": "markdown",
   "metadata": {},
   "source": [
    "To wrap it up, when we are building a recursive function `f` that needs to end at some point, we need to keep two things in mind\n",
    "\n",
    "   1) What are the set of rules that reduces all successive cases toward the edge case?\n",
    "   2) What is the edge case to stop the recursion?"
   ]
  },
  {
   "cell_type": "markdown",
   "metadata": {},
   "source": [
    "## Other recursion examples"
   ]
  },
  {
   "cell_type": "markdown",
   "metadata": {},
   "source": [
    "Above we saw examples with lists and numbers, but recursion can cover much more! Let's consider more examples and each time try to answer the above two questions."
   ]
  },
  {
   "cell_type": "markdown",
   "metadata": {},
   "source": [
    "**Example 1** Say we want a function `myElem` that checks if an element is in a list. Then we have\n",
    "\n",
    "  1) An element is in a list if we compare it to the first element `x`, and combine that boolean with the outcome of the element being in the remainder of the list `xs` using `(||)`\n",
    "  2) The empty list `[]` contains no elements, so it returns `False`"
   ]
  },
  {
   "cell_type": "code",
   "execution_count": null,
   "metadata": {},
   "outputs": [],
   "source": [
    "myElem _ [] = False\n",
    "myElem a (x:xs) = (a == x) || myElem a xs\n",
    "\n",
    "myElem 1 [0,3,4,5]\n",
    "myElem 1 [0,2,1]"
   ]
  },
  {
   "cell_type": "markdown",
   "metadata": {},
   "source": [
    "Notice that, like in the `sum` example above, we are again traversing the elements of the list from left to right. This is a common pattern in recursion using the pattern matched `x` and `xs` against a list."
   ]
  },
  {
   "cell_type": "markdown",
   "metadata": {},
   "source": [
    "**Example 2** Say we want a function `myIntersperse` that adds a separator element in between elements of a list. Then we have\n",
    "\n",
    "  1) For the first element `x` in the list, we add the separator `a` after that element, then we combine that list with the `myIntersperse` acting on the remainder of the list `xs`.\n",
    "  2) When we have a list with one element, we cannot add anything in between, so we return the same list."
   ]
  },
  {
   "cell_type": "code",
   "execution_count": null,
   "metadata": {},
   "outputs": [],
   "source": [
    "myIntersperse a [x] = [x]\n",
    "myIntersperse a (x:xs) = x : a : myIntersperse a xs\n",
    "\n",
    "myIntersperse ' ' \"WithSpaces\"\n",
    "myIntersperse '-' \"WithDashes\""
   ]
  },
  {
   "cell_type": "markdown",
   "metadata": {},
   "source": [
    "**Example 3** Say we want a function `myTake` that takes the first `n` elements of another list.\n",
    "\n",
    "  1) Given that `n>0`, we define the initial step on a list as combining the first element `x` with the result of myTake on the rest of the list `xs` with subtracting 1 from `n`.\n",
    "  2) You cannot take an element of the empty list `[]`, so we define this as the edge case.\n",
    "  \n",
    "Additionally, we would like our function to be \"well-behaved\", that's  why we want to return the empty list if we give is a negative integer."
   ]
  },
  {
   "cell_type": "code",
   "execution_count": null,
   "metadata": {},
   "outputs": [],
   "source": [
    "myTake n _      | n <= 0 =  []\n",
    "myTake _ []              =  []\n",
    "myTake n (x:xs)          =  x : take (n-1) xs        \n",
    "         \n",
    "myTake 100 [1,2,3]\n",
    "myTake 2 [1,2,3]\n",
    "myTake (-10) [1,2,3]"
   ]
  },
  {
   "cell_type": "markdown",
   "metadata": {},
   "source": [
    "**Example 4** Say we want a function `myReverse` that reverses a string.\n",
    "\n",
    "  1) Given a first element `x` we should append that to the result of `myReverse` on the remaining list `xs`.\n",
    "  2) The reverse of the empty list is itself."
   ]
  },
  {
   "cell_type": "code",
   "execution_count": null,
   "metadata": {},
   "outputs": [],
   "source": [
    "myReverse [] = []\n",
    "myReverse (x:xs) = myReverse xs ++ [x]\n",
    "\n",
    "myReverse \"Hello World\"\n",
    "myReverse [1,2,3,4,5]"
   ]
  },
  {
   "cell_type": "markdown",
   "metadata": {},
   "source": [
    "**Example 5** Say we want a function `myMap` that applies a function `f` to each element of a list.\n",
    "\n",
    "  1) Given a first element `x` we should apply `f` to that element and prepend that to `myMap` acting on the remainder `xs` with `f`.\n",
    "  2) You cannot apply `f` on non-existing elements of an empty list, so the empty list returns itself."
   ]
  },
  {
   "cell_type": "code",
   "execution_count": null,
   "metadata": {},
   "outputs": [],
   "source": [
    "myMap _ [] = []\n",
    "myMap f (x:xs) = f x : myMap f xs\n",
    "\n",
    "myMap (+1) [1,2,3,4]"
   ]
  },
  {
   "cell_type": "markdown",
   "metadata": {},
   "source": [
    "**Example 6** Remember that in Haskell everything is a function! Even our objects are functions that can define themselves using recursion. Consider for example the even numbers that can be recursively defined as base value 0 with the additional step of using `myMap` to the add 2 to itself. This will generate an infinite list of the even numbers and never stop!"
   ]
  },
  {
   "cell_type": "code",
   "execution_count": null,
   "metadata": {},
   "outputs": [],
   "source": [
    "evenNumbers :: [Int]\n",
    "evenNumbers = 0 : myMap (+2) evenNumbers\n",
    "\n",
    "myTake 10 evenNumbers"
   ]
  },
  {
   "cell_type": "markdown",
   "metadata": {},
   "source": [
    "**Example 7** Say we want the list of Fibonacci numbers. These are an infinite sequence of numbers that follow the pattern that in any segment of the sequence we have that `a : b : a+b` and have a base value of 0 and 1. We can convert this to an infinite list with"
   ]
  },
  {
   "cell_type": "code",
   "execution_count": null,
   "metadata": {},
   "outputs": [],
   "source": [
    "fib a b = a : fib b (a+b)\n",
    "\n",
    "myTake 10 $ fib 0 1"
   ]
  },
  {
   "cell_type": "markdown",
   "metadata": {},
   "source": [
    "**Example 8** Say we want a function `mySort` that orders a list of elements from small to big.\n",
    "\n",
    "  1) Given the first element `x`, we insert it in the ordered version of the remainder `xs` of the list.\n",
    "  2) The empty list is already ordered.\n",
    "  \n",
    "Notice that we need a helper function here, namely a function `myInsert` that can insert an element `n` according to its ordering in an ordered list. We can define this function recursively!\n",
    "\n",
    "  1) Given the first element `x`, if that is larger or equal than the element `n`, then `n` should go in front of it. If not, `x` should be prepended with the list that inserts `n` to the remaining list `xs`\n",
    "  2) we can only insert `n` in the empty list `[]` as `[n]`\n",
    "  \n",
    "Together, we get"
   ]
  },
  {
   "cell_type": "code",
   "execution_count": null,
   "metadata": {},
   "outputs": [],
   "source": [
    "myInsert n [] = [n]\n",
    "myInsert n (x:xs)\n",
    "            | n <= x    = n : x : xs\n",
    "            | otherwise = x : myInsert n xs\n",
    "\n",
    "mySort :: (Ord a) => [a] -> [a]\n",
    "mySort [] = []\n",
    "mySort (x:xs) = myInsert x $ mySort xs\n",
    "\n",
    "mySort [2,5,1,3,4]"
   ]
  },
  {
   "cell_type": "markdown",
   "metadata": {},
   "source": [
    "<div class=\"alert alert-block alert-info\">\n",
    "    The compiler suggests a better way to write our <code>orderList</code> function using <code>foldr</code>. Instead of writing <code>orderList (x:xs) = myInsert x $ orderList xs </code> it suggests using <code>orderList xs = foldr myInsert [] xs</code>. This is a common pattern that we will further explain below.\n",
    "</div>"
   ]
  },
  {
   "cell_type": "markdown",
   "metadata": {},
   "source": [
    "<div class=\"alert alert-block alert-warning\">\n",
    "<b>Important:</b> The examples just given are all built-in function that already exist in Haskell. Just remove the <code>my</code> from the name to find the original name. For example, <code>elem</code>, <code>intersperse</code> and <code>take</code>\n",
    "</div>"
   ]
  },
  {
   "cell_type": "markdown",
   "metadata": {},
   "source": [
    "## Advanced recursive patterns\n",
    "\n",
    "A common recursive pattern, when dealing with a function over a list, is that of a fold. This folding tries to apply that function to the beginning of the list combined with a starting value. The function returns again a value that is the starting value of the next fold, the process stops at the end of the list. Since lists have two ends, there is a choice of direction here, we can fold from left to right or right to left. Depending on the object and the function used, this choice might matter, as we will see in the examples.\n",
    "\n",
    "To indicate folding from left to right, we use `foldl`, for right to left `foldr`. As an intuitive example, we look at folding `(+)` over a list of number with starting value `0`. Visually, this recursive folding looks like"
   ]
  },
  {
   "cell_type": "markdown",
   "metadata": {},
   "source": [
    "```haskell\n",
    "foldr (+) 0 [4,3,2,1] = foldl (+) (1+0) [4,3,2]\n",
    "                      = foldl (+) (2+1) [4,3]\n",
    "                      = foldl (+) (3+3) [4]\n",
    "                      = foldl (+) (4+6) []\n",
    "                      = 10\n",
    "```"
   ]
  },
  {
   "cell_type": "markdown",
   "metadata": {},
   "source": [
    "If we implemented this function, ourselves would take the form"
   ]
  },
  {
   "cell_type": "code",
   "execution_count": null,
   "metadata": {},
   "outputs": [],
   "source": [
    "myFoldr f z []     = z \n",
    "myFoldr f z (x:xs) = f x (myFoldr f z xs) \n",
    "\n",
    "myFoldr (+) 0 [4,3,2,1]"
   ]
  },
  {
   "cell_type": "markdown",
   "metadata": {},
   "source": [
    "Why do we care about this direction of applying the function? In de above example, both left and right yield the same result, as shown by"
   ]
  },
  {
   "cell_type": "code",
   "execution_count": null,
   "metadata": {},
   "outputs": [],
   "source": [
    "foldr (+) 0 [4,3,2,1] == foldl (+) 0 [4,3,2,1]"
   ]
  },
  {
   "cell_type": "markdown",
   "metadata": {},
   "source": [
    "But the reason we care about the direction in general is that the order of the operation can give different results! For example consider, `(-)` instead of `(+)`"
   ]
  },
  {
   "cell_type": "code",
   "execution_count": null,
   "metadata": {},
   "outputs": [],
   "source": [
    "foldr (-) 0 [4,3,2,1] == foldl (-) 0 [4,3,2,1]"
   ]
  },
  {
   "cell_type": "markdown",
   "metadata": {},
   "source": [
    "This is false because if we write the operations out explicitly we get"
   ]
  },
  {
   "cell_type": "markdown",
   "metadata": {},
   "source": [
    "```haskell\n",
    "foldl (-) 0 [4,3,2,1] ----> (((0-4)-3)-2)-1 = (((-4)-3)-2)-1 = ((-7)-2)-1 = (-9)-1 = -10\n",
    "```"
   ]
  },
  {
   "cell_type": "markdown",
   "metadata": {},
   "source": [
    "while"
   ]
  },
  {
   "cell_type": "markdown",
   "metadata": {},
   "source": [
    "```haskell\n",
    "foldr (-) 0 [4,3,2,1] ----> 4-(3-(2-(1-0)))=4-(3-(2-1))=4-(3-1) = 2\n",
    "```"
   ]
  },
  {
   "cell_type": "markdown",
   "metadata": {},
   "source": [
    "This is because in general `(a-b)-c =/= a-(b-c)`."
   ]
  },
  {
   "cell_type": "markdown",
   "metadata": {},
   "source": [
    "### Examples using `foldl` and `foldr`"
   ]
  },
  {
   "cell_type": "markdown",
   "metadata": {},
   "source": [
    "For the first example, we can finally implement the compiler's suggestion on the `mySort` function!"
   ]
  },
  {
   "cell_type": "code",
   "execution_count": null,
   "metadata": {},
   "outputs": [],
   "source": [
    "myInsert n [] = [n]\n",
    "myInsert n (x:xs)\n",
    "            | n <= x    = n : x : xs\n",
    "            | otherwise = x : myInsert n xs\n",
    "\n",
    "mySort :: (Ord a) => [a] -> [a]\n",
    "mySort [] = []\n",
    "mySort x = foldr myInsert [] x\n",
    "\n",
    "mySort [2,5,1,3,4]"
   ]
  },
  {
   "cell_type": "markdown",
   "metadata": {},
   "source": [
    "Here we fold the unordered list in an empty list with inserting each unsorted element at its correct position. We can also define an alternative for `myReverse` using folds"
   ]
  },
  {
   "cell_type": "code",
   "execution_count": null,
   "metadata": {},
   "outputs": [],
   "source": [
    "myReverse [] = []\n",
    "myReverse x = foldl (\\x y -> y:x) [] x\n",
    "\n",
    "myReverse [1,2,3,4]"
   ]
  },
  {
   "cell_type": "code",
   "execution_count": null,
   "metadata": {},
   "outputs": [],
   "source": []
  }
 ],
 "metadata": {
  "celltoolbar": "Slideshow",
  "kernelspec": {
   "display_name": "Haskell",
   "language": "haskell",
   "name": "haskell"
  },
  "language_info": {
   "codemirror_mode": "ihaskell",
   "file_extension": ".hs",
   "mimetype": "text/x-haskell",
   "name": "haskell",
   "pygments_lexer": "Haskell",
   "version": "8.10.7"
  },
  "rise": {
   "enable_chalkboard": true,
   "header": "<img style=\"position: relative; left: 1230px; width: 200px; top: 10px;\" src=\"https://raw.githubusercontent.com/rober-m/haskell-bootcamp/main/images/input-output.svg\"/>"
  },
  "vscode": {
   "interpreter": {
    "hash": "31f2aee4e71d21fbe5cf8b01ff0e069b9275f58929596ceb00d14d90e3e16cd6"
   }
  }
 },
 "nbformat": 4,
 "nbformat_minor": 4
}
