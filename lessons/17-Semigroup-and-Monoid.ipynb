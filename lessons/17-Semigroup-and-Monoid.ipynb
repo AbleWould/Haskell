{
 "cells": [
  {
   "cell_type": "markdown",
   "metadata": {},
   "source": [
    "# Semigroup and Monoid"
   ]
  },
  {
   "cell_type": "markdown",
   "metadata": {},
   "source": [
    "## Outline\n",
    "\n",
    "* Definition of Semigroup\n",
    "\n",
    "* Semigroup example\n",
    "\n",
    "* Definition of Monoid\n",
    "\n",
    "* Monoid examples\n",
    "\n",
    "In this lesson, we will learn about the Semigroup and Monoid type classes and how you can use them."
   ]
  },
  {
   "cell_type": "markdown",
   "metadata": {},
   "source": [
    "## Definition of Semigroup\n",
    "Semigroup is a type class that provides the operator <> that is used for combining variables of same type. Here is the type signature:\n",
    "```haskell\n",
    "(<>) :: Semigroup a => a -> a -> a\n",
    "```"
   ]
  },
  {
   "cell_type": "markdown",
   "metadata": {},
   "source": [
    "Some of the Haskell types have an instance of Semigroup as lists [] for example. The <> operator behaves same as the ++ operator.\n",
    "```haskell\n",
    "[1] <> [2] -- gives you [1,2]\n",
    "\"a\" <> \"b\" -- gives you \"ab\"\n",
    "```"
   ]
  },
  {
   "cell_type": "markdown",
   "metadata": {},
   "source": [
    "Or you could implement Semigroup for an existing type as Integer:\n",
    "```haskell\n",
    "instance Semigroup Integer where\n",
    "   (<>) x y = x + y\n",
    "```"
   ]
  },
  {
   "cell_type": "markdown",
   "metadata": {},
   "source": [
    "After this instance if you say `3 + 4` you will get the same result as if you say `3 <> 4`."
   ]
  },
  {
   "cell_type": "markdown",
   "metadata": {},
   "source": [
    "## Semigroup example"
   ]
  },
  {
   "cell_type": "markdown",
   "metadata": {},
   "source": [
    "Lets define our own type called Game where we define 4 options: Rock, Paper, Scissors and Mistake. When mixing them we play by standard rules (https://en.wikipedia.org/wiki/Rock_paper_scissors) only we add the Mistake element that is the case where someone did not made a clear coice. And mixing Mistake with any of the other 3 choices gives the other choice. "
   ]
  },
  {
   "cell_type": "code",
   "execution_count": null,
   "metadata": {},
   "outputs": [],
   "source": [
    "data Game = Rock | Paper | Scissors | Mistake deriving (Show, Eq)\n",
    "\n",
    "instance Semigroup Game where\n",
    "    (<>) Rock Paper = Paper\n",
    "    (<>) Paper Rock = Paper\n",
    "    (<>) Rock Scissors = Rock\n",
    "    (<>) Scissors Rock = Rock\n",
    "    (<>) Paper Scissors = Scissors\n",
    "    (<>) Scissors Paper = Scissors\n",
    "    (<>) a b | a == b = a\n",
    "             | a == Mistake = b\n",
    "             | b == Mistake = a\n",
    "\n",
    "c1, c2, c3 :: Game\n",
    "c1 = Rock\n",
    "c2 = Paper\n",
    "c3 = Mistake\n",
    "\n",
    "print $ c1 <> c2\n",
    "print $ c2 <> c2\n",
    "print $ c1 <> c3\n",
    "print $ c3 <> c3"
   ]
  },
  {
   "cell_type": "markdown",
   "metadata": {},
   "source": [
    "## Definition of Monoid"
   ]
  },
  {
   "cell_type": "markdown",
   "metadata": {},
   "source": [
    "Monoid is an extension of the Semigroup type class, so it is also used for combining variables of same type. Monoids definition is:\n",
    "```haskell\n",
    "class Semigroup a => Monoid a where\n",
    "  mempty :: a\n",
    "  mappend :: a -> a -> a\n",
    "  mconcat :: [a] -> a\n",
    "```"
   ]
  },
  {
   "cell_type": "markdown",
   "metadata": {},
   "source": [
    "The `mappend` function has the same type as the `<>` operator from Semigroup, so if you define an instace for Semigroup you can simply say `mappend = <>`. The `mempty` operator is used as a neutral element which means that combined with any other element it does not change the element. `mconcat` is used for combining multiple elements together with `mapend`. The minimal complete definition for the Monoid type class are only the first two operators."
   ]
  },
  {
   "cell_type": "markdown",
   "metadata": {},
   "source": [
    "Lists are also an instance of Monoid so you can use the Monoid operators as follows:\n",
    "```haskell\n",
    "[1] `mappend` [2] -- gives you [1,2]\n",
    "\"a\" `mappend` \"b\" -- gives you \"ab\"\n",
    "[1] `mappend` mempty -- gives you [1]\n",
    "mconcat [\"a\",\"b\",\"c\"] -- gives you \"abc\"\n",
    "```"
   ]
  },
  {
   "cell_type": "markdown",
   "metadata": {},
   "source": [
    "Here is how you would implement Monoid for Integer if a Semigroup instance already exists:\n",
    "```haskell\n",
    "instance Monoid Integer where\n",
    "    mempty = 0\n",
    "    mappend = (<>)\n",
    "```"
   ]
  },
  {
   "cell_type": "markdown",
   "metadata": {},
   "source": [
    "There are found laws that govern the Monoid type class:\n",
    "\n",
    "* mappend mempty x = x.\n",
    "\n",
    "* mappend x mempty = x.\n",
    "\n",
    "* mappend x (mappend y z) = mappend (mappend x y) z.\n",
    "\n",
    "* mconcat = foldr mappend mempty"
   ]
  },
  {
   "cell_type": "markdown",
   "metadata": {},
   "source": [
    "You have to take care of the first three when you implement a Monoid instance. The fourth is just a definition of mconcat that you get for free."
   ]
  },
  {
   "cell_type": "markdown",
   "metadata": {},
   "source": [
    "## Monoid examples"
   ]
  },
  {
   "cell_type": "markdown",
   "metadata": {},
   "source": [
    "Lets pick up on the Semigroup example and try to implement a Monoid class for it."
   ]
  },
  {
   "cell_type": "code",
   "execution_count": null,
   "metadata": {},
   "outputs": [],
   "source": [
    "instance Monoid Game where\n",
    "    mempty = Mistake\n",
    "    mappend = (<>)\n",
    "\n",
    "print $ mconcat [Paper, Mistake, Rock, Scissors, Mistake] "
   ]
  },
  {
   "cell_type": "markdown",
   "metadata": {},
   "source": [
    "Notice that the previous code returns Paper becase `mconcat [Paper, Mistake, Rock, Scissors, Mistake]` is equal to `Paper <> (Mistake <> (Rock <> (Scissors <> Mistake)))`. You can also directly define the mappend operations instead of defining the <> operations in the Semigroup class."
   ]
  },
  {
   "cell_type": "markdown",
   "metadata": {},
   "source": [
    "Lets look now at another example. You have 6 sided cube where you have the number 1 one time, the number 2 two times and number 3 three times on it. Now lets create a Cube type with these three options and an instance of Semigroup and Monoid that tells you the probability of the event when you combine two possible number outcomes. "
   ]
  },
  {
   "cell_type": "code",
   "execution_count": null,
   "metadata": {},
   "outputs": [],
   "source": [
    "data CubeProbability = CProb String Rational\n",
    "\n",
    "instance Show CubeProbability where\n",
    "    show (CProb a b) = show a ++ \"|\" ++ show (fromIntegral (round (fromRational b * 100000)) / 1000) ++ \"%\"\n",
    "\n",
    "instance Semigroup CubeProbability where\n",
    "    (<>) cprob1 (CProb \"\" 0) = cprob1\n",
    "    (<>) (CProb \"\" 0) cprob2 = cprob2 \n",
    "    (<>) (CProb num1 prob1) (CProb num2 prob2) = CProb (num1 <> \"-\" <> num2) (prob1*prob2)\n",
    "\n",
    "instance Monoid CubeProbability where\n",
    "    mempty = CProb \"\" 0\n",
    "    mappend = (<>)\n",
    "\n",
    "data Cube = One | Two | Three\n",
    "\n",
    "cube2CProb :: Cube -> CubeProbability\n",
    "cube2CProb cube = case cube of \n",
    "    One -> CProb \"1\" (1/6)\n",
    "    Two -> CProb \"2\" (1/3)\n",
    "    Three -> CProb \"3\" (1/2)\n",
    "\n",
    "case1 :: [Cube]\n",
    "case1 = [Two, One, One, Three, Two]\n",
    "\n",
    "showProbability :: [Cube] -> CubeProbability\n",
    "showProbability scenario = mconcat $ map cube2CProb scenario\n",
    "\n",
    "-- Try defining a case two and see its probability\n",
    "print $ showProbability case1"
   ]
  },
  {
   "cell_type": "markdown",
   "metadata": {},
   "source": [
    "## Recap"
   ]
  },
  {
   "cell_type": "markdown",
   "metadata": {},
   "source": [
    "In this lesson we've discussed:\n",
    "\n",
    "- the definition and usage of Semigroup type class\n",
    "- the definition and usage of Monoid type class"
   ]
  }
 ],
 "metadata": {
  "kernelspec": {
   "display_name": "Haskell",
   "language": "haskell",
   "name": "haskell"
  },
  "language_info": {
   "codemirror_mode": "ihaskell",
   "file_extension": ".hs",
   "mimetype": "text/x-haskell",
   "name": "haskell",
   "pygments_lexer": "Haskell",
   "version": "8.10.7"
  }
 },
 "nbformat": 4,
 "nbformat_minor": 4
}
