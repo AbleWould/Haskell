{
 "cells": [
  {
   "cell_type": "markdown",
   "metadata": {},
   "source": [
    "# Semigroup and Monoid"
   ]
  },
  {
   "cell_type": "markdown",
   "metadata": {},
   "source": [
    "## Outline\n",
    "\n",
    "* The mathematics\n",
    "\n",
    "* Definition of Semigroup in Haskell\n",
    "\n",
    "* Semigroup example\n",
    "\n",
    "* Definition of Monoid in Haskell\n",
    "\n",
    "* Monoid examples\n",
    "\n",
    "In this lesson, we will add another layer of abstraction that is commonly used in Haskell. To give intuition to the reasons why this is done, we first will introduce these concepts from mathematics. After that, we will see how Haskell implements these ideas. The covered ideas are semigroups and monoids."
   ]
  },
  {
   "cell_type": "markdown",
   "metadata": {},
   "source": [
    "## The mathematics\n",
    "At its core, mathematics tries to describe objects (like types) and how these objects relate to each other  (functions). Here, some classes of object have an extra certain structure to them. For example, if we consider the integers `(... -2, -1, 0, 1, 2, ...)`, we can add these and end up again with an integer. Additionally, the addition operator on these integers has an extra property, the order of adding three integers does not matter! Or more symbolic,\n",
    "```\n",
    "(a+b)+c = a+(b+c)\n",
    "```\n",
    "We call this property associativity. If objects, like the integers in the example, have such an associative operator, we call the **two** together a semigroup. Semigroups are common, and we have seen examples of these already, to name a few pairs\n",
    "\n",
    "Objects | Operator | Associative property\n",
    "--- | --- | ---\n",
    "`Integers` | `(*) :: Integer -> Integer -> Integer` | `(a*b)*c = a*(b*c)`\n",
    "`Integers` | `(+) :: Integer -> Integer -> Integer` | `(a+b)+c =  a+(b+c)`\n",
    "`String` | `++ :: String -> String -> String ` | `(a ++ b) ++ c = a ++ (b ++ c)`\n",
    "`Bool` | `(||) :: Bool -> Bool -> Bool ` | `(a || b) || c = a || (b || c)`\n",
    "`Bool` | `(&&) :: Bool -> Bool -> Bool ` | `(a && b ) && c = a && (b && c)`\n",
    "\n",
    "Note that there may be multiple associative operators available for a given object that together make them a semigroup! In Haskell, these pairs of objects and operators are captured in the `Semigroup` class.\n",
    "\n",
    "Notice all of the above examples in the table have an extra thing in common, they have an element that under their operator leaves the other entry unaltered, or more explicit for each\n",
    "\n",
    "Objects | Associative operator | Identity\n",
    "--- | --- | ---\n",
    "`Integers` | `(*) :: Integer -> Integer -> Integer` | `a*1 = a = 1*a`\n",
    "`Integers` | `(+) :: Integer -> Integer -> Integer` | `a+0 = a =  a+(b+c)`\n",
    "`String` | `++ :: String -> String -> String ` | `a ++ \"\" = a = \"\" ++ a`\n",
    "`Bool` | `(||) :: Bool -> Bool -> Bool` | `a || False = a = False || a`\n",
    "`Bool` | `(&&) :: Bool -> Bool -> Bool ` | `a && True = a = True && a`\n",
    "\n",
    "We call this **unique** object that leave other objects unchanged the identity element. If a semigroup has such an element the pair, objects and associative operator, are called a monoid. This does not mean that all semigroups are always monoids! For example, the even numbers with associative operator `(*)` does not have the identity element as an object, so it cannot be made into a monoid."
   ]
  },
  {
   "cell_type": "markdown",
   "metadata": {},
   "source": [
    "## Definition of Semigroup in Haskell\n",
    "Semigroup is a type class that provides the associative operator `<>` that is used for combining the variables of same type. Here is the type signature,\n",
    "```haskell\n",
    "(<>) :: Semigroup a => a -> a -> a\n",
    "```"
   ]
  },
  {
   "cell_type": "markdown",
   "metadata": {},
   "source": [
    "Some of the Haskell types have a built-in instance of Semigroup, lists [] for example have this. The more general `<>` operator behaves the same as the `++` operator here."
   ]
  },
  {
   "cell_type": "code",
   "execution_count": null,
   "metadata": {},
   "outputs": [],
   "source": [
    "[1] <> [2] -- gives you [1,2]\n",
    "\"a\" <> \"b\" -- gives you \"ab\""
   ]
  },
  {
   "cell_type": "markdown",
   "metadata": {},
   "source": [
    "We saw that the integers do not have one unique way of implementing a semigroup, both `*` and `+` could be used for the `<>` operator. This is why Haskell provides no built-in semigroup instance for the integers. But we can implement a semigroup ourselves as,"
   ]
  },
  {
   "cell_type": "code",
   "execution_count": null,
   "metadata": {},
   "outputs": [],
   "source": [
    "instance Semigroup Integer where\n",
    "   (<>) x y = x + y\n",
    "\n",
    "29 <> 31"
   ]
  },
  {
   "cell_type": "markdown",
   "metadata": {},
   "source": [
    "## Semigroup example"
   ]
  },
  {
   "cell_type": "markdown",
   "metadata": {},
   "source": [
    "Let's define our own type called Game where we define 4 options: Rock, Paper, Scissors and Mistake. When mixing them we play by standard rules (https://en.wikipedia.org/wiki/Rock_paper_scissors) only we add the Mistake element that is the case where someone did not make a clear choice. And mixing Mistake with any of the other 3 choices gives the other choice. "
   ]
  },
  {
   "cell_type": "code",
   "execution_count": null,
   "metadata": {},
   "outputs": [],
   "source": [
    "data Game = Rock | Paper | Scissors | Mistake deriving (Show, Eq)\n",
    "\n",
    "instance Semigroup Game where\n",
    "    (<>) Rock Paper = Paper\n",
    "    (<>) Paper Rock = Paper\n",
    "    (<>) Rock Scissors = Rock\n",
    "    (<>) Scissors Rock = Rock\n",
    "    (<>) Paper Scissors = Scissors\n",
    "    (<>) Scissors Paper = Scissors\n",
    "    (<>) a b | a == b = a\n",
    "             | a == Mistake = b\n",
    "             | b == Mistake = a\n",
    "\n",
    "c1, c2, c3 :: Game\n",
    "c1 = Rock\n",
    "c2 = Paper\n",
    "c3 = Mistake\n",
    "\n",
    "print $ c1 <> c2\n",
    "print $ c2 <> c2\n",
    "print $ c1 <> c3\n",
    "print $ c3 <> c3"
   ]
  },
  {
   "cell_type": "markdown",
   "metadata": {},
   "source": [
    "## Definition of Monoid"
   ]
  },
  {
   "cell_type": "markdown",
   "metadata": {},
   "source": [
    "As we saw in the mathematics section, a Monoid is an extension of the Semigroup type class, so it is also used for combining variables of the same type. The Monoids definition,\n",
    "```haskell\n",
    "class Semigroup a => Monoid a where\n",
    "  mempty :: a\n",
    "  mappend :: a -> a -> a\n",
    "  mconcat :: [a] -> a\n",
    "```"
   ]
  },
  {
   "cell_type": "markdown",
   "metadata": {},
   "source": [
    "The `mappend` function has the same type as the `<>` operator from Semigroup, so if you define an instance for Semigroup, you can simply say `mappend = <>`. The `mempty` operator is used as the identity element, which means that combined with any other element, it does not change the other element. `mconcat` is used for combining multiple elements together with `mapend`. The minimal complete definition for the Monoid type class are only the first two operators, as we saw in the math section."
   ]
  },
  {
   "cell_type": "markdown",
   "metadata": {},
   "source": [
    "Lists are also an instance of Monoid, so you can use the Monoid operators as follows,"
   ]
  },
  {
   "cell_type": "code",
   "execution_count": null,
   "metadata": {},
   "outputs": [],
   "source": [
    "[1] `mappend` [2] -- gives you [1,2]\n",
    "\"a\" `mappend` \"b\" -- gives you \"ab\"\n",
    "[1] `mappend` mempty -- gives you [1]\n",
    "mconcat [\"a\",\"b\",\"c\"] -- gives you \"abc\""
   ]
  },
  {
   "cell_type": "markdown",
   "metadata": {},
   "source": [
    "Here is how you would implement Monoid for Integer if a Semigroup instance already exists"
   ]
  },
  {
   "cell_type": "code",
   "execution_count": null,
   "metadata": {},
   "outputs": [],
   "source": [
    "instance Monoid Integer where\n",
    "    mempty = 0\n",
    "    mappend = (<>)\n",
    "    \n",
    "1 `mappend` 10"
   ]
  },
  {
   "cell_type": "markdown",
   "metadata": {},
   "source": [
    "There are the laws that govern the Monoid type class:\n",
    "\n",
    "* mappend mempty x = x.\n",
    "\n",
    "* mappend x mempty = x.\n",
    "\n",
    "* mappend x (mappend y z) = mappend (mappend x y) z.\n",
    "\n",
    "* mconcat = foldr mappend mempty"
   ]
  },
  {
   "cell_type": "markdown",
   "metadata": {},
   "source": [
    "You have to take care of the first three when you implement a Monoid instance. The fourth is just a definition of mconcat that you get for free."
   ]
  },
  {
   "cell_type": "markdown",
   "metadata": {},
   "source": [
    "## Monoid examples"
   ]
  },
  {
   "cell_type": "markdown",
   "metadata": {},
   "source": [
    "Let's pick up on the Semigroup example and try to implement a Monoid class for it."
   ]
  },
  {
   "cell_type": "code",
   "execution_count": null,
   "metadata": {},
   "outputs": [],
   "source": [
    "instance Monoid Game where\n",
    "    mempty = Mistake\n",
    "    mappend = (<>)\n",
    "\n",
    "print $ mconcat [Paper, Mistake, Rock, Scissors, Mistake] "
   ]
  },
  {
   "cell_type": "markdown",
   "metadata": {},
   "source": [
    "Notice that the previous code returns Paper because `mconcat [Paper, Mistake, Rock, Scissors, Mistake]` is equal to `Paper <> (Mistake <> (Rock <> (Scissors <> Mistake)))`. You can also directly define the mappend operations instead of defining the <> operations in the Semigroup class."
   ]
  },
  {
   "cell_type": "markdown",
   "metadata": {},
   "source": [
    "Let's look now at another example. You have a six sided cube where you have the number 1 one time, the number 2 two times and number 3 three times on it. Now let's create a Cube type with these three options and an instance of Semigroup and Monoid that tells you the probability of the event when you combine two possible number outcomes. "
   ]
  },
  {
   "cell_type": "code",
   "execution_count": null,
   "metadata": {},
   "outputs": [],
   "source": [
    "data CubeProbability = CProb String Rational\n",
    "\n",
    "instance Show CubeProbability where\n",
    "    show (CProb a b) = show a ++ \"|\" ++ show (fromIntegral (round (fromRational b * 100000)) / 1000) ++ \"%\"\n",
    "\n",
    "instance Semigroup CubeProbability where\n",
    "    (<>) cprob1 (CProb \"\" 0) = cprob1\n",
    "    (<>) (CProb \"\" 0) cprob2 = cprob2 \n",
    "    (<>) (CProb num1 prob1) (CProb num2 prob2) = CProb (num1 <> \"-\" <> num2) (prob1*prob2)\n",
    "\n",
    "instance Monoid CubeProbability where\n",
    "    mempty = CProb \"\" 0\n",
    "    mappend = (<>)\n",
    "\n",
    "data Cube = One | Two | Three\n",
    "\n",
    "cube2CProb :: Cube -> CubeProbability\n",
    "cube2CProb cube = case cube of \n",
    "    One -> CProb \"1\" (1/6)\n",
    "    Two -> CProb \"2\" (1/3)\n",
    "    Three -> CProb \"3\" (1/2)\n",
    "\n",
    "case1 :: [Cube]\n",
    "case1 = [Two, One, One, Three, Two]\n",
    "\n",
    "showProbability :: [Cube] -> CubeProbability\n",
    "showProbability scenario = mconcat $ map cube2CProb scenario\n",
    "\n",
    "-- Try defining a case two and see its probability\n",
    "print $ showProbability case1"
   ]
  },
  {
   "cell_type": "markdown",
   "metadata": {},
   "source": [
    "## Recap"
   ]
  },
  {
   "cell_type": "markdown",
   "metadata": {},
   "source": [
    "In this lesson we've discussed:\n",
    "\n",
    "- the definition and usage of Semigroup type class\n",
    "- the definition and usage of Monoid type class"
   ]
  }
 ],
 "metadata": {
  "kernelspec": {
   "display_name": "Haskell",
   "language": "haskell",
   "name": "haskell"
  },
  "language_info": {
   "codemirror_mode": "ihaskell",
   "file_extension": ".hs",
   "mimetype": "text/x-haskell",
   "name": "haskell",
   "pygments_lexer": "Haskell",
   "version": "8.10.7"
  }
 },
 "nbformat": 4,
 "nbformat_minor": 4
}
