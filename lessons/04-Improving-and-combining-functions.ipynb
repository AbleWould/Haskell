{
 "cells": [
  {
   "cell_type": "markdown",
   "metadata": {},
   "source": [
    "# Improving and combining functions"
   ]
  },
  {
   "cell_type": "markdown",
   "metadata": {},
   "source": [
    "### Outline\n",
    "\n",
    "* Lambda functions\n",
    "\n",
    "* Composing and applying functions\n",
    "\n",
    "* Curried functions and partial application\n",
    "\n",
    "* Higher order functions"
   ]
  },
  {
   "cell_type": "markdown",
   "metadata": {},
   "source": [
    "## Lambda functions"
   ]
  },
  {
   "cell_type": "markdown",
   "metadata": {},
   "source": [
    "Back in the 1930s, a young American mathematician Alonzo Church asked himself the question: *what does it means to \"calculate\" something?* \n",
    "\n",
    "The result of his reflections was a system that formalized the concept of \"computation\", and he called this system \"lambda calculus\" (named after the Greek letter $\\lambda$). \n",
    "\n",
    "At the heart of this system lies the lambda function, which in a sense can be considered \"mother of functional programming\" in general and Haskell in particular. "
   ]
  },
  {
   "cell_type": "markdown",
   "metadata": {},
   "source": [
    "### What is a lambda function?\n",
    "\n",
    "The idea of ​​lambda functions is so useful because it is extremely simple: **lambda function is an anonymous function**.\n",
    "\n",
    "Here's how a squaring function $f(x)=x^2$ looks like in Haskell:"
   ]
  },
  {
   "cell_type": "markdown",
   "metadata": {},
   "source": [
    "```haskell\n",
    "\\x -> x * x\n",
    "```"
   ]
  },
  {
   "cell_type": "markdown",
   "metadata": {},
   "source": [
    "The backslash `\\` at the beginning denotes the beginning of lambda function. We can think of the backslash `\\` in the definition of lambda function as an upper half of letter $\\lambda.$"
   ]
  },
  {
   "cell_type": "markdown",
   "metadata": {},
   "source": [
    "### Is lambda function a function?"
   ]
  },
  {
   "cell_type": "markdown",
   "metadata": {},
   "source": [
    "Any lambda function is *the simplest form of a function*. \n",
    "\n",
    "* We removed a signature of a function.\n",
    "\n",
    "* And we removed its name.\n",
    "\n",
    "* Only the necessary minimum is left:\n",
    "\n",
    "    * parameter names\n",
    "    \n",
    "    * and a body of function."
   ]
  },
  {
   "cell_type": "markdown",
   "metadata": {},
   "source": [
    "### What is a difference between lambda function and an ordinary function?"
   ]
  },
  {
   "cell_type": "markdown",
   "metadata": {},
   "source": [
    "* An ordinary function starts with a signature/definition, and it is used somewhere by its name.\n",
    "\n",
    "* A lambda function doesn't need to have signature and a name, and it can be applied immediately."
   ]
  },
  {
   "cell_type": "markdown",
   "metadata": {},
   "source": [
    "Here is an example:"
   ]
  },
  {
   "cell_type": "code",
   "execution_count": null,
   "metadata": {},
   "outputs": [],
   "source": [
    "(\\x -> x * x) 5"
   ]
  },
  {
   "cell_type": "markdown",
   "metadata": {},
   "source": [
    "The squaring function is defined and is immediately applied to the parameter `5`."
   ]
  },
  {
   "cell_type": "markdown",
   "metadata": {},
   "source": [
    "### Structure"
   ]
  },
  {
   "cell_type": "markdown",
   "metadata": {},
   "source": [
    "Every lambda function consists of 4 ingredients.\n",
    "\n",
    "* A backslash `\\` meaning the beginning of a lambda function.\n",
    "\n",
    "* A list of parameters separated by *spaces*.\n",
    "\n",
    "* An arrow `->` that separates parameters from the body of a function.\n",
    "\n",
    "* A expression/formula/... of our function."
   ]
  },
  {
   "cell_type": "markdown",
   "metadata": {},
   "source": [
    "Number multiplication can be given by lambda function of two parameters:"
   ]
  },
  {
   "cell_type": "code",
   "execution_count": null,
   "metadata": {},
   "outputs": [],
   "source": [
    "(\\x y -> x * y) 10 4"
   ]
  },
  {
   "cell_type": "markdown",
   "metadata": {},
   "source": [
    "**Remark!** Lambda functions can be given *names* and we can call them as ordinary functions (for instance, using `where` construction)."
   ]
  },
  {
   "cell_type": "markdown",
   "metadata": {},
   "source": [
    "```haskell\n",
    "rectangleArea :: Double -> Double -> Double\n",
    "rectangleArea width length = mult width length\n",
    "    where mult = \\x y -> x * y\n",
    "```"
   ]
  },
  {
   "cell_type": "markdown",
   "metadata": {},
   "source": [
    "### Type of lambda function"
   ]
  },
  {
   "cell_type": "markdown",
   "metadata": {},
   "source": [
    "Any function has a type, so does a lambda function. So, what is a type of lambda function?\n",
    "\n",
    "We've used a lambda function `mult` above in the `where` construction, hence it has a type. It is a polymorphic function:"
   ]
  },
  {
   "cell_type": "markdown",
   "metadata": {},
   "source": [
    "```haskell\n",
    "mul :: a -> a -> a\n",
    "```"
   ]
  },
  {
   "cell_type": "markdown",
   "metadata": {},
   "source": [
    "Since any function is characterized by its type in the same way as any other data, we make a conclusion \n",
    "\n",
    "                **Functions can be manipulated like data!**\n",
    "\n",
    "For example, you can create a list of functions:"
   ]
  },
  {
   "cell_type": "markdown",
   "metadata": {},
   "source": [
    "```haskell\n",
    "helloFunction :: String -> String\n",
    "helloFunction msg = (head functions) msg\n",
    "    where\n",
    "        functions = [ \\x -> x ++ \" world!\"\n",
    "                    , \\x -> x ++ \" everyone!\"\n",
    "                    ]\n",
    "```"
   ]
  },
  {
   "cell_type": "markdown",
   "metadata": {},
   "source": [
    "The list `functions` has two functions. Two lambda expressions give these two functions, but until the moment they are applied, they do nothing and are useless. \n",
    "\n",
    "But when we apply the head function to this list, we get the first element of the list, that is, the first function. And having received, immediately apply this function to the string `msg`."
   ]
  },
  {
   "cell_type": "markdown",
   "metadata": {},
   "source": [
    "The type of a list `functions` is"
   ]
  },
  {
   "cell_type": "markdown",
   "metadata": {},
   "source": [
    "```haskell\n",
    "[String -> String]\n",
    "```"
   ]
  },
  {
   "cell_type": "markdown",
   "metadata": {},
   "source": [
    "So it is a list of functions with of one argument of type `String` that return a value of type `String`."
   ]
  },
  {
   "cell_type": "markdown",
   "metadata": {},
   "source": [
    "### Local functions"
   ]
  },
  {
   "cell_type": "markdown",
   "metadata": {},
   "source": [
    "Since there are actually no differences between lambda functions and ordinary functions, and functions are data, we can create functions locally for other functions."
   ]
  },
  {
   "cell_type": "markdown",
   "metadata": {},
   "source": [
    "Let's look at a naive function that checks if a given string is an email by checking whether it contains character `@` and there is a text (mailbox name) before it."
   ]
  },
  {
   "cell_type": "markdown",
   "metadata": {},
   "source": [
    "```haskell\n",
    "validEmail :: String -> Bool\n",
    "validEmail email = containsAtSign email && hasDot email\n",
    "    where\n",
    "        containsAtSign e = '@' `elem` e\n",
    "        hasName e        = '@' /= head e\n",
    "```"
   ]
  },
  {
   "cell_type": "markdown",
   "metadata": {},
   "source": [
    "A body of this function has two boolean expressions with `&&` operator between them. In the `where` section there are defined two functions, that exist only for the main expression of the `validEmail` function. "
   ]
  },
  {
   "cell_type": "markdown",
   "metadata": {},
   "source": [
    "Using lambda functions the above code becomes:"
   ]
  },
  {
   "cell_type": "markdown",
   "metadata": {},
   "source": [
    "```haskell\n",
    "validEmail :: String -> Bool\n",
    "validEmail email = containsAtSign email && hasDot email\n",
    "    where\n",
    "        containsAtSign = \\e -> '@' `elem` e\n",
    "        hasName        = \\e -> '@' /= head e\n",
    "```"
   ]
  },
  {
   "cell_type": "markdown",
   "metadata": {},
   "source": [
    "Now the expressions `containsAtSign` and `hasName` are lambda functions of one argument. In this case, we do not specify the type of these expressions. \n",
    "\n",
    "However, if necessary, you can specify the type:"
   ]
  },
  {
   "cell_type": "markdown",
   "metadata": {},
   "source": [
    "```haskell\n",
    "containsAtSign = (\\e -> '@' `elem` e) :: String -> Bool\n",
    "```"
   ]
  },
  {
   "cell_type": "markdown",
   "metadata": {},
   "source": [
    "<div class=\"alert alert-block alert-warning\">\n",
    "<b>Warning!</b> A lambda function must be parenthesized, if you want to declare its type, otherwise the type indication refers not to a function in general, but to its argument.\n",
    "</div>"
   ]
  },
  {
   "cell_type": "markdown",
   "metadata": {},
   "source": [
    "```haskell\n",
    "-- Argument e has type String -> Bool, not a function!\n",
    "containsAtSign = \\e -> '@' `elem` e :: String -> Bool\n",
    "```"
   ]
  },
  {
   "cell_type": "markdown",
   "metadata": {},
   "source": [
    "## Composing functions"
   ]
  },
  {
   "cell_type": "markdown",
   "metadata": {},
   "source": [
    "Now we'll explain how to compose functions together and how to get rid of (or just reduce) number of parentheses in the body of the function."
   ]
  },
  {
   "cell_type": "markdown",
   "metadata": {},
   "source": [
    "### Example with parentheses"
   ]
  },
  {
   "cell_type": "markdown",
   "metadata": {},
   "source": [
    "Recall our old function `checkLocalHost` that checks if the argument is a localhost or not and reports the user the result."
   ]
  },
  {
   "cell_type": "markdown",
   "metadata": {},
   "source": [
    "```haskell\n",
    "checkLocalhost :: String -> String\n",
    "checkLocalhost ip =\n",
    "    if ip == \"127.0.0.1\"\n",
    "        then \"It’s a localhost!\"\n",
    "        else \"No, it's not a localhost.\"\n",
    "```"
   ]
  },
  {
   "cell_type": "markdown",
   "metadata": {},
   "source": [
    "A function `quadrToIP` takes a quadruple of integers and makes IP address."
   ]
  },
  {
   "cell_type": "markdown",
   "metadata": {},
   "source": [
    "```haskell\n",
    "quadrToIP :: Int -> Int -> Int -> Int -> String\n",
    "quadrToIP a b c d = show a ++ \".\" ++ show b ++ \".\" ++ show c ++ \".\" ++ show d\n",
    "```"
   ]
  },
  {
   "cell_type": "markdown",
   "metadata": {},
   "source": [
    "The application of these functions looks as"
   ]
  },
  {
   "cell_type": "code",
   "execution_count": null,
   "metadata": {},
   "outputs": [],
   "source": [
    "checkLocalhost (quadrToIP 127 0 0 1)"
   ]
  },
  {
   "cell_type": "markdown",
   "metadata": {},
   "source": [
    "Two functions are **composed** here, `checkLocalhost` and `quadrToIP`, because `quadrToIP` returns `String` and `checkLocalhost` function has `String` at the input. \n",
    "\n",
    "Schematically, this can be represented as follows:"
   ]
  },
  {
   "cell_type": "markdown",
   "metadata": {},
   "source": [
    "$$\n",
    "    \\boxed{\\mathrm{(Int, Int, Int, Int)}}\n",
    "        \\xrightarrow{\\mathrm{~~~~~~quadrToIP~~~~~~}}\n",
    "    \\boxed{\\mathrm{String}}\n",
    "        \\xrightarrow{~~~~~~\\mathrm{checkLocalhost}~~~~~~}\n",
    "    \\boxed{\\mathrm{String}}\n",
    "$$"
   ]
  },
  {
   "cell_type": "markdown",
   "metadata": {},
   "source": [
    "The way of composing functions above uses parenthesis. But what will happen if we need to compose three, four or more functions? The number of parenthesis grows and our code becomes less readable. There is another way how to compose functions."
   ]
  },
  {
   "cell_type": "markdown",
   "metadata": {},
   "source": [
    "### Function composition and application operator"
   ]
  },
  {
   "cell_type": "markdown",
   "metadata": {},
   "source": [
    "The composition `checkLocalhost (quadrToIP 127 0 0 1)` can be written as"
   ]
  },
  {
   "cell_type": "markdown",
   "metadata": {},
   "source": [
    "```haskell\n",
    "checkLocalhost . quadrToIP $ 127 0 0 1\n",
    "```"
   ]
  },
  {
   "cell_type": "markdown",
   "metadata": {},
   "source": [
    "We have two new standard operators that save us from extra parentheses and making our code easier."
   ]
  },
  {
   "cell_type": "markdown",
   "metadata": {},
   "source": [
    "* The function **composition operator** given by a dot character `.`\n",
    "\n",
    "* The **application operator** `$`"
   ]
  },
  {
   "cell_type": "markdown",
   "metadata": {},
   "source": [
    "The composition operator combines two functions together (or **composes** them). When we write"
   ]
  },
  {
   "cell_type": "markdown",
   "metadata": {},
   "source": [
    "```haskell\n",
    "checkLocalhost . quadrToIP\n",
    "```"
   ]
  },
  {
   "cell_type": "markdown",
   "metadata": {},
   "source": [
    "instead of two functions `checkLocalhost` and `quadrToIP` we obtain a new one `checkLocalhost . quadrToIP` called their **composition**. Schematically, this can be represented as follows:"
   ]
  },
  {
   "cell_type": "markdown",
   "metadata": {},
   "source": [
    "$$\n",
    "    \\boxed{\\mathrm{(Int, Int, Int, Int)}}\n",
    "        \\xrightarrow{\\mathrm{~~~~~~quadrToIP~~~~~~}}\n",
    "    \\boxed{\\mathrm{String}}\n",
    "        \\xrightarrow{~~~~~~\\mathrm{checkLocalhost}~~~~~~}\n",
    "    \\boxed{\\mathrm{String}}\n",
    "    ~~~~~\n",
    "    =\n",
    "    ~~~~~\n",
    "    \\boxed{\\mathrm{(Int, Int, Int, Int)}}\n",
    "        \\xrightarrow{\\mathrm{~~~~~~checkLocalhost~.~quadrToIP~~~~~~}}\n",
    "    \\boxed{\\mathrm{String}}\n",
    "$$\n"
   ]
  },
  {
   "cell_type": "markdown",
   "metadata": {},
   "source": [
    "This is the essence of composition: **we take two functions and combine them into the third one**. "
   ]
  },
  {
   "cell_type": "markdown",
   "metadata": {},
   "source": [
    "Any function `f :: a -> b` can be thought as a path named `f` from a point `a` on a map to a point `b`. Hence, the composition of `f :: a -> b` and `g :: b -> c` is a path `g . f :: a -> c` that goes from `a` to `c` passing through `b`. "
   ]
  },
  {
   "cell_type": "markdown",
   "metadata": {},
   "source": [
    "Now it becomes clear why the arrow `->` was chosen as a separator between inputs and outputs of a function."
   ]
  },
  {
   "cell_type": "markdown",
   "metadata": {},
   "source": [
    "The application operator `$` is simply an evaluation of a function at a given value. Without `$` our code will look"
   ]
  },
  {
   "cell_type": "markdown",
   "metadata": {},
   "source": [
    "```haskell\n",
    "(checkLocalhost . quadrToIP) 127 0 0 1\n",
    "```"
   ]
  },
  {
   "cell_type": "markdown",
   "metadata": {},
   "source": [
    "But we wanted to get rid of the parentheses, and here they are again! For this we need the application operator `$`. Its scheme is simple:"
   ]
  },
  {
   "cell_type": "markdown",
   "metadata": {},
   "source": [
    "```haskell\n",
    "FUNCTION $ ARGUMENT\n",
    "```"
   ]
  },
  {
   "cell_type": "markdown",
   "metadata": {},
   "source": [
    "where `FUNCTION` is applied to `ARGUMENT`."
   ]
  },
  {
   "cell_type": "markdown",
   "metadata": {},
   "source": [
    "#### Remarks about composition and application"
   ]
  },
  {
   "cell_type": "markdown",
   "metadata": {},
   "source": [
    "* Composition is *right associative*: the function on the right is applied first, and then the one on the left."
   ]
  },
  {
   "cell_type": "markdown",
   "metadata": {},
   "source": [
    "* If there are two functions `f :: a -> b` and `g :: b -> c` then their composition as a function can be written without the application operator. For instance, you can write the composition of `checkLocalhost` and `quadrToIP` as a new function `isQuadrLocalhost` using arguments"
   ]
  },
  {
   "cell_type": "markdown",
   "metadata": {},
   "source": [
    "```haskell\n",
    "isQuadrLocalhost :: Int -> Int -> Int -> Int -> String\n",
    "isQuadrLocalhost a b c d = checkLocalhost . quadrToIP $ a b c d\n",
    "```"
   ]
  },
  {
   "cell_type": "markdown",
   "metadata": {},
   "source": [
    "or without them"
   ]
  },
  {
   "cell_type": "markdown",
   "metadata": {},
   "source": [
    "```haskell\n",
    "isQuadrLocalhost :: Int -> Int -> Int -> Int -> String\n",
    "isQuadrLocalhost = checkLocalhost . quadrToIP \n",
    "```"
   ]
  },
  {
   "cell_type": "markdown",
   "metadata": {},
   "source": [
    "* The composition operator is defined just like any other function. Here is its definition:"
   ]
  },
  {
   "cell_type": "markdown",
   "metadata": {},
   "source": [
    "```haskell\n",
    "(.) f g = \\x -> f (g x)\n",
    "```"
   ]
  },
  {
   "cell_type": "markdown",
   "metadata": {},
   "source": [
    "\n",
    "The composition operator is applied to two functions, because we have already found out that functions can be operated on as a data. Hence, we can pass a function as an argument to another function! The composition operator takes two functions as an input, and then just gives us lambda function, inside which there is an ordinary sequential call of these two functions through parentheses."
   ]
  },
  {
   "cell_type": "markdown",
   "metadata": {},
   "source": [
    "* The application operator for a composition can be applied before the argument or after the first evaluation. You can write a code"
   ]
  },
  {
   "cell_type": "markdown",
   "metadata": {},
   "source": [
    "```haskell\n",
    "checkLocalhost . quadrToIP $ 127 0 0 1\n",
    "```"
   ]
  },
  {
   "cell_type": "markdown",
   "metadata": {},
   "source": [
    "in the other alternative form"
   ]
  },
  {
   "cell_type": "markdown",
   "metadata": {},
   "source": [
    "```haskell\n",
    "checkLocalhost $ quadrToIP 127 0 0 1\n",
    "```"
   ]
  },
  {
   "cell_type": "markdown",
   "metadata": {},
   "source": [
    "The reason is that it doesn't matter whether you are evaluating the whole composition at a given argument, or the second function at a value of the first function:"
   ]
  },
  {
   "cell_type": "markdown",
   "metadata": {},
   "source": [
    "$$\n",
    "    (g~.~f) x = g(f(x))\n",
    "$$"
   ]
  },
  {
   "cell_type": "markdown",
   "metadata": {},
   "source": [
    "## Higher order functions"
   ]
  },
  {
   "cell_type": "markdown",
   "metadata": {},
   "source": [
    "As we've already learned, functions are data in Haskell. The function that operates on other functions as arguments and / or returns a function as a result is called a **higher order function**. "
   ]
  },
  {
   "cell_type": "markdown",
   "metadata": {},
   "source": [
    "Thus, the function composition operator is a higher order function, because\n",
    "\n",
    "* it takes functions as arguments and\n",
    "\n",
    "* it returns another function (in the form of lambda function) as a result of its application. \n",
    "\n",
    "Using functions as arguments is an extremely common practice in Haskell."
   ]
  },
  {
   "cell_type": "markdown",
   "metadata": {},
   "source": [
    "### Curried functions"
   ]
  },
  {
   "cell_type": "markdown",
   "metadata": {},
   "source": [
    "Every function in Haskell officially only takes one parameter. So how is it possible that there are functions that take more than one parameter? \n",
    "\n",
    "All the functions that accepted several parameters so far have been **curried functions** (the name *curry* derives from the person who popularized the idea: Haskell Curry). "
   ]
  },
  {
   "cell_type": "markdown",
   "metadata": {},
   "source": [
    "Let's understand it on an example of the `max` function: it looks like it takes two parameters and returns the one that's bigger. \n",
    "\n",
    "* If we need to compute `max 4 5` then we first create a function that takes a parameter and returns either 4 or that parameter, depending on which is bigger. \n",
    "\n",
    "* Then, 5 is applied to that function and that function produces our desired result. \n",
    "\n",
    "The following two calls are equivalent:"
   ]
  },
  {
   "cell_type": "code",
   "execution_count": null,
   "metadata": {},
   "outputs": [],
   "source": [
    "max 4 5\n",
    "(max 4) 5"
   ]
  },
  {
   "cell_type": "markdown",
   "metadata": {},
   "source": [
    "Putting a space between two things is simply **function application**. The **space** is sort of like an operator and it is similar to application operator `$`. "
   ]
  },
  {
   "cell_type": "markdown",
   "metadata": {},
   "source": [
    "`max` function is polymorphic and its type is `max :: a -> a -> a`, which can also be written as `max :: a -> (a -> a)`. \n",
    "\n",
    "That could be read as: `max` function takes an `a` and returns (that's the `->`) a function that takes an `a` and returns an `a`. That's why the return type and the parameters of functions are all simply separated with arrows."
   ]
  },
  {
   "cell_type": "markdown",
   "metadata": {},
   "source": [
    "The first version `max :: a -> a -> a` is an **uncurried function**, while the second one `max :: a -> (a -> a)` is **curried**."
   ]
  },
  {
   "cell_type": "markdown",
   "metadata": {},
   "source": [
    "Let's consider another example of the addition function."
   ]
  },
  {
   "cell_type": "markdown",
   "metadata": {},
   "source": [
    "```haskell\n",
    "add :: Int -> Int -> Int\n",
    "add x y =  x + y\n",
    "```"
   ]
  },
  {
   "cell_type": "markdown",
   "metadata": {},
   "source": [
    "This is an example of a curried function. To get the effect of an uncurried function, we could use a tuple, as in:"
   ]
  },
  {
   "cell_type": "markdown",
   "metadata": {},
   "source": [
    "```haskell\n",
    "add :: (Int, Int) -> Int\n",
    "add (x,y) = x + y\n",
    "```"
   ]
  },
  {
   "cell_type": "markdown",
   "metadata": {},
   "source": [
    "But then we see that this version of add is really just a function of one argument! "
   ]
  },
  {
   "cell_type": "markdown",
   "metadata": {},
   "source": [
    "An application of add has the form `add num1 num2`, and is equivalent to `(add e1) e2`, since function application associates to the left. \n",
    "\n",
    "The type of add is `Int -> Int -> Int`, which is equivalent to `Int -> (Int -> Int)`, hence `->` associates to the right. "
   ]
  },
  {
   "cell_type": "markdown",
   "metadata": {},
   "source": [
    "### Partial application"
   ]
  },
  {
   "cell_type": "markdown",
   "metadata": {},
   "source": [
    "In other words, curring is applying a function `f :: a -> b -> c` to one argument which yields a new function, that is then applied to the second argument. "
   ]
  },
  {
   "cell_type": "markdown",
   "metadata": {},
   "source": [
    "But what will happen if we'll pass it not two arguments, but only to one? In this case, there will be one \"magical\" transformation, called a partial application of a function. Thus, the application of a function is partial is when there are less arguments than expected."
   ]
  },
  {
   "cell_type": "markdown",
   "metadata": {},
   "source": [
    "Using partial application (calling functions with too few parameters, if you will) is a neat way to create functions on the fly so we can pass them to another function or to seed them with some data."
   ]
  },
  {
   "cell_type": "markdown",
   "metadata": {},
   "source": [
    "Thus, `(max 4) 5` is a function application of a partial function "
   ]
  },
  {
   "cell_type": "markdown",
   "metadata": {},
   "source": [
    "```haskell\n",
    "\\x -> max 4 x\n",
    "```"
   ]
  },
  {
   "cell_type": "markdown",
   "metadata": {},
   "source": [
    "to an argument 5. "
   ]
  },
  {
   "cell_type": "markdown",
   "metadata": {},
   "source": [
    "<div class=\"alert alert-block alert-warning\">\n",
    "<b>Warnings:</b> \n",
    "From now on, we'll say that functions take several parameters despite each function is taking only one parameter and returning partially applied functions until we reach a function that returns a solid value.\n",
    "</div>"
   ]
  },
  {
   "cell_type": "markdown",
   "metadata": {},
   "source": [
    " So for simplicity's sake, we'll say that `a -> a -> a` takes two parameters, even though we know what's really going on."
   ]
  },
  {
   "cell_type": "markdown",
   "metadata": {},
   "source": [
    "#### Is there a difference between the application operator $ and a function application given by space?"
   ]
  },
  {
   "cell_type": "markdown",
   "metadata": {},
   "source": [
    "The `$` operator is an infix operator for function application and its signature is"
   ]
  },
  {
   "cell_type": "markdown",
   "metadata": {},
   "source": [
    "```haskell\n",
    "($) :: (a -> b) -> a -> b\n",
    "```"
   ]
  },
  {
   "cell_type": "markdown",
   "metadata": {},
   "source": [
    "So, given an `a -> b` function and an `a` to apply it to, it gives us a `b`."
   ]
  },
  {
   "cell_type": "markdown",
   "metadata": {},
   "source": [
    "On the level of application both `$` and space give the same results:"
   ]
  },
  {
   "cell_type": "code",
   "execution_count": null,
   "metadata": {},
   "outputs": [],
   "source": [
    "sqrt 4\n",
    "sqrt $ 4"
   ]
  },
  {
   "cell_type": "markdown",
   "metadata": {},
   "source": [
    "However, if we try the following code, the results will be surprising."
   ]
  },
  {
   "cell_type": "code",
   "execution_count": null,
   "metadata": {},
   "outputs": [],
   "source": [
    "sqrt 4 + 12\n",
    "sqrt $ 4 + 12"
   ]
  },
  {
   "cell_type": "markdown",
   "metadata": {},
   "source": [
    "In the first case the square root is applied first to 4, and only then 12 is added, while in the second one the square root is taken from the sum of 4 and 12. The reason is that the application operator has the lowest priority, and function application - the highest one. Moreover, one of them is right and another one is left associative."
   ]
  },
  {
   "cell_type": "markdown",
   "metadata": {},
   "source": [
    "* `$` is an infix operator with right associativity and has the lowest priority possible (Haskell takes everything to its left (that doesn't include another $) and everything to its right (likewise), and effectively puts both sides in parentheses).\n",
    "\n",
    "* The function application (via space) is left associative and has the highest priority possible (Haskell evaluates each function application first and perform other actions afterwards). "
   ]
  },
  {
   "cell_type": "markdown",
   "metadata": {},
   "source": [
    "So the role of the `$` operator is to give us function application with a different – opposite, really – associativity and priority.\n",
    "\n",
    "What that means is that you usually see the `$` where standard function application wouldn’t have the necessary associativity and priority for the context. And what that means is you usually see it used instead of parentheses to associate things that otherwise wouldn’t."
   ]
  },
  {
   "cell_type": "markdown",
   "metadata": {},
   "source": []
  }
 ],
 "metadata": {
  "language_info": {
   "name": "python"
  },
  "orig_nbformat": 4
 },
 "nbformat": 4,
 "nbformat_minor": 2
}
