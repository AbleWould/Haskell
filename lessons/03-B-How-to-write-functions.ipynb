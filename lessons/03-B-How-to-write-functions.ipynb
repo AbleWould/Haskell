{
 "cells": [
  {
   "cell_type": "markdown",
   "metadata": {},
   "source": [
    "# How to write functions"
   ]
  },
  {
   "cell_type": "markdown",
   "metadata": {},
   "source": [
    "## Outline\n",
    "\n",
    "* Guards in functions\n",
    "* Helper construction `let` \n",
    "* Helper construction `where`\n",
    "* Using both together"
   ]
  },
  {
   "cell_type": "markdown",
   "metadata": {},
   "source": [
    "## Guards\n",
    "\n",
    "Guards work similar like pattern matching. You can match a value against different cases and return the result for each case seperatly. The symbol `|` is used for guards. You also have the option to cover the case of all other posibilities, for which the keyword `otherwise` is used."
   ]
  },
  {
   "cell_type": "code",
   "execution_count": null,
   "metadata": {},
   "outputs": [],
   "source": [
    "testValue :: Int -> String\n",
    "testValue n | n < 0 = \"Smaller then 0.\"\n",
    "            | n > 0 = \"Larger then 0.\"\n",
    "            | otherwise = \"Equals 0.\"\n",
    "\n",
    "main :: IO ()\n",
    "main = do\n",
    "    print \"Type in a number:\"\n",
    "    n <- read <$> getLine\n",
    "    print $ testValue n"
   ]
  },
  {
   "cell_type": "markdown",
   "metadata": {},
   "source": [
    "## Let and where"
   ]
  },
  {
   "cell_type": "markdown",
   "metadata": {},
   "source": [
    "We will learn how to make functions more convenient and readable using `let` and `where` constructions. We'll use the *multi-way if* construction to demonstrate them."
   ]
  },
  {
   "cell_type": "markdown",
   "metadata": {},
   "source": [
    "### Let"
   ]
  },
  {
   "cell_type": "markdown",
   "metadata": {},
   "source": [
    "In the definition of the following function "
   ]
  },
  {
   "cell_type": "code",
   "execution_count": null,
   "metadata": {
    "vscode": {
     "languageId": "haskell"
    }
   },
   "outputs": [],
   "source": [
    "calculateTime :: Int -> Int\n",
    "calculateTime timeInS\n",
    "        | timeInS < 40 = timeInS + 120\n",
    "        | otherwise = timeInS + 8 + 120"
   ]
  },
  {
   "cell_type": "markdown",
   "metadata": {},
   "source": [
    "some *magic numbers* (`40`, `120`, and `8`) are used. What are these numbers, what is their purpose, and is there a convenient way to refactor the function definition? Since none of these questions receive an answer, we say that these numbers are *magic*.       "
   ]
  },
  {
   "cell_type": "markdown",
   "metadata": {},
   "source": [
    "In order to recover the true meaning of these values and avoid these problems we'll enter temporary expressions, and then the code becomes completely different:"
   ]
  },
  {
   "cell_type": "code",
   "execution_count": null,
   "metadata": {
    "vscode": {
     "languageId": "haskell"
    }
   },
   "outputs": [],
   "source": [
    "calculateTime :: Int -> Int\n",
    "calculateTime timeInS =\n",
    "    let threshold   = 40\n",
    "        correction  = 120\n",
    "        delta       = 8\n",
    "    in\n",
    "      if timeInS < threshold \n",
    "      then timeInS + correction\n",
    "      else timeInS + delta + correction"
   ]
  },
  {
   "cell_type": "markdown",
   "metadata": {},
   "source": [
    "We get rid of the *magic numbers* by introducing explanatory `threshold`, `correction`, and `delta` expressions through `let-in` construction.  "
   ]
  },
  {
   "cell_type": "markdown",
   "metadata": {},
   "source": [
    "The `let-in` construction introduces clarifying expressions according to the scheme :"
   ]
  },
  {
   "cell_type": "markdown",
   "metadata": {},
   "source": [
    "```haskell\n",
    "let DECLARATIONS in EXPRESSION\n",
    "```"
   ]
  },
  {
   "cell_type": "markdown",
   "metadata": {},
   "source": [
    "where `DECLARATIONS` are the expressions we want to introduce and `EXPRESSION` is the expression, in which the expressions from `DECLARATION` are used."
   ]
  },
  {
   "cell_type": "markdown",
   "metadata": {},
   "source": [
    "When we write"
   ]
  },
  {
   "cell_type": "markdown",
   "metadata": {},
   "source": [
    "```haskell\n",
    "let threshold = 40\n",
    "```"
   ]
  },
  {
   "cell_type": "markdown",
   "metadata": {},
   "source": [
    "we declare: **\"From now on, the expression `threshold` is equal to the expression 40.\"** It looks as an assignment, but we already know that there is no assignment in Haskell. Now the expression `threshold` can replace the number `40` inside the expression following the word `in`. "
   ]
  },
  {
   "cell_type": "markdown",
   "metadata": {},
   "source": [
    "**Benefits of `let-in` construction**\n",
    "\n",
    "* Allows to introduce as many explanations for the following code as you like.\n",
    "\n",
    "* Expressions in between `let` and `in` make our code clearer and in many cases even shorter."
   ]
  },
  {
   "cell_type": "markdown",
   "metadata": {},
   "source": [
    "**Warning about `let-in` construction:** the expression introduced by the `let-in` construction exists only within the expression following the word `in`."
   ]
  },
  {
   "cell_type": "markdown",
   "metadata": {},
   "source": [
    "The expression `delta` in the code below"
   ]
  },
  {
   "cell_type": "code",
   "execution_count": null,
   "metadata": {
    "vscode": {
     "languageId": "haskell"
    }
   },
   "outputs": [],
   "source": [
    "calculateTime :: Int -> Int\n",
    "calculateTime timeInS =\n",
    "    let threshold   = 40\n",
    "        correction  = 120\n",
    "    in\n",
    "      if timeInS < threshold \n",
    "      then timeInS + correction\n",
    "      else let delta = 8 \n",
    "           in timeInS + delta + correction"
   ]
  },
  {
   "cell_type": "markdown",
   "metadata": {},
   "source": [
    "is visible only inside the expression `timeInS + delta + correction`."
   ]
  },
  {
   "cell_type": "markdown",
   "metadata": {},
   "source": [
    "**Is it required to write every single expressions between `let` and `in` in separate line?** No, but they should be separated by the semicolon `;` as in the code below. "
   ]
  },
  {
   "cell_type": "code",
   "execution_count": null,
   "metadata": {
    "vscode": {
     "languageId": "haskell"
    }
   },
   "outputs": [],
   "source": [
    "calculateTime :: Int -> Int\n",
    "calculateTime timeInS =\n",
    "    let threshold = 40; correction = 120\n",
    "    in\n",
    "      if timeInS < threshold \n",
    "      then timeInS + correction\n",
    "      else let delta = 8 \n",
    "           in timeInS + delta + correction"
   ]
  },
  {
   "cell_type": "markdown",
   "metadata": {},
   "source": [
    "### Where"
   ]
  },
  {
   "cell_type": "markdown",
   "metadata": {},
   "source": [
    "There is another way to introduce intermediate expressions using the `where` construction."
   ]
  },
  {
   "cell_type": "markdown",
   "metadata": {},
   "source": [
    "The `where` keyword does almost the same thing as `let-in`, but the intermediate expressions are set at the end of the function. It is similar to a style used in math and one should read it as a scientific formula:"
   ]
  },
  {
   "cell_type": "markdown",
   "metadata": {},
   "source": [
    "```haskell\n",
    "hundred = fifty * two\n",
    "where\n",
    "    fifty = 50\n",
    "    two   = 2  \n",
    "```"
   ]
  },
  {
   "cell_type": "markdown",
   "metadata": {},
   "source": [
    "Using `where` the code for `calculateTime` function takes form"
   ]
  },
  {
   "cell_type": "code",
   "execution_count": null,
   "metadata": {
    "vscode": {
     "languageId": "haskell"
    }
   },
   "outputs": [],
   "source": [
    "calculateTime :: Int -> Int\n",
    "calculateTime timeInS =\n",
    "    if timeInS < threshold \n",
    "    then timeInS + correction\n",
    "    else timeInS + delta + correction\n",
    "    where\n",
    "        threshold  = 40\n",
    "        correction = 120\n",
    "        delta      = 8"
   ]
  },
  {
   "cell_type": "markdown",
   "metadata": {},
   "source": [
    "**How `where` differs from `let-in`?**"
   ]
  },
  {
   "cell_type": "markdown",
   "metadata": {},
   "source": [
    "While `let-in` is used to create *super-local* expressions, the expressions in `where` are visible in any part of code preceding it."
   ]
  },
  {
   "cell_type": "markdown",
   "metadata": {},
   "source": [
    "### How to avoid writing the same code several times?"
   ]
  },
  {
   "cell_type": "markdown",
   "metadata": {},
   "source": [
    "One of the ways to save yourself from writing a long formula several times and how you can maintain clean and readable code is to name a function inside `let-in` or `where` constructions, and use it in a code after `in` or before `where`. Therefore, we can treat complex functions even better. "
   ]
  },
  {
   "cell_type": "markdown",
   "metadata": {},
   "source": [
    "Let's work on example where we determine whether a given cylindrical shape is a glass, a bucket, or a tank depending on its volume. The parameters are diameter and height of a cylinder."
   ]
  },
  {
   "cell_type": "code",
   "execution_count": null,
   "metadata": {
    "vscode": {
     "languageId": "haskell"
    }
   },
   "outputs": [],
   "source": [
    "analyzeCylinder :: Float -> Float -> String\n",
    "analyzeCylinder diameter height = \"The cylinder is \" ++ \n",
    "    case volume of\n",
    "        maxGlassVolume   -> \"a glass.\"\n",
    "        maxBucketVolume  -> \"a bucket.\"\n",
    "        maxTankVolume    -> \"a tank.\"\n",
    "        _                -> \"something new to me...\"\n",
    "    where\n",
    "        volume          = pi * diameter^2 * height / 4\n",
    "        maxGlassVolume  = 100\n",
    "        maxBucketVolume = 1000\n",
    "        maxTankVolume   = 10000"
   ]
  },
  {
   "cell_type": "markdown",
   "metadata": {},
   "source": [
    "### Let and where together"
   ]
  },
  {
   "cell_type": "markdown",
   "metadata": {},
   "source": [
    "We can use `let-in` and `where` together, within the same function, but the general advise is: **do not mix up these constructions without any real nead**."
   ]
  },
  {
   "cell_type": "markdown",
   "metadata": {},
   "source": [
    "In the following function one part of expressions is located inside `let-in`, while the other part appers after `where` keyword."
   ]
  },
  {
   "cell_type": "code",
   "execution_count": null,
   "metadata": {
    "vscode": {
     "languageId": "haskell"
    }
   },
   "outputs": [],
   "source": [
    "calculateTime :: Int -> Int\n",
    "calculateTime timeInS =\n",
    "    let threshold = 40 in\n",
    "      if timeInS < threshold \n",
    "      then timeInS + correction\n",
    "      else timeInS + delta + correction\n",
    "    where\n",
    "      correction = 120\n",
    "      delta      = 8"
   ]
  },
  {
   "cell_type": "markdown",
   "metadata": {},
   "source": [
    "**Can the expressions inside `let-in` and `where` depend on each other or on the parameter of the function?**"
   ]
  },
  {
   "cell_type": "markdown",
   "metadata": {},
   "source": [
    "In all previous examples we've used only simple expressions, where the numbers were substituted by their names. However, both constructions allow much more complicated scenarious."
   ]
  },
  {
   "cell_type": "code",
   "execution_count": null,
   "metadata": {
    "vscode": {
     "languageId": "haskell"
    }
   },
   "outputs": [],
   "source": [
    "calculateTime :: Int -> Int\n",
    "calculateTime timeInS =\n",
    "    let threshold = 40 in\n",
    "      if timeInS < threshold \n",
    "      then timeInS + correction\n",
    "      else timeInS + delta + correction\n",
    "    where\n",
    "      delta      = correction - 4\n",
    "      correction = timeInS * 2"
   ]
  },
  {
   "cell_type": "markdown",
   "metadata": {},
   "source": [
    "Now `delta` depends on `correction`, and `correction` depends on the parameter `timeInS`. "
   ]
  },
  {
   "cell_type": "markdown",
   "metadata": {},
   "source": [
    "**The order of appearance of expressions in `let-in` and `where` doesn't matter, even if one expression uses the other.**"
   ]
  },
  {
   "cell_type": "markdown",
   "metadata": {},
   "source": [
    "In the following code `let`-expression uses the expression defined inside `where`:"
   ]
  },
  {
   "cell_type": "code",
   "execution_count": null,
   "metadata": {
    "vscode": {
     "languageId": "haskell"
    }
   },
   "outputs": [],
   "source": [
    "calculateTime :: Int -> Int\n",
    "calculateTime timeInS =\n",
    "    let delta     = correction - 4\n",
    "        threshold = 40\n",
    "    in\n",
    "      if timeInS < threshold \n",
    "      then timeInS + correction\n",
    "      else timeInS + delta + correction\n",
    "    where\n",
    "      correction = timeInS * 2"
   ]
  },
  {
   "cell_type": "markdown",
   "metadata": {},
   "source": [
    "Here we've used the fact that `where`-expressions are visible in the any part of the code before `where`."
   ]
  },
  {
   "cell_type": "markdown",
   "metadata": {},
   "source": [
    "However, `let`-expressions aren't visible in `where`. The following code"
   ]
  },
  {
   "cell_type": "code",
   "execution_count": null,
   "metadata": {
    "vscode": {
     "languageId": "haskell"
    }
   },
   "outputs": [],
   "source": [
    "calculateTime :: Int -> Int\n",
    "calculateTime timeInS =\n",
    "    let delta     = correction - 4\n",
    "        threshold = 40\n",
    "    in\n",
    "      if timeInS < threshold \n",
    "      then timeInS + correction\n",
    "      else timeInS + delta + correction\n",
    "    where\n",
    "      correction = timeInS * 2 * threshold"
   ]
  },
  {
   "cell_type": "markdown",
   "metadata": {},
   "source": [
    "returns an error "
   ]
  },
  {
   "cell_type": "markdown",
   "metadata": {},
   "source": [
    "        Not in scope: ‘threshold’"
   ]
  },
  {
   "cell_type": "markdown",
   "metadata": {},
   "source": [
    "**Conclusion**: you cannot use `let`-expressions inside `where`-expressions, because the former are no longer included in the expression following the keyword `in`."
   ]
  },
  {
   "cell_type": "markdown",
   "metadata": {},
   "source": [
    "<div class=\"alert alert-block alert-warning\">\n",
    "<b>Warning!</b> Even if you can use let-expressions with where-expressions together, in most cases, you use one or the other.\n",
    "</div>"
   ]
  },
  {
   "cell_type": "markdown",
   "metadata": {},
   "source": [
    "## Summary\n",
    "\n",
    "In this lesson we've discussed:\n",
    "\n",
    "* Guards that work similiar as patter matching and are a cleaner way to write nested if-else statement when multiple conditions apply\n",
    "* Let and where constructions allow to name constant parameters in code, to avoid using \"magic numbers\" and writing the same formulas several times, to make embedded espressions easier to read and they become \"math recipies\" for your formulas."
   ]
  }
 ],
 "metadata": {
  "kernelspec": {
   "display_name": "Python 3.10.4 64-bit",
   "language": "python",
   "name": "python3"
  },
  "language_info": {
   "name": "python",
   "version": "3.10.4"
  },
  "orig_nbformat": 4,
  "vscode": {
   "interpreter": {
    "hash": "e7370f93d1d0cde622a1f8e1c04877d8463912d04d973331ad4851f04de6915a"
   }
  }
 },
 "nbformat": 4,
 "nbformat_minor": 2
}
