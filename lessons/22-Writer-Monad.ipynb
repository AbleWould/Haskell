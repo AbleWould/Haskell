{
 "cells": [
  {
   "cell_type": "markdown",
   "metadata": {},
   "source": [
    "# Writer Monad"
   ]
  },
  {
   "cell_type": "markdown",
   "metadata": {},
   "source": [
    "## Outline\n",
    "\n",
    "* Incentive for the Writer monad\n",
    "\n",
    "* Definition of the Writer monad\n",
    "\n",
    "* Writer monad examples\n",
    "\n",
    "In this lesson, we will learn about the Writer monad type and how you can use it."
   ]
  },
  {
   "cell_type": "markdown",
   "metadata": {},
   "source": [
    "## Incentive for Writer monad"
   ]
  },
  {
   "cell_type": "markdown",
   "metadata": {},
   "source": [
    "In the previous lecture we learned that with the Reader monad we can more easily pass data around by accessing the environment variable of the Reader monad. \n",
    "\n",
    "But what if we also need to modify this data. Let's look at an example where you process a string depending on it's length and count the operations peformed on the string."
   ]
  },
  {
   "cell_type": "code",
   "execution_count": null,
   "metadata": {},
   "outputs": [],
   "source": [
    "check1 :: String -> (Int, String)\n",
    "check1 input = if length input < 5\n",
    "  then check2 (1, input ++ \"_below5\")\n",
    "  else check3 (1, input ++ \"_above4\")\n",
    "\n",
    "check2 :: (Int, String) -> (Int, String)\n",
    "check2 (operations, input) = if length input < 10\n",
    "  then (operations, input)\n",
    "  else (operations + 1, input ++ \"_above9\")\n",
    "\n",
    "check3 :: (Int, String) -> (Int, String)\n",
    "check3 (operations, input) = if length input < 16\n",
    "  then check2 (operations + 1, removeFirst4 input)\n",
    "  else check4 (operations + 1, input ++ \"_above15\")\n",
    "  where removeFirst4 xs = [(!! id) xs | id <- [3..((length xs) - 1)]]\n",
    "\n",
    "check4 :: (Int, String) -> (Int, String)\n",
    "check4 (operations, input) = if length input < 30\n",
    "  then (operations + 1 , input ++ \"_above29\")\n",
    "  else (operations + 1, input ++ \"_below30\")\n",
    "\n",
    "main :: IO ()\n",
    "main = do\n",
    "  let (count1, result1) = check1 \"test\"\n",
    "  print \"Processing word: test\"\n",
    "  print $ \"Operations performed: \" ++ show count1\n",
    "  print $ \"Final result: \" ++ result1\n",
    "  print \"------------------------\"\n",
    "  let (count2, result2) = check1 \"testing\"\n",
    "  print \"Processing word: testing\"\n",
    "  print $ \"Operations performed: \" ++ show count2\n",
    "  print $ \"Final result: \" ++ result2\n",
    "\n",
    "main"
   ]
  },
  {
   "cell_type": "markdown",
   "metadata": {},
   "source": [
    "Passing data around and modifying it can get tedious when programs get bigger. \n",
    "\n",
    "For this reason the **Writer monad** was created that allows you to pass data and update it between different Writer monads. "
   ]
  },
  {
   "cell_type": "markdown",
   "metadata": {},
   "source": [
    "## Definition of the Writer monad"
   ]
  },
  {
   "cell_type": "markdown",
   "metadata": {},
   "source": [
    "The definition of the **Writer monad** is following: \n",
    "```haskell\n",
    "type Writer w = WriterT w Identity\n",
    "data WriterT w m a \n",
    "```\n",
    "Helper function for **Writer** monad:\n",
    "```haskell\n",
    "runWriter :: Monoid w => Writer w a -> (a, w) \n",
    "```"
   ]
  },
  {
   "cell_type": "markdown",
   "metadata": {},
   "source": [
    "Another definition shown below uses multi-parameter type classes and funDeps, which are not standard Haskell 2010. \n",
    "```haskell\n",
    "newtype Writer w a = Writer { runWriter :: (a,w) }\n",
    "\n",
    "instance (Monoid w) => Monad (Writer w) where\n",
    "    return a             = Writer (a,mempty)\n",
    "    (Writer (a,w)) >>= f = let (a',w') = runWriter $ f a in Writer (a',w `mappend` w')\n",
    "```"
   ]
  },
  {
   "cell_type": "markdown",
   "metadata": {},
   "source": [
    "To make use of the Writer monad we help ourself with the functions `tell` and `runWriter`.\n",
    "\n",
    "The `tell` function appends data to the writter variable. The `runWriter` function can retrieve the final value of the Writer monad.\n",
    "\n",
    "They are both included in the module `Control.Monad.Writer`. The `tell` function is defined in the `MonadWriter` type class."
   ]
  },
  {
   "cell_type": "markdown",
   "metadata": {},
   "source": [
    "```haskell\n",
    "class (Monoid w, Monad m) => MonadWriter w m | m -> w where\n",
    "    {-# MINIMAL (writer | tell), listen, pass #-}\n",
    "    -- | @'writer' (a,w)@ embeds a simple writer action.\n",
    "    writer :: (a,w) -> m a\n",
    "    writer ~(a, w) = do\n",
    "      tell w\n",
    "      return a\n",
    "\n",
    "    -- | @'tell' w@ is an action that produces the output @w@.\n",
    "    tell   :: w -> m ()\n",
    "    tell w = writer ((),w)\n",
    "\n",
    "    -- | @'listen' m@ is an action that executes the action @m@ and adds\n",
    "    -- its output to the value of the computation.\n",
    "    listen :: m a -> m (a, w)\n",
    "    -- | @'pass' m@ is an action that executes the action @m@, which\n",
    "    -- returns a value and a function, and returns the value, applying\n",
    "    -- the function to the output.\n",
    "    pass   :: m (a, w -> w) -> m a\n",
    "\n",
    "-- | @'listens' f m@ is an action that executes the action @m@ and adds\n",
    "-- the result of applying @f@ to the output to the value of the computation.\n",
    "--\n",
    "-- * @'listens' f m = 'liftM' (id *** f) ('listen' m)@\n",
    "listens :: MonadWriter w m => (w -> b) -> m a -> m (a, b)\n",
    "listens f m = do\n",
    "    ~(a, w) <- listen m\n",
    "    return (a, f w)\n",
    "\n",
    "-- | @'censor' f m@ is an action that executes the action @m@ and\n",
    "-- applies the function @f@ to its output, leaving the return value\n",
    "-- unchanged.\n",
    "--\n",
    "-- * @'censor' f m = 'pass' ('liftM' (\\\\x -> (x,f)) m)@\n",
    "censor :: MonadWriter w m => (w -> w) -> m a -> m a\n",
    "censor f m = pass $ do\n",
    "    a <- m\n",
    "    return (a, f)\n",
    "```"
   ]
  },
  {
   "cell_type": "markdown",
   "metadata": {},
   "source": [
    "Here is a simple example how to define a Writer monad and use the `tell` and `runWriter` functions."
   ]
  },
  {
   "cell_type": "code",
   "execution_count": null,
   "metadata": {},
   "outputs": [],
   "source": [
    "import Control.Monad.Writer\n",
    "\n",
    "logAge :: Int -> Writer [String] Int  \n",
    "logAge x = do\n",
    "    tell [\"Age is: \" ++ show x]\n",
    "    return x            \n",
    "      \n",
    "sumAge :: Writer [String] Int  \n",
    "sumAge = do  \n",
    "    a <- logAge 16  \n",
    "    b <- logAge 18\n",
    "    tell [\"Summed age is: \" ++ (show $ a + b)]\n",
    "    return (a + b)\n",
    "\n",
    "print $ runWriter sumAge"
   ]
  },
  {
   "cell_type": "markdown",
   "metadata": {},
   "source": [
    "We see that every time we use the `tell` function the value gets appended to the first parameter of the Writer monad. \n",
    "\n",
    "The type of the parameter which is in our case a list has to have an instance of the **Monoid** type class, which lists have."
   ]
  },
  {
   "cell_type": "markdown",
   "metadata": {},
   "source": [
    "## Writer monad examples"
   ]
  },
  {
   "cell_type": "markdown",
   "metadata": {},
   "source": [
    "Let's implement the example from the first chapter with the use of the Writer monad."
   ]
  },
  {
   "cell_type": "code",
   "execution_count": null,
   "metadata": {},
   "outputs": [],
   "source": [
    "instance Semigroup Int where\n",
    "  a <> b = a + b\n",
    "\n",
    "instance Monoid Int where\n",
    "  mempty = 0\n",
    "\n",
    "check1' :: String -> (Int, String)\n",
    "check1' input = if length input < 5\n",
    "  then swap $ runWriter $ do\n",
    "    tell 1\n",
    "    check2' $ input ++ \"_below5\"\n",
    "  else swap $ runWriter $ do\n",
    "    tell 1\n",
    "    check3' $ input ++ \"_above4\"\n",
    "  where swap (x,y) = (y,x)\n",
    "\n",
    "check2' :: String -> Writer Int String\n",
    "check2' input = if length input < 10\n",
    "  then do\n",
    "    return input\n",
    "  else do\n",
    "    tell 1\n",
    "    return $ input ++ \"_above9\"\n",
    "\n",
    "check3' :: String -> Writer Int String\n",
    "check3' input = if length input < 16\n",
    "  then do\n",
    "    tell 1\n",
    "    check2' $ removeFirst4 input\n",
    "  else do\n",
    "    tell 1\n",
    "    check4' $ input ++ \"_above15\"\n",
    "  where removeFirst4 xs = [(!! id) xs | id <- [3..((length xs) - 1)]]\n",
    "\n",
    "check4' :: String -> Writer Int String\n",
    "check4' input = if length input < 10\n",
    "  then do\n",
    "    tell 1\n",
    "    return $ input ++ \"_above29\"\n",
    "  else do\n",
    "    tell 1\n",
    "    return $ input ++ \"_below30\"\n",
    "\n",
    "main2 :: IO ()\n",
    "main2 = do\n",
    "  let (count1, result1) = check1' \"test\"\n",
    "  print \"Processing word: test\"\n",
    "  print $ \"Operations performed: \" ++ show count1\n",
    "  print $ \"Final result: \" ++ result1\n",
    "  print \"------------------------\"\n",
    "  let (count2, result2) = check1' \"testing\"\n",
    "  print \"Processing word: testing\"\n",
    "  print $ \"Operations performed: \" ++ show count2\n",
    "  print $ \"Final result: \" ++ result2\n",
    "\n",
    "main2"
   ]
  },
  {
   "cell_type": "markdown",
   "metadata": {},
   "source": [
    "Since the type of the write parameter has to have an instance of Monoid we implement it in the begining for `Int`. \n",
    "\n",
    "After that we define the check functions similar as in the previous example where we use the `tell` function to keep track of the operations we have performed. "
   ]
  },
  {
   "cell_type": "markdown",
   "metadata": {},
   "source": [
    "Here is another example where we use also the `listen` function that enables us to retrieve the logs from the Writer monad."
   ]
  },
  {
   "cell_type": "code",
   "execution_count": null,
   "metadata": {},
   "outputs": [],
   "source": [
    "type Adding a = Writer [String] a\n",
    "\n",
    "logMsg :: String -> Adding ()\n",
    "logMsg msg = tell [msg]\n",
    "\n",
    "add1 :: Int -> Adding Int\n",
    "add1 x = do\n",
    "    logMsg \"Starting add1.\"\n",
    "    let y = x + 1\n",
    "    logMsg $ \"Computed result: \" ++ show y\n",
    "    return y\n",
    "\n",
    "start :: Int -> Adding Int\n",
    "start x = do\n",
    "    (n, logs) <- listen $ add1 x\n",
    "    let logLines = length logs\n",
    "    logMsg $ \"add1 logged \" ++ show logLines ++ \" lines\"\n",
    "    return $ n\n",
    "\n",
    "main :: IO ()\n",
    "main = do\n",
    "    print \"Input an integer number:\"\n",
    "    n <- (read <$> getLine) :: IO Int\n",
    "    let (result, logs) = runWriter $ start n\n",
    "    print $ \"Result is: \" ++ show result\n",
    "    putStrLn \"Logs are: \"\n",
    "    mapM_ print logs"
   ]
  },
  {
   "cell_type": "markdown",
   "metadata": {},
   "source": [
    "## Recap"
   ]
  },
  {
   "cell_type": "markdown",
   "metadata": {},
   "source": [
    "In this lesson we've discussed:\n",
    "\n",
    "- the motivation for introducing the Writer monad type \n",
    "\n",
    "- the definition of the Writer monad type and a simple example\n",
    "\n",
    "- examples that use the Writer monad type to solve a problem"
   ]
  }
 ],
 "metadata": {
  "kernelspec": {
   "display_name": "Haskell",
   "language": "haskell",
   "name": "haskell"
  },
  "language_info": {
   "codemirror_mode": "ihaskell",
   "file_extension": ".hs",
   "mimetype": "text/x-haskell",
   "name": "haskell",
   "pygments_lexer": "Haskell",
   "version": "8.10.7"
  }
 },
 "nbformat": 4,
 "nbformat_minor": 4
}
