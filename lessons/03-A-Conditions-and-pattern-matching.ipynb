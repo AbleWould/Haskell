{
 "cells": [
  {
   "cell_type": "markdown",
   "metadata": {},
   "source": [
    "# Conditions and pattern matching"
   ]
  },
  {
   "cell_type": "markdown",
   "metadata": {},
   "source": [
    "## Outline\n",
    "\n",
    "* If-then-else expressions.\n",
    "\n",
    "* Pattern matching for\n",
    "\n",
    "    * function definitions\n",
    "\n",
    "    * lists\n",
    "\n",
    "    * tuples"
   ]
  },
  {
   "cell_type": "markdown",
   "metadata": {},
   "source": [
    "## If-then-else expressions"
   ]
  },
  {
   "cell_type": "markdown",
   "metadata": {},
   "source": [
    "You have to choose inside a function very often. There are several ways to express conditional operator. Haskell has a branching construction **if-then-else** is written in form"
   ]
  },
  {
   "cell_type": "markdown",
   "metadata": {},
   "source": [
    "```haskell\n",
    "if Condition then Expesssion1 else Expesssion2\n",
    "```"
   ]
  },
  {
   "cell_type": "markdown",
   "metadata": {},
   "source": [
    "where `Condition` is a logical expression that yields `False` or `True`, `Expression1` is an expression value used in the `True` case, `Expression2` is the expression used in the `False` case."
   ]
  },
  {
   "cell_type": "markdown",
   "metadata": {},
   "source": [
    "The function `checkLocalHost` below checks if the argument is a localhost or not and reports the user the result."
   ]
  },
  {
   "cell_type": "code",
   "execution_count": null,
   "metadata": {
    "vscode": {
     "languageId": "haskell"
    }
   },
   "outputs": [],
   "source": [
    "checkLocalhost :: String -> String\n",
    "checkLocalhost ip =\n",
    "    -- True or False?\n",
    "    if ip == \"127.0.0.1\"\n",
    "        -- When the condition is True the answer is\n",
    "        then \"It’s a localhost!\"\n",
    "        -- Otherwise the condition is False and the answer is\n",
    "        else \"No, it's not a localhost.\""
   ]
  },
  {
   "cell_type": "markdown",
   "metadata": {},
   "source": [
    "The `checkLocalhost` function is applied to a single argument of type `String` and returns another value of type `String`. The argument is a string `ip` containing the IP address, and the function checks if it contains localhost `\"127.0.0.1\"`. If the check is successful the function returns `\"It's a localhost!\"`, otherwise it returns `\"No, it's not a localhost.\"` \n",
    "\n",
    "In fact, the **if-then-else** operator here checks the value of the `Bool` variable `ip == \"127.0.0.1\"`."
   ]
  },
  {
   "cell_type": "markdown",
   "metadata": {},
   "source": [
    "### Important features\n",
    "\n",
    "* While in imperative programming languages, the `else` is not mandatory, in Haskell `else` is mandatory!"
   ]
  },
  {
   "cell_type": "markdown",
   "metadata": {},
   "source": [
    "If you skip `else` in your code and the condition under `if` isn't met, then nothing gets executed! But in Haskell, every function has to return a value. So we are obligated to provide a result for both then and else. \n",
    "\n"
   ]
  },
  {
   "cell_type": "markdown",
   "metadata": {},
   "source": [
    "* Both values under `then` and `else` must be of the same type."
   ]
  },
  {
   "cell_type": "markdown",
   "metadata": {},
   "source": [
    "## Pattern matching\n"
   ]
  },
  {
   "cell_type": "markdown",
   "metadata": {},
   "source": [
    "**Pattern matching** is an act of matching (comparing) data (values, types, etc.) against a certain pattern and binding variables to successful matches. We are going to discuss pattern matching in three cases.\n",
    "\n"
   ]
  },
  {
   "cell_type": "markdown",
   "metadata": {},
   "source": [
    "* Pattern matching in function definitions (multi-way if, case).\n",
    "\n",
    "* Pattern matching for lists.\n",
    "\n",
    "* Pattern matching for tuples."
   ]
  },
  {
   "cell_type": "markdown",
   "metadata": {},
   "source": [
    "The pattern matching in function definitions we will discuss on an example of an `analyzeGold` function. This function takes an integer as an input and returns a validating string if such standard of gold exists, or it returns `\"I don't know such a standard...\"` if the input integer isn't a known gold standard."
   ]
  },
  {
   "cell_type": "markdown",
   "metadata": {},
   "source": [
    "**About the discussed problem**. Most of the jewelry marketed as “gold” is a gold alloy. Gold in its purest form is too soft and malleable for everyday use. Alloy metals (nickel, copper, or zinc) help harden the gold so it can withstand normal wear and tear. The common fineness of gold is 585, respectively in 1 kg of this alloy contain 585 grams of pure gold and 415 grams of alloy metals. The function below recognizes 585, 750 and 999 standards."
   ]
  },
  {
   "cell_type": "markdown",
   "metadata": {},
   "source": [
    "### Bad example of code: folded if-then-else "
   ]
  },
  {
   "cell_type": "markdown",
   "metadata": {},
   "source": [
    "Sometimes it is necessary to compare the argument with more than one value. The easiest (and the least effective) way is to use the folded if-then-else construction. "
   ]
  },
  {
   "cell_type": "markdown",
   "metadata": {},
   "source": [
    "In the example below we want to check is a golden sample of 999, 750, or 585 standard."
   ]
  },
  {
   "cell_type": "code",
   "execution_count": null,
   "metadata": {
    "vscode": {
     "languageId": "haskell"
    }
   },
   "outputs": [],
   "source": [
    "analyzeGold :: Int -> String\n",
    "analyzeGold standard =\n",
    "    if standard == 999\n",
    "        then \"Wow! 999 standard!\"\n",
    "        else if standard == 750\n",
    "            then \"Great! 750 standard.\"\n",
    "            else if standard == 585\n",
    "                then \"Not bad! 585 standard.\"\n",
    "                else \"I don't know such a standard...\""
   ]
  },
  {
   "cell_type": "markdown",
   "metadata": {},
   "source": [
    "And if there were about five or seven analyzed samples of gold, this ladder would become even longer and worse."
   ]
  },
  {
   "cell_type": "markdown",
   "metadata": {},
   "source": [
    "### Good code: pattern matching in function definition"
   ]
  },
  {
   "cell_type": "markdown",
   "metadata": {},
   "source": [
    "There is even a better way to write the `analyzeGold` function! We can pattern match definitions for specific values!"
   ]
  },
  {
   "cell_type": "markdown",
   "metadata": {},
   "source": [
    "The code for the function that checks whether a golden sample has 999, 750, or 585 standard takes form:"
   ]
  },
  {
   "cell_type": "code",
   "execution_count": null,
   "metadata": {
    "vscode": {
     "languageId": "haskell"
    }
   },
   "outputs": [],
   "source": [
    "analyzeGold :: Int -> String\n",
    "analyzeGold 999 = \"Wow! 999 standard!\"\n",
    "analyzeGold 750 = \"Great! 750 standard.\"\n",
    "analyzeGold 585 = \"Not bad! 585 standard.\"\n",
    "analyzeGold goldenSample = \"I don't know such a standard...\""
   ]
  },
  {
   "cell_type": "markdown",
   "metadata": {},
   "source": [
    "Now `analyzeGold` has a single signature, but multiple definitions!"
   ]
  },
  {
   "cell_type": "markdown",
   "metadata": {},
   "source": [
    "**How does `analyzeGold` works?**"
   ]
  },
  {
   "cell_type": "markdown",
   "metadata": {},
   "source": [
    "* In the first definiton we perform a **pattern matching**: is the integer argument equals to `999` or not?. If so, it returns `\"Wow! 999 standard!\"`\n",
    "\n"
   ]
  },
  {
   "cell_type": "markdown",
   "metadata": {},
   "source": [
    "* If the **pattern matching** against a *sample* 999 wasn't successful, the function goes to the second definition, where the **pattern matching** against a *sample* 750 happens.\n",
    "\n"
   ]
  },
  {
   "cell_type": "markdown",
   "metadata": {},
   "source": [
    "* If all **pattern matchings** weren't successful, the last comparison against the `goldenSample` happens. It is always ends with a success as we are **binding the matched value** to `goldenSample` and function returns `\"I don’t know such a standard...\"`. The sample `goldenSample` in such case is called a **catchall pattern**, as it catches all arguments that weren't successfully compared to the patterns above it."
   ]
  },
  {
   "cell_type": "markdown",
   "metadata": {},
   "source": [
    "Moreover, one can use `goldenSample` later on in a function code, where it will be substituted by its binded matched value."
   ]
  },
  {
   "cell_type": "code",
   "execution_count": null,
   "metadata": {
    "vscode": {
     "languageId": "haskell"
    }
   },
   "outputs": [],
   "source": [
    "analyzeGold :: Int -> String\n",
    "analyzeGold 999 = \"Wow! 999 standard!\"\n",
    "analyzeGold 750 = \"Great! 750 standard.\"\n",
    "analyzeGold 585 = \"Not bad! 585 standard.\"\n",
    "analyzeGold goldenSample = \"I don't know a standard \" ++ show goldenSample ++ \", sorry!\""
   ]
  },
  {
   "cell_type": "markdown",
   "metadata": {},
   "source": [
    "**General rule of pattern matching**\n",
    "\n",
    "* An argument of a function is matched against a sample on the subject of being \"suitable / not suitable.\" \n",
    "\n",
    "* If a match gives the result `True`, the corresponding expression returns as a result. If it doesn't match, function moves on to the next one.\n",
    "\n",
    "* The binded matched value can be used further in code."
   ]
  },
  {
   "cell_type": "markdown",
   "metadata": {},
   "source": [
    "<div class=\"alert alert-block alert-info\">\n",
    "<b>Note:</b> If you aren't interested in binding of the matched value (when you are not going to use it later, in particular), you can simply write `_` for your catchall pattern. \n",
    "</div>"
   ]
  },
  {
   "cell_type": "code",
   "execution_count": null,
   "metadata": {
    "vscode": {
     "languageId": "haskell"
    }
   },
   "outputs": [],
   "source": [
    "analyzeGold :: Int -> String\n",
    "analyzeGold 999 = \"Wow! 999 standard!\"\n",
    "analyzeGold 750 = \"Great! 750 standard.\"\n",
    "analyzeGold 585 = \"Not bad! 585 standard.\"\n",
    "analyzeGold _   = \"I don't know such a standard...\""
   ]
  },
  {
   "cell_type": "markdown",
   "metadata": {},
   "source": [
    "Since we see how the catchall pattern is important, we should talk more about it."
   ]
  },
  {
   "cell_type": "markdown",
   "metadata": {},
   "source": [
    "**What is the catchall pattern?**"
   ]
  },
  {
   "cell_type": "markdown",
   "metadata": {},
   "source": [
    "The **catchall pattern** `_` is a sample such that any argument matches with it. \n",
    "\n",
    "It can be seen as *I don't care about any samples*, so the comparison with it always returns the corresponding expression."
   ]
  },
  {
   "cell_type": "markdown",
   "metadata": {},
   "source": [
    "A valid catchall pattern must always be provided! To use the **catchall pattern** instead of a value you have to provide **any name** that starts with lowercase, like `goldenSample`, `x`, or `anythingYouLikeToUse`. \n",
    "\n",
    "Nevertheless `_` is commonly used for catchall patterns. "
   ]
  },
  {
   "cell_type": "markdown",
   "metadata": {},
   "source": [
    "Again, if you will skip the catchall pattern `_` you'll get the warning:\t\n",
    "\n",
    "        Pattern match(es) are non-exhaustive in an equation for analyzeGold."
   ]
  },
  {
   "cell_type": "markdown",
   "metadata": {},
   "source": [
    "What should the function do if we pass `600`? We didn't specify it because we didn't pattern match for `600`!  Since we need the function to be able to work with any value that our types can accept, we need to pattern match for all possible situations! That's why we should **always use a catchall definition at the end**."
   ]
  },
  {
   "cell_type": "markdown",
   "metadata": {},
   "source": [
    "**Pattern matching order matters!**\n",
    "\n"
   ]
  },
  {
   "cell_type": "markdown",
   "metadata": {},
   "source": [
    "Haskell pattern matches from top to bottom. Let's change the order and write"
   ]
  },
  {
   "cell_type": "code",
   "execution_count": null,
   "metadata": {
    "vscode": {
     "languageId": "haskell"
    }
   },
   "outputs": [],
   "source": [
    "analyzeGold :: Int -> String\n",
    "analyzeGold _   = \"I don't know such a standard...\"\n",
    "analyzeGold 999 = \"Wow! 999 standard!\"\n",
    "analyzeGold 750 = \"Great! 750 standard.\"\n",
    "analyzeGold 585 = \"Not bad! 585 standard.\""
   ]
  },
  {
   "cell_type": "markdown",
   "metadata": {},
   "source": [
    "The first definition will catch all the occurrences and we'll get always `\"I don't know such a standard...\"` as a result, no matter the number we pass. \n",
    "\n",
    "This happens because `_` matches with any argument, so the further matches aren't relevant.\n",
    "\n"
   ]
  },
  {
   "cell_type": "markdown",
   "metadata": {},
   "source": [
    "### Case-of construction"
   ]
  },
  {
   "cell_type": "markdown",
   "metadata": {},
   "source": [
    "There is another kind of pattern matching using the **case-of** construction:"
   ]
  },
  {
   "cell_type": "code",
   "execution_count": null,
   "metadata": {
    "vscode": {
     "languageId": "haskell"
    }
   },
   "outputs": [],
   "source": [
    "analyzeGold :: Int -> String\n",
    "analyzeGold standard =\n",
    "    case standard of\n",
    "        999 -> \"Wow! 999 standard!\"\n",
    "        750 -> \"Great! 750 standard.\"\n",
    "        585 -> \"Not bad! 585 standard.\"\n",
    "        _   -> \"I don't know such a standard...\""
   ]
  },
  {
   "cell_type": "markdown",
   "metadata": {},
   "source": [
    "`Case-of` sequentially compares the argument `standard` with the samples `999`, `750`, and `585`. If none worked out, as before, we run into the catchall pattern `_` and the function returns `\"I don't know such a standard...\"`."
   ]
  },
  {
   "cell_type": "markdown",
   "metadata": {},
   "source": [
    "Not only the compactness and readability of the case-of construction makes it valuable, but also the possibility to easily use it inside expressions."
   ]
  },
  {
   "cell_type": "code",
   "execution_count": null,
   "metadata": {
    "vscode": {
     "languageId": "haskell"
    }
   },
   "outputs": [],
   "source": [
    "analyzeGold :: Int -> String\n",
    "analyzeGold standard = \"The result is: \" ++ \n",
    "    case standard of\n",
    "        999 -> \"Wow! 999 standard!\"\n",
    "        750 -> \"Great! 750 standard.\"\n",
    "        585 -> \"Not bad! 585 standard.\"\n",
    "        _   -> \"I don't know such a standard...\""
   ]
  },
  {
   "cell_type": "markdown",
   "metadata": {},
   "source": [
    "In the above code we are adding a string `\"The result is:\"` before every result. So, the case-of construction wraps the code with cases and allows to use it as a part of any valid expression."
   ]
  },
  {
   "cell_type": "markdown",
   "metadata": {},
   "source": [
    "## Pattern matching lists"
   ]
  },
  {
   "cell_type": "markdown",
   "metadata": {},
   "source": [
    "Pattern matching works not for just functions, but you can do it with pretty much anything! Let's see how it can be used with lists."
   ]
  },
  {
   "cell_type": "markdown",
   "metadata": {},
   "source": [
    "### List structure (revisited)"
   ]
  },
  {
   "cell_type": "markdown",
   "metadata": {},
   "source": [
    "The way we wrote lists so far is actually the syntactic sugar for the real way Haskell sees lists, as an empty list prepended with all the elements that it contains."
   ]
  },
  {
   "cell_type": "code",
   "execution_count": null,
   "metadata": {
    "vscode": {
     "languageId": "haskell"
    }
   },
   "outputs": [],
   "source": [
    "[1,2,3,4] == 1:2:3:4:[]\n",
    "\n",
    "\"Hello!\"  == 'H':'e':'l':'l':'o':'!':[]"
   ]
  },
  {
   "cell_type": "markdown",
   "metadata": {},
   "source": [
    "where `:` is the cons operator.  \n",
    "\n",
    "Now that we know how lists look like without sugar, and we can use their structure to pattern match different function definitions depending on the list structure. "
   ]
  },
  {
   "cell_type": "markdown",
   "metadata": {},
   "source": [
    "### How to pattern match a list?"
   ]
  },
  {
   "cell_type": "markdown",
   "metadata": {},
   "source": [
    "Let's do a bunch of pattern matching all at once and investigate later:"
   ]
  },
  {
   "cell_type": "code",
   "execution_count": null,
   "metadata": {
    "vscode": {
     "languageId": "haskell"
    }
   },
   "outputs": [],
   "source": [
    "whatsInsideThisList :: [String] -> String\n",
    "whatsInsideThisList []         = \"It's empty!\"\n",
    "whatsInsideThisList [x]        = \"A single element: \" ++ x\n",
    "whatsInsideThisList [x, y]     = \"Two elements: \" ++ x ++ y\n",
    "whatsInsideThisList (x:y:z:[]) = \"The two elements are: \" ++ x ++ y ++ \". And the third one is: \" ++ z \n",
    "whatsInsideThisList (x:rest)   = \"The first element is: \" ++ x ++ \", and the are many more elements...\""
   ]
  },
  {
   "cell_type": "markdown",
   "metadata": {},
   "source": [
    "As you can see, you can pattern match for:\n",
    "\n",
    "* Empty list `[]`.\n",
    "\n",
    "* Lists `[x]` and `[x,y]` of length 1 and 2 respectively.\n",
    "\n",
    "* List `x:y:z:[]` of length 3 (the syntactic sugar is used here!). \n",
    "\n",
    "* Non-empty lists of any size with `x:rest`. (Commonly used in recursive functions and usually named `x:xs`.)"
   ]
  },
  {
   "cell_type": "markdown",
   "metadata": {},
   "source": [
    "The specific data that you don't care about while pattern matching falls into the last pattern `x:xs`."
   ]
  },
  {
   "cell_type": "markdown",
   "metadata": {},
   "source": [
    "The following function tells us which are the first and third elements in a list (if any):"
   ]
  },
  {
   "cell_type": "code",
   "execution_count": null,
   "metadata": {
    "vscode": {
     "languageId": "haskell"
    }
   },
   "outputs": [],
   "source": [
    "firstAndThird :: [String] -> String\n",
    "firstAndThird (x:_:z:_) = \"The first and third elements are: \" ++ x ++ \" and \" ++ z\n",
    "firstAndThird list      = \"I don't care!\""
   ]
  },
  {
   "cell_type": "markdown",
   "metadata": {},
   "source": [
    "The first definition will pattern match for any list with 3 or more elements, while `_` will ignore the second element and the rest of the list. This allows us to pattern match more easily and to avoid polluting our environment with variables that we don't need. "
   ]
  },
  {
   "cell_type": "markdown",
   "metadata": {},
   "source": [
    "### Pattern matching tuples"
   ]
  },
  {
   "cell_type": "markdown",
   "metadata": {},
   "source": [
    "Let's see how pattern matching works with tuples. "
   ]
  },
  {
   "cell_type": "markdown",
   "metadata": {},
   "source": [
    "As you can recall from previous lecture, we could only get the elements inside a pair (a tuple of two elements) using the `fst` and `snd` functions. \n",
    "\n",
    "If you needed a value from tuples bigger than that, you need to use the pattern matching."
   ]
  },
  {
   "cell_type": "markdown",
   "metadata": {},
   "source": [
    "The following function extracts the first element of a 3-element tuple :"
   ]
  },
  {
   "cell_type": "code",
   "execution_count": null,
   "metadata": {
    "vscode": {
     "languageId": "haskell"
    }
   },
   "outputs": [],
   "source": [
    "firstOfThree :: (a, b, c) -> a\n",
    "firstOfThree (x, _, _) = x"
   ]
  },
  {
   "cell_type": "markdown",
   "metadata": {},
   "source": [
    "If we want to create a pair with the second and fourth elements of a 4-element tuple, we create a funtion"
   ]
  },
  {
   "cell_type": "markdown",
   "metadata": {},
   "source": [
    "```haskell\n",
    "pairFromFour (_, x, _, y) = (x, y)\n",
    "```"
   ]
  },
  {
   "cell_type": "markdown",
   "metadata": {},
   "source": [
    "## Summary\n",
    "\n",
    "In this lesson we've discussed:\n",
    "\n",
    "* If-then-else expression and why you should always prescribe actions in the else case.\n",
    "\n",
    "* Pattern matching for function definitions and catchall patterns: the pattern matching happens from the top to the bottom and the catchall case must always be included.\n",
    "\n",
    "* Case-of construction that simplifies the code for multiple definitions of a function, and can be used as a part of other expressions.\n",
    "\n",
    "* Pattern matching of lists tuples; how we can access different parts of list or tuple using mattern matching."
   ]
  }
 ],
 "metadata": {
  "kernelspec": {
   "display_name": "Python 3.10.4 64-bit",
   "language": "python",
   "name": "python3"
  },
  "language_info": {
   "name": "python",
   "version": "3.10.4"
  },
  "orig_nbformat": 4,
  "vscode": {
   "interpreter": {
    "hash": "e7370f93d1d0cde622a1f8e1c04877d8463912d04d973331ad4851f04de6915a"
   }
  }
 },
 "nbformat": 4,
 "nbformat_minor": 2
}
