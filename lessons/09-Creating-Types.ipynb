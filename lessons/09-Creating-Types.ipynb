{
 "cells": [
  {
   "cell_type": "markdown",
   "metadata": {},
   "source": [
    "# Creating Types"
   ]
  },
  {
   "cell_type": "markdown",
   "metadata": {},
   "source": [
    "## Outline\n",
    "* Type synonyms\n",
    "\t* How\n",
    "\t* Why\n",
    "\t* Type Parameters \n",
    "* New types with `data`\n",
    "\t* Creating types\n",
    "\t* Using types\n",
    "\t* Value Parameters\n",
    "* New types with Record syntax\n",
    "* Type Parameters\n",
    "\t* Prameteryzing type synonyms\n",
    "\t* Prameteryzing `data` types\n",
    "* The `newType` keyword\n",
    "* Kinds\n",
    "* Recap"
   ]
  },
  {
   "cell_type": "markdown",
   "metadata": {},
   "source": [
    "<div class=\"alert alert-block alert-warning\">\n",
    "<b>Warning:</b>\n",
    "<p>We'll be adding <code>deriving (Show)</code> at the end of our data declarations.</p>\n",
    "<p>By adding this, Haskell will automatically make that type part of the <code>Show</code> type class. Allowing us to print them on the terminal.</p>\n",
    "<p>We'll explain how this works in detail on the next lesson.</p>\n",
    "</div>"
   ]
  },
  {
   "cell_type": "markdown",
   "metadata": {},
   "source": [
    "## Type Synonyms"
   ]
  },
  {
   "cell_type": "markdown",
   "metadata": {},
   "source": [
    "Early on, when learning about `Strings` in Haskell, you found out that `String` is syntactic sugar for `[Char]`. They're the same but easier to read."
   ]
  },
  {
   "cell_type": "markdown",
   "metadata": {},
   "source": [
    "That's because `String` is a type synonym for `[Char]`."
   ]
  },
  {
   "cell_type": "markdown",
   "metadata": {},
   "source": [
    "This means that `String` and `[Char]` are *equivalent* and you can use them *interchangeably*."
   ]
  },
  {
   "cell_type": "markdown",
   "metadata": {},
   "source": [
    "### How to define Type Synonyms"
   ]
  },
  {
   "cell_type": "markdown",
   "metadata": {},
   "source": [
    "```haskell\n",
    "type String = [Char]\n",
    "```"
   ]
  },
  {
   "cell_type": "markdown",
   "metadata": {},
   "source": [
    "* The `type` keyword defines a type synonym.\n",
    "* You can name the type synonym however you want, as long as it starts with a capital letter."
   ]
  },
  {
   "cell_type": "markdown",
   "metadata": {},
   "source": [
    "**When you define a type synonym, you're not creating a new type! You're telling Haskell that an existing type can be referred with a different name (a synonym)!**"
   ]
  },
  {
   "cell_type": "markdown",
   "metadata": {},
   "source": [
    "### Why use Type Synonyms\n",
    "\n",
    "Why would you add more complexity without adding more functionality?"
   ]
  },
  {
   "cell_type": "markdown",
   "metadata": {},
   "source": [
    "Because type synonyms allow us to convey more information! Let's see an example."
   ]
  },
  {
   "cell_type": "markdown",
   "metadata": {},
   "source": [
    "Imagine you started working with a library that allows you to create monetary transactions.\n",
    "\n",
    "You want to create a new transaction, so you take a look at the type signature of the function that you need to use:\n",
    "\n",
    "```haskell\n",
    "generateTx :: String -> String -> Int -> String \n",
    "```"
   ]
  },
  {
   "cell_type": "markdown",
   "metadata": {},
   "source": [
    "Not an extremely useful signature. You could infer that the `Int` is the value to transfer, but what are those `Strings`? And what does that `String` that it returns contain?"
   ]
  },
  {
   "cell_type": "markdown",
   "metadata": {},
   "source": [
    "Now, compare this type signature:\n",
    "\n",
    "```haskell\n",
    "generateTx :: String -> String -> Int -> String \n",
    "```"
   ]
  },
  {
   "cell_type": "markdown",
   "metadata": {},
   "source": [
    "Whith this one:\n",
    "\n",
    "```haskell\n",
    "generateTx :: Address -> Address -> Value -> Id\n",
    "```"
   ]
  },
  {
   "cell_type": "markdown",
   "metadata": {},
   "source": [
    "Clearly, the second signature transmits the context way better!\n",
    "The first two parameters are addresses, and the third one is the value of the transaction. Finally, we know that it returns the id of the transaction. \n",
    "\n",
    "All that just from the type signature. The difference? Just a few type synonyms."
   ]
  },
  {
   "cell_type": "markdown",
   "metadata": {},
   "source": [
    "And what did we do to improve the context so much? Let's see:"
   ]
  },
  {
   "cell_type": "markdown",
   "metadata": {},
   "source": [
    "Let's recreate the function called `generateTx` that will take the addresses and value of a transaction and generates a id for it:"
   ]
  },
  {
   "cell_type": "code",
   "execution_count": null,
   "metadata": {
    "vscode": {
     "languageId": "plaintext"
    }
   },
   "outputs": [],
   "source": [
    "generateTx :: String -> String -> Int -> String \n",
    "generateTx from to value = from ++ to ++ show value"
   ]
  },
  {
   "cell_type": "markdown",
   "metadata": {},
   "source": [
    "Now, we just need to add some type synonyms:"
   ]
  },
  {
   "cell_type": "code",
   "execution_count": null,
   "metadata": {
    "vscode": {
     "languageId": "plaintext"
    }
   },
   "outputs": [],
   "source": [
    "type Address = String\n",
    "type Value = Int\n",
    "type Id = String\n",
    "\n",
    "generateTx :: Address -> Address -> Value -> Id\n",
    "generateTx from to value = from ++ to ++ show value"
   ]
  },
  {
   "cell_type": "markdown",
   "metadata": {},
   "source": [
    "Finally, if you want to check what does the `Address`, `Value`, or `Id` types are, you can open GHCi, load the file, and check its info:"
   ]
  },
  {
   "cell_type": "code",
   "execution_count": null,
   "metadata": {
    "vscode": {
     "languageId": "plaintext"
    }
   },
   "outputs": [],
   "source": [
    ":i Address \n",
    ":i Value\n",
    ":i Id"
   ]
  },
  {
   "cell_type": "markdown",
   "metadata": {},
   "source": [
    "Another example:"
   ]
  },
  {
   "cell_type": "code",
   "execution_count": null,
   "metadata": {
    "vscode": {
     "languageId": "plaintext"
    }
   },
   "outputs": [],
   "source": [
    "type Name = String\n",
    "type Address = (String, Int)\n",
    "type Person = (Name, Address)\n",
    "\n",
    "bob = (\"Bob Smith\", (\"Main St.\", 555)) :: Person\n",
    ":t bob\n",
    ":t fst bob"
   ]
  },
  {
   "cell_type": "markdown",
   "metadata": {},
   "source": [
    "Having type synonyms it's cool and all, but they are just different names for the same thing. What if we need to create a brand new type? `data` to the rescue!"
   ]
  },
  {
   "cell_type": "markdown",
   "metadata": {},
   "source": [
    "## Defining new types with `data`"
   ]
  },
  {
   "cell_type": "markdown",
   "metadata": {},
   "source": [
    "### `data` keyword"
   ]
  },
  {
   "cell_type": "markdown",
   "metadata": {},
   "source": [
    "We can create new types using the `data` keyword, like this:"
   ]
  },
  {
   "cell_type": "code",
   "execution_count": null,
   "metadata": {
    "vscode": {
     "languageId": "plaintext"
    }
   },
   "outputs": [],
   "source": [
    "data PaymentMethod = Cash | Card | Cryptocurrency\n",
    "\n",
    "data Color = Red | Blue | Green\n",
    "\n",
    "data Bool = True | False"
   ]
  },
  {
   "cell_type": "markdown",
   "metadata": {},
   "source": [
    "* The part before the equal sign is our new type name."
   ]
  },
  {
   "cell_type": "markdown",
   "metadata": {},
   "source": [
    "* The part after the equal sign are **value constructors**. Value constructors specify the different **values** that the type can have."
   ]
  },
  {
   "cell_type": "markdown",
   "metadata": {},
   "source": [
    "* The `|` is read as \"or\". So we can read the firs type as:\n",
    "\n",
    "\t\tThe type `PaymentMethod` can have a value of `Cash`, `Card`, or `Cryptocurrency`."
   ]
  },
  {
   "cell_type": "markdown",
   "metadata": {},
   "source": [
    "<div class=\"alert alert-block alert-warning\">\n",
    "<b>Warning:</b> The type name and the value constructors must start with an uppercase letter!\n",
    "</div>"
   ]
  },
  {
   "cell_type": "markdown",
   "metadata": {},
   "source": [
    "#### Using our new type"
   ]
  },
  {
   "cell_type": "markdown",
   "metadata": {},
   "source": [
    "**And now, how can we use this new type?**"
   ]
  },
  {
   "cell_type": "markdown",
   "metadata": {},
   "source": [
    "**By using its values!** For example, lets add a payment method to our person:"
   ]
  },
  {
   "cell_type": "code",
   "execution_count": null,
   "metadata": {
    "vscode": {
     "languageId": "plaintext"
    }
   },
   "outputs": [],
   "source": [
    "type Name = String\n",
    "type Address = (String, Int)\n",
    "\n",
    "data PaymentMethod = Cash | Card | Cryptocurrency\n",
    "\n",
    "type Person = (Name, Address, PaymentMethod)\n",
    "\n",
    "bob = (\"Bob Smith\", (\"Main St.\", 555), Cash) :: Person"
   ]
  },
  {
   "cell_type": "markdown",
   "metadata": {},
   "source": [
    "Now we can use the `PaymentMethod` type like any other type:"
   ]
  },
  {
   "cell_type": "code",
   "execution_count": null,
   "metadata": {
    "vscode": {
     "languageId": "plaintext"
    }
   },
   "outputs": [],
   "source": [
    "howItPays :: Person -> String\n",
    "howItPays (_, _, Cash) = \"Pays in cash\" -- Pattern matching Person and ignoring everything except the PaymentMethod\n",
    "howItPays (_, _, Card) = \"Pays with card\"\n",
    "howItPays (_, _, Cryptocurrency) = \"Pays with cryptocurrency\"\n",
    "\n",
    "howItPays bob"
   ]
  },
  {
   "cell_type": "markdown",
   "metadata": {},
   "source": [
    "But this generates a question. What can we do if we need more than a few values?\n",
    "\n",
    "What if, for example, I want a type to represent a shape that could be any circle or any rectangle?"
   ]
  },
  {
   "cell_type": "markdown",
   "metadata": {},
   "source": [
    "We can start by defining something like:"
   ]
  },
  {
   "cell_type": "code",
   "execution_count": null,
   "metadata": {
    "vscode": {
     "languageId": "plaintext"
    }
   },
   "outputs": [],
   "source": [
    "data Shape = Circle | Rectangle"
   ]
  },
  {
   "cell_type": "markdown",
   "metadata": {},
   "source": [
    "But the thing is, this isn't of much use.\n",
    "\n",
    "I want to be able to do stuff with these values, like calculating perimeters and areas. And I can't do that without the actual properties of the shape!\n",
    "\n",
    "**No problem at all! We can just add some parameters to the values!**"
   ]
  },
  {
   "cell_type": "markdown",
   "metadata": {},
   "source": [
    "### Value Parameters\n",
    "\n",
    "Let's add some parameters:\n",
    "* To define a circle, we need its radius. So just one numeric value.\n",
    "* To define a rectangle, we need the length of its two sides. So two numeric values."
   ]
  },
  {
   "cell_type": "markdown",
   "metadata": {},
   "source": [
    "Let's translate those requirements to code:"
   ]
  },
  {
   "cell_type": "code",
   "execution_count": null,
   "metadata": {
    "vscode": {
     "languageId": "plaintext"
    }
   },
   "outputs": [],
   "source": [
    "\n",
    "data Shape = Circle Float | Rectangle Float Float\n",
    "\n",
    ":t Circle\n",
    ":t Rectangle"
   ]
  },
  {
   "cell_type": "markdown",
   "metadata": {},
   "source": [
    "As you can see, if we check the type of the `Circle` constructor, we see that **it's actually a function!!**\n",
    "\n",
    "A function that takes a value of type `Float` and returns a value of type `Shape`! So, to obtain our circle of type `Shape`, all we have to do is pass its radius:"
   ]
  },
  {
   "cell_type": "code",
   "execution_count": null,
   "metadata": {
    "vscode": {
     "languageId": "plaintext"
    }
   },
   "outputs": [],
   "source": [
    "smallCircle = Circle 3\n",
    "\n",
    "hugeCircle = Circle 100"
   ]
  },
  {
   "cell_type": "markdown",
   "metadata": {},
   "source": [
    "Same for `Rectangle` values. \n",
    "\n",
    "`Rectangle` is a function that takes two values of type `Float` and returns a value of type `Shape`. So, to obtain a rectangle of type `Shape`, all we have to do is pass the lengths of its sides:"
   ]
  },
  {
   "cell_type": "code",
   "execution_count": null,
   "metadata": {
    "vscode": {
     "languageId": "plaintext"
    }
   },
   "outputs": [],
   "source": [
    "rect1 = Rectangle 10 5\n",
    "\n",
    "rect2 = Rectangle 256 128"
   ]
  },
  {
   "cell_type": "markdown",
   "metadata": {},
   "source": [
    "That's it! We created our new type, and created some values. Now let's use them!"
   ]
  },
  {
   "cell_type": "markdown",
   "metadata": {},
   "source": [
    "We can define a function that calculates the area of any value of type `Shape` like this:"
   ]
  },
  {
   "cell_type": "code",
   "execution_count": null,
   "metadata": {
    "vscode": {
     "languageId": "plaintext"
    }
   },
   "outputs": [],
   "source": [
    "area :: Shape -> Float\n",
    "area (Circle r) = pi * r^2        -- We pattern match on value constructors and bind its fields to names.\n",
    "area (Rectangle l1 l2) = l1 * l2\n",
    "\n",
    "\n",
    "area smallCircle\n",
    "area rect2"
   ]
  },
  {
   "cell_type": "markdown",
   "metadata": {},
   "source": [
    "Now we're talking! We just created an actually useful type!"
   ]
  },
  {
   "cell_type": "markdown",
   "metadata": {},
   "source": [
    "But I'm not done with these shapes yet. I want more! I want to add points in space and colors!"
   ]
  },
  {
   "cell_type": "markdown",
   "metadata": {},
   "source": [
    "We could do something like this monstrosity:"
   ]
  },
  {
   "cell_type": "code",
   "execution_count": null,
   "metadata": {
    "vscode": {
     "languageId": "plaintext"
    }
   },
   "outputs": [],
   "source": [
    "data Shape = Circle (Float, Float) Float String | Rectangle (Float, Float) Float Float String"
   ]
  },
  {
   "cell_type": "markdown",
   "metadata": {},
   "source": [
    "Where we add the points in space as tuples of `Float` and colors as `String`."
   ]
  },
  {
   "cell_type": "markdown",
   "metadata": {},
   "source": [
    "We could easily redefine the `area` function like this:"
   ]
  },
  {
   "cell_type": "code",
   "execution_count": null,
   "metadata": {
    "vscode": {
     "languageId": "plaintext"
    }
   },
   "outputs": [],
   "source": [
    "area :: Shape -> Float\n",
    "area (Circle _ r _) = pi * r^2\n",
    "area (Rectangle _ l1 l2 _) = l1 * l2"
   ]
  },
  {
   "cell_type": "markdown",
   "metadata": {},
   "source": [
    "But then, if we want to extract specific fields of the `Shape` type, we have to create a custom function for each and every one of them:"
   ]
  },
  {
   "cell_type": "code",
   "execution_count": null,
   "metadata": {
    "vscode": {
     "languageId": "plaintext"
    }
   },
   "outputs": [],
   "source": [
    "color :: Shape -> String\n",
    "color (Circle _ _ c) = c\n",
    "color (Rectangle _ _ _ c) = c\n",
    "\n",
    "\n",
    "point :: Shape -> (Float, Float)\n",
    "point (Circle p _ _) = p\n",
    "point (Rectangle p _ _ _) = p\n",
    "\n",
    "\n",
    "--- Etc..."
   ]
  },
  {
   "cell_type": "markdown",
   "metadata": {},
   "source": [
    "**That's just horrible!**\n",
    "* Hard to read\n",
    "* Hard to use\n",
    "* Hard to extract the values from inside"
   ]
  },
  {
   "cell_type": "markdown",
   "metadata": {},
   "source": [
    "And with what we know so far, I'm sure you're aware that we can add some type synonyms to improve at least the reading of the type:"
   ]
  },
  {
   "cell_type": "code",
   "execution_count": null,
   "metadata": {
    "vscode": {
     "languageId": "plaintext"
    }
   },
   "outputs": [],
   "source": [
    "type Point = (Float,Float)\n",
    "type Radius = Float\n",
    "type Width = Float\n",
    "type Height = Float\n",
    "type Color = String\n",
    "\n",
    "data Shape = Circle Point Radius Color | Rectangle Point Width Height Color"
   ]
  },
  {
   "cell_type": "markdown",
   "metadata": {},
   "source": [
    "That's a lot of code to improve the understanding of the signature.\n",
    "\n",
    "And on top of that, it doesn't solve the other two—arguably more pressing—problems!"
   ]
  },
  {
   "cell_type": "markdown",
   "metadata": {},
   "source": [
    "But don't worry! Haskell has our backs! Enter the record syntax!"
   ]
  },
  {
   "cell_type": "markdown",
   "metadata": {},
   "source": [
    "### Record Syntax"
   ]
  },
  {
   "cell_type": "markdown",
   "metadata": {},
   "source": [
    "***Record syntax* is an alternative way of defining data types that comes with a few perks.**"
   ]
  },
  {
   "cell_type": "markdown",
   "metadata": {},
   "source": [
    "We'll start with a simple example."
   ]
  },
  {
   "cell_type": "markdown",
   "metadata": {},
   "source": [
    " Let's say we want to create a `Person` data type that contains these properties:\n",
    "\n",
    "* Its name\n",
    "* The company where it workd\n",
    "* Years of experience\n",
    "* Position"
   ]
  },
  {
   "cell_type": "markdown",
   "metadata": {},
   "source": [
    "Without *record syntax*, we would create it like this:"
   ]
  },
  {
   "cell_type": "code",
   "execution_count": null,
   "metadata": {
    "vscode": {
     "languageId": "plaintext"
    }
   },
   "outputs": [],
   "source": [
    "data Person String String Float String"
   ]
  },
  {
   "cell_type": "markdown",
   "metadata": {},
   "source": [
    "But with *record syntax*, we can create it like this:"
   ]
  },
  {
   "cell_type": "code",
   "execution_count": null,
   "metadata": {
    "vscode": {
     "languageId": "plaintext"
    }
   },
   "outputs": [],
   "source": [
    "data Person = Person { name :: String , company :: String , experience :: Float , position :: String } deriving (Show)"
   ]
  },
  {
   "cell_type": "markdown",
   "metadata": {},
   "source": [
    "* Record syntax value constructors have their fields surrounded by curly brackets.\n",
    "* Each field has a name that starts with a lowercase letter followed by its type.\n",
    "* The fields are separated by commas."
   ]
  },
  {
   "cell_type": "markdown",
   "metadata": {},
   "source": [
    "To use this type, you just have to indicate the values of each field:"
   ]
  },
  {
   "cell_type": "code",
   "execution_count": null,
   "metadata": {
    "vscode": {
     "languageId": "plaintext"
    }
   },
   "outputs": [],
   "source": [
    "richard = Person { name = \"Richard\", company = \"Input Output\", experience = 7.5, position = \"Software Engineer\"}\n",
    "\n",
    "richard\n",
    ":t richard"
   ]
  },
  {
   "cell_type": "markdown",
   "metadata": {},
   "source": [
    "**And now, for the perks**"
   ]
  },
  {
   "cell_type": "markdown",
   "metadata": {},
   "source": [
    "* The resulting data type is exactly the same.\n",
    "* Easier to use and understand.\n",
    "* The `Show` instance is more clear when we inspect it\n",
    "* **It automatically generates functions to look up fields in the data type!**"
   ]
  },
  {
   "cell_type": "code",
   "execution_count": null,
   "metadata": {
    "vscode": {
     "languageId": "plaintext"
    }
   },
   "outputs": [],
   "source": [
    "-- These funcitons are autogenerated when creating the Person data type:\n",
    "\n",
    ":t name\n",
    "name richard\n",
    "\n",
    ":t experience\n",
    "experience richard"
   ]
  },
  {
   "cell_type": "markdown",
   "metadata": {},
   "source": [
    "As you can see, the auto-generated functions take a value of type `Person` and return the value of the field that has the same name as the function."
   ]
  },
  {
   "cell_type": "markdown",
   "metadata": {},
   "source": [
    "That's record syntax for you. "
   ]
  },
  {
   "cell_type": "markdown",
   "metadata": {},
   "source": [
    "To pick up the pace, let's redefine `Shape`, but now using record syntax:"
   ]
  },
  {
   "cell_type": "code",
   "execution_count": null,
   "metadata": {
    "vscode": {
     "languageId": "plaintext"
    }
   },
   "outputs": [],
   "source": [
    "data Shape = Circle { position :: (Float, Float)\n",
    "                    , radius :: Float\n",
    "                    , color :: String\n",
    "                    } | Rectangle {\n",
    "                      position :: (Float, Float)\n",
    "                    , width :: Float\n",
    "                    , height :: Float\n",
    "                    , color :: String\n",
    "                    } deriving (Show)"
   ]
  },
  {
   "cell_type": "markdown",
   "metadata": {},
   "source": [
    "We can use the data type the same as before:"
   ]
  },
  {
   "cell_type": "code",
   "execution_count": null,
   "metadata": {
    "vscode": {
     "languageId": "plaintext"
    }
   },
   "outputs": [],
   "source": [
    "circ = Circle { position = (1,2), radius = 6, color = \"Green\"}\n",
    ":t circ\n",
    "circ\n",
    "\n",
    "rect = Rectangle {position = (9,3), width = 7, height = 3, color = \"Yellow\"}\n",
    ":t rect\n",
    "rect"
   ]
  },
  {
   "cell_type": "markdown",
   "metadata": {},
   "source": [
    "We can easily extract the values:"
   ]
  },
  {
   "cell_type": "code",
   "execution_count": null,
   "metadata": {
    "vscode": {
     "languageId": "plaintext"
    }
   },
   "outputs": [],
   "source": [
    "position circ\n",
    "\n",
    "color rect"
   ]
  },
  {
   "cell_type": "markdown",
   "metadata": {},
   "source": [
    "And we can also pattern match!:"
   ]
  },
  {
   "cell_type": "code",
   "execution_count": null,
   "metadata": {
    "vscode": {
     "languageId": "plaintext"
    }
   },
   "outputs": [],
   "source": [
    "area :: Shape -> Float\n",
    "area (Circle {radius=r}) = pi * r^2\n",
    "area (Rectangle {width=w,height=h}) = w * h\n",
    "\n",
    "area circ\n",
    "area rect"
   ]
  },
  {
   "cell_type": "markdown",
   "metadata": {},
   "source": [
    "Ok. So far, we've defined several types. Both with values and value constructors (functions that take some parameters and produce a value)."
   ]
  },
  {
   "cell_type": "markdown",
   "metadata": {},
   "source": [
    "But we can construct more than values. **We can construct types!**"
   ]
  },
  {
   "cell_type": "markdown",
   "metadata": {},
   "source": [
    "### Paremeterizing Types"
   ]
  },
  {
   "cell_type": "markdown",
   "metadata": {},
   "source": [
    "A **value** constructor **takes values** as parameters and **produces a value**.\n",
    "\n",
    "                            |\n",
    "                            v\n",
    "\n",
    "A **type** constrctor **takes types** as parameters and **produces a type**."
   ]
  },
  {
   "cell_type": "markdown",
   "metadata": {},
   "source": [
    "We can use type constructors with both type synonyms and new types."
   ]
  },
  {
   "cell_type": "markdown",
   "metadata": {},
   "source": [
    "#### Parameterizing Type Synonyms"
   ]
  },
  {
   "cell_type": "markdown",
   "metadata": {},
   "source": [
    "Going back to our last type synonym:"
   ]
  },
  {
   "cell_type": "code",
   "execution_count": null,
   "metadata": {
    "vscode": {
     "languageId": "plaintext"
    }
   },
   "outputs": [],
   "source": [
    "type Name = String\n",
    "type Address = (String, Int)\n",
    "type Person = (Name, Address)\n",
    "\n",
    "bob = (\"Bob Smith\", (\"Main St.\", 555)) :: Person"
   ]
  },
  {
   "cell_type": "markdown",
   "metadata": {},
   "source": [
    "Imagine that after using it for a while, we find out that we also have to identify companies by their id number.\n",
    "\n",
    "We could do something like:"
   ]
  },
  {
   "cell_type": "code",
   "execution_count": null,
   "metadata": {
    "vscode": {
     "languageId": "plaintext"
    }
   },
   "outputs": [],
   "source": [
    "type Name = String\n",
    "type Address = (String, Int)\n",
    "type Person = (Name , Address)\n",
    "\n",
    "type CompanyId = Int\n",
    "type Company = (CompanyId, Address)\n",
    "\n",
    "bob = (\"Bob Smith\", (\"Main St.\", 555)) :: Person\n",
    "io = (\"Input|Output\", (\"Cardano St.\", 999)) :: Company"
   ]
  },
  {
   "cell_type": "markdown",
   "metadata": {},
   "source": [
    "But if we do that, we repeat the same structure twice (`Person` and `Company`). A better aproach would be to define a parametric type synonym."
   ]
  },
  {
   "cell_type": "markdown",
   "metadata": {},
   "source": [
    "We add a parameter to the type synonym definition—same as with functions—and we can create different types for different situations!:"
   ]
  },
  {
   "cell_type": "code",
   "execution_count": null,
   "metadata": {
    "vscode": {
     "languageId": "plaintext"
    }
   },
   "outputs": [],
   "source": [
    "type Name = String\n",
    "type Address = (String, Int)\n",
    "type CompanyId = Int\n",
    "\n",
    "type Entity a = (a, Address)\n",
    "\n",
    "bob = (\"Bob Smith\", (\"Main St.\", 555)) :: Entity Name \n",
    "io = (584264, (\"Cardano St.\", 999)) :: Entity CompanyId"
   ]
  },
  {
   "cell_type": "markdown",
   "metadata": {},
   "source": [
    "Notice that:"
   ]
  },
  {
   "cell_type": "markdown",
   "metadata": {},
   "source": [
    "* `Entity` by itself is a type constructor, not a type, so **no value can have a type of just `Entity`**."
   ]
  },
  {
   "cell_type": "markdown",
   "metadata": {},
   "source": [
    "* `Entity Name` and `Entity CompanyId` are completely different types!"
   ]
  },
  {
   "cell_type": "markdown",
   "metadata": {},
   "source": [
    "For another example, we'll see how we can use type constructors when declaring new types."
   ]
  },
  {
   "cell_type": "markdown",
   "metadata": {},
   "source": [
    "### Parameterizing new types"
   ]
  },
  {
   "cell_type": "markdown",
   "metadata": {},
   "source": [
    "To add type parameters while defining new types, you just do the same as with function and parameterized type synonyms:"
   ]
  },
  {
   "cell_type": "markdown",
   "metadata": {},
   "source": [
    "Add the parameter to the left of the `=` sign, and (optionally) use it on the right:"
   ]
  },
  {
   "cell_type": "code",
   "execution_count": null,
   "metadata": {
    "vscode": {
     "languageId": "plaintext"
    }
   },
   "outputs": [],
   "source": [
    "data Box a = Empty | Has a deriving (Show)"
   ]
  },
  {
   "cell_type": "markdown",
   "metadata": {},
   "source": [
    "And to use the type:"
   ]
  },
  {
   "cell_type": "code",
   "execution_count": null,
   "metadata": {
    "vscode": {
     "languageId": "plaintext"
    }
   },
   "outputs": [],
   "source": [
    "box1 = Has (1 :: Int)\n",
    ":t box1\n",
    "\n",
    "box2 = Has \"Hello!\"\n",
    ":t box2\n",
    "\n",
    "box3 = Empty\n",
    ":t box3"
   ]
  },
  {
   "cell_type": "markdown",
   "metadata": {},
   "source": [
    "We can also modify the values inside the boxes:"
   ]
  },
  {
   "cell_type": "code",
   "execution_count": null,
   "metadata": {
    "vscode": {
     "languageId": "plaintext"
    }
   },
   "outputs": [],
   "source": [
    "add :: Num a => a -> Box a -> Box a\n",
    "add _ Empty = Empty\n",
    "add n (Has a) = Has (a + n)\n",
    "\n",
    "box4 = add 3 box1\n",
    "box4"
   ]
  },
  {
   "cell_type": "markdown",
   "metadata": {},
   "source": [
    "We can also use type constructors with record syntax:"
   ]
  },
  {
   "cell_type": "code",
   "execution_count": null,
   "metadata": {
    "vscode": {
     "languageId": "plaintext"
    }
   },
   "outputs": [],
   "source": [
    "data Shape a = Circle { position :: (Float, Float)\n",
    "                      , radius :: Float\n",
    "                      , color :: a\n",
    "                      } | Rectangle {\n",
    "                        position :: (Float, Float)\n",
    "                      , width :: Float\n",
    "                      , height :: Float\n",
    "                      , color :: a\n",
    "                      } deriving (Show)"
   ]
  },
  {
   "cell_type": "code",
   "execution_count": null,
   "metadata": {
    "vscode": {
     "languageId": "plaintext"
    }
   },
   "outputs": [],
   "source": [
    "circleS = Circle { position = (1,2), radius = 6, color = \"Green\"}\n",
    ":t circleS\n",
    "\n",
    "circleRGB = Circle { position = (1,2), radius = 6, color = (0, 128, 0)}\n",
    ":t circleRGB"
   ]
  },
  {
   "cell_type": "markdown",
   "metadata": {},
   "source": [
    "**Examples of type constructors in Haskell's standard library:**"
   ]
  },
  {
   "cell_type": "markdown",
   "metadata": {},
   "source": [
    "\n",
    "The `Maybe` type constructor:\n",
    "\n",
    "```haskell\n",
    "data Maybe a = Nothing | Just a\n",
    "```"
   ]
  },
  {
   "cell_type": "markdown",
   "metadata": {},
   "source": [
    "The list type constructor:\n",
    "\n",
    "```haskell\n",
    "data [] a = [] | a : [a]\n",
    "```"
   ]
  },
  {
   "cell_type": "markdown",
   "metadata": {},
   "source": [
    "We'll learn more about `Maybe` in future lessons."
   ]
  },
  {
   "cell_type": "markdown",
   "metadata": {},
   "source": [
    "And that's it! Now you can create any type you want!"
   ]
  },
  {
   "cell_type": "markdown",
   "metadata": {},
   "source": [
    "## The `newType` keyword"
   ]
  },
  {
   "cell_type": "markdown",
   "metadata": {},
   "source": [
    "There's another way to create brand new types, and that's the `newType` keyword."
   ]
  },
  {
   "cell_type": "markdown",
   "metadata": {},
   "source": [
    "`newType` works esentially the same as `data`, except for an important caveat:"
   ]
  },
  {
   "cell_type": "markdown",
   "metadata": {},
   "source": [
    "Types created with `newType` need to have exactly one constructor with exactly one field.\n"
   ]
  },
  {
   "cell_type": "code",
   "execution_count": null,
   "metadata": {
    "vscode": {
     "languageId": "plaintext"
    }
   },
   "outputs": [],
   "source": [
    "-- Like this:\n",
    "newtype Color a = Color a deriving (Show)\n",
    "-- And this:\n",
    "newtype Product a = Product { getProduct :: a } deriving (Show)"
   ]
  },
  {
   "cell_type": "markdown",
   "metadata": {},
   "source": [
    "But, you can do all that with `data`. So, why use `newType`? "
   ]
  },
  {
   "cell_type": "markdown",
   "metadata": {},
   "source": [
    "Short verion: **Performance reasons.**"
   ]
  },
  {
   "cell_type": "markdown",
   "metadata": {},
   "source": [
    "Because you could (theoretically) code your entire Haskell carreer without using `newType`, we won't use it for the rest of this course. But feel free to read more [here](https://wiki.haskell.org/Newtype) and [here](https://www.haskell.org/tutorial/moretypes.html), if you're interested."
   ]
  },
  {
   "cell_type": "markdown",
   "metadata": {},
   "source": [
    "Now, for the final section of the lesson: *Kinds*"
   ]
  },
  {
   "cell_type": "markdown",
   "metadata": {},
   "source": [
    "## Kinds"
   ]
  },
  {
   "cell_type": "markdown",
   "metadata": {},
   "source": [
    "As you can see, there's so much going on with types, value constructors, type constructors, etc. That it's hard to keep track of things. But Haskell has a trick up its sleeve: **Kinds**! "
   ]
  },
  {
   "cell_type": "markdown",
   "metadata": {},
   "source": [
    "If you have a function, let's say:"
   ]
  },
  {
   "cell_type": "code",
   "execution_count": null,
   "metadata": {
    "vscode": {
     "languageId": "plaintext"
    }
   },
   "outputs": [],
   "source": [
    "volumeOfACylinder r h = pi * r^2 * h"
   ]
  },
  {
   "cell_type": "markdown",
   "metadata": {},
   "source": [
    "You can check its type signature to know the quantity and type of its parameters."
   ]
  },
  {
   "cell_type": "code",
   "execution_count": null,
   "metadata": {
    "vscode": {
     "languageId": "plaintext"
    }
   },
   "outputs": [],
   "source": [
    ":t volumeOfACylinder"
   ]
  },
  {
   "cell_type": "markdown",
   "metadata": {},
   "source": [
    "Well, you can do the same for the types themselves by using `:k` (`:kind`)! Like this:"
   ]
  },
  {
   "cell_type": "code",
   "execution_count": null,
   "metadata": {
    "vscode": {
     "languageId": "plaintext"
    }
   },
   "outputs": [],
   "source": [
    ":k Int"
   ]
  },
  {
   "cell_type": "markdown",
   "metadata": {},
   "source": [
    "We won't get into much detail, but the short and sweet version is that:"
   ]
  },
  {
   "cell_type": "markdown",
   "metadata": {},
   "source": [
    "**A kind is like the type of a type**"
   ]
  },
  {
   "cell_type": "markdown",
   "metadata": {},
   "source": [
    "* `*` means: **\"concrete type\"** (a type that doesn't take any parameters)\n",
    "* `* -> *` means: **\"type constructor that takes a single concrete type and returns another concrete type\"**\n",
    "* `* -> (* -> *) -> *` means: **\"type constructor that takes one concrete type, and one single-paramter type constructor, and returns a concrete type\"**\n",
    "* And so on..."
   ]
  },
  {
   "cell_type": "markdown",
   "metadata": {},
   "source": [
    "Examples:"
   ]
  },
  {
   "cell_type": "markdown",
   "metadata": {},
   "source": [
    "`Int`, `String`, and other like them are concrete types."
   ]
  },
  {
   "cell_type": "code",
   "execution_count": null,
   "metadata": {
    "vscode": {
     "languageId": "plaintext"
    }
   },
   "outputs": [],
   "source": [
    ":k Int -- Concrete type"
   ]
  },
  {
   "cell_type": "markdown",
   "metadata": {},
   "source": [
    "`Box`, `Entity`, and `[]` (lists) all take a concrete type (`String`, `Int`, doesn't matter), and return a concrete type (`Box Int`, `Entity String`, `[Float]`)."
   ]
  },
  {
   "cell_type": "code",
   "execution_count": null,
   "metadata": {
    "vscode": {
     "languageId": "plaintext"
    }
   },
   "outputs": [],
   "source": [
    ":k Box -- Type constructor with one concrete type as parameter"
   ]
  },
  {
   "cell_type": "markdown",
   "metadata": {},
   "source": [
    "Notice that as soon as a type constructor gets all its parameters, it becomes a concrete type:"
   ]
  },
  {
   "cell_type": "code",
   "execution_count": null,
   "metadata": {
    "vscode": {
     "languageId": "plaintext"
    }
   },
   "outputs": [],
   "source": [
    ":k Box String"
   ]
  },
  {
   "cell_type": "markdown",
   "metadata": {},
   "source": [
    "And that you can also partially-apply type constructors same as with functions!:"
   ]
  },
  {
   "cell_type": "code",
   "execution_count": null,
   "metadata": {
    "vscode": {
     "languageId": "plaintext"
    }
   },
   "outputs": [],
   "source": [
    "data DoubleBox a b = Empty | Has a b deriving (Show)\n",
    "\n",
    ":k DoubleBox\n",
    ":k DoubleBox String\n",
    ":k DoubleBox String Int"
   ]
  },
  {
   "cell_type": "markdown",
   "metadata": {},
   "source": [
    "So, next time you need to know a bit more about a type, check its kind!"
   ]
  },
  {
   "cell_type": "markdown",
   "metadata": {},
   "source": [
    "And that's it! Let's do a quick recap:"
   ]
  },
  {
   "cell_type": "markdown",
   "metadata": {},
   "source": [
    "## Recap"
   ]
  },
  {
   "cell_type": "markdown",
   "metadata": {},
   "source": [
    "* "
   ]
  },
  {
   "cell_type": "markdown",
   "metadata": {},
   "source": [
    "* "
   ]
  },
  {
   "cell_type": "markdown",
   "metadata": {},
   "source": [
    "* "
   ]
  },
  {
   "cell_type": "markdown",
   "metadata": {},
   "source": [
    "* "
   ]
  },
  {
   "cell_type": "markdown",
   "metadata": {},
   "source": [
    "* "
   ]
  },
  {
   "cell_type": "markdown",
   "metadata": {},
   "source": [
    "* "
   ]
  }
 ],
 "metadata": {
  "language_info": {
   "name": "python"
  },
  "orig_nbformat": 4
 },
 "nbformat": 4,
 "nbformat_minor": 2
}
