{
 "cells": [
  {
   "cell_type": "markdown",
   "metadata": {},
   "source": [
    "# Monad"
   ]
  },
  {
   "cell_type": "markdown",
   "metadata": {},
   "source": [
    "## Outline\n",
    "\n",
    "* Incentive for Monad\n",
    "\n",
    "* Monads and \"do\" notation\n",
    "\n",
    "* Monad examples\n",
    "\n",
    "* Monad laws\n",
    "\n",
    "In this lesson, we will learn about the Monad type classe and how you can use it."
   ]
  },
  {
   "cell_type": "markdown",
   "metadata": {},
   "source": [
    "## Incentive for Monad"
   ]
  },
  {
   "cell_type": "markdown",
   "metadata": {},
   "source": [
    "We covered until now two cases with functor and applicative. If you have data in a `Maybe` cotext and the following functions:\n",
    "```haskell\n",
    "f1 :: a -> b\n",
    "f2 :: Maybe (a -> b) \n",
    "```\n",
    "then you can use the `<$>` and `<*>` operators to apply these two functions to data of type `Maybe` and get data of the same type returned. This works for the `Maybe` type because it has an instance of Functor and Applicative. You can also define your custom type and make it an instance of Functor and Applicative."
   ]
  },
  {
   "cell_type": "markdown",
   "metadata": {},
   "source": [
    "To describe it in a more general way: \n",
    "\n",
    "- we use Functors to solve the problem of mapping a function over a value inside a context\n",
    "- then we use Applicative to solve the problem of what happens if the function is also inside the context. \n",
    "\n",
    "And now, we have a new problem: What if we have a value with a context `(m a)` and a funciton that takes a contextless value and returns a value with a context `(a -> m b)`? Let's take an example for the Maybe type that provides the context for missing values:\n",
    "```haskell\n",
    "f3 :: a -> Maybe b\n",
    "```"
   ]
  },
  {
   "cell_type": "markdown",
   "metadata": {},
   "source": [
    "Here is an example with the the `Maybe` type and the `fromJust` and `isJust` functions that help us to solve this problem."
   ]
  },
  {
   "cell_type": "code",
   "execution_count": null,
   "metadata": {},
   "outputs": [],
   "source": [
    "import Data.Maybe (fromJust, isJust)\n",
    "import qualified Data.Map as Map\n",
    "\n",
    "bookIDs :: Map.Map Int Int\n",
    "bookIDs = Map.fromList $ zip [1,2,3] [2869, 7435, 1423]\n",
    "\n",
    "bookPrices :: Map.Map Int String\n",
    "bookPrices = Map.fromList $ zip [2869, 7435, 1423] [\"15EUR\",\"20USD\",\"18JPY\"]\n",
    "\n",
    "getPriceFromID :: Int -> Maybe String\n",
    "getPriceFromID n \n",
    "    | isJust id = Map.lookup (fromJust id) bookPrices\n",
    "    | otherwise = Nothing\n",
    "    where id = Map.lookup n bookIDs\n",
    "\n",
    "print $ getPriceFromID 1"
   ]
  },
  {
   "cell_type": "markdown",
   "metadata": {},
   "source": [
    "Let's now see how we can solve this problem with the Monad type class. The definition of Monad is the following:\n",
    "```haskell\n",
    "class Applicative m => Monad m where\n",
    "  (>>=) :: m a -> (a -> m b) -> m b\n",
    "  (>>) :: m a -> m b -> m b\n",
    "  return :: a -> m a\n",
    "```"
   ]
  },
  {
   "cell_type": "markdown",
   "metadata": {},
   "source": [
    "We see that Applicative is a superclass of Monad. The minimal complete definition requires just the bind operator `>>=`. Because the Maybe type has also an instance of Monad let's see how we can use the bind operator to rewrite the previous code example. We use also the `flip` function that reverses the order of input parameters for a function."
   ]
  },
  {
   "cell_type": "code",
   "execution_count": null,
   "metadata": {},
   "outputs": [],
   "source": [
    "getPriceFromIDBind :: Int -> Maybe String\n",
    "getPriceFromIDBind n = id >>= flip Map.lookup bookPrices\n",
    "    where id = Map.lookup n bookIDs\n",
    "\n",
    "print $ getPriceFromIDBind 1"
   ]
  },
  {
   "cell_type": "markdown",
   "metadata": {},
   "source": [
    "We get the same result as before and the function is two lines shorter. As in the Applicative lesson also here we state that the main reason why to use this operator is that it's easier to read the code because it's generic. The same symbol serves the same purpose for all Monads. "
   ]
  },
  {
   "cell_type": "markdown",
   "metadata": {},
   "source": [
    "## Monads and \"do\" notation"
   ]
  },
  {
   "cell_type": "markdown",
   "metadata": {},
   "source": [
    "Let's check out now the other to operators from the Monad type class. They are called the sequencing operator `>>` and the `return` operator. We notice that `return` looks the same as `pure` from the Applicative type class. In fact it does the same thing: puts a variavle into a context. The reason why they both exist is that the Monad type class predates the Applicative type class and when the later was developed `pure` was added to it because you can then express the `<$>` operator by using only `pure` and `<*>`. "
   ]
  },
  {
   "cell_type": "markdown",
   "metadata": {},
   "source": [
    "More interesting is the `>>` operator. It seems that it takes two variables in a monad context and throws away the first. That makes sense when you want to chain commands together. Let's have a look of a function that runs in IO which has also an instance of Monad tpye class."
   ]
  },
  {
   "cell_type": "code",
   "execution_count": null,
   "metadata": {},
   "outputs": [],
   "source": [
    "chain :: String -> IO ()\n",
    "chain msg = print \"My message is:\\n\" >> print msg\n",
    "\n",
    "chain \"test\""
   ]
  },
  {
   "cell_type": "markdown",
   "metadata": {},
   "source": [
    "We can now write a simple program that asks a user for his name and then prints back a greeting. We can use both the `>>` and the `>>=` operators."
   ]
  },
  {
   "cell_type": "code",
   "execution_count": null,
   "metadata": {},
   "outputs": [],
   "source": [
    "hello :: IO () \n",
    "hello = \n",
    "  print \"What is your name?\" >> \n",
    "  getLine >>= \n",
    "  (\\name -> return (\"Hello \" ++ name)) >>= \n",
    "  print\n",
    "\n",
    "hello"
   ]
  },
  {
   "cell_type": "markdown",
   "metadata": {},
   "source": [
    "We can re-write the above program by using `do` notation which is basically syntactic sugar (a nicer way of writing the same thing) for the code above."
   ]
  },
  {
   "cell_type": "code",
   "execution_count": null,
   "metadata": {},
   "outputs": [],
   "source": [
    "hello' :: IO () \n",
    "hello' = do \n",
    "  print \"What is your name?\" \n",
    "  name <- getLine \n",
    "  print (\"Hello \" ++ name) "
   ]
  },
  {
   "cell_type": "markdown",
   "metadata": {},
   "source": [
    "If you compare the code you see that the `<-` arrow is used to assign a variable that comes in a context to a variable without that context. In our case the `getLine` function returns an `IO String` and the variable `name` is just of type `String`. The statements are then chained together with the `>>` and `>>=` operators."
   ]
  },
  {
   "cell_type": "markdown",
   "metadata": {},
   "source": [
    "As you may remember you can also declare some variables inside a `do` block with a `let`. Here is the code that shows the version using lambda functions and the Monad operators with the code that uses only the `do` notation. The functions `monadExample` and `monadExample'` basically do the same thing."
   ]
  },
  {
   "cell_type": "code",
   "execution_count": null,
   "metadata": {},
   "outputs": [],
   "source": [
    "monadExample :: IO Int \n",
    "monadExample = do \n",
    "  let a = return 1 :: IO Int \n",
    "  let func var = return (var + 1) :: IO Int \n",
    "  a >>= func\n",
    "\n",
    "monadExample' :: IO Int \n",
    "monadExample' = \n",
    "  (\\a -> \n",
    "    a >>= \n",
    "      (\\var -> \n",
    "        return (var + 1) :: IO Int \n",
    "      ) \n",
    "  ) (return 1 :: IO Int)\n",
    "\n",
    "main :: IO ()\n",
    "main = do\n",
    "    var1 <- monadExample\n",
    "    var2 <- monadExample'\n",
    "    print var1\n",
    "    print var2\n",
    "\n",
    "main"
   ]
  },
  {
   "cell_type": "markdown",
   "metadata": {},
   "source": [
    "The `let` and `<-` statements are both used to assign variables but the diference is that the `<-` operator takes variables out of the context and stores them as a plain type. Where the `let` operator is used for classical declarations just as if you would declare a variable outside a function."
   ]
  },
  {
   "cell_type": "markdown",
   "metadata": {},
   "source": [
    "## Monad examples"
   ]
  },
  {
   "cell_type": "markdown",
   "metadata": {},
   "source": [
    "Now that you have see how the IO Monad works you can use the same concept for other types that have an instance of Monad. Lets take for example a list."
   ]
  },
  {
   "cell_type": "code",
   "execution_count": null,
   "metadata": {},
   "outputs": [],
   "source": [
    "add1 :: Num a => [a] -> [a]\n",
    "add1 myList = do\n",
    "    element <- myList\n",
    "    return $ element + 1\n",
    "\n",
    "print $ add1 [1..3]"
   ]
  },
  {
   "cell_type": "markdown",
   "metadata": {},
   "source": [
    "When you run the code above you see that even though you perform the (+ 1) operation on a signle element you get a list returned. You could generalize this function by using the Monad type constraint in the type signature and it would work for lists, maybe and other types that have an instance of Monad value, out of the box. "
   ]
  },
  {
   "cell_type": "code",
   "execution_count": null,
   "metadata": {},
   "outputs": [],
   "source": [
    "import qualified Data.Map as Map\n",
    "\n",
    "add1Monad :: (Num a, Monad m) => m a -> m a\n",
    "add1Monad var = do\n",
    "    raw <- var\n",
    "    return $ raw + 1\n",
    "\n",
    "print $ add1Monad [1..3]\n",
    "print $ add1Monad $ Just 1"
   ]
  },
  {
   "cell_type": "markdown",
   "metadata": {},
   "source": [
    "Another example of Monads is list comprehension which is an elegant way to create a list by specifying the element conditions inside the list. Here is a example:"
   ]
  },
  {
   "cell_type": "code",
   "execution_count": null,
   "metadata": {},
   "outputs": [],
   "source": [
    "import Control.Monad ( guard )\n",
    "\n",
    "list1 = [0 .. 9 :: Int]\n",
    "\n",
    "add1Even :: [Int] -> [Int]\n",
    "add1Even myList = do\n",
    "  n <- myList\n",
    "  let k = n + 1\n",
    "  guard(even k)\n",
    "  return k\n",
    "  \n",
    "add1Even' :: [Int] -> [Int]\n",
    "add1Even' myList = [k | n <- myList, let k = n + 1, even k] \n",
    "\n",
    "print $ add1Even list1\n",
    "print $ add1Even' list1"
   ]
  },
  {
   "cell_type": "markdown",
   "metadata": {},
   "source": [
    "The `guard` function is basically a filter that passes only values of `k` which are `True` fot the expression inside the brackets in `add1Even`. The function `add1Even` is just a de-sugarated version of the function `add1Even'`. In our last example lets create a custom type called `Writer` that holds two values of type `Int` and `String` that is just a string of the number. We make it an instance of Monad and then create a function that takes in three `Writer` variables and summs the numbers together and cocatenates the strings."
   ]
  },
  {
   "cell_type": "code",
   "execution_count": null,
   "metadata": {},
   "outputs": [],
   "source": [
    "import Control.Monad (ap, liftM)\n",
    "\n",
    "data Writer a = Writer a String\n",
    "    deriving Show\n",
    "\n",
    "bindWriter :: Writer a -> (a -> Writer b) -> Writer b\n",
    "bindWriter (Writer a xs) f =\n",
    "  let\n",
    "    Writer b ys = f a\n",
    "  in\n",
    "    Writer b $ xs ++ ys\n",
    "\n",
    "instance Functor Writer where\n",
    "    fmap = liftM\n",
    "\n",
    "instance Applicative Writer where\n",
    "    pure = return\n",
    "    (<*>) = ap\n",
    "\n",
    "instance Monad Writer where\n",
    "    return a = Writer a \"\"\n",
    "    (>>=) = bindWriter\n",
    "\n",
    "tell :: String -> Writer ()\n",
    "tell msg = Writer () msg\n",
    "\n",
    "tellAndSum :: Writer Int -> Writer Int -> Writer Int -> Writer Int\n",
    "tellAndSum x y z = do\n",
    "    tell \"Sumed numbers: \" \n",
    "    sumInts x y z\n",
    "\n",
    "sumInts :: Monad m => m Int -> m Int -> m Int -> m Int\n",
    "sumInts mx my mz = do\n",
    "    k <- mx\n",
    "    l <- my\n",
    "    m <- mz\n",
    "    let s = k + l + m\n",
    "    return s\n",
    "\n",
    "print $ tellAndSum (Writer 1 \"1 \") (Writer 2 \"2 \") (Writer 3 \"3\")"
   ]
  },
  {
   "cell_type": "markdown",
   "metadata": {},
   "source": [
    "In the above example we see that we have to also declare instances for Functor and Applicative because in the definition of Monad, Applicative is a superclass of Monad. And in the definition of Applicative, Functor is a superclass of Applicative. We do this with the functions that we import from the `Control.Monad` module."
   ]
  },
  {
   "cell_type": "markdown",
   "metadata": {},
   "source": [
    "Now that you know how to use the Monad type class you can check back again on the lesson **Basic IO** where we used Monad operators. More examples can be found also in the Homework section."
   ]
  },
  {
   "cell_type": "markdown",
   "metadata": {},
   "source": [
    "## Monad laws"
   ]
  },
  {
   "cell_type": "markdown",
   "metadata": {},
   "source": [
    "Monad has 3 laws. They are as follows:\n",
    "\n",
    "- Identity (left):<br>`return a >>= m = m a`\n",
    "\n",
    "- Identity (right):<br>`m >>= return = m`\n",
    "\n",
    "- Associativity:<br>`(a >>= b) >>= c = a >>= (\\x -> b x >>= c)`"
   ]
  },
  {
   "cell_type": "markdown",
   "metadata": {},
   "source": [
    "## Recap"
   ]
  },
  {
   "cell_type": "markdown",
   "metadata": {},
   "source": [
    "In this lesson we've discussed:\n",
    "\n",
    "- the motivation for introducing the Monad type \n",
    "\n",
    "- the Monad operators and \"do\" notation\n",
    "\n",
    "- examples that show how to use the Monad type class\n",
    "\n",
    "- laws that apply to the Monad type class"
   ]
  }
 ],
 "metadata": {
  "kernelspec": {
   "display_name": "Haskell",
   "language": "haskell",
   "name": "haskell"
  },
  "language_info": {
   "codemirror_mode": "ihaskell",
   "file_extension": ".hs",
   "mimetype": "text/x-haskell",
   "name": "haskell",
   "pygments_lexer": "Haskell",
   "version": "8.10.7"
  }
 },
 "nbformat": 4,
 "nbformat_minor": 4
}
