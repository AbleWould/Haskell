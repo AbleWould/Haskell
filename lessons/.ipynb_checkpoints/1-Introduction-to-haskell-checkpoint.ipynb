{
 "cells": [
  {
   "cell_type": "markdown",
   "metadata": {
    "slideshow": {
     "slide_type": "slide"
    }
   },
   "source": [
    "# Lesson 1.1 - Introduction to Haskell\n",
    "\n",
    "\n",
    "![](https://www.haskell.org/img/haskell-logo.svg)"
   ]
  },
  {
   "cell_type": "markdown",
   "metadata": {
    "slideshow": {
     "slide_type": "fragment"
    }
   },
   "source": [
    "## Outline\n",
    "* How to use JupyterLab\n",
    "* Purely functional\n",
    "* Basic syntax\n",
    "* Haskell Type system\n",
    "* Lazyness\n",
    "* Tools: GHC (GHCi), Cabal, Stack"
   ]
  },
  {
   "cell_type": "markdown",
   "metadata": {
    "slideshow": {
     "slide_type": "slide"
    }
   },
   "source": [
    "## How to use JuypyterLab\n",
    "* Each file is a Jupyter notebook.\n",
    "* Each Jupyter notebook is a series of cells.\n",
    "* To execute a cell click ⇧⏎ (Shift + Enter).\n",
    "* You can play arround with the code inside the cells.\n",
    "* Once you close the tab, every change will be lost."
   ]
  },
  {
   "cell_type": "markdown",
   "metadata": {
    "slideshow": {
     "slide_type": "slide"
    }
   },
   "source": [
    "## Purely functional programming language\n",
    "\n",
    "\n",
    "Haskell is a purely functional programming language."
   ]
  },
  {
   "cell_type": "markdown",
   "metadata": {
    "slideshow": {
     "slide_type": "slide"
    }
   },
   "source": [
    "###  Functional programming languages\n",
    "\n",
    "In functional programming languages, function definitions are **trees of expressions that map values to other values** rather than a sequence of imperative statements like in imperative languages.\n",
    "\n",
    "**Programs are constructed by applying and composing functions**. "
   ]
  },
  {
   "cell_type": "markdown",
   "metadata": {
    "slideshow": {
     "slide_type": "slide"
    }
   },
   "source": [
    "### Function composition\n",
    "\n",
    "Function composition is the act of **combining simple functions into more complicated ones**.\n",
    "\n",
    "Like the usual composition of functions in mathematics, the **result of each function is passed as the argument of the next**, and the result of the last one is the result of the whole."
   ]
  },
  {
   "cell_type": "markdown",
   "metadata": {
    "slideshow": {
     "slide_type": "notes"
    }
   },
   "source": [
    "For example, suppose we have two functions $f$ and $g$:"
   ]
  },
  {
   "cell_type": "markdown",
   "metadata": {
    "slideshow": {
     "slide_type": "fragment"
    }
   },
   "source": [
    "$$y = f(x)$$\n",
    "$$z = g(y)$$"
   ]
  },
  {
   "cell_type": "markdown",
   "metadata": {
    "slideshow": {
     "slide_type": "notes"
    }
   },
   "source": [
    "Composing them means we first compute $f(x)$ to get $y$, and then use $y$ as an argument to compute $g(y)$ to get $z$.\n",
    "\n",
    "On top of that, if we only care about the final result ($z$), we can skip naming the result of $f(x)$ as $y$ and just write:"
   ]
  },
  {
   "cell_type": "markdown",
   "metadata": {
    "slideshow": {
     "slide_type": "fragment"
    }
   },
   "source": [
    "$$z = g(f(x))$$"
   ]
  },
  {
   "cell_type": "markdown",
   "metadata": {
    "slideshow": {
     "slide_type": "slide"
    }
   },
   "source": [
    "**That's how we can create arbitrarily complex functions by composing single functions.** For example, if we have:\n",
    "* A function that takes a CSV file and extracts a list of users from it.\n",
    "* A function that takes a list of users and adds them to a database tagging them as new users.\n",
    "* And a function that takes a database with users and sends an email to all new users.\n",
    "\n",
    "We could create **a single function that takes a CSV file and sends emails to all new users** on that CSV file by composing those three functions."
   ]
  },
  {
   "cell_type": "markdown",
   "metadata": {
    "slideshow": {
     "slide_type": "slide"
    }
   },
   "source": [
    "### Purely functional\n",
    "\n",
    "Purely functional programming languages treat all computations as the evaluation of mathematical functions."
   ]
  },
  {
   "cell_type": "markdown",
   "metadata": {
    "slideshow": {
     "slide_type": "fragment"
    }
   },
   "source": [
    "It consists of ensuring that **functions will only depend on their arguments, regardless of any global or local state**."
   ]
  },
  {
   "cell_type": "markdown",
   "metadata": {
    "slideshow": {
     "slide_type": "fragment"
    }
   },
   "source": [
    "In mathematics, the expression $y = x + 1$ means that the value of $y$ is a function that depends on $x$."
   ]
  },
  {
   "cell_type": "markdown",
   "metadata": {
    "slideshow": {
     "slide_type": "fragment"
    }
   },
   "source": [
    "For a specific $x$, the value of $y$ will always be the same. No matter if you're in Italy or Spain, if it's 1994 or 2022, or if you have other equations in the notebook. $y$ will care about the value of $x$ and nothing else."
   ]
  },
  {
   "cell_type": "markdown",
   "metadata": {
    "slideshow": {
     "slide_type": "fragment"
    }
   },
   "source": [
    "**That's a pure function, and that's how Haskell works.**"
   ]
  },
  {
   "cell_type": "markdown",
   "metadata": {
    "slideshow": {
     "slide_type": "slide"
    }
   },
   "source": [
    "## Basic syntax"
   ]
  },
  {
   "cell_type": "markdown",
   "metadata": {
    "slideshow": {
     "slide_type": "slide"
    }
   },
   "source": [
    "### Indentation\n",
    "\n",
    "**Haskell is indentation sensitive**. Which means that spaces, tabs, and newlines matter.\n",
    "\n",
    "The golden rule is:\n",
    "\n",
    "<blockquote>Code which is part of some expression should be indented further in than the beginning of that expression (even if the expression is not the leftmost element of the line).</blockquote\n",
    "\n",
    "We'll look at examples in future lessons."
   ]
  },
  {
   "cell_type": "markdown",
   "metadata": {
    "slideshow": {
     "slide_type": "slide"
    }
   },
   "source": [
    "### Commenting the code"
   ]
  },
  {
   "cell_type": "code",
   "execution_count": null,
   "metadata": {
    "slideshow": {
     "slide_type": "fragment"
    },
    "vscode": {
     "languageId": "python"
    }
   },
   "outputs": [],
   "source": [
    "-- Use double dash to comment within a single line of code.\n",
    "\n",
    "{-\n",
    "Use curly bracket with a single dash to\n",
    "  open and close\n",
    "multi-line comments.\n",
    "-}"
   ]
  },
  {
   "cell_type": "markdown",
   "metadata": {
    "slideshow": {
     "slide_type": "slide"
    }
   },
   "source": [
    "### Defining functions\n",
    "\n",
    "Haskell being a functional programming language means that you're going to write a lot of funcitons. So that's where we'll start."
   ]
  },
  {
   "cell_type": "markdown",
   "metadata": {
    "slideshow": {
     "slide_type": "slide"
    }
   },
   "source": [
    "This is an expression to define a function that checks if a number is greater than 18:"
   ]
  },
  {
   "cell_type": "code",
   "execution_count": null,
   "metadata": {
    "slideshow": {
     "slide_type": "fragment"
    },
    "vscode": {
     "languageId": "python"
    }
   },
   "outputs": [],
   "source": [
    "greaterThan18 x = x > 18"
   ]
  },
  {
   "cell_type": "markdown",
   "metadata": {
    "slideshow": {
     "slide_type": "fragment"
    }
   },
   "source": [
    "* `greaterThan18` is the name of the function. Choose a name that makes it easy to know what it does.\n",
    "* `x` is a parameter.\n",
    "* The `=` operator assigns the `x > 18` expression to the `greaterThan18` name.\n",
    "\n",
    "To the left of the `=` sign, we write the function's name and parameters. And to the right, the expression that'll be contained by this function."
   ]
  },
  {
   "cell_type": "markdown",
   "metadata": {
    "slideshow": {
     "slide_type": "slide"
    }
   },
   "source": [
    "### Using functions"
   ]
  },
  {
   "cell_type": "markdown",
   "metadata": {
    "slideshow": {
     "slide_type": "fragment"
    }
   },
   "source": [
    "To use the `greaterThan18` function, we just have to write the name, a space, and write a number:"
   ]
  },
  {
   "cell_type": "code",
   "execution_count": null,
   "metadata": {
    "slideshow": {
     "slide_type": "fragment"
    },
    "vscode": {
     "languageId": "python"
    }
   },
   "outputs": [],
   "source": [
    "greaterThan18 30"
   ]
  },
  {
   "cell_type": "markdown",
   "metadata": {
    "slideshow": {
     "slide_type": "fragment"
    }
   },
   "source": [
    "The function is executed, Haskell replaces all the `x` with `30`, and `greaterThan18 30` becomes `30 > 18`. Then, it evaluates the expression, returning `True`."
   ]
  },
  {
   "cell_type": "markdown",
   "metadata": {
    "slideshow": {
     "slide_type": "slide"
    }
   },
   "source": [
    "### More examples"
   ]
  },
  {
   "cell_type": "code",
   "execution_count": null,
   "metadata": {
    "slideshow": {
     "slide_type": "slide"
    },
    "vscode": {
     "languageId": "python"
    }
   },
   "outputs": [],
   "source": [
    "-- A function that adds 6 numbers:\n",
    "add6numbers u v w x y z = u + v + w + x + y + z\n",
    "add6numbers  1 2 3 4 5 6  -- 21"
   ]
  },
  {
   "cell_type": "code",
   "execution_count": null,
   "metadata": {
    "slideshow": {
     "slide_type": "slide"
    },
    "vscode": {
     "languageId": "python"
    }
   },
   "outputs": [],
   "source": [
    "-- A function that calculates the volume of a cylinder\n",
    "volumeOfACylinder r h = pi * r^2 * h  -- pi represents the number π, and it comes with Haskell\n",
    "volumeOfACylinder 3 10"
   ]
  },
  {
   "cell_type": "code",
   "execution_count": null,
   "metadata": {
    "slideshow": {
     "slide_type": "slide"
    },
    "vscode": {
     "languageId": "python"
    }
   },
   "outputs": [],
   "source": [
    "-- A function that takes the temperature in Fahrenheith and returns it in Celsius\n",
    "fToC x = (x - 32) * 5 / 9\n",
    "fToC 212  -- 100\t"
   ]
  },
  {
   "cell_type": "markdown",
   "metadata": {
    "slideshow": {
     "slide_type": "slide"
    }
   },
   "source": [
    "### Key points\n",
    "* Parameteres are separated by spaces.\n",
    "* Everything after the `=` is the function's body.\n",
    "* The first letter of a function's name has to be lowercase.\n",
    "* We use parenthesis to prioritize calculations, like in maths."
   ]
  },
  {
   "cell_type": "markdown",
   "metadata": {
    "slideshow": {
     "slide_type": "slide"
    }
   },
   "source": [
    "## Haskell type system"
   ]
  },
  {
   "cell_type": "markdown",
   "metadata": {
    "slideshow": {
     "slide_type": "fragment"
    }
   },
   "source": [
    "Types are **attributes that constraint the values a piece of code can have**. For example, if you indicate that some data is a number, that data could have any of these values:\n",
    "\n",
    "      32\n",
    "\n",
    "      9999695939294\n",
    "\n",
    "      0.5"
   ]
  },
  {
   "cell_type": "markdown",
   "metadata": {
    "slideshow": {
     "slide_type": "fragment"
    }
   },
   "source": [
    "But, if you try to add a character in there, like this: `6A3` (instead of `63`), the compiler/interpreter will yell at you.\n",
    "\n",
    "What your compiler/interpreter did just there is called \"**type checking**.\" Some languages have more strongly enforced type checking, some less."
   ]
  },
  {
   "cell_type": "markdown",
   "metadata": {
    "slideshow": {
     "slide_type": "slide"
    }
   },
   "source": [
    "### Type checking\n",
    "\n",
    "**Type checking is the process of verifying and enforcing the constraints of types.**"
   ]
  },
  {
   "cell_type": "markdown",
   "metadata": {
    "slideshow": {
     "slide_type": "fragment"
    }
   },
   "source": [
    "**What does this mean?** It means that each type has its own constraints (E.g., you can't do math with letters.), and this process checks that those constraints are respected."
   ]
  },
  {
   "cell_type": "markdown",
   "metadata": {
    "slideshow": {
     "slide_type": "fragment"
    }
   },
   "source": [
    "**Why would you do this?** To avoid preventable mistakes. If further along in your program, you want to add up some numbers and one of them has a letter, the program wouldn't know what to do, and it would crash on you. Those are preventable mistakes (bugs), and the compiler/interpreter helps you avoid them."
   ]
  },
  {
   "cell_type": "markdown",
   "metadata": {
    "slideshow": {
     "slide_type": "fragment"
    }
   },
   "source": [
    "Usually, this is done automatically. But not all languages do this the same way. There are two main distinctions regarding as to WHEN the types are checked: Dynamically typed languages and Statically typed languages."
   ]
  },
  {
   "cell_type": "markdown",
   "metadata": {
    "slideshow": {
     "slide_type": "slide"
    }
   },
   "source": [
    "#### Dynamically typed languages\n",
    "\n",
    "**Dynamically typed languages check the types at run-time**. Run-time is the very last thing that you do with a program. It's the stage when you run your program to test it or use it.\n",
    "\n",
    "Common examples of dynamically-typed languages include JavaScript, Python, Objective-C, and PHP."
   ]
  },
  {
   "cell_type": "markdown",
   "metadata": {
    "slideshow": {
     "slide_type": "fragment"
    }
   },
   "source": [
    "#### Statically typed languages\n",
    "\n",
    "**Statically typed languages check the types at compile-time**. Meaning that you'll know if your types are wrong as soon as you compile your program. Which leads to a safer and more optimized code.\n",
    "\n",
    "Common examples of statically-typed languages include Java, C, and C++."
   ]
  },
  {
   "cell_type": "markdown",
   "metadata": {
    "slideshow": {
     "slide_type": "slide"
    }
   },
   "source": [
    "### Haskell type system\n",
    "\n",
    "**Haskell is statically typed**. And, in Haskell, **every expression has a type**.\n",
    "\n",
    "But don't worry, you don't have to manually define the types of every expression because Haskell's compiler is very good at **type inference**."
   ]
  },
  {
   "cell_type": "markdown",
   "metadata": {
    "slideshow": {
     "slide_type": "fragment"
    }
   },
   "source": [
    "**Type inference allows Haskell to infer the types on its own**. If you write something like `3 + 4`, Haskell will know that the result of that expression is a number, and it will treat it like it without the need for you to specify the type. (It works with more complicated expressions, too. See previous examples.)"
   ]
  },
  {
   "cell_type": "markdown",
   "metadata": {
    "slideshow": {
     "slide_type": "fragment"
    }
   },
   "source": [
    "That allows the compiler to **comprehend and reason *quite a lot* about your program**. Providing you with a pretty effective bug-catching assistant.\n",
    "\n",
    "If the code is too ambiguous for the compiler to infer the type, it'll ask you to specify the type."
   ]
  },
  {
   "cell_type": "markdown",
   "metadata": {
    "slideshow": {
     "slide_type": "fragment"
    }
   },
   "source": [
    "If the code is too ambiguous for the compiler to infer the type, it'll ask you to specify the type."
   ]
  },
  {
   "cell_type": "markdown",
   "metadata": {
    "slideshow": {
     "slide_type": "fragment"
    }
   },
   "source": [
    "Even though it's not needed for the compiler, it's considered good practice to write out the type signature of top-level functions and expressions. To improve code readability."
   ]
  },
  {
   "cell_type": "markdown",
   "metadata": {
    "slideshow": {
     "slide_type": "slide"
    }
   },
   "source": [
    "## Lazyness"
   ]
  },
  {
   "cell_type": "markdown",
   "metadata": {
    "slideshow": {
     "slide_type": "fragment"
    }
   },
   "source": [
    "**Haskell is lazy. This means that it won't evaluate expressions untill their results are needed by other computations.**"
   ]
  },
  {
   "cell_type": "markdown",
   "metadata": {
    "slideshow": {
     "slide_type": "notes"
    }
   },
   "source": [
    "Examples of Haskell lazyness in practice:"
   ]
  },
  {
   "cell_type": "markdown",
   "metadata": {
    "slideshow": {
     "slide_type": "slide"
    }
   },
   "source": [
    "* We can use infinite lists."
   ]
  },
  {
   "cell_type": "code",
   "execution_count": null,
   "metadata": {
    "slideshow": {
     "slide_type": "fragment"
    },
    "vscode": {
     "languageId": "python"
    }
   },
   "outputs": [],
   "source": [
    "giveMe x = take x [1..] -- [1..] is an infinite list of natural numbers that starts at 1.\n",
    "giveMe 7"
   ]
  },
  {
   "cell_type": "markdown",
   "metadata": {
    "slideshow": {
     "slide_type": "slide"
    }
   },
   "source": [
    "\n",
    "* Haskell won't evaluate expressions if they aren't needed"
   ]
  },
  {
   "cell_type": "code",
   "execution_count": null,
   "metadata": {
    "slideshow": {
     "slide_type": "fragment"
    },
    "vscode": {
     "languageId": "python"
    }
   },
   "outputs": [],
   "source": [
    "cheapComputation = 7 \n",
    "expensiveComputation = sum [1..10000000] -- sum is a function that takes a list and returns the sum of all the elements. This will crash the kernel.\n",
    "if cheapComputation > 5 || expensiveComputation > 5 then \"Done\" else \"This won't ever show because expensiveComputation is always bigger than 5\"\n",
    "-- Try running this cell with cheapComputation being bigger and smaller than 5.\n",
    "-- When cheapComputation > 5, expensiveComputation isn't evaluated because it is not needed."
   ]
  },
  {
   "cell_type": "markdown",
   "metadata": {
    "slideshow": {
     "slide_type": "slide"
    }
   },
   "source": [
    "## Tools"
   ]
  },
  {
   "cell_type": "markdown",
   "metadata": {
    "slideshow": {
     "slide_type": "slide"
    }
   },
   "source": [
    "### A few words on Cabal and Stack"
   ]
  },
  {
   "cell_type": "markdown",
   "metadata": {
    "slideshow": {
     "slide_type": "fragment"
    }
   },
   "source": [
    "While learning about Haskell, you'll often encounter the Cabal and Stack terms.\n",
    "\n",
    "**These are systems for managing libraries and programs**. They make it extremely easy to work with libraries.\n",
    "\n",
    "We'll use Cabal in this course, and we'll explain how to use it at a later stage."
   ]
  },
  {
   "cell_type": "markdown",
   "metadata": {
    "slideshow": {
     "slide_type": "slide"
    }
   },
   "source": [
    "### GHC and GHCi"
   ]
  },
  {
   "cell_type": "markdown",
   "metadata": {
    "slideshow": {
     "slide_type": "fragment"
    }
   },
   "source": [
    "**GHC (Glasgow Haskell Compiler) is a compiler and interactive environment for Haskell**. Using GHC we can:\n",
    "* Compile programs and execute them like any other app.\n",
    "* Evaluate Haskell expressions on the fly using the interactive environment provided by the GHC (the GHCi).\n",
    "\n",
    "To use GHCi, open the terminal in the GitPod remote envronment that we've prepared and type `ghci`.\n",
    "\n",
    "Use `:l relative/path.hs` inside GHCi to load a file and interactively use its contents."
   ]
  }
 ],
 "metadata": {
  "celltoolbar": "Slideshow",
  "kernelspec": {
   "display_name": "Haskell",
   "language": "haskell",
   "name": "haskell"
  },
  "language_info": {
   "codemirror_mode": "ihaskell",
   "file_extension": ".hs",
   "mimetype": "text/x-haskell",
   "name": "haskell",
   "pygments_lexer": "Haskell",
   "version": "8.10.7"
  },
  "rise": {
   "enable_chalkboard": true,
   "header": "<img style=\"position: relative; left: 20px; width: 200px; top: 10px;\" src=\"https://raw.githubusercontent.com/rober-m/haskell-bootcamp/main/images/input-output.svg\"/>"
  }
 },
 "nbformat": 4,
 "nbformat_minor": 2
}
