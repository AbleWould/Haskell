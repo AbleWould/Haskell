{
 "cells": [
  {
   "cell_type": "markdown",
   "metadata": {},
   "source": [
    "# Intro to Type Classes"
   ]
  },
  {
   "cell_type": "markdown",
   "metadata": {},
   "source": [
    "## Outline\n",
    "* What are type classes \n",
    "* Common type classes \n",
    "\t* Eq\n",
    "\t* Ord (how >,<, etc, works on lists and tuples?)\n",
    "\t* Integral\n",
    "\t* Floating\n",
    "\t* Num\n",
    "\t* Read and Show\n",
    "* Type class vs type vs value\n",
    "* Class constraints with examples"
   ]
  },
  {
   "cell_type": "markdown",
   "metadata": {},
   "source": [
    "## What are type classes"
   ]
  },
  {
   "cell_type": "markdown",
   "metadata": {},
   "source": [
    "\n",
    "This is an introduction to type classes, so we won't learn how to create type classes nor make a type an instance of a type class. The objective of this lesson is to understand what they are so we can use the native type classes that comes with Haskell."
   ]
  },
  {
   "cell_type": "markdown",
   "metadata": {},
   "source": [
    "**Type classes are interfaces that define some behavior**. They are like clubs that types can belong to if they have what it takes!\n",
    "\n",
    "If you meet people that belong to the advanced-drawing club, you know that they can draw. Why? Because it's one of the requirements to enter the club!\n",
    "\n",
    "Type classes are the same. They have particular behaviors. **If a type implements and supports the behaviors of a type class, then the type is an Instance of that type class** (a member of that club).\n",
    "\n",
    "In order to see for a type what type classes it belongs to, you can use the command below. There are also other information displayed which we will discuss in another chapter.\n",
    "```haskell\n",
    ":i <name_of_type>\n",
    ":i Int\n",
    "```\n",
    "\n",
    "A type class can have multiple instances, and a type can belong to multiple type classes.\n",
    "\n",
    "When a type is a member of a type class it can use all of the functions that belong to that type class.\n",
    "\n",
    "Let's explore a few examples:"
   ]
  },
  {
   "cell_type": "markdown",
   "metadata": {},
   "source": [
    "## Common type classes"
   ]
  },
  {
   "cell_type": "markdown",
   "metadata": {},
   "source": [
    "### The `Eq` type class"
   ]
  },
  {
   "cell_type": "markdown",
   "metadata": {},
   "source": [
    "The `Eq` type class is all about equality. The types that are instances of the `Eq` type class can say if two values of its type are equal or different by using the `==` (equal) and `/=` (not equal) functions.\n",
    "\n",
    "We can learn more looking at the type signatures of `==` and `/=`:"
   ]
  },
  {
   "cell_type": "markdown",
   "metadata": {
    "vscode": {
     "languageId": "plaintext"
    }
   },
   "source": [
    "```haskell\n",
    "(==) :: Eq a => a -> a -> Bool\n",
    "\n",
    "(/=) :: Eq a => a -> a -> Bool\n",
    "```"
   ]
  },
  {
   "cell_type": "markdown",
   "metadata": {},
   "source": [
    "The `=>` symbol is the **class constraint** symbol.\n",
    "\n",
    "It indicates that **a polymorphic type is constrained to be an instance of a type class**. (In this case, the type a has to be an instance of the type class `Eq`.) So, we're constraining (limiting) the types that you can pass to these two functions, from all the types to only those that are instances of the `Eq` type class."
   ]
  },
  {
   "cell_type": "markdown",
   "metadata": {},
   "source": [
    "How is this useful to you? Because you can use polymorphic types and still protect yourself from passing the wrong type. For example, imagine you create this function:"
   ]
  },
  {
   "cell_type": "code",
   "execution_count": null,
   "metadata": {},
   "outputs": [],
   "source": [
    "func x y = if x == y then x else y"
   ]
  },
  {
   "cell_type": "markdown",
   "metadata": {},
   "source": [
    "You don't do math, manipulate strings, or do anything type-dependent. So you can use type variables. **But you do check if the values are equal. So you want to make sure that this function only accepts values that can be checked for equality**. That's what the `Eq` type class constraint is here for. To block you from using types with values that can't be compared.\n",
    "\n",
    "And because `==` has the `Eq a` constraint and `func` uses `==` inside, Haskell is smart enough to infer that our function's type signature also has that constraint:"
   ]
  },
  {
   "cell_type": "code",
   "execution_count": null,
   "metadata": {},
   "outputs": [],
   "source": [
    "func :: Eq a => a -> a -> a"
   ]
  },
  {
   "cell_type": "markdown",
   "metadata": {},
   "source": [
    "So far, all the types that we encounter are instances of this class type (except for functions). That's why we can check if two values of type `Char`, `Int`, `String`, etc are equal or not.\n",
    "\n",
    "But, you can't do much with types that belong only to the `Eq` type class. You can only tell if they are the same exact value or not. Luckily, `Eq` is not the only club in town!"
   ]
  },
  {
   "cell_type": "markdown",
   "metadata": {},
   "source": [
    "### The `Ord` type class"
   ]
  },
  {
   "cell_type": "markdown",
   "metadata": {},
   "source": [
    "The `Ord` type class is all about order. The types that are instances of the `Ord` type class can order their values and say which value is the biggest.\n",
    "\n",
    "For example, a type that is an instance of the Ord type class can use the > (greater than) function:"
   ]
  },
  {
   "cell_type": "markdown",
   "metadata": {
    "vscode": {
     "languageId": "plaintext"
    }
   },
   "source": [
    "```haskell\n",
    "(>) :: Ord a => a -> a -> Bool\n",
    "```"
   ]
  },
  {
   "cell_type": "markdown",
   "metadata": {},
   "source": [
    "We've already used this function in previous lessons. It takes two values of the same type and returns a boolean:"
   ]
  },
  {
   "cell_type": "code",
   "execution_count": null,
   "metadata": {},
   "outputs": [],
   "source": [
    "4 > 9 -- False"
   ]
  },
  {
   "cell_type": "markdown",
   "metadata": {},
   "source": [
    "How are the values ordered? It depends on the type. With numbers, it follows the mathematical order (e.g., `4` comes before `5` and after `3`). With characters, it follows the Unicode order. And other types have other rankings.\n",
    "\n",
    "As you can see, **each type has its own way of implementing the behaviors** of the type class. And the type class doesn't care, as long as they have them. It makes sense because each type has its own quirks, and a single definition of `==` or `>` can't possibly fit them all."
   ]
  },
  {
   "cell_type": "markdown",
   "metadata": {},
   "source": [
    "### Other behaviors of the `Ord` type class\n",
    "\n",
    "With the ability to order thing arround, we can do more than just inequality ( `<`, `>`, `<=`, `>=`)"
   ]
  },
  {
   "cell_type": "markdown",
   "metadata": {},
   "source": [
    "#### The `min` and `max` functions"
   ]
  },
  {
   "cell_type": "markdown",
   "metadata": {
    "vscode": {
     "languageId": "plaintext"
    }
   },
   "source": [
    "The `min` function takes two values of a type that is an instance of `Ord` and returns the minimum of the two\n",
    "\n",
    "```haskell\n",
    "min :: Ord a => a -> a -> a\n",
    "```"
   ]
  },
  {
   "cell_type": "markdown",
   "metadata": {},
   "source": [
    "For example:"
   ]
  },
  {
   "cell_type": "code",
   "execution_count": null,
   "metadata": {},
   "outputs": [],
   "source": [
    "min 12 19 -- 12"
   ]
  },
  {
   "cell_type": "markdown",
   "metadata": {},
   "source": [
    "The `max` function takes two values of a type that is an instance of `Ord` and returns the maximum of the two:\n",
    "\n",
    "```haskell\n",
    "max :: Ord a => a -> a -> a\n",
    "```"
   ]
  },
  {
   "cell_type": "markdown",
   "metadata": {},
   "source": [
    "For example:"
   ]
  },
  {
   "cell_type": "code",
   "execution_count": null,
   "metadata": {},
   "outputs": [],
   "source": [
    "max 12 19 -- 19"
   ]
  },
  {
   "cell_type": "markdown",
   "metadata": {},
   "source": [
    "#### The `compare` function"
   ]
  },
  {
   "cell_type": "markdown",
   "metadata": {},
   "source": [
    "Check out the compare type signature:\n",
    "\n",
    "```haskell\n",
    "compare :: Ord a => a -> a -> Ordering\n",
    "```"
   ]
  },
  {
   "cell_type": "markdown",
   "metadata": {},
   "source": [
    "The `compare` function takes two values of a type that is an instance of `Ord` and returns a value of type `Ordering`, indicating the order of the values."
   ]
  },
  {
   "cell_type": "markdown",
   "metadata": {},
   "source": [
    "In the same way that `Bool` has only two values (`True` and `False`), the `Ordering` type has only three values: `LT` (lesser than), `EQ` (equal), and `GT` (greater than)."
   ]
  },
  {
   "cell_type": "markdown",
   "metadata": {},
   "source": [
    "For example:"
   ]
  },
  {
   "cell_type": "code",
   "execution_count": null,
   "metadata": {},
   "outputs": [],
   "source": [
    "compare 4 9         -- LT (4 is lesser than 9)\n",
    "\n",
    "'f' `compare` 'e'   -- GT ('f' is greater than 'e')\n",
    "\n",
    "True `compare` True -- EQ ( True is equal to True)"
   ]
  },
  {
   "cell_type": "markdown",
   "metadata": {},
   "source": [
    "Again, so far, all the types we learned are instances of this class type (except for functions)."
   ]
  },
  {
   "cell_type": "markdown",
   "metadata": {},
   "source": [
    "### Numbers\n",
    "\n",
    "Numeric types are one of the most used types in any programming language. But not all numeric types can do the same thing."
   ]
  },
  {
   "cell_type": "markdown",
   "metadata": {},
   "source": [
    "#### The `Num` type class"
   ]
  },
  {
   "cell_type": "markdown",
   "metadata": {},
   "source": [
    "Types that are instances of the `Num` type class can behave like numbers. But not like a specific subset of numbers. The `Num` type class defines the behavior of numbers in general."
   ]
  },
  {
   "cell_type": "markdown",
   "metadata": {},
   "source": [
    "For example, types that are instances of this type class can be (among other things) added, subtracted, or multiplied:\n",
    "\n",
    "```haskell\n",
    "(+) :: Num a => a -> a -> a\n",
    "\n",
    "(-) :: Num a => a -> a -> a\n",
    "\n",
    "(*) :: Num a => a -> a -> a\n",
    "```"
   ]
  },
  {
   "cell_type": "markdown",
   "metadata": {},
   "source": [
    "For example:"
   ]
  },
  {
   "cell_type": "code",
   "execution_count": null,
   "metadata": {},
   "outputs": [],
   "source": [
    "5 - 1      -- 4\n",
    "\n",
    "8.9 + 0.1  -- 9.0\n",
    "\n",
    "'a' - 'b'  -- ERROR! Char is not an instance of Num!\n"
   ]
  },
  {
   "cell_type": "markdown",
   "metadata": {},
   "source": [
    "Now we're talking! This is a life savior! Imagine I want to create a function that does some math:"
   ]
  },
  {
   "cell_type": "code",
   "execution_count": null,
   "metadata": {},
   "outputs": [],
   "source": [
    "add1 x = x + 1"
   ]
  },
  {
   "cell_type": "markdown",
   "metadata": {},
   "source": [
    "I don't want to choose a type like `Int` and only allow `Int` values. `Float`, `Double`, and `Integer` types could work perfectly fine! But, if there were no constraints, I could pass any type! What's the result of `'a' + 1`? Or `True + 1`? It doesn't make any sense!"
   ]
  },
  {
   "cell_type": "markdown",
   "metadata": {},
   "source": [
    "Because only types that are instances of the `Num` type class can use `+`, and because `Float`, `Double`, `Int`, and `Integer` are all instances of `Num`, we can constraint our function like this:\n",
    "\n",
    "```haskell\n",
    "add1 :: Num a => a -> a\n",
    "```\n",
    "\n",
    "But we don't have to do this maually. Haskell knows that to use `+`, you have to be an instance of the `Num` type, so it infers the type signature automagically! Providing flexibility and protecting us at the same time."
   ]
  },
  {
   "cell_type": "markdown",
   "metadata": {},
   "source": [
    "This is awesome! But, sometimes, we need something more specific."
   ]
  },
  {
   "cell_type": "markdown",
   "metadata": {},
   "source": [
    "### The `Integral` type class"
   ]
  },
  {
   "cell_type": "markdown",
   "metadata": {},
   "source": [
    "The `Num` type class includes all the numbers, and the `Integral` type class only the Natural numbers. Such as `4`, but not `4.3`."
   ]
  },
  {
   "cell_type": "markdown",
   "metadata": {},
   "source": [
    "`Integral` is a more exclusive club than `Num`. Of all the types we studied so far, only `Int` and `Integer` belong to it."
   ]
  },
  {
   "cell_type": "markdown",
   "metadata": {},
   "source": [
    "This type class defines many behaviors, one of the most well-known `Integral` functions is `div`.\n",
    "\n",
    "```haskell\n",
    "div :: Integral a => a -> a -> a\n",
    "```"
   ]
  },
  {
   "cell_type": "markdown",
   "metadata": {},
   "source": [
    "It takes two values of a type that is an instance of `Integral` and divides them, returning only the whole part of the division."
   ]
  },
  {
   "cell_type": "markdown",
   "metadata": {},
   "source": [
    "Examples:"
   ]
  },
  {
   "cell_type": "code",
   "execution_count": null,
   "metadata": {},
   "outputs": [],
   "source": [
    "3 `div` 5    -- 0\n",
    "\n",
    "div 5 2      -- 2"
   ]
  },
  {
   "cell_type": "markdown",
   "metadata": {},
   "source": [
    "### The `Fractional` type class"
   ]
  },
  {
   "cell_type": "markdown",
   "metadata": {},
   "source": [
    "The `Fractional` type class is all about fractional numbers. The types that are instances of the `Fractional` type class can represent and modify fractional values."
   ]
  },
  {
   "cell_type": "markdown",
   "metadata": {},
   "source": [
    "By far, the most valuable function that instances of the Fractional type class can use is `/`:\n",
    "\n",
    "```haskell\n",
    "(/) :: Fractional a => a -> a -> a\n",
    "```"
   ]
  },
  {
   "cell_type": "markdown",
   "metadata": {},
   "source": [
    "Unlike `div`, we can be more precise about our values because we're using fractional numbers. "
   ]
  },
  {
   "cell_type": "markdown",
   "metadata": {},
   "source": [
    "For example:"
   ]
  },
  {
   "cell_type": "code",
   "execution_count": null,
   "metadata": {},
   "outputs": [],
   "source": [
    "10 / 5  -- 2.0\n",
    "\n",
    "5  / 2  -- 2.5\n",
    "\n",
    "10 / 3  -- 3.3333333333333335"
   ]
  },
  {
   "cell_type": "markdown",
   "metadata": {},
   "source": [
    "#### Quick test:\n",
    "\n",
    "What's the signature of this function?\n",
    "\n",
    "```haskell\n",
    "fToC x = (x - 32)*5/9\n",
    "```"
   ]
  },
  {
   "cell_type": "markdown",
   "metadata": {},
   "source": [
    "1. It takes a value and returns a value.\n",
    "\n",
    "```haskell\n",
    "fToC :: a -> a\n",
    "```"
   ]
  },
  {
   "cell_type": "markdown",
   "metadata": {},
   "source": [
    "2. But, the value that it takes must be a numeric type (we're doing math with several mathematical functions).\n",
    "\n",
    "```haskell\n",
    "fToC :: Num a => a -> a\n",
    "```"
   ]
  },
  {
   "cell_type": "markdown",
   "metadata": {},
   "source": [
    "But not any numeric type will do! It has to be a type that can be divided using `/`:\n",
    "\n",
    "```haskell\n",
    "fToC :: Fractional a => a -> a\n",
    "```"
   ]
  },
  {
   "cell_type": "markdown",
   "metadata": {},
   "source": [
    "At the end of the day, the most restrictive constraint wins."
   ]
  },
  {
   "cell_type": "markdown",
   "metadata": {},
   "source": [
    "Until now, we've been restricting if the type is an instance of a particular type class."
   ]
  },
  {
   "cell_type": "markdown",
   "metadata": {},
   "source": [
    "And we know that there can be more specialized type classes (`Fractional` is a more specialized type class than `Num`)."
   ]
  },
  {
   "cell_type": "markdown",
   "metadata": {},
   "source": [
    "But what if we need a type with a more... particular set of habilities?"
   ]
  },
  {
   "cell_type": "markdown",
   "metadata": {},
   "source": [
    "## Multiple constraints"
   ]
  },
  {
   "cell_type": "markdown",
   "metadata": {},
   "source": [
    "Applying constraints is more flexible than it seems.\n",
    "\n",
    "Sometimes you need different constraints for different type variables.\n",
    "\n",
    "Or the same type variable with multiple constraints. All this can be easily expressed in Haskell."
   ]
  },
  {
   "cell_type": "markdown",
   "metadata": {},
   "source": [
    "### Multiple constraints for the same type variable"
   ]
  },
  {
   "cell_type": "markdown",
   "metadata": {},
   "source": [
    "Take this function that skips the number 3:"
   ]
  },
  {
   "cell_type": "code",
   "execution_count": null,
   "metadata": {},
   "outputs": [],
   "source": [
    "skip3 x = if x == 3 then x+1 else x"
   ]
  },
  {
   "cell_type": "markdown",
   "metadata": {},
   "source": [
    "The `x` can be of any type that is an instance of `Eq` (because of `==`) and `Num` (because of `+`).\n",
    "\n",
    "To specify multiple constraints for the same type variable, we have to surround them with parenthesis and add a comma between them.\n",
    "\n",
    "Like if they were a tuple:"
   ]
  },
  {
   "cell_type": "markdown",
   "metadata": {},
   "source": [
    "```haskell\n",
    "skip3 :: (Eq p, Num p) => p -> p\n",
    "```"
   ]
  },
  {
   "cell_type": "markdown",
   "metadata": {},
   "source": [
    "Now the `p` type variable has to be a type that's an instance of both `Eq` and `Num`. We could add more constraints if needed."
   ]
  },
  {
   "cell_type": "markdown",
   "metadata": {},
   "source": [
    "### Constraints for multiple type variables"
   ]
  },
  {
   "cell_type": "markdown",
   "metadata": {},
   "source": [
    "Let's create a function that takes two values and returns `1` if the first value is greater than the second, and `0` otherwise:"
   ]
  },
  {
   "cell_type": "code",
   "execution_count": null,
   "metadata": {},
   "outputs": [],
   "source": [
    "isXBigger x y = if x > y then 1 else 0"
   ]
  },
  {
   "cell_type": "markdown",
   "metadata": {},
   "source": [
    "In this case, `x` and `y` have to be instances of `Eq`. And the return value is a number of an unspecified type, so it's an instance of `Num`.\n",
    "\n",
    "Putting this together, the type signature will be:\n",
    "\n",
    "```haskell\n",
    "isXBigger :: (Ord a, Num p) => a -> a -> p\n",
    "```"
   ]
  },
  {
   "cell_type": "markdown",
   "metadata": {},
   "source": [
    "Now, what about this function?:"
   ]
  },
  {
   "cell_type": "code",
   "execution_count": null,
   "metadata": {},
   "outputs": [],
   "source": [
    "mistery1 x y z = if x > y then z/2 else z"
   ]
  },
  {
   "cell_type": "markdown",
   "metadata": {},
   "source": [
    "We compare `x` and `y`, so they have to be instances of `Ord` type class.\n",
    "\n",
    "And the return value it's divided using `/` in one of the if-else paths. So `z` has to be an instance of `Fractional`.\n",
    "\n"
   ]
  },
  {
   "cell_type": "markdown",
   "metadata": {},
   "source": [
    "```haskell\n",
    "mistery1 :: (Ord a, Fractional p) => a -> a -> p -> p\n",
    "```"
   ]
  },
  {
   "cell_type": "markdown",
   "metadata": {},
   "source": [
    "Finally, our last example is a modification of `mistery1` where we add `1` to `x` before comparing it to `y`:"
   ]
  },
  {
   "cell_type": "markdown",
   "metadata": {},
   "source": [
    "mistery2 x y z = if x+1 > y then z/2 else z"
   ]
  },
  {
   "cell_type": "markdown",
   "metadata": {},
   "source": [
    "Same as before. But now `x` and `y` also have to be an instance of `Num` to be able to use `+`:"
   ]
  },
  {
   "cell_type": "markdown",
   "metadata": {},
   "source": [
    "```haskell\n",
    "mistery2 :: (Ord a, Num a, Fractional p) => a -> a -> p -> p\n",
    "```"
   ]
  },
  {
   "cell_type": "markdown",
   "metadata": {},
   "source": [
    "As you can see, **we can apply as much constraints as needed**.\n",
    "\n",
    "Of course, Haskell will apply them for you (most of the time). And you'll have to correctly interpret and understand them."
   ]
  },
  {
   "cell_type": "markdown",
   "metadata": {},
   "source": [
    "## Other important type classes"
   ]
  },
  {
   "cell_type": "markdown",
   "metadata": {},
   "source": [
    "* `Show`       For types that have a representation as Strings"
   ]
  },
  {
   "cell_type": "markdown",
   "metadata": {},
   "source": [
    "* `Read`       For types that can be parsed from Strings"
   ]
  },
  {
   "cell_type": "markdown",
   "metadata": {},
   "source": [
    "* `Enum`       For types that can be enumerated"
   ]
  },
  {
   "cell_type": "markdown",
   "metadata": {},
   "source": [
    "* `Bounded`    For typed that have a smallest and largest value"
   ]
  },
  {
   "cell_type": "markdown",
   "metadata": {},
   "source": [
    "* `Foldable`   For container types"
   ]
  },
  {
   "cell_type": "markdown",
   "metadata": {},
   "source": [
    "You can find a description of a type class if you search it on hoogle: https://hoogle.haskell.org/."
   ]
  },
  {
   "cell_type": "markdown",
   "metadata": {},
   "source": [
    "## Recap\n",
    "#TODO"
   ]
  },
  {
   "cell_type": "markdown",
   "metadata": {},
   "source": []
  }
 ],
 "metadata": {
  "kernelspec": {
   "display_name": "Python 3.10.4 64-bit",
   "language": "python",
   "name": "python3"
  },
  "language_info": {
   "name": "python",
   "version": "3.10.4"
  },
  "orig_nbformat": 4,
  "vscode": {
   "interpreter": {
    "hash": "e7370f93d1d0cde622a1f8e1c04877d8463912d04d973331ad4851f04de6915a"
   }
  }
 },
 "nbformat": 4,
 "nbformat_minor": 2
}
