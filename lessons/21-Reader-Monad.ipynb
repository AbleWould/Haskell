{
 "cells": [
  {
   "cell_type": "markdown",
   "metadata": {},
   "source": [
    "# Reader Monad"
   ]
  },
  {
   "cell_type": "markdown",
   "metadata": {},
   "source": [
    "## Outline\n",
    "\n",
    "* Incentive for the Reader monad\n",
    "\n",
    "* Definition of the Reader monad\n",
    "\n",
    "* Reader monad examples\n",
    "\n",
    "In this lesson, we will learn about the Reader monad type and how you can use it."
   ]
  },
  {
   "cell_type": "markdown",
   "metadata": {},
   "source": [
    "## Incentive for Reader monad"
   ]
  },
  {
   "cell_type": "markdown",
   "metadata": {},
   "source": [
    "Imagine we have a global state which is represented by a variable. An example would be that we read 2 variables from the operating system environment and store them into a variable of type `Environment`. We define the function `loadEnv` where we try to read the values from the variables `PATH` which is defined for UNIX type OS and the variable `MYPARAM` which is probably not defined for any OS type. "
   ]
  },
  {
   "cell_type": "code",
   "execution_count": null,
   "metadata": {},
   "outputs": [],
   "source": [
    "import Data.Maybe (fromMaybe)\n",
    "import System.Environment (lookupEnv)\n",
    "\n",
    "data Environment = Environment\n",
    "  { param1 :: String\n",
    "  , param2 :: String\n",
    "  }\n",
    "\n",
    "loadEnv :: IO Environment\n",
    "loadEnv = do\n",
    "  p1 <- lookupEnv \"PATH\"\n",
    "  p2 <- lookupEnv \"MYPARAM\"\n",
    "  return $ Environment\n",
    "    (fromMaybe \"\" p1)\n",
    "    (fromMaybe \"\" p2)"
   ]
  },
  {
   "cell_type": "markdown",
   "metadata": {},
   "source": [
    "Now if we want to use this environment in some functions that process it, we have to pass the data around with the functions. Let's create a function that calculates the length of the variables and then sums it and another function that prints the result of the sum. Here is how the code looks like."
   ]
  },
  {
   "cell_type": "code",
   "execution_count": null,
   "metadata": {},
   "outputs": [],
   "source": [
    "func1 :: Environment -> String\n",
    "func1 env = \"Result: \" ++ (show (func2 env))\n",
    "\n",
    "func2 :: Environment -> Int\n",
    "func2 env = l1 + l2\n",
    "  where\n",
    "    l1 = length (param1 env)\n",
    "    l2 = length (param2 env)"
   ]
  },
  {
   "cell_type": "markdown",
   "metadata": {},
   "source": [
    "We can now write the main execution of our program where we read in the environment and print the result of processing the data with our two functions."
   ]
  },
  {
   "cell_type": "code",
   "execution_count": null,
   "metadata": {},
   "outputs": [],
   "source": [
    "main1 :: IO ()\n",
    "main1 = do\n",
    "  env <- loadEnv\n",
    "  let str = func1 env\n",
    "  print str\n",
    "\n",
    "main1"
   ]
  },
  {
   "cell_type": "markdown",
   "metadata": {},
   "source": [
    "This is a very simple example, but as complexity of programs increases you have to pass around a lot of data. For this reason the Reader monad was invented which stores the state in its environment variable and can simply pass it around between different Reader monads that process the data."
   ]
  },
  {
   "cell_type": "markdown",
   "metadata": {},
   "source": [
    "## Definition of the Reader monad"
   ]
  },
  {
   "cell_type": "markdown",
   "metadata": {},
   "source": [
    "You can find the definition of the Reader monad on Hoogle. The definition shown here uses multi-parameter type classes and funDeps, which are not standard Haskell 2010. It is still useful to look at it but it is not necessary to fully understand these details to make use of the Reader monad. "
   ]
  },
  {
   "cell_type": "code",
   "execution_count": null,
   "metadata": {},
   "outputs": [],
   "source": [
    "newtype Reader e a = Reader { runReader :: (e -> a) }\n",
    "\n",
    "instance Monad (Reader e) where\n",
    "    return a         = Reader $ \\e -> a\n",
    "    (Reader r) >>= f = Reader $ \\e -> runReader (f (r e)) e"
   ]
  },
  {
   "cell_type": "markdown",
   "metadata": {},
   "source": [
    "A function that can retrieve the environment variable is called `ask`. It is included in the module `Control.Monad.Reader`. Another function called `runReader` can retrieve the final value of the Reader monad and is also included in the same module. Here is a simple example how to define a reader monad and use the `ask` and `runReader` functions."
   ]
  },
  {
   "cell_type": "code",
   "execution_count": null,
   "metadata": {},
   "outputs": [],
   "source": [
    "import Control.Monad.Reader\n",
    "\n",
    "age :: Reader Int String\n",
    "age = do\n",
    "    env <- ask\n",
    "    return (\"My age is: \" ++ (show env))\n",
    "\n",
    "ageDouble :: Reader Int String\n",
    "ageDouble = do\n",
    "    env <- ask\n",
    "    return (\"Two times my age is: \" ++ (show $ 2*env))\n",
    "\n",
    "bothAges :: Reader Int String\n",
    "bothAges = do\n",
    "    a <- age\n",
    "    ad <- ageDouble\n",
    "    return (a ++ \"\\n\" ++ ad)\n",
    "\n",
    "main2 :: IO ()\n",
    "main2 = do\n",
    "    myAge <- read <$> getLine\n",
    "    print $ (runReader bothAges) myAge\n",
    "\n",
    "main2"
   ]
  },
  {
   "cell_type": "markdown",
   "metadata": {},
   "source": [
    "You see that when calling the `age` and `ageDouble` Reader monads inside the `bothAges` Reader monad the environment of the bothAges Reader monad which is in our case of type Int, is passed onto them. And you can then process this data accordingly. "
   ]
  },
  {
   "cell_type": "markdown",
   "metadata": {},
   "source": [
    "## Reader monad examples"
   ]
  },
  {
   "cell_type": "markdown",
   "metadata": {},
   "source": [
    "Let's implement the example from the first chapter with the use of the Reader monad."
   ]
  },
  {
   "cell_type": "code",
   "execution_count": null,
   "metadata": {},
   "outputs": [],
   "source": [
    "func1' :: Reader Environment String\n",
    "func1' = do\n",
    "  res <- func2'\n",
    "  return (\"Result: \" ++ show res)\n",
    "\n",
    "func2' :: Reader Environment Int\n",
    "func2' = do\n",
    "  env <- ask\n",
    "  let res = func2 env\n",
    "  return res\n",
    "\n",
    "main3 :: IO ()\n",
    "main3 = do\n",
    "  env <- loadEnv\n",
    "  let str = runReader func1' env\n",
    "  print str\n",
    "\n",
    "main3"
   ]
  },
  {
   "cell_type": "markdown",
   "metadata": {},
   "source": [
    "We could define the functionality of `func2` also inside `func2'` but to make it simpler we just make a function call to the existing function."
   ]
  },
  {
   "cell_type": "markdown",
   "metadata": {},
   "source": [
    "Another more complicated example is how to lookup variables if you have them stored in a list. The list contains tuples where the first part is the variable name and the second is variable either of type string or of type `Template`, which we will define for this example. What we want to show here is that it is also possible to pass in data to your Reader monad beside the intial environment. "
   ]
  },
  {
   "cell_type": "code",
   "execution_count": null,
   "metadata": {},
   "outputs": [],
   "source": [
    "data Template = S String | V Template | T Template deriving Show\n",
    "\n",
    "data Environment = Env {templates::[(String,Template)],\n",
    "                        variables::[(String,String)]}\n",
    "\n",
    "-- lookup a variable from the environment\n",
    "lookupVar :: String -> Environment -> Maybe String\n",
    "lookupVar name env = lookup name (variables env)\n",
    "\n",
    "-- lookup a template from the environment\n",
    "lookupTemplate :: String -> Environment -> Maybe Template\n",
    "lookupTemplate name env = lookup name (templates env)\n",
    "\n",
    "-- resolve a template into a string\n",
    "resolve :: Template -> Reader Environment (String)\n",
    "resolve (S s)    = return s\n",
    "resolve (V t)    = do varName  <- resolve t\n",
    "                      varValue <- asks (lookupVar varName)\n",
    "                      return $ maybe \"\" id varValue\n",
    "resolve (T t)    = do tmplName <- resolve t\n",
    "                      body     <- asks (lookupTemplate tmplName)\n",
    "                      return $ maybe \"\" show body\n",
    "\n",
    "template1 :: Template\n",
    "template1 = V (S \"varName1\")\n",
    "\n",
    "template2 :: Template\n",
    "template2 = T (S \"varName2\")\n",
    "\n",
    "myEnv :: Environment\n",
    "myEnv = Env {\n",
    "      templates = [(\"varName1\",template1),(\"varName2\",template2)],\n",
    "      variables = [(\"varName1\",\"value1\"),(\"varName2\",\"value2\")]\n",
    "    }\n",
    "\n",
    "main :: IO ()\n",
    "main = do\n",
    "    print $ runReader (resolve template1) myEnv\n",
    "    print $ runReader (resolve template2) myEnv\n",
    "\n",
    "main"
   ]
  },
  {
   "cell_type": "markdown",
   "metadata": {},
   "source": [
    "Below you have also the definition of the `asks` function that uses the functionality of the `MonadReader` type class."
   ]
  },
  {
   "cell_type": "markdown",
   "metadata": {},
   "source": [
    "```haskell\n",
    "class Monad m => MonadReader r m | m -> r where\n",
    "    {-# MINIMAL (ask | reader), local #-}\n",
    "    -- | Retrieves the monad environment.\n",
    "    ask   :: m r\n",
    "    ask = reader id\n",
    "\n",
    "    -- | Executes a computation in a modified environment.\n",
    "    local :: (r -> r) -- ^ The function to modify the environment.\n",
    "          -> m a      -- ^ @Reader@ to run in the modified environment.\n",
    "          -> m a\n",
    "\n",
    "    -- | Retrieves a function of the current environment.\n",
    "    reader :: (r -> a) -- ^ The selector function to apply to the environment.\n",
    "           -> m a\n",
    "    reader f = do\n",
    "      r <- ask\n",
    "      return (f r)\n",
    "\n",
    "-- | Retrieves a function of the current environment.\n",
    "asks :: MonadReader r m\n",
    "    => (r -> a) -- ^ The selector function to apply to the environment.\n",
    "    -> m a\n",
    "asks = reader\n",
    "```"
   ]
  },
  {
   "cell_type": "markdown",
   "metadata": {},
   "source": [
    "## Recap"
   ]
  },
  {
   "cell_type": "markdown",
   "metadata": {},
   "source": [
    "In this lesson we've discussed:\n",
    "\n",
    "- the motivation for introducing the Reader monad type \n",
    "\n",
    "- the definition of the Reader monad type and a simple example\n",
    "\n",
    "- examples that use the Reader monad type to solve a problem"
   ]
  }
 ],
 "metadata": {
  "kernelspec": {
   "display_name": "Haskell",
   "language": "haskell",
   "name": "haskell"
  },
  "language_info": {
   "codemirror_mode": "ihaskell",
   "file_extension": ".hs",
   "mimetype": "text/x-haskell",
   "name": "haskell",
   "pygments_lexer": "Haskell",
   "version": "8.10.7"
  }
 },
 "nbformat": 4,
 "nbformat_minor": 4
}
