{
 "cells": [
  {
   "cell_type": "markdown",
   "metadata": {},
   "source": [
    "# Reader Monad"
   ]
  },
  {
   "cell_type": "markdown",
   "metadata": {},
   "source": [
    "## Outline\n",
    "\n",
    "* Incentive for the Reader monad\n",
    "\n",
    "* Definition of the Reader monad\n",
    "\n",
    "* Reader monad examples\n",
    "\n",
    "In this lesson, we will learn about the Reader monad type and how you can use it."
   ]
  },
  {
   "cell_type": "markdown",
   "metadata": {},
   "source": [
    "## Incentive for Reader monad"
   ]
  },
  {
   "cell_type": "markdown",
   "metadata": {},
   "source": [
    "Imagine we have a global state which is represented by a variable that holds multiple data (e.g. a record syntax variable). \n",
    "\n",
    "If we have several functions that need to use part of that data and they call each other, we need to pass that variable from one to another."
   ]
  },
  {
   "cell_type": "markdown",
   "metadata": {},
   "source": [
    "Below is an example where we read 4 variables from the operating system environment and store them into a variable of type `Environment`. \n",
    "\n",
    "We process this data in 4 function calls and the last function writes the processed data to a configuration file."
   ]
  },
  {
   "cell_type": "code",
   "execution_count": null,
   "metadata": {},
   "outputs": [],
   "source": [
    "import Data.Maybe (fromMaybe)\n",
    "import System.Environment (lookupEnv)\n",
    "\n",
    "data Environment = Environment\n",
    "    { param1 :: String\n",
    "    , param2 :: String\n",
    "    , param3 :: String\n",
    "    , param4 :: String\n",
    "    }\n",
    "\n",
    "loadEnv :: IO Environment\n",
    "loadEnv = do\n",
    "  p1 <- lookupEnv \"PATH\"\n",
    "  p2 <- lookupEnv \"SHELL\"\n",
    "  p3 <- lookupEnv \"HOSTNAME\"\n",
    "  p4 <- lookupEnv \"HOME\"\n",
    "  return $ Environment\n",
    "    (fromMaybe \"\" p1)\n",
    "    (fromMaybe \"\" p2)\n",
    "    (fromMaybe \"\" p3)\n",
    "    (fromMaybe \"\" p4)\n",
    "\n",
    "func1 :: Environment -> IO ()\n",
    "func1 env = do\n",
    "    let content = \"System path includes: \\n\" ++ param1 env ++ \"\\n\\n\"\n",
    "    func2 env content\n",
    "\n",
    "func2 :: Environment -> String -> IO ()\n",
    "func2 env content = do\n",
    "    let updatedContent = content ++ \"Shell used is: \\n\" ++ param2 env ++ \"\\n\\n\"\n",
    "    func3 env updatedContent\n",
    "\n",
    "func3 :: Environment -> String -> IO ()\n",
    "func3 env content = do\n",
    "    let updatedContent = content ++ \"Hostname is: \\n\" ++ param3 env ++ \"\\n\\n\"\n",
    "    func4 env updatedContent\n",
    "\n",
    "func4 :: Environment -> String -> IO ()\n",
    "func4 env content = do\n",
    "    let updatedContent = content ++ \"Current home directory is: \\n\" ++ param4 env ++ \"\\n\\n\"\n",
    "        filePath = param4 env ++ \"/conf.txt\"\n",
    "    writeFile filePath updatedContent"
   ]
  },
  {
   "cell_type": "markdown",
   "metadata": {},
   "source": [
    "We can now write the main execution of our program where we read in the environment and process the data with our 4 functions."
   ]
  },
  {
   "cell_type": "code",
   "execution_count": null,
   "metadata": {},
   "outputs": [],
   "source": [
    "main1 :: IO ()\n",
    "main1 = do\n",
    "  env <- loadEnv\n",
    "  print \"Writing configuration to file: conf.txt\"\n",
    "  func1 env\n",
    "\n",
    "main1"
   ]
  },
  {
   "cell_type": "markdown",
   "metadata": {},
   "source": [
    "This is a simple example, but as complexity of programs increases you have to pass around a lot of data. \n",
    "\n",
    "For this reason the **Reader monad** was created which can store the state in its environment variable. \n",
    "\n",
    "Then it can pass this state variable around between different Reader monads that decide which part of the data to use."
   ]
  },
  {
   "cell_type": "markdown",
   "metadata": {},
   "source": [
    "## Definition of the Reader monad"
   ]
  },
  {
   "cell_type": "markdown",
   "metadata": {},
   "source": [
    "The definition of the **Reader monad** is following: \n",
    "```haskell\n",
    "type Reader r = ReaderT r Identity\n",
    "newtype ReaderT r m a \n",
    "```\n",
    "Constructors for **ReaderT**:\n",
    "```haskell\n",
    "runReaderT :: r -> m a\n",
    "```"
   ]
  },
  {
   "cell_type": "markdown",
   "metadata": {},
   "source": [
    "Another definition shown below uses multi-parameter type classes and funDeps, which are not standard Haskell 2010. \n",
    "```haskell\n",
    "newtype Reader e a = Reader { runReader :: (e -> a) }\n",
    "\n",
    "instance Monad (Reader e) where\n",
    "    return a         = Reader $ \\e -> a\n",
    "    (Reader r) >>= f = Reader $ \\e -> runReader (f (r e)) e\n",
    "```"
   ]
  },
  {
   "cell_type": "markdown",
   "metadata": {},
   "source": [
    "To make use of the Reader monad we help ourself with the functions `ask` and `runReader`.\n",
    "\n",
    "The `ask` function can retrieve the environment variable. The `runReader` function can retrieve the final value of the Reader monad.\n",
    "\n",
    "They are both included in the module `Control.Monad.Reader`. The `ask` function is defined in the `MonadReader` type class."
   ]
  },
  {
   "cell_type": "markdown",
   "metadata": {},
   "source": [
    "```haskell\n",
    "class Monad m => MonadReader r m | m -> r where\n",
    "    {-# MINIMAL (ask | reader), local #-}\n",
    "    -- | Retrieves the monad environment.\n",
    "    ask   :: m r\n",
    "    ask = reader id\n",
    "\n",
    "    -- | Executes a computation in a modified environment.\n",
    "    local :: (r -> r) -- ^ The function to modify the environment.\n",
    "          -> m a      -- ^ @Reader@ to run in the modified environment.\n",
    "          -> m a\n",
    "\n",
    "    -- | Retrieves a function of the current environment.\n",
    "    reader :: (r -> a) -- ^ The selector function to apply to the environment.\n",
    "           -> m a\n",
    "    reader f = do\n",
    "      r <- ask\n",
    "      return (f r)\n",
    "\n",
    "-- | Retrieves a function of the current environment.\n",
    "asks :: MonadReader r m\n",
    "    => (r -> a) -- ^ The selector function to apply to the environment.\n",
    "    -> m a\n",
    "asks = reader\n",
    "```"
   ]
  },
  {
   "cell_type": "markdown",
   "metadata": {},
   "source": [
    "Below is a simple example how to define a reader monad and use the `ask` and `runReader` functions."
   ]
  },
  {
   "cell_type": "code",
   "execution_count": null,
   "metadata": {},
   "outputs": [],
   "source": [
    "import Control.Monad.Reader\n",
    "\n",
    "age :: Reader Int String\n",
    "age = do\n",
    "    env <- ask\n",
    "    return (\"My age is: \" ++ (show env))\n",
    "\n",
    "ageDouble :: Reader Int String\n",
    "ageDouble = do\n",
    "    env <- ask\n",
    "    return (\"Two times my age is: \" ++ (show $ 2*env))\n",
    "\n",
    "bothAges :: Reader Int String\n",
    "bothAges = do\n",
    "    a <- age\n",
    "    ad <- ageDouble\n",
    "    return (a ++ \"\\n\" ++ ad)\n",
    "\n",
    "main2 :: IO ()\n",
    "main2 = do\n",
    "    myAge <- read <$> getLine\n",
    "    print $ (runReader bothAges) myAge\n",
    "\n",
    "main2"
   ]
  },
  {
   "cell_type": "markdown",
   "metadata": {},
   "source": [
    "We see that when calling the `age` and `ageDouble` Reader monads the environment of the `bothAges` Reader monad is passed onto them and they used this data. "
   ]
  },
  {
   "cell_type": "markdown",
   "metadata": {},
   "source": [
    "## Reader monad examples"
   ]
  },
  {
   "cell_type": "markdown",
   "metadata": {},
   "source": [
    "Let's implement the example from the first chapter with the use of the **Reader monad**."
   ]
  },
  {
   "cell_type": "code",
   "execution_count": null,
   "metadata": {},
   "outputs": [],
   "source": [
    "processEnv :: Reader Environment String\n",
    "processEnv = do\n",
    "    conf1 <- func1'\n",
    "    conf2 <- func2'\n",
    "    conf3 <- func3'\n",
    "    conf4 <- func4'\n",
    "    let conf = conf1 ++ \"\\n\\n\" ++\n",
    "               conf2 ++ \"\\n\\n\" ++\n",
    "               conf3 ++ \"\\n\\n\" ++\n",
    "               conf4 ++ \"\\n\\n\"\n",
    "    return conf\n",
    "  \n",
    "func1' :: Reader Environment String\n",
    "func1' = do\n",
    "    env <- ask\n",
    "    let content = \"System path includes: \\n\" ++ param1 env\n",
    "    return content\n",
    "\n",
    "func2' :: Reader Environment String\n",
    "func2' = do\n",
    "    env <- ask\n",
    "    let content = \"Shell used is: \\n\" ++ param2 env\n",
    "    return content\n",
    "\n",
    "func3' :: Reader Environment String\n",
    "func3' = do\n",
    "    env <- ask\n",
    "    let content = \"Hostname is: \\n\" ++ param3 env\n",
    "    return content\n",
    "\n",
    "func4' :: Reader Environment String\n",
    "func4' = do\n",
    "    env <- ask\n",
    "    let content = \"Current home directory is: \\n\" ++ param4 env\n",
    "    return content\n",
    "\n",
    "main3 :: IO ()\n",
    "main3 = do\n",
    "    env <- loadEnv\n",
    "    let configuration = runReader processEnv env\n",
    "        filePath = param4 env ++ \"/conf.txt\"\n",
    "    print \"Writing configuration to file: conf.txt\"\n",
    "    writeFile filePath configuration\n",
    "\n",
    "main3"
   ]
  },
  {
   "cell_type": "markdown",
   "metadata": {},
   "source": [
    "We see that the functions `func1'` to `func4'` get more cleaner as the functions in the first example. \n",
    "\n",
    "The `env` variable is passed from the `processEnv` function to all the other Reader monad functions."
   ]
  },
  {
   "cell_type": "markdown",
   "metadata": {},
   "source": [
    "Below is another more example on how to lookup variables if you have them stored in a list (taken from HaskellWiki and adapted). \n",
    "\n",
    "The list contains tuples where the first part is the variable name and the second is variable either of type `String` or of type `Template`. \n",
    "\n",
    "What we want to show here is that it is also possible to pass in data to your Reader monad beside the intial environment."
   ]
  },
  {
   "cell_type": "code",
   "execution_count": null,
   "metadata": {},
   "outputs": [],
   "source": [
    "data Template = S String | V Template | T Template deriving Show\n",
    "\n",
    "data Environment = Env {templates::[(String,Template)],\n",
    "                        variables::[(String,String)]}\n",
    "\n",
    "-- lookup a variable from the environment\n",
    "lookupVar :: String -> Environment -> Maybe String\n",
    "lookupVar name env = lookup name (variables env)\n",
    "\n",
    "-- lookup a template from the environment\n",
    "lookupTemplate :: String -> Environment -> Maybe Template\n",
    "lookupTemplate name env = lookup name (templates env)\n",
    "\n",
    "-- resolve a template into a string\n",
    "resolve :: Template -> Reader Environment (String)\n",
    "resolve (S s)    = return s\n",
    "resolve (V t)    = do varName  <- resolve t\n",
    "                      varValue <- asks (lookupVar varName)\n",
    "                      return $ maybe \"\" id varValue\n",
    "resolve (T t)    = do tmplName <- resolve t\n",
    "                      body     <- asks (lookupTemplate tmplName)\n",
    "                      return $ maybe \"\" show body\n",
    "\n",
    "template1 :: Template\n",
    "template1 = V (S \"varName1\")\n",
    "\n",
    "template2 :: Template\n",
    "template2 = T (S \"varName2\")\n",
    "\n",
    "myEnv :: Environment\n",
    "myEnv = Env {\n",
    "      templates = [(\"varName1\",template1),(\"varName2\",template2)],\n",
    "      variables = [(\"varName1\",\"value1\"),(\"varName2\",\"value2\")]\n",
    "    }\n",
    "\n",
    "main :: IO ()\n",
    "main = do\n",
    "    print $ runReader (resolve template1) myEnv\n",
    "    print $ runReader (resolve template2) myEnv\n",
    "\n",
    "main"
   ]
  },
  {
   "cell_type": "markdown",
   "metadata": {},
   "source": [
    "## Recap"
   ]
  },
  {
   "cell_type": "markdown",
   "metadata": {},
   "source": [
    "In this lesson we've discussed:\n",
    "\n",
    "- the motivation for introducing the Reader monad type \n",
    "\n",
    "- the definition of the Reader monad type and a simple example\n",
    "\n",
    "- examples that use the Reader monad type to solve a problem"
   ]
  }
 ],
 "metadata": {
  "kernelspec": {
   "display_name": "Haskell",
   "language": "haskell",
   "name": "haskell"
  },
  "language_info": {
   "codemirror_mode": "ihaskell",
   "file_extension": ".hs",
   "mimetype": "text/x-haskell",
   "name": "haskell",
   "pygments_lexer": "Haskell",
   "version": "8.10.7"
  }
 },
 "nbformat": 4,
 "nbformat_minor": 4
}
