{
 "cells": [
  {
   "cell_type": "markdown",
   "metadata": {},
   "source": [
    "# State Monad"
   ]
  },
  {
   "cell_type": "markdown",
   "metadata": {},
   "source": [
    "## Outline\n",
    "\n",
    "* Incentive for the State monad\n",
    "\n",
    "* Definition of the State monad\n",
    "\n",
    "* State monad examples\n",
    "\n",
    "In this lesson, we will learn about the State monad type and how you can use it."
   ]
  },
  {
   "cell_type": "markdown",
   "metadata": {},
   "source": [
    "## Incentive for State monad"
   ]
  },
  {
   "cell_type": "markdown",
   "metadata": {},
   "source": [
    "We talked in the previous two lectures how you can use the Reader and Writer Monad if you have to read from a environment variable or write to it.\n",
    "\n",
    "If you need to perform both operations you can use the State Monad. Let's first look at an example where we read and write to a variable without the State monad.\n",
    "\n",
    "We will create the Tic-Tac-Toe game (https://en.wikipedia.org/wiki/Tic-tac-toe) that let's the users X and O play."
   ]
  },
  {
   "cell_type": "code",
   "execution_count": null,
   "metadata": {},
   "outputs": [],
   "source": [
    "\n",
    "data Player = XPlayer | OPlayer deriving (Eq, Show)\n",
    "\n",
    "data State = Empty | X | O\n",
    "  deriving (Show, Eq)\n",
    "\n",
    "type FieldIndex = Int\n",
    "\n",
    "data GameState = GameState\n",
    "  { currentBoard :: [State]\n",
    "  , currentPlayer :: Player\n",
    "  } deriving Show\n",
    "\n",
    "main :: IO ()\n",
    "main = do\n",
    "    putStrLn \"Board indexes are:\"\n",
    "    mapM_ putStrLn [\"1|2|3\", \"-----\", \"4|5|6\", \"-----\", \"7|8|9\"]\n",
    "    let initState = GameState\n",
    "                      [Empty | boardInd <- [1..9]]\n",
    "                      XPlayer\n",
    "    playGame initState\n",
    "    \n",
    "playGame :: GameState -> IO ()\n",
    "playGame gs = do\n",
    "    let player = currentPlayer gs\n",
    "    let board = currentBoard gs\n",
    "\n",
    "    if player == XPlayer\n",
    "    then putStrLn \"Player X make your choice:\"\n",
    "    else putStrLn \"Player O make your choice:\"\n",
    "\n",
    "    let freeFields = getFreeFields gs\n",
    "    if length freeFields /= 0\n",
    "    then do\n",
    "        choice <- getChoice freeFields\n",
    "        let newGameState = GameState\n",
    "                            (if player == XPlayer\n",
    "                            then [if ind /= choice then board !! (ind-1) else X | ind <- [1..9]]\n",
    "                            else [if ind /= choice then board !! (ind-1) else O | ind <- [1..9]])\n",
    "                            (nextPlayer player)\n",
    "        printBoard newGameState\n",
    "        playGame newGameState\n",
    "    else do\n",
    "        putStrLn \"Game is over.\"\n",
    "\n",
    "getFreeFields :: GameState -> [Int]\n",
    "getFreeFields gs = [ind | ind <- [0..8], board !! ind == Empty]\n",
    "    where board = currentBoard gs\n",
    "\n",
    "getChoice :: [Int] -> IO Int\n",
    "getChoice freeFields = do\n",
    "    choice <- (read <$> getLine) :: IO Int\n",
    "    if (choice - 1) `elem` freeFields\n",
    "    then return choice\n",
    "    else do\n",
    "        putStrLn \"This is not a valid choice. Try again:\"\n",
    "        getChoice freeFields\n",
    "\n",
    "nextPlayer :: Player -> Player\n",
    "nextPlayer XPlayer = OPlayer\n",
    "nextPlayer OPlayer = XPlayer\n",
    "\n",
    "printBoard :: GameState -> IO ()\n",
    "printBoard gs = do\n",
    "    let board = currentBoard gs\n",
    "    let stateToString st = case st of\n",
    "                             Empty -> \"-\"\n",
    "                             X -> \"X\"\n",
    "                             O -> \"O\"\n",
    "        printInd ind = stateToString $ board !! ind\n",
    "    mapM_ putStr [printInd 0,\"|\", printInd 1,\"|\", printInd 2, \"\\n\"]\n",
    "    putStrLn \"-----\"\n",
    "    mapM_ putStr [printInd 3,\"|\", printInd 4,\"|\", printInd 5, \"\\n\"]\n",
    "    putStrLn \"-----\"\n",
    "    mapM_ putStr [printInd 6,\"|\", printInd 7,\"|\", printInd 8, \"\\n\"]\n",
    "\n",
    "main"
   ]
  },
  {
   "cell_type": "markdown",
   "metadata": {},
   "source": [
    "## Definition of the State monad"
   ]
  },
  {
   "cell_type": "markdown",
   "metadata": {},
   "source": [
    "## State monad examples"
   ]
  },
  {
   "cell_type": "markdown",
   "metadata": {},
   "source": [
    "## Recap"
   ]
  },
  {
   "cell_type": "markdown",
   "metadata": {},
   "source": [
    "In this lesson we've discussed:\n",
    "\n",
    "- the motivation for introducing the State monad type \n",
    "\n",
    "- the definition of the State monad type and a simple example\n",
    "\n",
    "- examples that use the State monad type to solve a problem"
   ]
  }
 ],
 "metadata": {
  "kernelspec": {
   "display_name": "Haskell",
   "language": "haskell",
   "name": "haskell"
  },
  "language_info": {
   "codemirror_mode": "ihaskell",
   "file_extension": ".hs",
   "mimetype": "text/x-haskell",
   "name": "haskell",
   "pygments_lexer": "Haskell",
   "version": "8.10.7"
  }
 },
 "nbformat": 4,
 "nbformat_minor": 4
}
