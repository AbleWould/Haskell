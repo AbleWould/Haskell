{
 "cells": [
  {
   "cell_type": "markdown",
   "metadata": {},
   "source": [
    "# State Monad"
   ]
  },
  {
   "cell_type": "markdown",
   "metadata": {},
   "source": [
    "## Outline\n",
    "\n",
    "* Incentive for the State monad\n",
    "\n",
    "* Definition of the State monad\n",
    "\n",
    "* State monad examples\n",
    "\n",
    "In this lesson, we will learn about the State monad type and how you can use it."
   ]
  },
  {
   "cell_type": "markdown",
   "metadata": {},
   "source": [
    "## Incentive for State monad"
   ]
  },
  {
   "cell_type": "markdown",
   "metadata": {},
   "source": [
    "We talked in the previous two lectures how you can use the Reader and Writer Monad if you have to read from a environment variable or write to it.\n",
    "\n",
    "If you need to perform both operations you can use the State Monad. Let's first look at an example where we perform read and write operations without the State monad.\n",
    "\n",
    "We will create the Tic-Tac-Toe game (https://en.wikipedia.org/wiki/Tic-tac-toe) that will use the **System.Random** to randomly pick the X and O choices."
   ]
  },
  {
   "cell_type": "code",
   "execution_count": null,
   "metadata": {},
   "outputs": [],
   "source": [
    "import System.Random (mkStdGen, Random(randomR), StdGen)\n",
    "\n",
    "data Player = XPlayer | OPlayer deriving Eq\n",
    "data Choice = Empty | X | O deriving Eq\n",
    "\n",
    "data GameState = GameState\n",
    "  { currentBoard :: [Choice]\n",
    "  , currentPlayer :: Player\n",
    "  , generator :: StdGen\n",
    "  }\n",
    "\n",
    "main :: IO ()\n",
    "main = do\n",
    "    putStrLn \"Game results:\"\n",
    "    let gen = mkStdGen 1\n",
    "        initState = GameState\n",
    "                      [Empty | boardInd <- [1..9]]\n",
    "                      XPlayer\n",
    "                      gen\n",
    "    playGame initState\n",
    "    \n",
    "playGame :: GameState -> IO ()\n",
    "playGame gs = do\n",
    "    let freeFields = getFreeFields gs\n",
    "    if length freeFields /= 0\n",
    "    then do\n",
    "        let player = currentPlayer gs\n",
    "            board = currentBoard gs\n",
    "            gen = generator gs\n",
    "            (choiceInd, gen') = randomR (0, length freeFields - 1) gen\n",
    "            choice = (freeFields !! choiceInd) + 1\n",
    "            newGameState = GameState\n",
    "                            (if player == XPlayer\n",
    "                            then [if ind /= choice then board !! (ind-1) else X | ind <- [1..9]]\n",
    "                            else [if ind /= choice then board !! (ind-1) else O | ind <- [1..9]])\n",
    "                            (nextPlayer player)\n",
    "                            gen'\n",
    "        playGame newGameState\n",
    "    else do\n",
    "        printBoard gs\n",
    "\n",
    "getFreeFields :: GameState -> [Int]\n",
    "getFreeFields gs = [ind | ind <- [0..8], board !! ind == Empty]\n",
    "    where board = currentBoard gs\n",
    "\n",
    "nextPlayer :: Player -> Player\n",
    "nextPlayer XPlayer = OPlayer\n",
    "nextPlayer OPlayer = XPlayer\n",
    "\n",
    "printBoard :: GameState -> IO ()\n",
    "printBoard gs = do\n",
    "    let board = currentBoard gs\n",
    "    let stateToString st = case st of\n",
    "                             Empty -> \"-\"\n",
    "                             X -> \"X\"\n",
    "                             O -> \"O\"\n",
    "        printInd ind = stateToString $ board !! ind\n",
    "    mapM_ putStr [printInd 0,\"|\", printInd 1,\"|\", printInd 2, \"\\n\"]\n",
    "    putStrLn \"-----\"\n",
    "    mapM_ putStr [printInd 3,\"|\", printInd 4,\"|\", printInd 5, \"\\n\"]\n",
    "    putStrLn \"-----\"\n",
    "    mapM_ putStr [printInd 6,\"|\", printInd 7,\"|\", printInd 8, \"\\n\"]\n",
    "\n",
    "main"
   ]
  },
  {
   "cell_type": "markdown",
   "metadata": {},
   "source": [
    "In the code above we define the **GameState** variable that holds data for the current state of the game. In the **main** function we create the initial state.\n",
    "\n",
    "In the **playGame** function we use the **GameState** variable to create a new move and update the variable before we recursivly call this function again or print the game results."
   ]
  },
  {
   "cell_type": "markdown",
   "metadata": {},
   "source": [
    "## Definition of the State monad"
   ]
  },
  {
   "cell_type": "markdown",
   "metadata": {},
   "source": [
    "The definition of the **State** variable is:\n",
    "```haskell\n",
    "newtype State s a = State { runState :: s -> (a, s) }\n",
    "```\n",
    "We see that the State data constructor holds a function that can be accessed by the name **runState**.\n",
    "\n",
    "It takes in a state and returns a tuple that contains a variable of type a and another state variable."
   ]
  },
  {
   "cell_type": "markdown",
   "metadata": {},
   "source": []
  },
  {
   "cell_type": "markdown",
   "metadata": {},
   "source": [
    "## State monad examples"
   ]
  },
  {
   "cell_type": "markdown",
   "metadata": {},
   "source": [
    "Let's look now at our initial example and how we can re-write it with the use of the State monad.\n",
    "\n",
    "Just to have an overview we will write out all also the code that is duplicated form the initial example."
   ]
  },
  {
   "cell_type": "code",
   "execution_count": null,
   "metadata": {},
   "outputs": [],
   "source": [
    "import Control.Monad.State (MonadState(get, put), runState, State)\n",
    "import System.Random (mkStdGen, Random(randomR), StdGen)\n",
    "\n",
    "data Player = XPlayer | OPlayer deriving Eq\n",
    "data Choice = Empty | X | O deriving Eq\n",
    "\n",
    "data GameState = GameState\n",
    "  { currentBoard :: [Choice]\n",
    "  , currentPlayer :: Player\n",
    "  , generator :: StdGen\n",
    "  }\n",
    "\n",
    "main :: IO ()\n",
    "main = do\n",
    "  let gen = mkStdGen 1\n",
    "      initState = GameState\n",
    "                  [Empty | boardInd <- [1..9]]\n",
    "                  XPlayer\n",
    "                  gen\n",
    "  playGame initState\n",
    "\n",
    "playGame :: GameState -> IO ()\n",
    "playGame gs = do\n",
    "  let (gameFinished, newGS) = runState resolveTurn gs\n",
    "  if gameFinished \n",
    "  then do\n",
    "    putStrLn \"Game results:\"\n",
    "    printBoard newGS\n",
    "  else playGame newGS\n",
    "\n",
    "resolveTurn :: State GameState Bool\n",
    "resolveTurn = do\n",
    "  choice <- chooseRandomMove\n",
    "  applyMove choice\n",
    "  isGameDone\n",
    "\n",
    "chooseRandomMove :: State GameState Int\n",
    "chooseRandomMove = do\n",
    "  gs <- get\n",
    "  let board = currentBoard gs\n",
    "      openSpots = [ind | ind <- [0..8], board !! ind == Empty]\n",
    "      gen = generator gs\n",
    "  let (i, gen') = randomR (0, length openSpots - 1) gen\n",
    "  put $ gs { generator = gen' }\n",
    "  return $ (openSpots !! i) + 1\n",
    "\n",
    "applyMove :: Int -> State GameState ()\n",
    "applyMove choice = do\n",
    "  gs <- get\n",
    "  let player = currentPlayer gs\n",
    "      board = currentBoard gs\n",
    "      newBoard = if player == XPlayer\n",
    "                 then [if ind /= choice then board !! (ind-1) else X | ind <- [1..9]]\n",
    "                 else [if ind /= choice then board !! (ind-1) else O | ind <- [1..9]]\n",
    "  put $ gs { currentPlayer = nextPlayer player, currentBoard = newBoard }\n",
    "\n",
    "nextPlayer :: Player -> Player\n",
    "nextPlayer XPlayer = OPlayer\n",
    "nextPlayer OPlayer = XPlayer\n",
    "\n",
    "isGameDone :: State GameState Bool\n",
    "isGameDone = do\n",
    "  gs <- get\n",
    "  let board = currentBoard gs\n",
    "      openSpots = [ind | ind <- [0..8], board !! ind == Empty]\n",
    "  return $ length openSpots == 0\n",
    "\n",
    "printBoard :: GameState -> IO ()\n",
    "printBoard gs = do\n",
    "    let board = currentBoard gs\n",
    "    let stateToString st = case st of\n",
    "                             Empty -> \"-\"\n",
    "                             X -> \"X\"\n",
    "                             O -> \"O\"\n",
    "        printInd ind = stateToString $ board !! ind\n",
    "    mapM_ putStr [printInd 0,\"|\", printInd 1,\"|\", printInd 2, \"\\n\"]\n",
    "    putStrLn \"-----\"\n",
    "    mapM_ putStr [printInd 3,\"|\", printInd 4,\"|\", printInd 5, \"\\n\"]\n",
    "    putStrLn \"-----\"\n",
    "    mapM_ putStr [printInd 6,\"|\", printInd 7,\"|\", printInd 8, \"\\n\"]\n",
    "\n",
    "main"
   ]
  },
  {
   "cell_type": "markdown",
   "metadata": {},
   "source": [
    "Here we use the same **GameState** variable as before that now represents the state of our State monad.\n",
    "\n",
    "In the **playGame** function we start the **resolveTurn** State monad and provide it the initial state.\n",
    "\n",
    "This monad calls then three other State monads that update the state accordingly and the final return parameter tells us weather the game is finished."
   ]
  },
  {
   "cell_type": "markdown",
   "metadata": {},
   "source": [
    "## Recap"
   ]
  },
  {
   "cell_type": "markdown",
   "metadata": {},
   "source": [
    "In this lesson we've discussed:\n",
    "\n",
    "- the motivation for introducing the State monad type \n",
    "\n",
    "- the definition of the State monad type and a simple example\n",
    "\n",
    "- examples that use the State monad type to solve a problem"
   ]
  }
 ],
 "metadata": {
  "kernelspec": {
   "display_name": "Haskell",
   "language": "haskell",
   "name": "haskell"
  },
  "language_info": {
   "codemirror_mode": "ihaskell",
   "file_extension": ".hs",
   "mimetype": "text/x-haskell",
   "name": "haskell",
   "pygments_lexer": "Haskell",
   "version": "8.10.7"
  }
 },
 "nbformat": 4,
 "nbformat_minor": 4
}
