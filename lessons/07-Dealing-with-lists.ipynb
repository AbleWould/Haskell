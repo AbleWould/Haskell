{
  "cells": [
    {
      "cell_type": "markdown",
      "metadata": {
        "slideshow": {
          "slide_type": "slide"
        }
      },
      "source": [
        "# Dealing with lists"
      ]
    },
    {
      "cell_type": "markdown",
      "metadata": {
        "slideshow": {
          "slide_type": "slide"
        }
      },
      "source": [
        "## Outline\n",
        "\n",
        "- `zip`\n",
        "- `map`\n",
        "- `foldl`, `foldr`\n",
        "- `scan`\n"
      ]
    },
    {
      "cell_type": "markdown",
      "metadata": {},
      "source": []
    }
  ],
  "metadata": {
    "celltoolbar": "Slideshow",
    "kernelspec": {
      "display_name": "Haskell",
      "language": "haskell",
      "name": "haskell"
    },
    "language_info": {
      "codemirror_mode": "ihaskell",
      "file_extension": ".hs",
      "mimetype": "text/x-haskell",
      "name": "haskell",
      "pygments_lexer": "Haskell",
      "version": "8.10.7"
    },
    "rise": {
      "enable_chalkboard": true,
      "header": "<img style=\"position: relative; left: 20px; width: 200px; top: 10px;\" src=\"https://raw.githubusercontent.com/rober-m/haskell-bootcamp/main/images/input-output.svg\"/>"
    }
  },
  "nbformat": 4,
  "nbformat_minor": 2
}
