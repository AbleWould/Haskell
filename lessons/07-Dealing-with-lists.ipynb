{
 "cells": [
  {
   "cell_type": "markdown",
   "metadata": {
    "slideshow": {
     "slide_type": "slide"
    }
   },
   "source": [
    "# Dealing with lists"
   ]
  },
  {
   "cell_type": "markdown",
   "metadata": {
    "slideshow": {
     "slide_type": "slide"
    }
   },
   "source": [
    "## Outline\n",
    "\n",
    "- What we already know\n",
    "\n",
    "- Common functions that deal with lists\n",
    "\n",
    "- Code example"
   ]
  },
  {
   "cell_type": "markdown",
   "metadata": {
    "slideshow": {
     "slide_type": "slide"
    }
   },
   "source": [
    "## What we already know"
   ]
  },
  {
   "cell_type": "markdown",
   "metadata": {},
   "source": [
    "Lists are the most common data structure in Haskell as an array is in the C programing language. They can be put together or sliced apart."
   ]
  },
  {
   "cell_type": "markdown",
   "metadata": {
    "slideshow": {
     "slide_type": "skip"
    }
   },
   "source": [
    "Here are the things we already learned about lists:\n",
    "\n",
    "- lists are a homogenous data structure, meaining element of a list have all to be of the same type\n",
    "\n",
    "- ists are denoted by square brackets [1,5,3,-4,0] and the values in the lists are separated by commas\n",
    "\n",
    "- `String` is just a type synonim for `[Char]` meaining that strings are lists of characters\n",
    "\n",
    "- you can access elements of a list with the `(!!)` operator. Indexes of lists start from 0.\n",
    "\n",
    "- you can use the `..` notation inside a list to construct elements of a list\n",
    "\n",
    "- the `:` operator is used for adding (\"consing\") an element to the begining of a list\n",
    "\n",
    "- we learned how to pattern match a list. For [1,2,3] the pattern match (x:xs) assignes 1 to x and [2,3] to xs."
   ]
  },
  {
   "cell_type": "markdown",
   "metadata": {
    "slideshow": {
     "slide_type": "fragment"
    }
   },
   "source": [
    "And here are the functions we already cover for lists:\n",
    "\n",
    "- the concatination operator `(++)` concatinates two lists\n",
    "\n",
    "- `length` takes a list and returns its length;\n",
    "\n",
    "- `null` checks if a list is empty;\n",
    "\n",
    "- `sum` takes a list of numbers and returns their sum;\n",
    "\n",
    "- `elem` takes an element x and a list of the same type and checks if x is an element of the list.\n",
    "\n",
    "- `take` takes an iteger n and a list and returns the first n elements of the list.\n",
    "\n",
    "- `head` returns the fisrt element of a list\n",
    "\n",
    "- `tail` returns the list without the first element\n",
    "\n",
    "- `minimum` returns the smalest element of the list\n"
   ]
  },
  {
   "cell_type": "markdown",
   "metadata": {},
   "source": [
    "In our homework for the previous lesson we have also implemented the function `zip` and `zipWith`. Here is again an example of how they work."
   ]
  },
  {
   "cell_type": "code",
   "execution_count": null,
   "metadata": {},
   "outputs": [],
   "source": [
    "print $ zip [1..3] [3..1]\n",
    "print $ zipWith (+) [1,2,3] [1,2,3]"
   ]
  },
  {
   "cell_type": "markdown",
   "metadata": {},
   "source": [
    "## Common functions that deal with lists"
   ]
  },
  {
   "cell_type": "markdown",
   "metadata": {},
   "source": [
    "Three very simple functions that fit to the group of functions mentioned before are:\n",
    "\n",
    "- `maximum` returns the maximum element of a list\n",
    "\n",
    "- `last` returns the last element of a list\n",
    "\n",
    "- `init` returns the list except the last element"
   ]
  },
  {
   "cell_type": "markdown",
   "metadata": {},
   "source": [
    "Another function that comes sometimes usefull is the `cycle` function that takes a list and returns a infinite list where the elements of the first list are repeated.\n",
    "```haskell\n",
    "cycle :: [a] -> [a]\n",
    "```"
   ]
  },
  {
   "cell_type": "code",
   "execution_count": null,
   "metadata": {},
   "outputs": [],
   "source": [
    "take 10 (cycle [1,2])\n",
    "-- [1,2,1,2,1,2,1,2,1,2]"
   ]
  },
  {
   "cell_type": "markdown",
   "metadata": {},
   "source": [
    "### Higher order function"
   ]
  },
  {
   "cell_type": "markdown",
   "metadata": {},
   "source": [
    "There is a group of commonly used functions for lists which are higher order functions. They are called so because they take in another function as a parameter. "
   ]
  },
  {
   "cell_type": "markdown",
   "metadata": {},
   "source": [
    "The first function we introduce is the `map` function that takes in a function and applies it to each element of the list:\n",
    "```haskell\n",
    "map :: (a -> b) -> [a] -> [b] \n",
    "```\n",
    "From its type signature we see it can also transform the type of the lists elements."
   ]
  },
  {
   "cell_type": "code",
   "execution_count": null,
   "metadata": {},
   "outputs": [],
   "source": [
    "addNToList :: Int -> [Int] -> [Int]\n",
    "addNToList n myList = map (+n) myList\n",
    "\n",
    "print $ addNToList 2 [1..3]\n",
    "\n",
    "changeType :: [Int] -> [String]\n",
    "changeType myList = map show myList\n",
    "\n",
    "print $ changeType [1..3]"
   ]
  },
  {
   "cell_type": "markdown",
   "metadata": {},
   "source": [
    "The second function in this group is the `filter` function. It takes in a function that for a value returns a bool and a list for which is filters out the elements which return false when applying the check function.\n",
    "```haskell\n",
    "filter :: (a -> Bool) -> [a] -> [a]\n",
    "```\n",
    "Let's use in our example the check function `even` that returns true if a value is even. It also has it's pair called `odd` that returns true for odd values."
   ]
  },
  {
   "cell_type": "code",
   "execution_count": null,
   "metadata": {},
   "outputs": [],
   "source": [
    "onlyEven :: [Int] -> [Int]\n",
    "onlyEven myList = filter even myList\n",
    "\n",
    "print $ onlyEven [1..5]\n",
    "\n",
    "largerThan5 :: [Int] -> [Int]\n",
    "largerThan5 myList = filter (>5) myList\n",
    "\n",
    "print $ largerThan5 [1..8]\n",
    "\n",
    "containA :: [String] -> [String]\n",
    "containA myList = filter (elem 'a') myList\n",
    "\n",
    "print $ containA [\"banana\",\"apple\",\"kiwi\"]"
   ]
  },
  {
   "cell_type": "markdown",
   "metadata": {},
   "source": [
    "The third example is a group of functions called fold. We have the `foldl` and `foldr` functions. The \"l\" and \"r\" at the end stand for left and right. Both of them take in a function, an initial value and a list. Then they fold the list with the function and the initial value in two different ways.\n",
    "```haskell\n",
    "foldl :: Foldable t => (b -> a -> b) -> b -> t a -> b\n",
    "foldr :: Foldable t => (a -> b -> b) -> b -> t a -> b\n",
    "```\n",
    "The Foldable class represents data structures that can be reduced to a summary value one element at a time. The minimal complete definition is either the function `foldr` of `foldMap`. The list type has an instance of Foldable which we will use in our examples."
   ]
  },
  {
   "cell_type": "markdown",
   "metadata": {},
   "source": [
    "Here are two examples of the fold functions."
   ]
  },
  {
   "cell_type": "code",
   "execution_count": null,
   "metadata": {},
   "outputs": [],
   "source": [
    "print $ foldl (-) 5 [1..4] -- returns -5\n",
    "print $ foldr (-) 5 [1..4] -- returns 3"
   ]
  },
  {
   "cell_type": "markdown",
   "metadata": {},
   "source": [
    "Here's the breakdown how these functions work in the above example:\n",
    "```\n",
    "foldl 1. step: 5 - 1 = 4\n",
    "      2. step: 4 - 2 = 2\n",
    "      3. step: 2 - 3 = -1\n",
    "      4. step: -1 - 4 = -5\n",
    "      \n",
    "foldr 1. step: 4 - 5 = -1\n",
    "      2. step: 3 - (-1) = 4\n",
    "      3. step: 2 - 4 = -2\n",
    "      4. step: 1 - (-2) = 3\n",
    "```"
   ]
  },
  {
   "cell_type": "markdown",
   "metadata": {},
   "source": [
    "There is also the function `foldl'` that is a nonlazy version of `foldl` and it's usually more efficient."
   ]
  },
  {
   "cell_type": "markdown",
   "metadata": {},
   "source": [
    "We finish with the fourth example which is also a group of functions called `scan`. We have the `scanl` and `scanr` functions. The \"l\" and \"r\" at the end also stand for left and right. Both of them take in a function, an initial value and a list. Then they apply the function with the initial value to every elemet of the list where they accumulate value and return a list.\n",
    "```haskell\n",
    "scanl :: (b -> a -> b) -> b -> [a] -> [b]\n",
    "scanr :: (a -> b -> b) -> b -> [a] -> [b]\n",
    "```"
   ]
  },
  {
   "cell_type": "markdown",
   "metadata": {},
   "source": [
    "Here are two examples of the scan functions."
   ]
  },
  {
   "cell_type": "code",
   "execution_count": null,
   "metadata": {},
   "outputs": [],
   "source": [
    "print $ scanl (-) 5 [1..4] -- returns [5,4,2,-1,-5]\n",
    "print $ scanr (-) 5 [1..4] -- returns [3,-2,4,-1,5]"
   ]
  },
  {
   "cell_type": "markdown",
   "metadata": {},
   "source": [
    "Here's the breakdown how these functions work in the above example:\n",
    "```\n",
    "scanl 1. element: 5\n",
    "      2. element: 5 - 1 = 4\n",
    "      3. element: 4 - 2 = 2\n",
    "      4. element: 2 - 3 = -1\n",
    "      5. element: -1 - 4 = -5      \n",
    "      \n",
    "scanr 1. element: 5\n",
    "      2. element: 4 - 5 = -1\n",
    "      3. element: 3 - (-1) = 4\n",
    "      4. element: 2 - 4 = -2\n",
    "      5. element: 1 - (-2) = 3\n",
    "      * last operation is to reverse the order of the list\n",
    "```"
   ]
  },
  {
   "cell_type": "markdown",
   "metadata": {},
   "source": [
    "## Code example"
   ]
  },
  {
   "cell_type": "markdown",
   "metadata": {},
   "source": [
    "Let's look at an example where we write a function that takes a number n of type Int and returns a list of prime numbers that are not greater then the number n. We will use the function `rem` that gives us the remainder for division."
   ]
  },
  {
   "cell_type": "code",
   "execution_count": null,
   "metadata": {},
   "outputs": [],
   "source": [
    "primes :: Int -> [Int]\n",
    "primes n = if n < 2 then []\n",
    "           else getPrimes [2] 3\n",
    "  where getPrimes xs x\n",
    "            | last xs > n = init xs\n",
    "            | checkPrimality xs x = getPrimes (xs ++ [x]) (x + 1)\n",
    "            | otherwise = getPrimes xs (x + 1)\n",
    "        checkPrimality :: [Int] -> Int -> Bool\n",
    "        checkPrimality xs x = length (filter (== 0) (map (rem x) xs)) == 0\n",
    "\n",
    "print $ primes 15"
   ]
  },
  {
   "cell_type": "markdown",
   "metadata": {},
   "source": [
    "In this example we make use of conditions, recursion, some functions that deal with lists and also in the `checkPrimality` helper function we use higher order functions."
   ]
  }
 ],
 "metadata": {
  "celltoolbar": "Slideshow",
  "kernelspec": {
   "display_name": "Haskell",
   "language": "haskell",
   "name": "haskell"
  },
  "language_info": {
   "codemirror_mode": "ihaskell",
   "file_extension": ".hs",
   "mimetype": "text/x-haskell",
   "name": "haskell",
   "pygments_lexer": "Haskell",
   "version": "8.10.7"
  },
  "rise": {
   "enable_chalkboard": true,
   "header": "<img style=\"position: relative; left: 1230px; width: 200px; top: 10px;\" src=\"https://raw.githubusercontent.com/rober-m/haskell-bootcamp/main/images/input-output.svg\"/>"
  },
  "vscode": {
   "interpreter": {
    "hash": "31f2aee4e71d21fbe5cf8b01ff0e069b9275f58929596ceb00d14d90e3e16cd6"
   }
  }
 },
 "nbformat": 4,
 "nbformat_minor": 4
}
