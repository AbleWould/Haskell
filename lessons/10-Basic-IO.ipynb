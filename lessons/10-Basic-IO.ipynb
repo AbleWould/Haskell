{
 "cells": [
  {
   "cell_type": "markdown",
   "metadata": {},
   "source": [
    "# Basic I/O"
   ]
  },
  {
   "cell_type": "markdown",
   "metadata": {},
   "source": [
    "## Outline\n",
    "\n",
    "* Intro to impure functions\n",
    "* Basic IO actions\n",
    "* Composing IO actions\n",
    "* The do block\n",
    "* Recap\n",
    "\n",
    "In this section, we will introduce the concepts of IO actions. We will begin with introducing these functions and then construct an intuitive but cumbersome way of composing these functions. Then we will introduce a more programmer-friendly way of composing them that hides this awkward construction. At the end, we will recap the import concepts."
   ]
  },
  {
   "cell_type": "markdown",
   "metadata": {},
   "source": [
    "## Intro to impure functions\n",
    "Haskell is a purely functional language. This means that for every function **only** the arguments determine what the outcome will be, these do not change any state. But this is quite a narrow scope for a program. In the real world we want an application to process data from the outside and provide results back to the outside world, it is interactive and should definitely change state outside the scope of the program.\n",
    "\n",
    "The interactions and changes to state outside this scope are called **side effects**. Say we have a function that fetches the time and logs it into a file. Each time we call this function we give it no inputs and get no outputs back, we only observe the side effect of the file that is changed. So, this function is **impure**. As a recap,\n",
    "\n",
    "| Pure | Impure |\n",
    "| --- | --- |\n",
    "| Always produces the same result when given the same parameter | May produce different results for the same parameter |\n",
    "| Never has side effect | May have side effects |\n",
    "| Never alters state | May alter the global state of the program, system, or world |"
   ]
  },
  {
   "cell_type": "markdown",
   "metadata": {},
   "source": [
    "## Basic IO actions"
   ]
  },
  {
   "cell_type": "markdown",
   "metadata": {},
   "source": [
    "Haskell strictly separates pure code from the impure world. But we would still like our Haskell programs to alter the world outside our program, it can do this via **IO actions** denoted by `IO a`. All these impure functions include a type that is marked with the `IO` wrapper followed by some type `a`. This marks that it first performs some computation with possible some side effects, then it returns something of type `a`."
   ]
  },
  {
   "cell_type": "markdown",
   "metadata": {},
   "source": [
    "As a first example, we have the `putStrLn` function, which has as input a string and returns a type `()`. Together, the resulting return type is of `IO ()`. The `()` type here is the empty tuple, since it has zero elements it can only be one thing, namely nothing."
   ]
  },
  {
   "cell_type": "code",
   "execution_count": 1,
   "metadata": {},
   "outputs": [
    {
     "data": {
      "text/html": [
       "<style>/* Styles used for the Hoogle display in the pager */\n",
       ".hoogle-doc {\n",
       "display: block;\n",
       "padding-bottom: 1.3em;\n",
       "padding-left: 0.4em;\n",
       "}\n",
       ".hoogle-code {\n",
       "display: block;\n",
       "font-family: monospace;\n",
       "white-space: pre;\n",
       "}\n",
       ".hoogle-text {\n",
       "display: block;\n",
       "}\n",
       ".hoogle-name {\n",
       "color: green;\n",
       "font-weight: bold;\n",
       "}\n",
       ".hoogle-head {\n",
       "font-weight: bold;\n",
       "}\n",
       ".hoogle-sub {\n",
       "display: block;\n",
       "margin-left: 0.4em;\n",
       "}\n",
       ".hoogle-package {\n",
       "font-weight: bold;\n",
       "font-style: italic;\n",
       "}\n",
       ".hoogle-module {\n",
       "font-weight: bold;\n",
       "}\n",
       ".hoogle-class {\n",
       "font-weight: bold;\n",
       "}\n",
       ".get-type {\n",
       "color: green;\n",
       "font-weight: bold;\n",
       "font-family: monospace;\n",
       "display: block;\n",
       "white-space: pre-wrap;\n",
       "}\n",
       ".show-type {\n",
       "color: green;\n",
       "font-weight: bold;\n",
       "font-family: monospace;\n",
       "margin-left: 1em;\n",
       "}\n",
       ".mono {\n",
       "font-family: monospace;\n",
       "display: block;\n",
       "}\n",
       ".err-msg {\n",
       "color: red;\n",
       "font-style: italic;\n",
       "font-family: monospace;\n",
       "white-space: pre;\n",
       "display: block;\n",
       "}\n",
       "#unshowable {\n",
       "color: red;\n",
       "font-weight: bold;\n",
       "}\n",
       ".err-msg.in.collapse {\n",
       "padding-top: 0.7em;\n",
       "}\n",
       ".highlight-code {\n",
       "white-space: pre;\n",
       "font-family: monospace;\n",
       "}\n",
       ".suggestion-warning { \n",
       "font-weight: bold;\n",
       "color: rgb(200, 130, 0);\n",
       "}\n",
       ".suggestion-error { \n",
       "font-weight: bold;\n",
       "color: red;\n",
       "}\n",
       ".suggestion-name {\n",
       "font-weight: bold;\n",
       "}\n",
       "</style><span class='get-type'>putStrLn :: String -> IO ()</span>"
      ],
      "text/plain": [
       "putStrLn :: String -> IO ()"
      ]
     },
     "metadata": {},
     "output_type": "display_data"
    },
    {
     "data": {
      "text/plain": [
       "Hello World"
      ]
     },
     "metadata": {},
     "output_type": "display_data"
    }
   ],
   "source": [
    ":t putStrLn --(takes some string and writes it to StdOut)\n",
    "\n",
    "-- An IO action that perform the action of printing \"Hello World\".\n",
    "main :: IO ()\n",
    "main = putStrLn \"Hello World\"\n",
    "main"
   ]
  },
  {
   "cell_type": "markdown",
   "metadata": {},
   "source": [
    "The `IO a` wrapped function are still functions, and so they can be composed with other functions, just keep in mind that the type signatures you are using are correct. Since a combination of an impure function and a pure function still has side effects, the composed function also is an impure function that must use the wrapped marked `IO` as well. We see that we can **never** escape the `IO` wrapper once we used it."
   ]
  },
  {
   "cell_type": "code",
   "execution_count": 2,
   "metadata": {},
   "outputs": [
    {
     "data": {
      "text/plain": [
       "Hello John"
      ]
     },
     "metadata": {},
     "output_type": "display_data"
    }
   ],
   "source": [
    "-- A pure function that prepends the string \"Hello \" to another string\n",
    "addHello :: String -> String\n",
    "addHello string = \"Hello \" ++ string\n",
    "\n",
    "-- Using the putStrLn function in the definition of an IO action.\n",
    "newPutStrLn :: String -> IO ()\n",
    "newPutStrLn name = putStrLn (addHello name)\n",
    "newPutStrLn \"John\""
   ]
  },
  {
   "cell_type": "markdown",
   "metadata": {},
   "source": [
    "Another useful example is the `getLine` action. This will ask for input from the user."
   ]
  },
  {
   "cell_type": "code",
   "execution_count": 13,
   "metadata": {},
   "outputs": [
    {
     "data": {
      "text/html": [
       "<style>/* Styles used for the Hoogle display in the pager */\n",
       ".hoogle-doc {\n",
       "display: block;\n",
       "padding-bottom: 1.3em;\n",
       "padding-left: 0.4em;\n",
       "}\n",
       ".hoogle-code {\n",
       "display: block;\n",
       "font-family: monospace;\n",
       "white-space: pre;\n",
       "}\n",
       ".hoogle-text {\n",
       "display: block;\n",
       "}\n",
       ".hoogle-name {\n",
       "color: green;\n",
       "font-weight: bold;\n",
       "}\n",
       ".hoogle-head {\n",
       "font-weight: bold;\n",
       "}\n",
       ".hoogle-sub {\n",
       "display: block;\n",
       "margin-left: 0.4em;\n",
       "}\n",
       ".hoogle-package {\n",
       "font-weight: bold;\n",
       "font-style: italic;\n",
       "}\n",
       ".hoogle-module {\n",
       "font-weight: bold;\n",
       "}\n",
       ".hoogle-class {\n",
       "font-weight: bold;\n",
       "}\n",
       ".get-type {\n",
       "color: green;\n",
       "font-weight: bold;\n",
       "font-family: monospace;\n",
       "display: block;\n",
       "white-space: pre-wrap;\n",
       "}\n",
       ".show-type {\n",
       "color: green;\n",
       "font-weight: bold;\n",
       "font-family: monospace;\n",
       "margin-left: 1em;\n",
       "}\n",
       ".mono {\n",
       "font-family: monospace;\n",
       "display: block;\n",
       "}\n",
       ".err-msg {\n",
       "color: red;\n",
       "font-style: italic;\n",
       "font-family: monospace;\n",
       "white-space: pre;\n",
       "display: block;\n",
       "}\n",
       "#unshowable {\n",
       "color: red;\n",
       "font-weight: bold;\n",
       "}\n",
       ".err-msg.in.collapse {\n",
       "padding-top: 0.7em;\n",
       "}\n",
       ".highlight-code {\n",
       "white-space: pre;\n",
       "font-family: monospace;\n",
       "}\n",
       ".suggestion-warning { \n",
       "font-weight: bold;\n",
       "color: rgb(200, 130, 0);\n",
       "}\n",
       ".suggestion-error { \n",
       "font-weight: bold;\n",
       "color: red;\n",
       "}\n",
       ".suggestion-name {\n",
       "font-weight: bold;\n",
       "}\n",
       "</style><span class='get-type'>getLine :: IO String</span>"
      ],
      "text/plain": [
       "getLine :: IO String"
      ]
     },
     "metadata": {},
     "output_type": "display_data"
    },
    {
     "data": {
      "text/plain": [
       "\"test\""
      ]
     },
     "metadata": {},
     "output_type": "display_data"
    }
   ],
   "source": [
    ":t getLine --(takes some StdIn and returns a string)\n",
    "\n",
    "main :: IO ()\n",
    "main = do\n",
    "    variable <- getLine --stores the user input to variable\n",
    "    print variable -- prints the variable value\n",
    "main"
   ]
  },
  {
   "cell_type": "markdown",
   "metadata": {},
   "source": [
    "The last example we will show here is the `listDirectory` which is located in the module `System.Directory`."
   ]
  },
  {
   "cell_type": "code",
   "execution_count": 14,
   "metadata": {},
   "outputs": [
    {
     "data": {
      "text/html": [
       "<style>/* Styles used for the Hoogle display in the pager */\n",
       ".hoogle-doc {\n",
       "display: block;\n",
       "padding-bottom: 1.3em;\n",
       "padding-left: 0.4em;\n",
       "}\n",
       ".hoogle-code {\n",
       "display: block;\n",
       "font-family: monospace;\n",
       "white-space: pre;\n",
       "}\n",
       ".hoogle-text {\n",
       "display: block;\n",
       "}\n",
       ".hoogle-name {\n",
       "color: green;\n",
       "font-weight: bold;\n",
       "}\n",
       ".hoogle-head {\n",
       "font-weight: bold;\n",
       "}\n",
       ".hoogle-sub {\n",
       "display: block;\n",
       "margin-left: 0.4em;\n",
       "}\n",
       ".hoogle-package {\n",
       "font-weight: bold;\n",
       "font-style: italic;\n",
       "}\n",
       ".hoogle-module {\n",
       "font-weight: bold;\n",
       "}\n",
       ".hoogle-class {\n",
       "font-weight: bold;\n",
       "}\n",
       ".get-type {\n",
       "color: green;\n",
       "font-weight: bold;\n",
       "font-family: monospace;\n",
       "display: block;\n",
       "white-space: pre-wrap;\n",
       "}\n",
       ".show-type {\n",
       "color: green;\n",
       "font-weight: bold;\n",
       "font-family: monospace;\n",
       "margin-left: 1em;\n",
       "}\n",
       ".mono {\n",
       "font-family: monospace;\n",
       "display: block;\n",
       "}\n",
       ".err-msg {\n",
       "color: red;\n",
       "font-style: italic;\n",
       "font-family: monospace;\n",
       "white-space: pre;\n",
       "display: block;\n",
       "}\n",
       "#unshowable {\n",
       "color: red;\n",
       "font-weight: bold;\n",
       "}\n",
       ".err-msg.in.collapse {\n",
       "padding-top: 0.7em;\n",
       "}\n",
       ".highlight-code {\n",
       "white-space: pre;\n",
       "font-family: monospace;\n",
       "}\n",
       ".suggestion-warning { \n",
       "font-weight: bold;\n",
       "color: rgb(200, 130, 0);\n",
       "}\n",
       ".suggestion-error { \n",
       "font-weight: bold;\n",
       "color: red;\n",
       "}\n",
       ".suggestion-name {\n",
       "font-weight: bold;\n",
       "}\n",
       "</style><span class='get-type'>listDirectory :: FilePath -> IO [FilePath]</span>"
      ],
      "text/plain": [
       "listDirectory :: FilePath -> IO [FilePath]"
      ]
     },
     "metadata": {},
     "output_type": "display_data"
    },
    {
     "data": {
      "text/plain": [
       "[\"5-Intro-to-Type-Classes.ipynb\",\"8-Basic-IO.ipynb\",\"7-Creating-Type-Classes.ipynb\",\"1-Introduction-to-haskell.ipynb\",\"2-Functions-Data-Types-and-Signatures.ipynb\",\"3-Pattern-matching-let-where.ipynb\",\"jupyter-tutuorial.ipynb\",\"6-Creating-Types.ipynb\",\"8-Basic-IO(1)(3)(1)(1)(4).ipynb\",\".ipynb_checkpoints\"]"
      ]
     },
     "metadata": {},
     "output_type": "display_data"
    }
   ],
   "source": [
    "import System.Directory (listDirectory) -- Importing some library for the listDirectory function\n",
    "\n",
    "-- this IO action will list the content of the directory it is given in a list. The \".\" input refers to the current jupyter working directory (week02)\n",
    ":t listDirectory\n",
    "listDirectory \".\""
   ]
  },
  {
   "cell_type": "markdown",
   "metadata": {},
   "source": [
    "## Composing IO actions\n",
    "Now that we can use actions to do useful side effects outside our program, we would like to be able to compose two actions, just like with pure functions. This should not be hard, just use another `IO a` as an input as before to get a function of type `IO a -> IO b`. But this construction is not so obvious, this is highlighted in the below example."
   ]
  },
  {
   "cell_type": "code",
   "execution_count": 1,
   "metadata": {},
   "outputs": [
    {
     "data": {
      "text/plain": [
       "world"
      ]
     },
     "metadata": {},
     "output_type": "display_data"
    }
   ],
   "source": [
    "-- An IO action that perform the action of printing \"Hello\". \n",
    "someIOType :: IO ()\n",
    "someIOType = putStrLn \"Hello\"\n",
    "\n",
    "-- A naive and wrong function that can combine two IO () actions\n",
    "combineIO :: IO () -> IO ()    -- A naive and wrong way of composing IO actions\n",
    "combineIO io = putStrLn \"world\"\n",
    "combineIO someIOType"
   ]
  },
  {
   "cell_type": "markdown",
   "metadata": {},
   "source": [
    "Here, the `someIOType` which perform the action of writing “Hello” is not being performed. This is because the input `IO ()` is not being used in the body of the function, so it is not being evaluated. But how can we call this IO action on the right side? To solve this, we introduce the **then** operator given by `>>` and the **bind** operator given by `>>=`. These operators allow for the composition of IO actions. The difference between the two is that the then operator `>>` does not forward the return value of its first action, while the bind operator `>>=` does. So as an overview,\n",
    "\n",
    "| `>>` | `>>=` |\n",
    "| --- | --- |\n",
    "| Composes two IO actions | Composes two IO actions |\n",
    "| Does not forward the return type | Forwards the return type |\n",
    "\n",
    "As an example, we first have a look at how the `>>` operator"
   ]
  },
  {
   "cell_type": "code",
   "execution_count": 12,
   "metadata": {},
   "outputs": [
    {
     "data": {
      "text/plain": [
       "Hello \n",
       "World"
      ]
     },
     "metadata": {},
     "output_type": "display_data"
    }
   ],
   "source": [
    "import System.Directory (listDirectory)\n",
    "\n",
    "-- A new expression that is of type IO ()\n",
    "printHello :: IO ()\n",
    "printHello = putStrLn \"Hello \" \n",
    "\n",
    "-- A new expression that is of type IO ()\n",
    "printWorld :: IO ()\n",
    "printWorld = putStrLn \"World\"\n",
    "\n",
    "--Combining the above IO actions\n",
    "printHello >> printWorld"
   ]
  },
  {
   "cell_type": "markdown",
   "metadata": {},
   "source": [
    "Here, the `printHello` first performs some side effect and then the `printWorld` action performs its side effect. The arrows of the operator `>>` indicate the flow of the action and in which order they are performed. \n",
    "\n",
    "Now for an example of the `>>=` operator"
   ]
  },
  {
   "cell_type": "code",
   "execution_count": 7,
   "metadata": {},
   "outputs": [
    {
     "data": {
      "text/plain": [
       "\"5-Intro-to-Type-Classes.ipynb\""
      ]
     },
     "metadata": {},
     "output_type": "display_data"
    }
   ],
   "source": [
    "import System.Directory (listDirectory)\n",
    "\n",
    "-- A new expression that is of type IO ()\n",
    "getFiles :: IO [FilePath]\n",
    "getFiles = listDirectory \".\" \n",
    "\n",
    "-- A new expression that is of type IO ()\n",
    "printFirstFile :: [FilePath] -> IO ()\n",
    "printFirstFile = print . head \n",
    "\n",
    "--Combining the above IO actions with forwarding the \n",
    "getFiles >>= printFirstFile"
   ]
  },
  {
   "cell_type": "markdown",
   "metadata": {},
   "source": [
    "Here we used `print` which is also an IO action instead of `putStrLn` to show the first element of the list of file paths. This function automatically converts a type to a string and shows it, it saves in syntax."
   ]
  },
  {
   "cell_type": "markdown",
   "metadata": {},
   "source": [
    "## The do block"
   ]
  },
  {
   "cell_type": "markdown",
   "metadata": {},
   "source": [
    "Now that we know how to compose actions, we are going to generalize this with the so called **do block**. To introduce the necessity and reasons of this, we look at a few examples. First, consider the composition of many actions via the then operator `>>`."
   ]
  },
  {
   "cell_type": "code",
   "execution_count": 17,
   "metadata": {},
   "outputs": [
    {
     "data": {
      "text/plain": [
       "Action one\n",
       "Action three"
      ]
     },
     "metadata": {},
     "output_type": "display_data"
    }
   ],
   "source": [
    "--  IO ()              IO String           IO ()\n",
    "putStrLn \"Action one\" >> getLine >> putStrLn \"Action three\""
   ]
  },
  {
   "cell_type": "markdown",
   "metadata": {},
   "source": [
    "Here each action is **sequentially** performed, the first and last concatenated actions print “Action one” and “Action three” respectively. The middle action asks for input, which performs no output to the console at all. Let's look at how this pattern would work for the bind operator `>>=`."
   ]
  },
  {
   "cell_type": "code",
   "execution_count": 6,
   "metadata": {},
   "outputs": [
    {
     "ename": "",
     "evalue": "",
     "output_type": "error",
     "traceback": [
      "<interactive>:1:33: error:\n    • Couldn't match type ‘()’ with ‘[FilePath]’\n      Expected type: () -> IO ()\n        Actual type: [FilePath] -> IO ()\n    • In the second argument of ‘(>>=)’, namely ‘printLastFile’\n      In the expression: getFiles >>= printFirstFile >>= printLastFile\n      In an equation for ‘it’: it = getFiles >>= printFirstFile >>= printLastFile"
     ]
    }
   ],
   "source": [
    "import System.Directory (listDirectory)\n",
    "\n",
    "-- A new expression that is of type IO ()\n",
    "getFiles :: IO [FilePath]\n",
    "getFiles = listDirectory \".\" \n",
    "\n",
    "-- A new expression that is of type IO ()\n",
    "printFirstFile :: [FilePath] -> IO ()\n",
    "printFirstFile = print . head \n",
    "\n",
    "-- A new expression that is of type IO ()\n",
    "printLastFile :: [FilePath] -> IO ()\n",
    "printLastFile = print . last \n",
    "\n",
    "getFiles >>= printFirstFile >>= printLastFile\n"
   ]
  },
  {
   "cell_type": "markdown",
   "metadata": {},
   "source": [
    "The compiler gives an error since we are incorrectly matching the types of the functions used. The function `printFirstFile` returns a `()` while the `printLastFile` function expects a `[FilePath]`. Somehow we need to manage how inputs and outputs of these functions are used, ideally we would like the `printLastFile` function to use the output of the `getFiles` function. Achieving this can be done with **anonymous functions** (also called lambda functions). These functions are inline defined function which are imminently applied to an input. They take the form,"
   ]
  },
  {
   "cell_type": "code",
   "execution_count": 2,
   "metadata": {},
   "outputs": [
    {
     "data": {
      "text/plain": [
       "3"
      ]
     },
     "metadata": {},
     "output_type": "display_data"
    }
   ],
   "source": [
    "(\\x -> 2*x + 1) 1 -- Here the lambda function (\\x -> 2*x + 1) is applied to the argument 1"
   ]
  },
  {
   "cell_type": "markdown",
   "metadata": {},
   "source": [
    "Using this, we can combine the action while making the inputs **progressively** available to the other actions inline. We do this by adding the actions in order to an anonymous function. The following example achieves what we wanted,"
   ]
  },
  {
   "cell_type": "code",
   "execution_count": 2,
   "metadata": {},
   "outputs": [
    {
     "data": {
      "text/plain": [
       "\"5-Intro-to-Type-Classes.ipynb\"\n",
       "\".ipynb_checkpoints\""
      ]
     },
     "metadata": {},
     "output_type": "display_data"
    }
   ],
   "source": [
    "import System.Directory (listDirectory)\n",
    "\n",
    "-- A new expression that is of type IO ()\n",
    "getFiles :: IO [FilePath]\n",
    "getFiles = listDirectory \".\" \n",
    "\n",
    "-- A new expression that is of type IO ()\n",
    "printFirstFile :: [FilePath] -> IO ()\n",
    "printFirstFile = print . head \n",
    "\n",
    "-- A new expression that is of type IO ()\n",
    "printLastFile :: [FilePath] -> IO ()\n",
    "printLastFile = print . last \n",
    "\n",
    "getFiles >>= (\\x1 -> printFirstFile x1 >>= (\\x2 -> printLastFile x1))"
   ]
  },
  {
   "cell_type": "markdown",
   "metadata": {},
   "source": [
    "Here we first forward the output of the `grabFiles` action denoted by `x1` into a lambda function. In this anonymous function, the action `printFirstFile x1` is performed, and its output is forwarded to another lambda function that does not use this output. Instead, it performs the `printLastFile` action with the input `x1`. Note that with this construction, all inputs gradually become available for the last function. Now, clearly this construction is very cumbersome and not practical in real life coding."
   ]
  },
  {
   "cell_type": "markdown",
   "metadata": {},
   "source": [
    "That's why to make it easier this whole construction is done by a **do block** which is just some syntactic sugar that does the above construction. This block looks just like an imperative way of programming but importantly, in its core it is still functional. An example of the above composition of actions in a do block becomes,"
   ]
  },
  {
   "cell_type": "code",
   "execution_count": 5,
   "metadata": {},
   "outputs": [
    {
     "data": {
      "text/plain": [
       "\"5-Intro-to-Type-Classes.ipynb\"\n",
       "\".ipynb_checkpoints\""
      ]
     },
     "metadata": {},
     "output_type": "display_data"
    }
   ],
   "source": [
    "import System.Directory (listDirectory)\n",
    "\n",
    "-- A new expression that is of type IO ()\n",
    "getFiles :: IO [FilePath]\n",
    "getFiles = listDirectory \".\" \n",
    "\n",
    "-- A new expression that is of type IO ()\n",
    "printFirstFile :: [FilePath] -> IO ()\n",
    "printFirstFile = print . head \n",
    "\n",
    "-- A new expression that is of type IO ()\n",
    "printLastFile :: [FilePath] -> IO ()\n",
    "printLastFile = print . last \n",
    "\n",
    "-- The introduction of the do block\n",
    "do x1 <- getFiles\n",
    "   printFirstFile x1\n",
    "   printLastFile x1"
   ]
  },
  {
   "cell_type": "markdown",
   "metadata": {},
   "source": [
    "In a do block, each line performs some action. In the above example, the do block is called by `do` followed by the first action `getFiles`. This action is performed, and its output is stored in the variable `x1`. Then the next action `printFirstFile` is performed with as input the variable `x1`. Lastly, the action `printLastFile` is called with also the input `x1`. This do block  is fundamentally the same as the previous example that used a lambda function. With these do blocks, we can write clearly structured code that performs multiple side effect. Inside a do block, you can also define let bindings define variables in the block. "
   ]
  },
  {
   "cell_type": "code",
   "execution_count": 6,
   "metadata": {},
   "outputs": [
    {
     "data": {
      "text/plain": [
       "\"8-Basic-IO.ipynb\""
      ]
     },
     "metadata": {},
     "output_type": "display_data"
    }
   ],
   "source": [
    "do fileList <- getFiles\n",
    "   let elemOne = fileList !! 1 -- take the 2nd elemet from the list\n",
    "   print elemOne"
   ]
  },
  {
   "cell_type": "markdown",
   "metadata": {},
   "source": [
    "## Recap"
   ]
  },
  {
   "cell_type": "markdown",
   "metadata": {},
   "source": [
    "In this section, we have introduced the concepts of IO actions. \n",
    "\n",
    "- Haskell knows two types of functions, pure and impure function, the latter are called IO actions. \n",
    "- These types of impure function are wrapped and marked by `IO` and may perform useful side effects. \n",
    "- Once a type is wrapped in an IO action, it can never shed this wrapper. \n",
    "- IO action can be composed using two operators, the then operator denoted by `>>` and the bind operator denoted by `>>=`.\n",
    "- The do block let you easily compose multiple action."
   ]
  },
  {
   "cell_type": "code",
   "execution_count": null,
   "metadata": {},
   "outputs": [],
   "source": []
  }
 ],
 "metadata": {
  "kernelspec": {
   "display_name": "Haskell",
   "language": "haskell",
   "name": "haskell"
  },
  "language_info": {
   "codemirror_mode": "ihaskell",
   "file_extension": ".hs",
   "mimetype": "text/x-haskell",
   "name": "haskell",
   "pygments_lexer": "Haskell",
   "version": "8.10.7"
  }
 },
 "nbformat": 4,
 "nbformat_minor": 4
}
