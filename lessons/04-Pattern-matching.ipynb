{
  "cells": [
    {
      "cell_type": "markdown",
      "metadata": {},
      "source": [
        "# Pattern matching"
      ]
    },
    {
      "cell_type": "markdown",
      "metadata": {},
      "source": [
        "## Outline\n",
        "\n",
        "* Pattern matching for\n",
        "\n",
        "    * Function definitions\n",
        "\n",
        "    * Lists\n",
        "\n",
        "    * Tuples"
      ]
    },
    {
      "cell_type": "markdown",
      "metadata": {},
      "source": [
        "## Pattern matching\n"
      ]
    },
    {
      "cell_type": "markdown",
      "metadata": {},
      "source": [
        "**Pattern matching** is an act of matching (comparing) data (values, types, etc.) against a certain pattern and binding variables to successful matches. We are going to discuss pattern matching in three cases.\n",
        "\n"
      ]
    },
    {
      "cell_type": "markdown",
      "metadata": {},
      "source": [
        "* Pattern matching in function definitions (multi-way if, case).\n",
        "\n",
        "* Pattern matching for lists.\n",
        "\n",
        "* Pattern matching for tuples."
      ]
    },
    {
      "cell_type": "markdown",
      "metadata": {},
      "source": [
        "## Pattern matching in functions"
      ]
    },
    {
      "cell_type": "markdown",
      "metadata": {},
      "source": [
        "The pattern matching in function definitions we will discuss on an example of an `analyzeGold` function. This function takes an integer as an input and returns a validating string if such a standard of gold exists, or it returns `\"I don't know such a standard...\"` if the input integer isn't a known gold standard."
      ]
    },
    {
      "cell_type": "markdown",
      "metadata": {},
      "source": [
        "The code for the function that checks whether a golden sample has 999, 750, or 585 standard takes form:"
      ]
    },
    {
      "cell_type": "code",
      "execution_count": null,
      "metadata": {},
      "outputs": [],
      "source": [
        "analyzeGold :: Int -> String\n",
        "analyzeGold 999 = \"Wow! 999 standard!\"\n",
        "analyzeGold 750 = \"Great! 750 standard.\"\n",
        "analyzeGold 585 = \"Not bad! 585 standard.\"\n",
        "analyzeGold goldenSample = \"I don't know a standard \" ++ show goldenSample ++ \", sorry!\"\n",
        "\n",
        "print $ analyzeGold 500\n",
        "print $ analyzeGold 750"
      ]
    },
    {
      "cell_type": "markdown",
      "metadata": {},
      "source": [
        "**How does `analyzeGold` works?**\n",
        "\n",
        "- In the first definition, we perform a **pattern matching**: is the integer argument equals to `999` or not? If so, it returns `\"Wow! 999 standard!\"`\n",
        "\n",
        "- If the **pattern matching** against a *sample* 999 wasn't successful, the function goes to the second definition, where the **pattern matching** against a *sample* 750 happens.\n",
        "\n",
        "- If all **pattern matching** weren't successful, the last comparison against the `goldenSample` happens. This always ends with a success pattern match, as we can always **bind the matched value** to `goldenSample`, which results in the function returning `\"I don’t know such a standard...\"`. The sample `goldenSample` in such a case is called a **catchall pattern**, as it catches all arguments that weren't successfully compared to the patterns above it."
      ]
    },
    {
      "cell_type": "markdown",
      "metadata": {},
      "source": [
        "**General rule of pattern matching**\n",
        "\n",
        "* An argument of a function is matched against a sample with the equality operator `==`. \n",
        "\n",
        "* If a match gives the result `True`, the corresponding expression returns as a result. If it doesn't match, the function moves on to the next one.\n",
        "\n",
        "* The bound matched value can be used further in code."
      ]
    },
    {
      "cell_type": "markdown",
      "metadata": {},
      "source": [
        "<div class=\"alert alert-block alert-info\">\n",
        "<b>Note:</b> If you aren't interested in binding of the matched value (when you are not going to use it later, in particular), you can simply write `_` for your catchall pattern. \n",
        "</div>"
      ]
    },
    {
      "cell_type": "code",
      "execution_count": null,
      "metadata": {},
      "outputs": [],
      "source": [
        "analyzeGold :: Int -> String\n",
        "analyzeGold 999 = \"Wow! 999 standard!\"\n",
        "analyzeGold 750 = \"Great! 750 standard.\"\n",
        "analyzeGold 585 = \"Not bad! 585 standard.\"\n",
        "analyzeGold _   = \"I don't know such a standard...\""
      ]
    },
    {
      "cell_type": "markdown",
      "metadata": {},
      "source": [
        "**What is the catchall pattern?**"
      ]
    },
    {
      "cell_type": "markdown",
      "metadata": {},
      "source": [
        "The **catchall pattern** `_` is a sample such that any argument matches with it. \n",
        "\n",
        "It can be seen as *I don't care about any samples*, so the comparison will it always returns the corresponding expression."
      ]
    },
    {
      "cell_type": "markdown",
      "metadata": {},
      "source": [
        "**Non-exhaustive patterns:**"
      ]
    },
    {
      "cell_type": "markdown",
      "metadata": {},
      "source": [
        "If you do not cover all the possible cases of the input with the catchall pattern `_` or a parameter, you'll get the warning:\t\n",
        "\n",
        "        Pattern match(es) are non-exhaustive in an equation for analyzeGold."
      ]
    },
    {
      "cell_type": "markdown",
      "metadata": {},
      "source": [
        "**Pattern matching order matters!**\n",
        "\n"
      ]
    },
    {
      "cell_type": "markdown",
      "metadata": {},
      "source": [
        "Haskell pattern matches from top to bottom. Let's change the order and write"
      ]
    },
    {
      "cell_type": "code",
      "execution_count": null,
      "metadata": {},
      "outputs": [],
      "source": [
        "analyzeGold :: Int -> String\n",
        "analyzeGold _   = \"I don't know such a standard...\"\n",
        "analyzeGold 999 = \"Wow! 999 standard!\"\n",
        "analyzeGold 750 = \"Great! 750 standard.\"\n",
        "analyzeGold 585 = \"Not bad! 585 standard.\""
      ]
    },
    {
      "cell_type": "markdown",
      "metadata": {},
      "source": [
        "The first definition will catch all the occurrences, and we'll always get `\"I don't know such a standard...\"` as a result, no matter the number we pass. \n",
        "\n",
        "This happens because `_` matches with any argument, so the further matches aren't relevant.\n",
        "\n"
      ]
    },
    {
      "cell_type": "markdown",
      "metadata": {},
      "source": [
        "### Case-of construction"
      ]
    },
    {
      "cell_type": "markdown",
      "metadata": {},
      "source": [
        "There is another kind of pattern matching using the **case-of** construction:"
      ]
    },
    {
      "cell_type": "code",
      "execution_count": null,
      "metadata": {},
      "outputs": [],
      "source": [
        "analyzeGold :: Int -> String\n",
        "analyzeGold standard =\n",
        "    case standard of\n",
        "        999 -> \"Wow! 999 standard!\"\n",
        "        750 -> \"Great! 750 standard.\"\n",
        "        585 -> \"Not bad! 585 standard.\"\n",
        "        _   -> \"I don't know such a standard...\""
      ]
    },
    {
      "cell_type": "markdown",
      "metadata": {},
      "source": [
        "`Case-of` compares the argument `standard` with the samples `999`, `750`, and `585`. If none worked out, as before, we run into the catchall pattern `_` and the function returns `\"I don't know such a standard...\"`. The order of the cases matters also here, the same  as in regular pattern matching. You also have the possibility to easily use it inside expressions."
      ]
    },
    {
      "cell_type": "code",
      "execution_count": null,
      "metadata": {},
      "outputs": [],
      "source": [
        "analyzeGold :: Int -> String\n",
        "analyzeGold standard = \"The result is: \" ++ \n",
        "    case standard of\n",
        "        999 -> \"Wow! 999 standard!\"\n",
        "        750 -> \"Great! 750 standard.\"\n",
        "        585 -> \"Not bad! 585 standard.\"\n",
        "        _   -> \"I don't know such a standard...\""
      ]
    },
    {
      "cell_type": "markdown",
      "metadata": {},
      "source": [
        "In the above code, we are adding a string `\"The result is:\"` before every result. So, the case-off construction wraps the code with cases and allows using it as a part of any valid expression."
      ]
    },
    {
      "cell_type": "markdown",
      "metadata": {},
      "source": [
        "## Pattern matching lists"
      ]
    },
    {
      "cell_type": "markdown",
      "metadata": {},
      "source": [
        "Pattern matching works not for just functions, but you can do it with lists."
      ]
    },
    {
      "cell_type": "markdown",
      "metadata": {},
      "source": [
        "### List structure (revisited)"
      ]
    },
    {
      "cell_type": "markdown",
      "metadata": {},
      "source": [
        "The way we wrote lists so far is actually the syntactic sugar (another nice way to write something) for the real way Haskell sees lists, as an empty list prepended with all the elements that it contains."
      ]
    },
    {
      "cell_type": "code",
      "execution_count": null,
      "metadata": {},
      "outputs": [],
      "source": [
        "[1,2,3,4] == 1:2:3:4:[]\n",
        "\n",
        "\"Hello!\"  == 'H':'e':'l':'l':'o':'!':[]"
      ]
    },
    {
      "cell_type": "markdown",
      "metadata": {},
      "source": [
        "where `:` is the cons operator.  \n",
        "\n",
        "Now that we know how lists look like without sugar, and we can use their structure to pattern match different function definitions depending on the list structure. "
      ]
    },
    {
      "cell_type": "markdown",
      "metadata": {},
      "source": [
        "### How to pattern match a list?"
      ]
    },
    {
      "cell_type": "markdown",
      "metadata": {},
      "source": [
        "Let's do a bunch of patterns matching all at once and investigate later:"
      ]
    },
    {
      "cell_type": "code",
      "execution_count": null,
      "metadata": {},
      "outputs": [],
      "source": [
        "whatsInsideThisList :: [String] -> String\n",
        "whatsInsideThisList []         = \"It's empty!\"\n",
        "whatsInsideThisList [x]        = \"A single element: \" ++ x\n",
        "whatsInsideThisList [x, y]     = \"Two elements: \" ++ x ++ y\n",
        "whatsInsideThisList (x:y:z:[]) = \"The first two elements are: \" ++ x ++ y ++ \". And the third one is: \" ++ z \n",
        "whatsInsideThisList (x:rest)   = \"The first element is: \" ++ x ++ \", and there are many more elements...\"\n",
        "\n",
        "print $ whatsInsideThisList []\n",
        "print $ whatsInsideThisList [\"a1\",\"b2\"]\n",
        "print $ whatsInsideThisList [\"a1\",\"b2\",\"c3\",\"d4\"]"
      ]
    },
    {
      "cell_type": "markdown",
      "metadata": {},
      "source": [
        "As you can see, you can pattern match for:\n",
        "\n",
        "* Empty list `[]`.\n",
        "\n",
        "* Lists `[x]` and `[x,y]` of length 1 and 2 respectively.\n",
        "\n",
        "* List `x:y:z:[]` of length 3 (the syntactic sugar is used here!). \n",
        "\n",
        "* Non-empty lists of any size with `x:rest`. (Commonly used in recursive functions and usually named `x:xs`.)"
      ]
    },
    {
      "cell_type": "markdown",
      "metadata": {},
      "source": [
        "Sometimes while pattern matching, you do not care about some of the data. The following function tells us which are the first and third elements in a list (if any):"
      ]
    },
    {
      "cell_type": "code",
      "execution_count": null,
      "metadata": {},
      "outputs": [],
      "source": [
        "firstAndThird :: [String] -> String\n",
        "firstAndThird (x:_:z:_) = \"The first and third elements are: \" ++ x ++ \" and \" ++ z\n",
        "firstAndThird list      = \"I don't care!\"\n",
        "\n",
        "print $ firstAndThird [\"a1\",\"b2\",\"c3\",\"d4\"]"
      ]
    },
    {
      "cell_type": "markdown",
      "metadata": {},
      "source": [
        "The first definition will pattern match for any list with 3 or more elements, while `_` will ignore the second element and the rest of the list. This allows us to pattern match more easily and to avoid polluting our environment with variables that we don't need. "
      ]
    },
    {
      "cell_type": "markdown",
      "metadata": {},
      "source": [
        "## Pattern matching tuples"
      ]
    },
    {
      "cell_type": "markdown",
      "metadata": {},
      "source": [
        "Let's see how pattern matching works with tuples. "
      ]
    },
    {
      "cell_type": "markdown",
      "metadata": {},
      "source": [
        "As you can recall from the previous lecture, we could only get the elements inside a pair (a tuple of two elements) using the `fst` and `snd` functions. \n",
        "\n",
        "If you needed a value from tuples bigger than that, you need to use the pattern matching."
      ]
    },
    {
      "cell_type": "markdown",
      "metadata": {},
      "source": [
        "The following function extracts the first element of a 3-element tuple :"
      ]
    },
    {
      "cell_type": "code",
      "execution_count": null,
      "metadata": {},
      "outputs": [],
      "source": [
        "firstOfThree :: (a, b, c) -> a\n",
        "firstOfThree (x, _, _) = x\n",
        "\n",
        "print $ firstOfThree (1,2,3)"
      ]
    },
    {
      "cell_type": "markdown",
      "metadata": {},
      "source": [
        "If we want to create a pair with the second and fourth elements of a 4-element tuple, we create a function"
      ]
    },
    {
      "cell_type": "markdown",
      "metadata": {},
      "source": [
        "```haskell\n",
        "pairFromFour (_, x, _, y) = (x, y)\n",
        "```"
      ]
    },
    {
      "cell_type": "markdown",
      "metadata": {},
      "source": [
        "## Summary\n",
        "\n",
        "In this lesson, we've discussed:\n",
        "\n",
        "* Pattern matching for function definitions and catchall patterns: the pattern matching happens from the top to the bottom, and we have to cover all possibilities.\n",
        "\n",
        "* Case-off construction that simplifies the code for multiple definitions of a function, and can be used as a part of other expressions.\n",
        "\n",
        "* Pattern matching of lists tuples; how we can access different parts of a list or tuple using pattern matching."
      ]
    },
    {
      "cell_type": "code",
      "execution_count": null,
      "metadata": {},
      "outputs": [],
      "source": []
    }
  ],
  "metadata": {
    "kernelspec": {
      "display_name": "Haskell",
      "language": "haskell",
      "name": "haskell"
    },
    "language_info": {
      "codemirror_mode": "ihaskell",
      "file_extension": ".hs",
      "mimetype": "text/x-haskell",
      "name": "haskell",
      "pygments_lexer": "Haskell",
      "version": "8.10.7"
    },
    "rise": {
      "enable_chalkboard": true,
      "header": "<img style=\"position: relative; left: 1230px; width: 200px; top: 10px;\" src=\"https://raw.githubusercontent.com/rober-m/haskell-bootcamp/main/images/input-output.svg\"/>"
    },
    "vscode": {
      "interpreter": {
        "hash": "e7370f93d1d0cde622a1f8e1c04877d8463912d04d973331ad4851f04de6915a"
      }
    }
  },
  "nbformat": 4,
  "nbformat_minor": 4
}
