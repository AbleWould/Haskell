{
 "cells": [
  {
   "cell_type": "markdown",
   "metadata": {},
   "source": [
    "# Functions, Data Types and Signatures"
   ]
  },
  {
   "cell_type": "markdown",
   "metadata": {},
   "source": [
    "\n",
    "## Outline\n",
    "\n",
    "- Pragmatic intro to types\n",
    "- Type signature\n",
    "    - Function’s signatures\n",
    "    - Variables in Haskell\n",
    "- Infix and prefix functions\n",
    "- Data Types in depth\n",
    "- Polymorphic values and type variables"
   ]
  },
  {
   "cell_type": "markdown",
   "metadata": {},
   "source": [
    "## Pragmatic intro to types"
   ]
  },
  {
   "cell_type": "markdown",
   "metadata": {},
   "source": [
    "### The `::`"
   ]
  },
  {
   "cell_type": "markdown",
   "metadata": {},
   "source": [
    "\n",
    "A type is a kind of label that every expression has and that restricts its usage. "
   ]
  },
  {
   "cell_type": "markdown",
   "metadata": {},
   "source": [
    "We use a *double colon* `::` to show or assign the type of an expression. For instance, the code\n",
    "\n",
    "``` haskell\n",
    "myexpression :: MyType \n",
    "```\n",
    "\n",
    "tells that the expression `myexpression` has type of `MyType`.  "
   ]
  },
  {
   "cell_type": "markdown",
   "metadata": {},
   "source": [
    "### Frequently used types"
   ]
  },
  {
   "cell_type": "markdown",
   "metadata": {},
   "source": [
    "\n",
    "There are the standard types that are frequently used in Haskell:\n",
    "\n",
    "* `Int` and `Integer` for integer numbers.\n",
    "* `Float` and `Double` for floating point real numbers.\n",
    "* `Bool` for `True` and `False`.\n",
    "* `Char` for characters.\n",
    "* `String` for strings of text."
   ]
  },
  {
   "cell_type": "markdown",
   "metadata": {},
   "source": [
    "### How to check the type?"
   ]
  },
  {
   "cell_type": "markdown",
   "metadata": {},
   "source": [
    "\n",
    "The `:type` command (or `:t` for short) in GHCI, followed by any valid expression, tells us its type.\n"
   ]
  },
  {
   "cell_type": "code",
   "execution_count": null,
   "metadata": {},
   "outputs": [],
   "source": [
    ":type True\n",
    "\n",
    ":type False\n",
    "\n",
    ":t (3 < 5)\n",
    "\n",
    ":t 'A'\n",
    "\n",
    ":t \"Hello world!\""
   ]
  },
  {
   "cell_type": "markdown",
   "metadata": {},
   "source": [
    "## Type signature"
   ]
  },
  {
   "cell_type": "markdown",
   "metadata": {},
   "source": [
    "### Signature of a function"
   ]
  },
  {
   "cell_type": "markdown",
   "metadata": {},
   "source": [
    "\n",
    "The double colon symbol `::` should be read as simply \"is of type\", and indicates a type *signature*. Let's explain what is a type signature by the following example. In Haskell a function that squares its argument is defined as "
   ]
  },
  {
   "cell_type": "code",
   "execution_count": null,
   "metadata": {},
   "outputs": [],
   "source": [
    "square :: Int -> Int\n",
    "square v = v * v"
   ]
  },
  {
   "cell_type": "markdown",
   "metadata": {},
   "source": [
    "The first line contains the **signature**, the second line contains the **definition** of a function `square`.\n"
   ]
  },
  {
   "cell_type": "markdown",
   "metadata": {},
   "source": [
    "\n",
    "* A **signature** of a function is a message to the whole world that such function exists, here it is name and here are the types it works with. \n",
    "\n",
    "* A **definition** of a function is an information about what exactly this function does."
   ]
  },
  {
   "cell_type": "markdown",
   "metadata": {},
   "source": [
    "In the signature"
   ]
  },
  {
   "cell_type": "markdown",
   "metadata": {},
   "source": [
    "```haskell\n",
    "square :: Int -> Int\n",
    "```"
   ]
  },
  {
   "cell_type": "markdown",
   "metadata": {},
   "source": [
    "two parts are *separated* by a double colon into "
   ]
  },
  {
   "cell_type": "markdown",
   "metadata": {},
   "source": [
    "\n",
    "* the **name** of the function on the left and\n",
    "\n",
    "* the **type of function** on the right. "
   ]
  },
  {
   "cell_type": "markdown",
   "metadata": {},
   "source": [
    "**All data in a Haskell program is of a particular type**, and since the function works with data, its **signature contains the types of the data that are separated by arrows `->`**.\n",
    "\n",
    "The signature of the squaring function `square` tells that it accepts a *unique* argument of type `Int` and returns a value of the same `Int` type. \n",
    "\n"
   ]
  },
  {
   "cell_type": "markdown",
   "metadata": {},
   "source": [
    "If there are more than one argument, the signature is simply pulled out. For example, `prod` function signature, which returns the product of two integer arguments, could look like this:"
   ]
  },
  {
   "cell_type": "code",
   "execution_count": null,
   "metadata": {},
   "outputs": [],
   "source": [
    "prod :: Int -> Int -> Int\n",
    "prod x y = x * y"
   ]
  },
  {
   "cell_type": "markdown",
   "metadata": {},
   "source": [
    "It has two arguments of `Int` type and its output also has `Int` type. \n"
   ]
  },
  {
   "cell_type": "markdown",
   "metadata": {},
   "source": [
    "\n",
    "In the **definition** of a function the equality sign `=` separates the code in two parts.\n"
   ]
  },
  {
   "cell_type": "markdown",
   "metadata": {},
   "source": [
    "\n",
    "* **Head** is a code to the left of `=` and consists of the **name of a function** and **argument names** (names, not types!), separated by spaces.\n",
    "\n",
    "* **Body** is a code to the right of `=` that expresses the essence of the function, its contents. \n",
    "\n"
   ]
  },
  {
   "cell_type": "markdown",
   "metadata": {},
   "source": [
    "For instance, in the definition of the squaring function"
   ]
  },
  {
   "cell_type": "markdown",
   "metadata": {},
   "source": [
    "```haskell\n",
    "square v = v * v\n",
    "```"
   ]
  },
  {
   "cell_type": "markdown",
   "metadata": {},
   "source": [
    "the name of function is `square`, the (unique) argument is `v`, the head is `square v`, and the body is `v * v`."
   ]
  },
  {
   "cell_type": "markdown",
   "metadata": {},
   "source": [
    "### What a function's signature tells us? \n"
   ]
  },
  {
   "cell_type": "markdown",
   "metadata": {},
   "source": [
    "\n",
    "Haskell is a *functional* programming language and every program consists of *functions*. Each function takes a fixed number of parameters of some types and returns a value which also has a type. For instance, a function"
   ]
  },
  {
   "cell_type": "markdown",
   "metadata": {},
   "source": [
    "``` haskell\n",
    "not :: Bool -> Bool\n",
    "``` "
   ]
  },
  {
   "cell_type": "markdown",
   "metadata": {},
   "source": [
    "takes a parameter of type `Bool` and returns its negation, which is again of type `Bool`. \n",
    "\n"
   ]
  },
  {
   "cell_type": "markdown",
   "metadata": {},
   "source": [
    "Looking at the *rightmost arrow `->`* in the signature we understand that \n",
    "\n",
    "* everything to the left of it are **types of arguments**, that can also be separated by arrows `->`,\n",
    "\n",
    "* everything to the right is a **type of the calculated value**."
   ]
  },
  {
   "cell_type": "markdown",
   "metadata": {},
   "source": [
    "### Variables in Haskell (Names/definitions)"
   ]
  },
  {
   "cell_type": "markdown",
   "metadata": {},
   "source": [
    "\n",
    "**In Haskell, there is no assignment operator:** each function is ultimately an expression that is evaluated by applying some other functions to some other parameters, so we simply do not need anything to assign to nothing.\n",
    "\n",
    "The assignment came from imperative languages. Imperative programming combines several programming paradigms, one of which is the famous object-oriented paradigm. Using this approach, the program is perceived as a set of instructions, the fulfillment of which is inextricably linked with a change in the state of this programs. That is why in imperative languages ​​there is always a concept of **variable**. And since there are variables, there must be an operator of assignment. When we write:\n",
    "\n",
    "`coeff = 0.569`\n",
    "\n",
    "we command a computer \"to take the value `0.569` and overwrite it with that value which was already contained in the variable `coeff` before\". And we overwrite this value many times, and therefore, we are forced to keep track of the current state of the `coeff` variable carefully, as well as the states of all other variables in our code.\n",
    "\n",
    "There is a fundamentally different approach, namely the declarative programming. This direction also includes several paradigms, one of which is the **functiononal paradigm**, embodied in Haskell. With this approach the program is no longer perceived as a set of instructions, but as a set of expressions. And since expressions are evaluated by applying functions to arguments (that is, in fact, to other expressions), there is **no place for either variables or assignment operator**. All data in a Haskell program, once created\n",
    "once, can no longer be changed. \n",
    "\n",
    "`We do not need not only the operator assignments, but also the const keyword!` \n",
    "\n",
    "When in Haskell code we write\n",
    "\n",
    "`coeff = 0.569`\n",
    "\n",
    "we simply declare: \"From now on, the value of coeff is 0.569, and so it will always be.\" This is why, in Haskell code, the symbol `=` is an equals sign in the mathematical sense, and it has nothing to do with assignment. "
   ]
  },
  {
   "cell_type": "markdown",
   "metadata": {},
   "source": [
    "## Infix and prefix notations\n",
    "\n"
   ]
  },
  {
   "cell_type": "markdown",
   "metadata": {},
   "source": [
    "Some functions allow syntactically to apply them in two different notations: infix and prefix notations.\n",
    "\n"
   ]
  },
  {
   "cell_type": "markdown",
   "metadata": {},
   "source": [
    "#### Infix\n",
    "\n",
    "Let's look at an expression:\n",
    "\n",
    "$$1+2$$\n",
    "\n"
   ]
  },
  {
   "cell_type": "markdown",
   "metadata": {},
   "source": [
    "The function `+` is written in **infix form**, that is, **between its arguments**. This entry looks less natural than the usual:\n",
    "\n",
    "$$(+)~~1~~2$$\n",
    "\n"
   ]
  },
  {
   "cell_type": "markdown",
   "metadata": {},
   "source": [
    "We see the appeared parentheses around the plus character. They say that this function is intended for *infix* entry. The author of this function initially counted on the infix use form `1 + 2` rather than the `(+) 1 2`, which is why the function name is enclosed in parentheses in the definition:\n",
    "\n",
    "$$(+)~::~Int~->~Int~->~Int$$"
   ]
  },
  {
   "cell_type": "markdown",
   "metadata": {},
   "source": [
    "Functions intended for the infix form of application are called **operators**.\n",
    "\n"
   ]
  },
  {
   "cell_type": "markdown",
   "metadata": {},
   "source": [
    "There is an implicit rule: *functions defined with only symbols will be automatically set as infix functions.*"
   ]
  },
  {
   "cell_type": "markdown",
   "metadata": {},
   "source": [
    "#### Prefix\n",
    "\n"
   ]
  },
  {
   "cell_type": "markdown",
   "metadata": {},
   "source": [
    "If the function name is not enclosed in parentheses, it is assumed that we consider the usual form of its application, that is it is used in a **prefix form**, that is, **before its arguments**. "
   ]
  },
  {
   "cell_type": "code",
   "execution_count": null,
   "metadata": {},
   "outputs": [],
   "source": [
    "prod 4  5"
   ]
  },
  {
   "cell_type": "markdown",
   "metadata": {},
   "source": [
    "However, even in this case it is possible to change it infix, but the name must be enclosed in back single quotes `backticks`."
   ]
  },
  {
   "cell_type": "code",
   "execution_count": null,
   "metadata": {},
   "outputs": [],
   "source": [
    "4 `prod` 5"
   ]
  },
  {
   "cell_type": "markdown",
   "metadata": {},
   "source": []
  },
  {
   "cell_type": "markdown",
   "metadata": {},
   "source": [
    "## Data types in depth\n"
   ]
  },
  {
   "cell_type": "markdown",
   "metadata": {},
   "source": [
    "\n",
    "### Integer number types: Int and Integer\n"
   ]
  },
  {
   "cell_type": "markdown",
   "metadata": {},
   "source": [
    "**Integer** is an arbitrary precision type: *it will hold any number no matter how big*, up to the limit of your machine's memory, so you never have arithmetic overflows. On the other hand it also means your arithmetic is relatively slow. "
   ]
  },
  {
   "cell_type": "markdown",
   "metadata": {},
   "source": [
    "**Int** is the more common 32 or 64 bit integer. Implementations vary, although it is guaranteed to be at least 30 bits. (In 64-bit machines the range goes from $-2^{63}$ to $2^{63}+1.$)"
   ]
  },
  {
   "cell_type": "markdown",
   "metadata": {},
   "source": [
    "There are several basic operations common to all numeric types; these include, among others, addition, subtraction, negation, multiplication, and absolute value."
   ]
  },
  {
   "cell_type": "code",
   "execution_count": null,
   "metadata": {},
   "outputs": [],
   "source": [
    "1 + 2\n",
    "\n",
    "5 - 9\n",
    "\n",
    "10 * 4\n",
    "\n",
    "negate 4"
   ]
  },
  {
   "cell_type": "markdown",
   "metadata": {},
   "source": [
    "Division is not an integer division by default:"
   ]
  },
  {
   "cell_type": "code",
   "execution_count": null,
   "metadata": {},
   "outputs": [],
   "source": [
    "35 / 5"
   ]
  },
  {
   "cell_type": "markdown",
   "metadata": {},
   "source": [
    "However, there are a few integer division operators."
   ]
  },
  {
   "cell_type": "markdown",
   "metadata": {},
   "source": [
    "* `quot` returns the quotient of the two numbers. This is the result of division which is then **truncated towards zero**.\n",
    "\n",
    "* `rem` returns the remainder from the quotient.\n",
    "\n",
    "* `div` similar to `quot`, but is **rounded down towards minus infinity**.\n",
    "\n",
    "* `mod` returns the modulus of the two numbers. This is similar to the remainder `rem`, but has different rules when `div` returns a negative number."
   ]
  },
  {
   "cell_type": "code",
   "execution_count": null,
   "metadata": {},
   "outputs": [],
   "source": [
    "div (-30) 9\n",
    "\n",
    "quot (-30) 9\n",
    "\n",
    "rem (-30) 9\n",
    "\n",
    "mod (-30) 9"
   ]
  },
  {
   "cell_type": "markdown",
   "metadata": {},
   "source": [
    "### Floating point number types: Float and Double"
   ]
  },
  {
   "cell_type": "markdown",
   "metadata": {},
   "source": [
    "\n",
    "#### Difference between Float and Double\n",
    "\n",
    "**Float** is a real floating point with single precision (32 bits), while **Double** is a real floating point with double the precision (64 bits). Both this types support as expected addition, subtraction, negation and multiplication opeations. "
   ]
  },
  {
   "cell_type": "markdown",
   "metadata": {},
   "source": [
    "Behaviorally, you can see the difference between these types if you start up GHCI and write:"
   ]
  },
  {
   "cell_type": "code",
   "execution_count": null,
   "metadata": {},
   "outputs": [],
   "source": [
    "-- Square root of 20000000 as Double\n",
    "sqrt (20000000) :: Double\n",
    "\n",
    "-- Square root of 20000000 as Float\n",
    "sqrt (20000000) :: Float"
   ]
  },
  {
   "cell_type": "markdown",
   "metadata": {},
   "source": [
    "So, when asking for a Float from a square root, the obtained precision is lower. But on a 64 bit machine, they typically need the same space. So then using a Float is not saving you anything. "
   ]
  },
  {
   "cell_type": "markdown",
   "metadata": {},
   "source": [
    "#### Other functions for Float and Double types\n",
    "\n"
   ]
  },
  {
   "cell_type": "markdown",
   "metadata": {},
   "source": [
    "* Conversion from an integer type (Int or Integer) to anything else is done by **fromIntegral**. The target type is inferred automatically. "
   ]
  },
  {
   "cell_type": "code",
   "execution_count": null,
   "metadata": {},
   "outputs": [],
   "source": [
    "-- converting -5 to Float -5.0\n",
    "(fromIntegral (-5)) :: Float\n",
    "\n",
    "-- converting 5 to Double 5.0\n",
    "(fromIntegral 5) :: Double"
   ]
  },
  {
   "cell_type": "markdown",
   "metadata": {},
   "source": [
    "* There are three \"raise to the power\" operators which work differently and take different argument types.\n",
    "\n",
    "    * `**` - Takes two floating point numbers and uses logarithms to compute the power.\n",
    "\n",
    "    * `^^` - Takes a fractional number (i.e. a floating point or a ratio, of which more later) and raises it to a positive or negative integer power.\n",
    "\n",
    "    * `^`  - Takes any numerical type and raises it to a positive integer power."
   ]
  },
  {
   "cell_type": "code",
   "execution_count": null,
   "metadata": {},
   "outputs": [],
   "source": [
    "10 ** 3\n",
    "\n",
    "5 ^^ (-2)\n",
    "\n",
    "5 ^^ 0   \n",
    "\n",
    "5 ^ 0 "
   ]
  },
  {
   "cell_type": "markdown",
   "metadata": {},
   "source": [
    "* Exponentiation, natural logarithm, based logarithm and square root functions are given by **exp, log, logBase, sqrt** "
   ]
  },
  {
   "cell_type": "code",
   "execution_count": null,
   "metadata": {},
   "outputs": [],
   "source": [
    "exp 3\n",
    "\n",
    "log (exp 1)\n",
    "\n",
    "log 10\n",
    "\n",
    "logBase 10 100\n",
    "\n",
    "sqrt 625"
   ]
  },
  {
   "cell_type": "markdown",
   "metadata": {},
   "source": [
    "* Usual trigonometric functions are suppoted by both real number types: **sin,cos,tan,asin,acos,atan**\n",
    "\n",
    "* Number $\\pi$ and exponentianion constant $e$ are given by **pi** and **exp 1**"
   ]
  },
  {
   "cell_type": "code",
   "execution_count": null,
   "metadata": {},
   "outputs": [],
   "source": [
    "pi\n",
    "\n",
    "exp 1"
   ]
  },
  {
   "cell_type": "markdown",
   "metadata": {},
   "source": [
    "### Rationals"
   ]
  },
  {
   "cell_type": "markdown",
   "metadata": {},
   "source": [
    "#TODO"
   ]
  },
  {
   "cell_type": "markdown",
   "metadata": {},
   "source": [
    "### Boolean type Bool\n",
    "\n"
   ]
  },
  {
   "cell_type": "markdown",
   "metadata": {},
   "source": [
    "* Haskell has a boolean type `Bool`, with two values: `True` and `False`.\n",
    "\n",
    "* There are also *and* and *or* operators `&&` and `||` defined on the Bool type. "
   ]
  },
  {
   "cell_type": "markdown",
   "metadata": {},
   "source": [
    "```haskell\n",
    "(&&) :: Bool -> Bool -> Bool\n",
    "(||) :: Bool -> Bool -> Bool\n",
    "```"
   ]
  },
  {
   "cell_type": "markdown",
   "metadata": {},
   "source": [
    "* The negation function\n",
    "\n",
    "```haskell\n",
    "not :: Bool -> Bool\n",
    "```"
   ]
  },
  {
   "cell_type": "markdown",
   "metadata": {},
   "source": [
    "that returns an opposite truth value of the argument:"
   ]
  },
  {
   "cell_type": "code",
   "execution_count": null,
   "metadata": {},
   "outputs": [],
   "source": [
    "not True\n",
    "\n",
    "not False"
   ]
  },
  {
   "cell_type": "markdown",
   "metadata": {},
   "source": [
    "* Numbers, characters and strings can be compared using the usual **comparison operators** to produce a Bool value: $$==,~~/=,~~<=,~~>=,~~<,~~>$$"
   ]
  },
  {
   "cell_type": "code",
   "execution_count": null,
   "metadata": {},
   "outputs": [],
   "source": [
    "3 == 4\n",
    "\n",
    "5 /= 0\n",
    "\n",
    "3 <= 5\n",
    "\n",
    "3 >= 0\n",
    "\n",
    "7.2 < 6.1\n",
    "\n",
    "pi > exp 1"
   ]
  },
  {
   "cell_type": "markdown",
   "metadata": {},
   "source": [
    "### Character type Char"
   ]
  },
  {
   "cell_type": "markdown",
   "metadata": {},
   "source": [
    "Text presents a problem to computers. At its lowest level, a computer only knows binary 1s and 0s. To represent text, every character is first converted to a number, then that number is converted to binary and stored. That's how a piece of text (which is just a sequence of characters) is encoded into binary. We're only interested in how to encode characters into their numerical representations, because the computer takes care of the conversion to binary numbers without our intervention."
   ]
  },
  {
   "cell_type": "markdown",
   "metadata": {},
   "source": [
    "Literal character values have type `Char` (short for \"character\"). It's denoted by **single quotes**. It could be any alphabet letter or a number or a symbol. "
   ]
  },
  {
   "cell_type": "markdown",
   "metadata": {},
   "source": [
    "The character type Char is an enumeration and consists of 16 bit values, conforming to the Unicode standard. There are standard functions that relate char symbols with their numbers in the enumeration.\n",
    "\n",
    "* `toEnum` returns the item at argument position from `Char` enumeration.\n",
    "\n",
    "* `fromEnum` returns the argument position in `Char` enumeration."
   ]
  },
  {
   "cell_type": "code",
   "execution_count": null,
   "metadata": {},
   "outputs": [],
   "source": [
    "fromEnum '~'\n",
    "\n",
    "toEnum 126 :: Char"
   ]
  },
  {
   "cell_type": "markdown",
   "metadata": {},
   "source": [
    "To obtain a character next or before the given one, functions `succ` and `pred` are used."
   ]
  },
  {
   "cell_type": "code",
   "execution_count": null,
   "metadata": {},
   "outputs": [],
   "source": [
    "succ '%'\n",
    "\n",
    "pred '&'"
   ]
  },
  {
   "cell_type": "markdown",
   "metadata": {},
   "source": [
    "### Lists"
   ]
  },
  {
   "cell_type": "markdown",
   "metadata": {},
   "source": [
    "In Haskell, **lists are a homogenous data structure**. \n",
    "\n",
    "**Homogeneous** means that it stores several elements of the same type: That means that we can have a list of integers or a list of characters but we can't have a list that has a few integers and then a few characters. "
   ]
  },
  {
   "cell_type": "markdown",
   "metadata": {},
   "source": [
    "#### Notations\n",
    "\n",
    "* Lists are denoted by square brackets `[1,5,3,-4,0]` and the values in the lists are **separated by commas**.\n",
    "\n",
    "* If `a` is a type (like `Char`, `Int` or `Float`), an expression `[a]` denotes a list type whose components has type `a`.\n",
    "\n",
    "* A first element in a list is called a **head**, while the list of all other elements is called a **tail**. These operations are realized by the functions"
   ]
  },
  {
   "cell_type": "markdown",
   "metadata": {},
   "source": [
    "```haskell\n",
    "head :: [a] -> a\n",
    "tail :: [a] -> [a]\n",
    "```"
   ]
  },
  {
   "cell_type": "markdown",
   "metadata": {},
   "source": [
    "* To join an element of a type `a` to a list whose entries are of the same type, the **cons** operator, denoted by a colon `:`, is used:"
   ]
  },
  {
   "cell_type": "code",
   "execution_count": null,
   "metadata": {},
   "outputs": [],
   "source": [
    "6 : [3,4,6]"
   ]
  },
  {
   "cell_type": "markdown",
   "metadata": {},
   "source": [
    "* Lists can be defined by creating a step in a range: "
   ]
  },
  {
   "cell_type": "code",
   "execution_count": null,
   "metadata": {},
   "outputs": [],
   "source": [
    "[3,5..22]"
   ]
  },
  {
   "cell_type": "markdown",
   "metadata": {},
   "source": [
    "The result will hold all elements starting from `3` with a step `2 = 5 - 3` that doesn't exceed `22` (if the last element doesn't fit in a defined step pattern, it will be ommited from the result). By default, if the step is not specified, the element after the first one is the next element in the enumeration up to the defined upper limit. For instance:"
   ]
  },
  {
   "cell_type": "code",
   "execution_count": null,
   "metadata": {},
   "outputs": [],
   "source": [
    "[3..7]\n",
    "\n",
    "['a'..'g']"
   ]
  },
  {
   "cell_type": "markdown",
   "metadata": {},
   "source": [
    "If the increment is negative, the elements will be listed in the desceasing order:"
   ]
  },
  {
   "cell_type": "code",
   "execution_count": null,
   "metadata": {},
   "outputs": [],
   "source": [
    "[17..3]\n",
    "\n",
    "[17,14..3]"
   ]
  },
  {
   "cell_type": "markdown",
   "metadata": {},
   "source": [
    "The first example above returns an empty list since the step is not specified and so is one, and there are no integers larger than `17` but less or equal than `3`."
   ]
  },
  {
   "cell_type": "markdown",
   "metadata": {},
   "source": [
    "* A common task is putting two lists together. This is done by using the **concatenation** `++` operator.  "
   ]
  },
  {
   "cell_type": "code",
   "execution_count": null,
   "metadata": {},
   "outputs": [],
   "source": [
    "[1,3,7,9] ++ [3,3,1]"
   ]
  },
  {
   "cell_type": "markdown",
   "metadata": {},
   "source": [
    "**Warning** Repeated usage of the `++` operator on long lists (even if you append a singleton list to a list, for instance: `[1,2,3] ++ [4]`), forces Haskell has to *walk through the whole list* on the left side of `++`. Therefore, putting something at the end of a list that's fifty million entries long is going to take a while! However, putting something at the beginning of a list using the cons operator `:` is instantaneous! "
   ]
  },
  {
   "cell_type": "markdown",
   "metadata": {},
   "source": [
    "#### Empty list\n",
    "\n",
    "`[]` is an empty list, that is a list without elements. It still matters the type of the elements in an empty list: an empty list of `Int`'s and an empty list of `Char`'s belong to two different types!\n",
    "\n"
   ]
  },
  {
   "cell_type": "markdown",
   "metadata": {},
   "source": [
    "**Why do we need an empty list?** Any list is obtained by a repeated application of the cons operator to the empty list:\n",
    "\n",
    "$$[1,3,6] = 1 : (3 : (6 : [~])))$$\n",
    "\n"
   ]
  },
  {
   "cell_type": "markdown",
   "metadata": {},
   "source": [
    "**Do we need so many parenthesis?** The cons operation is so called *right associative* that means that in the expression $1 : 3 : 6 : [~]$ the operations `:` are applied starting from the right, so\n",
    "\n",
    "$$1 : 3 : 6 : [~] = 1 : (3 : (6 : [~])))$$\n",
    "\n",
    "and the result is a list $[1,3,6]$.\n",
    "\n"
   ]
  },
  {
   "cell_type": "markdown",
   "metadata": {},
   "source": [
    "**Warning!** The following lists \n",
    "\n",
    "$$[~],~~~~   [[~]],~~~~   [[~],[~],[~]]$$ \n",
    "\n",
    "are all different things. The first one is an empty list, the seconds one is a list that contains one empty list, the third one is a list that contains three empty lists."
   ]
  },
  {
   "cell_type": "markdown",
   "metadata": {},
   "source": [
    "#### Length, sum, null and elem functions\n",
    "\n"
   ]
  },
  {
   "cell_type": "markdown",
   "metadata": {},
   "source": [
    "Among many other useful functions defined for lists we briefly mention the following:\n",
    "\n",
    "* `length` takes a list and returns its length;\n",
    "\n",
    "* `null` checks if a list is empty;\n",
    "\n",
    "* `sum` takes a list of numbers and returns their sum;\n",
    "\n",
    "* `elem` takes an element `x` and a list of elements `l` of the same type and checks if `x` is an element of the list `l`."
   ]
  },
  {
   "cell_type": "code",
   "execution_count": null,
   "metadata": {},
   "outputs": [],
   "source": [
    "length [2,4,5,6,7]\n",
    "\n",
    "length []\n",
    "\n",
    "null []\n",
    "\n",
    "sum [-1,0,1,6,-5,-1]\n",
    "\n",
    "elem 5 [6,3,5,7,5]"
   ]
  },
  {
   "cell_type": "markdown",
   "metadata": {},
   "source": [
    "#### Infinite lists\n",
    "\n"
   ]
  },
  {
   "cell_type": "markdown",
   "metadata": {},
   "source": [
    "You can also use ranges to make infinite lists by just not specifying an upper limit. We can also specify a pattern how to create an infinite list.\n",
    "\n"
   ]
  },
  {
   "cell_type": "markdown",
   "metadata": {},
   "source": [
    "* `[1..]` is an infinite list $[1,2,3,4,5,...]$.\n",
    "\n"
   ]
  },
  {
   "cell_type": "markdown",
   "metadata": {},
   "source": [
    "* `[1,3..]` is an infinite list of integers $[1,3,5,7,9,...]$. The difference between the second and the first elements determine the increment step, which can also be *negative*.\n",
    "\n"
   ]
  },
  {
   "cell_type": "markdown",
   "metadata": {},
   "source": [
    "* A function `take` with parameters a positive integer `n` and a list `l` returns a list of first `n` elements in a (potentially infinite) list `l`. If there are less elements than the list length, all elements are returned."
   ]
  },
  {
   "cell_type": "code",
   "execution_count": null,
   "metadata": {},
   "outputs": [],
   "source": [
    "take 7 [1..] \n",
    "\n",
    "take 7 [1,3..]\n",
    "\n",
    "take 7 [5,3..]  \n",
    "\n",
    "take 7 [5..] \n",
    "\n",
    "take 7 ['x'..]"
   ]
  },
  {
   "cell_type": "markdown",
   "metadata": {},
   "source": [
    "### Strings"
   ]
  },
  {
   "cell_type": "markdown",
   "metadata": {},
   "source": [
    "**What is a string?** A string is a list of characters.\n",
    "\n"
   ]
  },
  {
   "cell_type": "markdown",
   "metadata": {},
   "source": [
    "The `String` type is the most basic form of representing strings in Haskell. It is a syntactic sugar for [Char] (the list of unicode characters type). \n",
    "\n"
   ]
  },
  {
   "cell_type": "markdown",
   "metadata": {},
   "source": [
    "So whenever you see `[Char]` in your compile errors, know this refers to the basic `String` type. By default, when you enter in a string literal in your Haskell code, the compiler infers it as a `String`."
   ]
  },
  {
   "cell_type": "markdown",
   "metadata": {},
   "source": [
    "**How to denote a string?** While char variables are surrounded by single quotes `''`, strings are surrounded by **double quotes `\"\"`**.\n",
    "\n"
   ]
  },
  {
   "cell_type": "code",
   "execution_count": null,
   "metadata": {},
   "outputs": [],
   "source": [
    "GHCI> :t 'a'\n",
    "'a' :: Char\n",
    "GHCI> :t \"Hello\"\n",
    "\"Hello\" :: [Char]"
   ]
  },
  {
   "cell_type": "markdown",
   "metadata": {},
   "source": [
    "`\"Hello\"` is just syntactic sugar for `['h','e','l','l','o']`. Because strings are lists, we can use list functions on them, which is really handy.\n",
    "\n"
   ]
  },
  {
   "cell_type": "markdown",
   "metadata": {},
   "source": [
    "A common task is putting two lists together. This is done by using the `++` operator. "
   ]
  },
  {
   "cell_type": "code",
   "execution_count": null,
   "metadata": {},
   "outputs": [],
   "source": [
    "\"Hello \" ++ \"world!\""
   ]
  },
  {
   "cell_type": "markdown",
   "metadata": {},
   "source": [
    "The other list functions also work as expexted:"
   ]
  },
  {
   "cell_type": "code",
   "execution_count": null,
   "metadata": {},
   "outputs": [],
   "source": [
    "length \"abc\"\n",
    "\n",
    "head \"Sugar\""
   ]
  },
  {
   "cell_type": "markdown",
   "metadata": {},
   "source": [
    "#### Escaping and breaking the string\n",
    "\n"
   ]
  },
  {
   "cell_type": "markdown",
   "metadata": {},
   "source": [
    "Some characters must be **escaped** to be represented inside a character or string literal. For example, a double quote character inside a string literal must be escaped, or else it will be treated as the end of the string. Haskell uses essentially the same single-character escapes as many other popular languages.\n",
    "\n"
   ]
  },
  {
   "cell_type": "markdown",
   "metadata": {},
   "source": [
    "* `\\0` is a null character.\n",
    "* `\\n` a is newline (line feed) character.\n",
    "* `\\r` is a carriage return.\n",
    "* `\\t` is a horizontal tab.\n",
    "* `\\v` is a vertical tab.\n",
    "* `\\\"` is a double quote.\n",
    "* `\\&` is an empty string.\n",
    "* `\\'` is a single quote.\n",
    "* `\\\\` is a backslash."
   ]
  },
  {
   "cell_type": "markdown",
   "metadata": {},
   "source": [
    "Any text consists of paragraphs, while paragraphs consist of sentenses, and, finally, sentences consist of words. So any text is just a *string* and there are some useful functions that break a given string into words or into lines. \n",
    "\n"
   ]
  },
  {
   "cell_type": "markdown",
   "metadata": {},
   "source": [
    "* `words :: String -> [String]`    creates an array of string from the original one, with a space characters serving as separators.\n",
    "\n",
    "* `unwords :: [String] -> String`  creates a string from an array of strings, it inserts space characters between original strings. \n",
    "\n",
    "* `lines :: String -> [String]`    creates an array of string from the original one, with new line characters `\\n` serving as separators.\n",
    "\n",
    "* `unlines :: [String] -> String`  creates a string from an array of strings, it inserts new line characters `\\n` between original strings. "
   ]
  },
  {
   "cell_type": "code",
   "execution_count": null,
   "metadata": {},
   "outputs": [],
   "source": [
    "words \"To be or not to be?\"\n",
    "\n",
    "lines \"How are you doing? \\n I'm fine, how about you?\""
   ]
  },
  {
   "cell_type": "markdown",
   "metadata": {},
   "source": [
    "### Tuples\n",
    "\n"
   ]
  },
  {
   "cell_type": "markdown",
   "metadata": {},
   "source": [
    "How we'd represent a two-dimensional vector in Haskell? If we need to represent a matrix\n",
    "$$\n",
    "    \\begin{pmatrix}\n",
    "        1 & 2 & 3 \\\\\n",
    "        4 & 5 & 6\n",
    "    \\end{pmatrix}\n",
    "$$"
   ]
  },
  {
   "cell_type": "markdown",
   "metadata": {},
   "source": [
    "we can think about it as a list of length 3 whose components are pairs:\n",
    "$$\n",
    "    [(1,4),(2,5),(3,6)]\n",
    "$$\n"
   ]
  },
  {
   "cell_type": "markdown",
   "metadata": {},
   "source": [
    "However, if one try to write `[(1,4),(2,5,7),(3,6)]` the error will be obtained, as all elements in a list should be pairs, not pairs or triples. Still the expression `[[1,4],[2,5,7],[3,6]]` works but it is not a list of pairs anymore."
   ]
  },
  {
   "cell_type": "markdown",
   "metadata": {},
   "source": [
    "Another feature distinguishing tuples from lists is that they can (and often are) **non-homogeneous**. For instance, the tuple consisting of a first name, last name, and an age of a person"
   ]
  },
  {
   "cell_type": "markdown",
   "metadata": {},
   "source": [
    "```haskell\n",
    "(\"John\", \"Smith\", 25) :: (String, String, Int)\n",
    "```"
   ]
  },
  {
   "cell_type": "markdown",
   "metadata": {},
   "source": [
    "has size 3 and its components have types `String`, `String` and `Int`."
   ]
  },
  {
   "cell_type": "markdown",
   "metadata": {},
   "source": [
    "#### Bounds on the tuple length\n",
    "\n",
    "There is no upper bound on the size of a tuple, but some Haskell implementations may restrict the size of tuples, and limit the instances associated with larger tuples. However, every Haskell implementation must support tuples up to size 15. The Prelude and libraries define tuple functions for tuples up to a size of 7.\n",
    "\n"
   ]
  },
  {
   "cell_type": "markdown",
   "metadata": {},
   "source": [
    "#### Constructing tuples\n",
    "\n",
    "We can construct a tuple by omitting the expressions surrounding the commas: thus `(x,y)` and `(,) x y` produce the same value. The same holds for tuple type constructors: `(Int,Bool,Int)` and `(,,) Int Bool Int` denote the same type."
   ]
  },
  {
   "cell_type": "code",
   "execution_count": null,
   "metadata": {},
   "outputs": [],
   "source": [
    "(,) 4 True\n",
    "\n",
    "(,,,) True 4 'A' \"Something\""
   ]
  },
  {
   "cell_type": "markdown",
   "metadata": {},
   "source": [
    "#### Type of tuple\n",
    "\n",
    "The type of the list of strings is just `[String]` and no matter how many lines we've stored in a list its type will remain unchanged. The same thing with the tuple is completely different."
   ]
  },
  {
   "cell_type": "markdown",
   "metadata": {},
   "source": [
    "* The type of a tuple **depends on the number of its elements**. For example, the type of tuple containing two `Double`'s and one `Int` is\n",
    "\n",
    "```haskell\n",
    "(Double, Double, Int)\n",
    "```\n",
    "\n",
    "   and the tuple `(3.2, 4.3, 4, Bool)` doesn't belong to this type."
   ]
  },
  {
   "cell_type": "markdown",
   "metadata": {},
   "source": [
    "* The type of a tuple **explicitly reflects its content**. So, if the function is applied to tuple of two strings, applying it to a tuple of three will not work, because the types of these tuples differ."
   ]
  },
  {
   "cell_type": "markdown",
   "metadata": {},
   "source": [
    "```haskell\n",
    "-- These types are different\n",
    "(String, String)\n",
    "(String, String, String)"
   ]
  },
  {
   "cell_type": "markdown",
   "metadata": {},
   "source": [
    "#### Pairs\n",
    "\n"
   ]
  },
  {
   "cell_type": "markdown",
   "metadata": {},
   "source": [
    "Tuples don't have indices, so one cannot easily extract the second component `'b'` of a quadruple `('a','b','c','d')`.\n",
    "\n"
   ]
  },
  {
   "cell_type": "markdown",
   "metadata": {},
   "source": [
    "However, for the most common type of tuples -- the pairs -- there are functions that extract the components.\n",
    "\n",
    "* `fst` returns the first item in a pair.\n",
    "\n",
    "* `snd` returns the second item in a pair.\n",
    "\n"
   ]
  },
  {
   "cell_type": "markdown",
   "metadata": {},
   "source": [
    "Similar functions are not predefined for bigger tuples because they are rare, and there are other ways to extract those values (like pattern matching)."
   ]
  },
  {
   "cell_type": "code",
   "execution_count": null,
   "metadata": {},
   "outputs": [],
   "source": [
    "fst ('A',438)\n",
    "\n",
    "snd ('A',438)"
   ]
  },
  {
   "cell_type": "markdown",
   "metadata": {},
   "source": [
    "There is a very useful function `zip` that creates a list of pairs out of two lists. The length of the resulting list is chosen to be the *shorter* one."
   ]
  },
  {
   "cell_type": "code",
   "execution_count": null,
   "metadata": {},
   "outputs": [],
   "source": [
    "zip [1..] ['a'..'g']"
   ]
  },
  {
   "cell_type": "markdown",
   "metadata": {},
   "source": [
    "## Polymorphic values and type variables\n",
    "\n"
   ]
  },
  {
   "cell_type": "markdown",
   "metadata": {},
   "source": [
    "**Polymorphic** means something that has multiple forms. Haskell incorporates polymorphic values and type variables.\n",
    "\n"
   ]
  },
  {
   "cell_type": "markdown",
   "metadata": {},
   "source": [
    "* **Polymorphic value** is a value that can have multiple types.\n",
    "\n",
    "* **Type variable** is a type that is universally defined in some way over all types. Polymorphic type expressions essentially describe families of types. \n",
    "\n"
   ]
  },
  {
   "cell_type": "markdown",
   "metadata": {},
   "source": [
    "The `fst` and `snd` functions defined for pairs are polymorphic. A function"
   ]
  },
  {
   "cell_type": "markdown",
   "metadata": {},
   "source": [
    "```haskell\n",
    "fst :: (Bool, Char) -> Bool\n",
    "```"
   ]
  },
  {
   "cell_type": "markdown",
   "metadata": {},
   "source": [
    "returns the first component of a pair that has type `Bool`. What if we'll need to define it for a different pair like `(Double, [Char])`? The problem is solved by using *type variables*."
   ]
  },
  {
   "cell_type": "markdown",
   "metadata": {},
   "source": [
    "```haskell\n",
    "fst :: (a, b) -> a\n",
    "```"
   ]
  },
  {
   "cell_type": "markdown",
   "metadata": {},
   "source": [
    "This means that the `fst` function takes a pair of type `(a, b)` and returns a value of type `a`. \n",
    "\n"
   ]
  },
  {
   "cell_type": "markdown",
   "metadata": {},
   "source": [
    "The lower case letters `a` and `b` are **type variables**, meaning they can be of any type. By using type variables, we can use the `fst` function with pairs of any type (**polymorphic values**)!"
   ]
  },
  {
   "cell_type": "markdown",
   "metadata": {},
   "source": [
    "**Important facts**\n",
    "\n",
    "* Polymorphic types denoted by different letters (like `a` and `b`) can be of the same type or of different types from each other. But the same letter `a` denotes the same type within the signature of a polymorphic function. \n",
    "\n",
    "* Specific types, like `Char`, `Bool`, `Int`, start with *capital* letters. But polymorphic types start with **lower case letters**. We can use longer names for polymorphic types, but the usual is to use single letters (i.e., `a`, `b`, `c`)."
   ]
  },
  {
   "cell_type": "markdown",
   "metadata": {},
   "source": [
    "Another example of polymorphic function is the `length` function defined for lists. "
   ]
  },
  {
   "cell_type": "markdown",
   "metadata": {},
   "source": [
    "```haskell\n",
    "length :: [a] -> Int\n",
    "```"
   ]
  },
  {
   "cell_type": "markdown",
   "metadata": {},
   "source": [
    "No matter what is a type of elements in a list, we always can find its length. \n",
    "\n"
   ]
  },
  {
   "cell_type": "markdown",
   "metadata": {},
   "source": [
    "Similarly, `head` and `tail` functions for lists"
   ]
  },
  {
   "cell_type": "markdown",
   "metadata": {},
   "source": [
    "```haskell\n",
    "head :: [a] -> a\n",
    "tail :: [a] -> [a]\n",
    "```"
   ]
  },
  {
   "cell_type": "markdown",
   "metadata": {},
   "source": [
    "are polymorphic. \n",
    "\n"
   ]
  },
  {
   "cell_type": "markdown",
   "metadata": {},
   "source": [
    "It doesn't matter what are the specific types when we are extracting a *head* of a list. \n",
    "\n"
   ]
  },
  {
   "cell_type": "markdown",
   "metadata": {},
   "source": [
    "* The parameter is a polymorphic list `[a]`. \n",
    "\n",
    "* The result has to be an element of the same type `a` as the elements of the list of type `[a]`. That's why it has to be `a`."
   ]
  }
 ],
 "metadata": {
  "kernelspec": {
   "display_name": "Python 3.8.2 64-bit",
   "language": "python",
   "name": "python3"
  },
  "language_info": {
   "name": "python",
   "version": "3.8.2"
  },
  "orig_nbformat": 4,
  "vscode": {
   "interpreter": {
    "hash": "31f2aee4e71d21fbe5cf8b01ff0e069b9275f58929596ceb00d14d90e3e16cd6"
   }
  }
 },
 "nbformat": 4,
 "nbformat_minor": 2
}
