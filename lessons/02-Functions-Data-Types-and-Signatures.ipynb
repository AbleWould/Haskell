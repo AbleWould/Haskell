{
 "cells": [
  {
   "cell_type": "markdown",
   "metadata": {
    "slideshow": {
     "slide_type": "slide"
    }
   },
   "source": [
    "# Data types, Signatures, and Polymorphism"
   ]
  },
  {
   "cell_type": "markdown",
   "metadata": {
    "slideshow": {
     "slide_type": "slide"
    }
   },
   "source": [
    "\n",
    "## Outline\n",
    "\n",
    "- Pragmatic intro to types\n",
    "- Function’s signatures\n",
    "- Playing with functions\n",
    "    - Variables in Haskell\n",
    "    - Infix and prefix functions\n",
    "- Common Data Types\n",
    "- Polymorphic values and type variables"
   ]
  },
  {
   "cell_type": "markdown",
   "metadata": {
    "slideshow": {
     "slide_type": "slide"
    }
   },
   "source": [
    "## Pragmatic intro to types"
   ]
  },
  {
   "cell_type": "markdown",
   "metadata": {
    "slideshow": {
     "slide_type": "slide"
    }
   },
   "source": [
    "### The `::`"
   ]
  },
  {
   "cell_type": "markdown",
   "metadata": {
    "slideshow": {
     "slide_type": "skip"
    }
   },
   "source": [
    "A type is a label that every expression has and restricts its usage."
   ]
  },
  {
   "cell_type": "markdown",
   "metadata": {
    "slideshow": {
     "slide_type": "fragment"
    }
   },
   "source": [
    "We use a *double colon* `::` to show or assign the type of an expression. For instance, the code\n",
    "\n",
    "``` haskell\n",
    "myexpression :: MyType \n",
    "```\n",
    "\n",
    "tells that the expression `myexpression` has type of `MyType`.  "
   ]
  },
  {
   "cell_type": "markdown",
   "metadata": {
    "slideshow": {
     "slide_type": "slide"
    }
   },
   "source": [
    "### Frequently used types"
   ]
  },
  {
   "cell_type": "markdown",
   "metadata": {
    "slideshow": {
     "slide_type": "skip"
    }
   },
   "source": [
    "There are the standard types that are frequently used in Haskell:"
   ]
  },
  {
   "cell_type": "markdown",
   "metadata": {
    "slideshow": {
     "slide_type": "fragment"
    }
   },
   "source": [
    "* `Int` and `Integer` for integer numbers.\n",
    "* `Float` and `Double` for floating point real numbers.\n",
    "* `Bool` for `True` and `False`.\n",
    "* `Char` for characters.\n",
    "* `String` for strings of text."
   ]
  },
  {
   "cell_type": "markdown",
   "metadata": {
    "slideshow": {
     "slide_type": "slide"
    }
   },
   "source": [
    "### How to check the type?"
   ]
  },
  {
   "cell_type": "markdown",
   "metadata": {
    "slideshow": {
     "slide_type": "fragment"
    }
   },
   "source": [
    "\n",
    "The `:type` command (or `:t` for short) in GHCI, followed by any valid expression, tells us its type.\n"
   ]
  },
  {
   "cell_type": "code",
   "execution_count": null,
   "metadata": {
    "slideshow": {
     "slide_type": "fragment"
    }
   },
   "outputs": [],
   "source": [
    ":type True\n",
    "\n",
    ":type False\n",
    "\n",
    ":t (3 < 5)\n",
    "\n",
    ":t 'A'\n",
    "\n",
    ":t \"Hello world!\""
   ]
  },
  {
   "cell_type": "markdown",
   "metadata": {
    "slideshow": {
     "slide_type": "slide"
    }
   },
   "source": [
    "## Signature of a function"
   ]
  },
  {
   "cell_type": "markdown",
   "metadata": {
    "slideshow": {
     "slide_type": "skip"
    }
   },
   "source": [
    "The double colon symbol `::` should be read as simply \"is of type\", and indicates a type *signature*. Let's explain what is a type signature by the following example. In Haskell, a function that squares its argument is defined as:"
   ]
  },
  {
   "cell_type": "code",
   "execution_count": null,
   "metadata": {
    "slideshow": {
     "slide_type": "fragment"
    }
   },
   "outputs": [],
   "source": [
    "square :: Int -> Int\n",
    "square v = v * v"
   ]
  },
  {
   "cell_type": "markdown",
   "metadata": {
    "slideshow": {
     "slide_type": "fragment"
    }
   },
   "source": [
    "The first line contains the **signature**, the second line contains the **definition** of a function `square`.\n"
   ]
  },
  {
   "cell_type": "markdown",
   "metadata": {
    "slideshow": {
     "slide_type": "skip"
    }
   },
   "source": [
    "\n",
    "* A **signature** of a function is a message to the whole world that such function exists, here it is name and here are the types it works with. \n",
    "\n",
    "* A **definition** of a function is an information about what exactly this function does."
   ]
  },
  {
   "cell_type": "markdown",
   "metadata": {
    "slideshow": {
     "slide_type": "skip"
    }
   },
   "source": [
    "In the signature"
   ]
  },
  {
   "cell_type": "markdown",
   "metadata": {
    "slideshow": {
     "slide_type": "skip"
    }
   },
   "source": [
    "```haskell\n",
    "square :: Int -> Int\n",
    "```"
   ]
  },
  {
   "cell_type": "markdown",
   "metadata": {
    "slideshow": {
     "slide_type": "skip"
    }
   },
   "source": [
    "two parts are *separated* by a double colon into "
   ]
  },
  {
   "cell_type": "markdown",
   "metadata": {
    "slideshow": {
     "slide_type": "skip"
    }
   },
   "source": [
    "\n",
    "* the **name** of the function on the left and\n",
    "\n",
    "* the **type of function** on the right. "
   ]
  },
  {
   "cell_type": "markdown",
   "metadata": {
    "slideshow": {
     "slide_type": "fragment"
    }
   },
   "source": [
    "**All data in a Haskell program is of a particular type.** And since the function works with data, its **signature contains the types of its inputs and output, separated by arrows `->`**."
   ]
  },
  {
   "cell_type": "markdown",
   "metadata": {
    "slideshow": {
     "slide_type": "notes"
    }
   },
   "source": [
    "The signature of the squaring function `square` tells that it accepts a *unique* argument of type `Int` and returns a value of the same `Int` type. \n"
   ]
  },
  {
   "cell_type": "markdown",
   "metadata": {
    "slideshow": {
     "slide_type": "slide"
    }
   },
   "source": [
    "If there are more than one argument, the signature is simply pulled out. For example, `prod` function signature, which returns the product of two integer arguments, could look like this:"
   ]
  },
  {
   "cell_type": "code",
   "execution_count": null,
   "metadata": {
    "slideshow": {
     "slide_type": "fragment"
    }
   },
   "outputs": [],
   "source": [
    "prod :: Int -> Int -> Int\n",
    "prod x y = x * y"
   ]
  },
  {
   "cell_type": "markdown",
   "metadata": {
    "slideshow": {
     "slide_type": "fragment"
    }
   },
   "source": [
    "It has two arguments of `Int` type and its output also has `Int` type. \n"
   ]
  },
  {
   "cell_type": "markdown",
   "metadata": {
    "slideshow": {
     "slide_type": "skip"
    }
   },
   "source": [
    "\n",
    "In the **definition** of a function the equality sign `=` separates the code in two parts.\n"
   ]
  },
  {
   "cell_type": "markdown",
   "metadata": {
    "slideshow": {
     "slide_type": "skip"
    }
   },
   "source": [
    "\n",
    "* **Head** is a code to the left of `=` and consists of the **name of a function** and **argument names** (names, not types!), separated by spaces.\n",
    "\n",
    "* **Body** is a code to the right of `=` that expresses the essence of the function, its contents. \n",
    "\n"
   ]
  },
  {
   "cell_type": "markdown",
   "metadata": {
    "slideshow": {
     "slide_type": "skip"
    }
   },
   "source": [
    "### What a function's signature tells us? \n"
   ]
  },
  {
   "cell_type": "markdown",
   "metadata": {
    "slideshow": {
     "slide_type": "skip"
    }
   },
   "source": [
    "\n",
    "Haskell is a *functional* programming language and every program consists of *functions*. Each function takes a fixed number of parameters of some types and returns a value which also has a type. For instance, a function"
   ]
  },
  {
   "cell_type": "markdown",
   "metadata": {
    "slideshow": {
     "slide_type": "skip"
    }
   },
   "source": [
    "``` haskell\n",
    "not :: Bool -> Bool\n",
    "``` "
   ]
  },
  {
   "cell_type": "markdown",
   "metadata": {
    "slideshow": {
     "slide_type": "skip"
    }
   },
   "source": [
    "takes a parameter of type `Bool` and returns its negation, which is again of type `Bool`. \n",
    "\n"
   ]
  },
  {
   "cell_type": "markdown",
   "metadata": {
    "slideshow": {
     "slide_type": "skip"
    }
   },
   "source": [
    "Looking at the *rightmost arrow `->`* in the signature we understand that \n",
    "\n",
    "* everything to the left of it are **types of arguments**, that can also be separated by arrows `->`,\n",
    "\n",
    "* everything to the right is a **type of the calculated value**."
   ]
  },
  {
   "cell_type": "markdown",
   "metadata": {
    "slideshow": {
     "slide_type": "slide"
    }
   },
   "source": [
    "## Playing with functions"
   ]
  },
  {
   "cell_type": "markdown",
   "metadata": {
    "slideshow": {
     "slide_type": "slide"
    }
   },
   "source": [
    "### Variables in Haskell (Names/definitions)"
   ]
  },
  {
   "cell_type": "markdown",
   "metadata": {},
   "source": [
    "Take a look at this function:"
   ]
  },
  {
   "cell_type": "code",
   "execution_count": null,
   "metadata": {
    "slideshow": {
     "slide_type": "fragment"
    }
   },
   "outputs": [],
   "source": [
    "name = \"Bob\""
   ]
  },
  {
   "cell_type": "markdown",
   "metadata": {
    "slideshow": {
     "slide_type": "fragment"
    }
   },
   "source": [
    "If we don't have parameters, we have a function that always returns the same exact value—a `String`—, no matter what!"
   ]
  },
  {
   "cell_type": "markdown",
   "metadata": {
    "slideshow": {
     "slide_type": "skip"
    }
   },
   "source": [
    "So we have an expression of type:"
   ]
  },
  {
   "cell_type": "code",
   "execution_count": 3,
   "metadata": {
    "slideshow": {
     "slide_type": "skip"
    }
   },
   "outputs": [],
   "source": [
    "name :: String\n",
    "name = \"Bob\""
   ]
  },
  {
   "cell_type": "markdown",
   "metadata": {
    "slideshow": {
     "slide_type": "fragment"
    }
   },
   "source": [
    "**The kind of function that doesn't take parameters is usually called a definition or a name.** "
   ]
  },
  {
   "cell_type": "markdown",
   "metadata": {
    "slideshow": {
     "slide_type": "skip"
    }
   },
   "source": [
    "Although, you could call it variable too, since this is what in most programming languages is called a variable. But, \"variable\" doesn't always mean the same."
   ]
  },
  {
   "cell_type": "markdown",
   "metadata": {
    "slideshow": {
     "slide_type": "skip"
    }
   },
   "source": [
    "Because we can't change the value of a definition (the expression on the right side of the `=` always evaluates to the same result), `name` and `\"Bob\"` are essentially the same thing. And we can use them interchangeably."
   ]
  },
  {
   "cell_type": "markdown",
   "metadata": {
    "slideshow": {
     "slide_type": "skip"
    }
   },
   "source": [
    "When talking about programming in general, a variable is like a box that contains a value. And the variable's name is written on the side of the box. You can put values inside the box, and—in most programming languages—you can later change your mind and replace the value inside the box."
   ]
  },
  {
   "cell_type": "markdown",
   "metadata": {
    "slideshow": {
     "slide_type": "slide"
    }
   },
   "source": [
    "```haskell\n",
    "-- THIS IS NOT VALID HASKELL!!!\n",
    "x = 3\n",
    "7 + x   -- 10\n",
    "x = 5\n",
    "7 + x   -- 12\n",
    "```"
   ]
  },
  {
   "cell_type": "markdown",
   "metadata": {
    "slideshow": {
     "slide_type": "skip"
    }
   },
   "source": [
    "OOOOOOOOhhhhhh but not with Haskell, no, no, no! Once you tell Haskell that `x` means `3`, it will mean `3` forever!"
   ]
  },
  {
   "cell_type": "markdown",
   "metadata": {
    "slideshow": {
     "slide_type": "skip"
    }
   },
   "source": [
    "In technical terms:"
   ]
  },
  {
   "cell_type": "markdown",
   "metadata": {
    "slideshow": {
     "slide_type": "slide"
    }
   },
   "source": [
    "Haskell variables are **immutable.**"
   ]
  },
  {
   "cell_type": "markdown",
   "metadata": {},
   "source": [
    "Haskell's concept of variable is different. Haskell has variables but in the mathematical sense. In the sense that when we say:"
   ]
  },
  {
   "cell_type": "markdown",
   "metadata": {
    "slideshow": {
     "slide_type": "fragment"
    }
   },
   "source": [
    "```Haskell\n",
    "x = 3\n",
    "city = \"Paris\"\n",
    "letter = 'a'\n",
    "it'sTrue = True\n",
    "```"
   ]
  },
  {
   "cell_type": "markdown",
   "metadata": {
    "slideshow": {
     "slide_type": "fragment"
    }
   },
   "source": [
    "We're stating that the term on the left of the `=` sign is **interchangeable** with the term to the right side of the `=`. "
   ]
  },
  {
   "cell_type": "markdown",
   "metadata": {
    "slideshow": {
     "slide_type": "slide"
    }
   },
   "source": [
    "And this also applies to the parameters of a function:"
   ]
  },
  {
   "cell_type": "code",
   "execution_count": null,
   "metadata": {
    "slideshow": {
     "slide_type": "fragment"
    }
   },
   "outputs": [],
   "source": [
    "volumeOfACylinder r h = pi * r^2 * h "
   ]
  },
  {
   "cell_type": "markdown",
   "metadata": {
    "slideshow": {
     "slide_type": "skip"
    }
   },
   "source": [
    "In this case, once we pass values to the parameters of `volumeOfACylinder`, we can't change them inside the function's body. We can use the function again and pass different parameters, but we can't *change* them once we pass them."
   ]
  },
  {
   "cell_type": "markdown",
   "metadata": {
    "slideshow": {
     "slide_type": "slide"
    }
   },
   "source": [
    "## Infix and prefix notations\n",
    "\n"
   ]
  },
  {
   "cell_type": "markdown",
   "metadata": {
    "slideshow": {
     "slide_type": "skip"
    }
   },
   "source": [
    "You can apply (use) functions in two different notations: infix and prefix notations.\n",
    "\n"
   ]
  },
  {
   "cell_type": "markdown",
   "metadata": {
    "slideshow": {
     "slide_type": "slide"
    }
   },
   "source": [
    "### Prefix\n",
    "\n"
   ]
  },
  {
   "cell_type": "markdown",
   "metadata": {
    "slideshow": {
     "slide_type": "skip"
    }
   },
   "source": [
    "Let's look at an expression:"
   ]
  },
  {
   "cell_type": "code",
   "execution_count": 10,
   "metadata": {
    "slideshow": {
     "slide_type": "fragment"
    }
   },
   "outputs": [
    {
     "data": {
      "text/plain": [
       "20"
      ]
     },
     "metadata": {},
     "output_type": "display_data"
    }
   ],
   "source": [
    "prod x y = x * y\n",
    "prod 4  5"
   ]
  },
  {
   "cell_type": "markdown",
   "metadata": {
    "slideshow": {
     "slide_type": "fragment"
    }
   },
   "source": [
    "`prod` is used in **prefix form**, that is, **before its arguments**. "
   ]
  },
  {
   "cell_type": "markdown",
   "metadata": {
    "slideshow": {
     "slide_type": "slide"
    }
   },
   "source": [
    "### Infix\n"
   ]
  },
  {
   "cell_type": "markdown",
   "metadata": {
    "slideshow": {
     "slide_type": "skip"
    }
   },
   "source": [
    "Let's look at an expression:"
   ]
  },
  {
   "cell_type": "code",
   "execution_count": 5,
   "metadata": {
    "slideshow": {
     "slide_type": "fragment"
    }
   },
   "outputs": [
    {
     "data": {
      "text/plain": [
       "3"
      ]
     },
     "metadata": {},
     "output_type": "display_data"
    }
   ],
   "source": [
    "1 + 2"
   ]
  },
  {
   "cell_type": "markdown",
   "metadata": {
    "slideshow": {
     "slide_type": "fragment"
    }
   },
   "source": [
    "`+` is actually a function! And is written in **infix form**, that is, **between its arguments**."
   ]
  },
  {
   "cell_type": "markdown",
   "metadata": {
    "slideshow": {
     "slide_type": "skip"
    }
   },
   "source": [
    "Functions intended for the infix form of application are called **operators**.\n",
    "\n"
   ]
  },
  {
   "cell_type": "markdown",
   "metadata": {
    "slideshow": {
     "slide_type": "skip"
    }
   },
   "source": [
    "And how do you know if a function is infix or prefix? Well..."
   ]
  },
  {
   "cell_type": "markdown",
   "metadata": {
    "slideshow": {
     "slide_type": "slide"
    }
   },
   "source": [
    "Functions defined with **only symbols** will be automatically set as **infix functions**, else they're prefix functions."
   ]
  },
  {
   "cell_type": "markdown",
   "metadata": {
    "slideshow": {
     "slide_type": "skip"
    }
   },
   "source": [
    "But you can still use an infix function as a prefix function and vice versa."
   ]
  },
  {
   "cell_type": "markdown",
   "metadata": {
    "slideshow": {
     "slide_type": "slide"
    }
   },
   "source": [
    "### Infix to prefix and vice versa\n",
    "\n"
   ]
  },
  {
   "cell_type": "markdown",
   "metadata": {
    "slideshow": {
     "slide_type": "skip"
    }
   },
   "source": [
    "We use parentheses around an infix function to use it as a prefix function:"
   ]
  },
  {
   "cell_type": "code",
   "execution_count": 12,
   "metadata": {
    "scrolled": false,
    "slideshow": {
     "slide_type": "fragment"
    }
   },
   "outputs": [
    {
     "data": {
      "text/plain": [
       "3"
      ]
     },
     "metadata": {},
     "output_type": "display_data"
    }
   ],
   "source": [
    "(+) 1 2"
   ]
  },
  {
   "cell_type": "markdown",
   "metadata": {
    "slideshow": {
     "slide_type": "skip"
    }
   },
   "source": [
    "We use backticks \\` around a prefix function to use it as an infix function:"
   ]
  },
  {
   "cell_type": "code",
   "execution_count": 11,
   "metadata": {
    "slideshow": {
     "slide_type": "fragment"
    }
   },
   "outputs": [
    {
     "data": {
      "text/plain": [
       "20"
      ]
     },
     "metadata": {},
     "output_type": "display_data"
    }
   ],
   "source": [
    "4 `prod` 5"
   ]
  },
  {
   "cell_type": "markdown",
   "metadata": {
    "slideshow": {
     "slide_type": "slide"
    }
   },
   "source": [
    "## Common Data types"
   ]
  },
  {
   "cell_type": "markdown",
   "metadata": {
    "slideshow": {
     "slide_type": "slide"
    }
   },
   "source": [
    "\n",
    "### Integer number types: Int and Integer\n"
   ]
  },
  {
   "cell_type": "markdown",
   "metadata": {
    "slideshow": {
     "slide_type": "fragment"
    }
   },
   "source": [
    "**Integer** is an arbitrary precision type: *it will hold any number no matter how big*, up to the limit of your machine's memory, so you never have arithmetic overflows."
   ]
  },
  {
   "cell_type": "markdown",
   "metadata": {
    "slideshow": {
     "slide_type": "skip"
    }
   },
   "source": [
    "On the other hand, it also means your arithmetic is relatively slow. "
   ]
  },
  {
   "cell_type": "markdown",
   "metadata": {
    "slideshow": {
     "slide_type": "fragment"
    }
   },
   "source": [
    "**Int** values, on the other hand, are bound to be in the range that goes from $-2^{63}$ to $2^{63}+1.$)"
   ]
  },
  {
   "cell_type": "markdown",
   "metadata": {
    "slideshow": {
     "slide_type": "skip"
    }
   },
   "source": [
    "This limits the values that `Int` can hold, but it makes it more efficient."
   ]
  },
  {
   "cell_type": "markdown",
   "metadata": {
    "slideshow": {
     "slide_type": "skip"
    }
   },
   "source": [
    "Let's see this in practice:"
   ]
  },
  {
   "cell_type": "code",
   "execution_count": 22,
   "metadata": {
    "slideshow": {
     "slide_type": "slide"
    }
   },
   "outputs": [
    {
     "data": {
      "text/plain": [
       "4611686018427387904"
      ]
     },
     "metadata": {},
     "output_type": "display_data"
    }
   ],
   "source": [
    "2^62 :: Int -- All good"
   ]
  },
  {
   "cell_type": "code",
   "execution_count": 38,
   "metadata": {
    "slideshow": {
     "slide_type": "fragment"
    }
   },
   "outputs": [
    {
     "data": {
      "text/plain": [
       "0"
      ]
     },
     "metadata": {},
     "output_type": "display_data"
    }
   ],
   "source": [
    "2^64 :: Int -- Oh no! It overflowed!"
   ]
  },
  {
   "cell_type": "code",
   "execution_count": 24,
   "metadata": {
    "slideshow": {
     "slide_type": "fragment"
    }
   },
   "outputs": [
    {
     "data": {
      "text/plain": [
       "18446744073709551616"
      ]
     },
     "metadata": {},
     "output_type": "display_data"
    }
   ],
   "source": [
    "2^64 :: Integer -- All good again"
   ]
  },
  {
   "cell_type": "markdown",
   "metadata": {
    "slideshow": {
     "slide_type": "skip"
    }
   },
   "source": [
    "And, of course, you can do basic arithmetic with `Int` and `Integer`. There are several basic operations common to all numeric types:"
   ]
  },
  {
   "cell_type": "code",
   "execution_count": 32,
   "metadata": {
    "slideshow": {
     "slide_type": "slide"
    }
   },
   "outputs": [
    {
     "data": {
      "text/plain": [
       "3"
      ]
     },
     "metadata": {},
     "output_type": "display_data"
    },
    {
     "data": {
      "text/plain": [
       "-4"
      ]
     },
     "metadata": {},
     "output_type": "display_data"
    },
    {
     "data": {
      "text/plain": [
       "40"
      ]
     },
     "metadata": {},
     "output_type": "display_data"
    },
    {
     "data": {
      "text/plain": [
       "-4"
      ]
     },
     "metadata": {},
     "output_type": "display_data"
    }
   ],
   "source": [
    "1 + 2\n",
    "\n",
    "5 - 9\n",
    "\n",
    "10 * 4\n",
    "\n",
    "negate 4"
   ]
  },
  {
   "cell_type": "markdown",
   "metadata": {
    "slideshow": {
     "slide_type": "skip"
    }
   },
   "source": [
    "And you can also do other more nuanced operations:"
   ]
  },
  {
   "cell_type": "markdown",
   "metadata": {
    "slideshow": {
     "slide_type": "skip"
    }
   },
   "source": [
    "* `quot` returns the quotient of the two numbers. This is the result of division which is then **truncated towards zero**.\n",
    "\n",
    "* `rem` returns the remainder from the quotient.\n",
    "\n",
    "* `div` similar to `quot`, but is **rounded down towards minus infinity**.\n",
    "\n",
    "* `mod` returns the modulus of the two numbers. This is similar to the remainder `rem`, but has different rules when `div` returns a negative number."
   ]
  },
  {
   "cell_type": "code",
   "execution_count": 33,
   "metadata": {
    "slideshow": {
     "slide_type": "slide"
    }
   },
   "outputs": [
    {
     "data": {
      "text/plain": [
       "-4"
      ]
     },
     "metadata": {},
     "output_type": "display_data"
    },
    {
     "data": {
      "text/plain": [
       "-3"
      ]
     },
     "metadata": {},
     "output_type": "display_data"
    },
    {
     "data": {
      "text/plain": [
       "-3"
      ]
     },
     "metadata": {},
     "output_type": "display_data"
    },
    {
     "data": {
      "text/plain": [
       "6"
      ]
     },
     "metadata": {},
     "output_type": "display_data"
    }
   ],
   "source": [
    "div (-30) 9\n",
    "\n",
    "quot (-30) 9\n",
    "\n",
    "rem (-30) 9\n",
    "\n",
    "mod (-30) 9"
   ]
  },
  {
   "cell_type": "markdown",
   "metadata": {
    "slideshow": {
     "slide_type": "slide"
    }
   },
   "source": [
    "In case you where wandering, `/` is not an integer division:"
   ]
  },
  {
   "cell_type": "code",
   "execution_count": 43,
   "metadata": {
    "scrolled": false,
    "slideshow": {
     "slide_type": "fragment"
    }
   },
   "outputs": [
    {
     "data": {
      "text/plain": [
       "7.0"
      ]
     },
     "metadata": {},
     "output_type": "display_data"
    }
   ],
   "source": [
    "35 / 5"
   ]
  },
  {
   "cell_type": "markdown",
   "metadata": {
    "slideshow": {
     "slide_type": "skip"
    }
   },
   "source": [
    "Notice that Haskell returned all the previous results without `.0` but the last one has a `.0`. Even if the result is a whole number. Why is that?\n",
    "\n",
    "Because Haskell knows (before calculating the result) that if you add two whole numbers, the result will always be a whole number. Same with subtraction, exponential, and others.\n",
    "\n",
    "But there are many cases when a division of whole numbers gives you fractional numbers (i.e., `3/2` gives you `1.5`). So, Haskell makes sure that the division never fails by treating the numbers as Float or Double when dividing."
   ]
  },
  {
   "cell_type": "markdown",
   "metadata": {
    "slideshow": {
     "slide_type": "slide"
    }
   },
   "source": [
    "### Floating point number types: Float and Double"
   ]
  },
  {
   "cell_type": "markdown",
   "metadata": {
    "slideshow": {
     "slide_type": "fragment"
    }
   },
   "source": [
    "`Float` is a real floating point with single precision (32 bits), while `Double` is a real floating point with double the precision (64 bits)."
   ]
  },
  {
   "cell_type": "markdown",
   "metadata": {
    "slideshow": {
     "slide_type": "skip"
    }
   },
   "source": [
    "Let's see what happens if we want to show the first 20 digits of pi (π) in both types:"
   ]
  },
  {
   "cell_type": "code",
   "execution_count": 44,
   "metadata": {
    "scrolled": true,
    "slideshow": {
     "slide_type": "fragment"
    }
   },
   "outputs": [
    {
     "data": {
      "text/plain": [
       "3.1415927"
      ]
     },
     "metadata": {},
     "output_type": "display_data"
    },
    {
     "data": {
      "text/plain": [
       "3.141592653589793"
      ]
     },
     "metadata": {},
     "output_type": "display_data"
    }
   ],
   "source": [
    "3.14159265358979323846 :: Float\n",
    "\n",
    "3.14159265358979323846 :: Double"
   ]
  },
  {
   "cell_type": "markdown",
   "metadata": {
    "slideshow": {
     "slide_type": "skip"
    }
   },
   "source": [
    "You can tell that `Double` is waaaaaay more precise than `Float`."
   ]
  },
  {
   "cell_type": "markdown",
   "metadata": {
    "slideshow": {
     "slide_type": "skip"
    }
   },
   "source": [
    "Theoretically, the reasons as to when to use one or de other are somewhat analogous to the `Int` and `Integer` cases. `Double` has double the precision but hogs more memory because it uses twice as many bits to represent numbers.\n",
    "\n",
    "#### BUT!\n",
    "Recommendation based on real-world use: **Don't use `Float`. Use `Double`.** There's rarely a speed disadvantage in modern computers, and with `Double`, you are much less likely to shoot yourself in the foot with rounding errors."
   ]
  },
  {
   "cell_type": "markdown",
   "metadata": {
    "slideshow": {
     "slide_type": "skip"
    }
   },
   "source": [
    "#### Other functions for Float and Double types\n",
    "\n"
   ]
  },
  {
   "cell_type": "markdown",
   "metadata": {
    "slideshow": {
     "slide_type": "skip"
    }
   },
   "source": [
    "* Conversion from an integer type (Int or Integer) to anything else is done by **fromIntegral**. The target type is inferred automatically. "
   ]
  },
  {
   "cell_type": "code",
   "execution_count": null,
   "metadata": {
    "slideshow": {
     "slide_type": "skip"
    }
   },
   "outputs": [],
   "source": [
    "-- converting -5 to Float -5.0\n",
    "(fromIntegral (-5)) :: Float\n",
    "\n",
    "-- converting 5 to Double 5.0\n",
    "(fromIntegral 5) :: Double"
   ]
  },
  {
   "cell_type": "markdown",
   "metadata": {
    "slideshow": {
     "slide_type": "skip"
    }
   },
   "source": [
    "* There are three \"raise to the power\" operators which work differently and take different argument types.\n",
    "\n",
    "    * `**` - Takes two floating point numbers and uses logarithms to compute the power.\n",
    "\n",
    "    * `^^` - Takes a fractional number (i.e. a floating point or a ratio, of which more later) and raises it to a positive or negative integer power.\n",
    "\n",
    "    * `^`  - Takes any numerical type and raises it to a positive integer power."
   ]
  },
  {
   "cell_type": "code",
   "execution_count": null,
   "metadata": {
    "slideshow": {
     "slide_type": "skip"
    }
   },
   "outputs": [],
   "source": [
    "10 ** 3\n",
    "\n",
    "5 ^^ (-2)\n",
    "\n",
    "5 ^^ 0   \n",
    "\n",
    "5 ^ 0 "
   ]
  },
  {
   "cell_type": "markdown",
   "metadata": {
    "slideshow": {
     "slide_type": "skip"
    }
   },
   "source": [
    "* Exponentiation, natural logarithm, based logarithm and square root functions are given by **exp, log, logBase, sqrt** "
   ]
  },
  {
   "cell_type": "code",
   "execution_count": null,
   "metadata": {
    "slideshow": {
     "slide_type": "skip"
    }
   },
   "outputs": [],
   "source": [
    "exp 3\n",
    "\n",
    "log (exp 1)\n",
    "\n",
    "log 10\n",
    "\n",
    "logBase 10 100\n",
    "\n",
    "sqrt 625"
   ]
  },
  {
   "cell_type": "markdown",
   "metadata": {
    "slideshow": {
     "slide_type": "skip"
    }
   },
   "source": [
    "* Usual trigonometric functions are suppoted by both real number types: **sin,cos,tan,asin,acos,atan**\n",
    "\n",
    "* Number $\\pi$ and exponentianion constant $e$ are given by **pi** and **exp 1**"
   ]
  },
  {
   "cell_type": "code",
   "execution_count": null,
   "metadata": {
    "slideshow": {
     "slide_type": "skip"
    }
   },
   "outputs": [],
   "source": [
    "pi\n",
    "\n",
    "exp 1"
   ]
  },
  {
   "cell_type": "markdown",
   "metadata": {
    "slideshow": {
     "slide_type": "skip"
    }
   },
   "source": [
    "You can do all kinds of things with `Float` and `Double`. But, if you're in a setting where exact amounts are critical (e.g., finance and accounting), a good idea would be to use the `Rational` or `Decimal` data types. We'll cover them in future lessons."
   ]
  },
  {
   "cell_type": "markdown",
   "metadata": {
    "slideshow": {
     "slide_type": "slide"
    }
   },
   "source": [
    "### Boolean type Bool\n",
    "\n"
   ]
  },
  {
   "cell_type": "markdown",
   "metadata": {
    "slideshow": {
     "slide_type": "fragment"
    }
   },
   "source": [
    "The boolean type `Bool` only contains two values: `True` and `False`.\n"
   ]
  },
  {
   "cell_type": "markdown",
   "metadata": {
    "slideshow": {
     "slide_type": "slide"
    }
   },
   "source": [
    "Numbers, characters and strings can be compared using the usual **comparison operators** to produce a Bool value: $$==,~~/=,~~<=,~~>=,~~<,~~>$$"
   ]
  },
  {
   "cell_type": "code",
   "execution_count": null,
   "metadata": {
    "slideshow": {
     "slide_type": "fragment"
    }
   },
   "outputs": [],
   "source": [
    "3 == 4\n",
    "\n",
    "5 /= 0\n",
    "\n",
    "3 <= 5\n",
    "\n",
    "3 >= 0\n",
    "\n",
    "7.2 < 6.1\n",
    "\n",
    "pi > exp 1"
   ]
  },
  {
   "cell_type": "markdown",
   "metadata": {
    "slideshow": {
     "slide_type": "slide"
    }
   },
   "source": [
    "The negation function that returns an opposite truth value of the argument:"
   ]
  },
  {
   "cell_type": "code",
   "execution_count": null,
   "metadata": {
    "slideshow": {
     "slide_type": "fragment"
    }
   },
   "outputs": [],
   "source": [
    ":t not\n",
    "\n",
    "not True"
   ]
  },
  {
   "cell_type": "markdown",
   "metadata": {
    "slideshow": {
     "slide_type": "slide"
    }
   },
   "source": [
    "There are also **and** and **or** operators `&&` and `||` defined on the Bool type. "
   ]
  },
  {
   "cell_type": "code",
   "execution_count": null,
   "metadata": {
    "slideshow": {
     "slide_type": "fragment"
    }
   },
   "outputs": [],
   "source": [
    ":t (&&)\n",
    ":t (||)\n",
    "\n",
    "True && False\n",
    "True || False"
   ]
  },
  {
   "cell_type": "markdown",
   "metadata": {
    "slideshow": {
     "slide_type": "slide"
    }
   },
   "source": [
    "### Character type Char"
   ]
  },
  {
   "cell_type": "markdown",
   "metadata": {},
   "source": [
    "Text presents a problem to computers. At its lowest level, a computer only knows binary 1s and 0s. To represent text, every character is first converted to a number, then that number is converted to binary and stored. That's how a piece of text (which is just a sequence of characters) is encoded into binary. We're only interested in how to encode characters into their numerical representations, because the computer takes care of the conversion to binary numbers without our intervention."
   ]
  },
  {
   "cell_type": "markdown",
   "metadata": {},
   "source": [
    "Literal character values have type `Char` (short for \"character\"). It's denoted by **single quotes**. It could be any alphabet letter or a number or a symbol. "
   ]
  },
  {
   "cell_type": "markdown",
   "metadata": {},
   "source": [
    "The character type Char is an enumeration and consists of 16 bit values, conforming to the Unicode standard. There are standard functions that relate char symbols with their numbers in the enumeration.\n",
    "\n",
    "* `toEnum` returns the item at argument position from `Char` enumeration.\n",
    "\n",
    "* `fromEnum` returns the argument position in `Char` enumeration."
   ]
  },
  {
   "cell_type": "code",
   "execution_count": null,
   "metadata": {},
   "outputs": [],
   "source": [
    "fromEnum '~'\n",
    "\n",
    "toEnum 126 :: Char"
   ]
  },
  {
   "cell_type": "markdown",
   "metadata": {},
   "source": [
    "To obtain a character next or before the given one, functions `succ` and `pred` are used."
   ]
  },
  {
   "cell_type": "code",
   "execution_count": null,
   "metadata": {},
   "outputs": [],
   "source": [
    "succ '%'\n",
    "\n",
    "pred '&'"
   ]
  },
  {
   "cell_type": "markdown",
   "metadata": {},
   "source": [
    "### Lists"
   ]
  },
  {
   "cell_type": "markdown",
   "metadata": {},
   "source": [
    "In Haskell, **lists are a homogenous data structure**. \n",
    "\n",
    "**Homogeneous** means that it stores several elements of the same type: That means that we can have a list of integers or a list of characters but we can't have a list that has a few integers and then a few characters. "
   ]
  },
  {
   "cell_type": "markdown",
   "metadata": {},
   "source": [
    "#### Notations\n",
    "\n",
    "* Lists are denoted by square brackets `[1,5,3,-4,0]` and the values in the lists are **separated by commas**.\n",
    "\n",
    "* If `a` is a type (like `Char`, `Int` or `Float`), an expression `[a]` denotes a list type whose components has type `a`.\n",
    "\n",
    "* A first element in a list is called a **head**, while the list of all other elements is called a **tail**. These operations are realized by the functions"
   ]
  },
  {
   "cell_type": "markdown",
   "metadata": {},
   "source": [
    "```haskell\n",
    "head :: [a] -> a\n",
    "tail :: [a] -> [a]\n",
    "```"
   ]
  },
  {
   "cell_type": "markdown",
   "metadata": {},
   "source": [
    "* To join an element of a type `a` to a list whose entries are of the same type, the **cons** operator, denoted by a colon `:`, is used:"
   ]
  },
  {
   "cell_type": "code",
   "execution_count": null,
   "metadata": {},
   "outputs": [],
   "source": [
    "6 : [3,4,6]"
   ]
  },
  {
   "cell_type": "markdown",
   "metadata": {},
   "source": [
    "* Lists can be defined by creating a step in a range: "
   ]
  },
  {
   "cell_type": "code",
   "execution_count": null,
   "metadata": {},
   "outputs": [],
   "source": [
    "[3,5..22]"
   ]
  },
  {
   "cell_type": "markdown",
   "metadata": {},
   "source": [
    "The result will hold all elements starting from `3` with a step `2 = 5 - 3` that doesn't exceed `22` (if the last element doesn't fit in a defined step pattern, it will be ommited from the result). By default, if the step is not specified, the element after the first one is the next element in the enumeration up to the defined upper limit. For instance:"
   ]
  },
  {
   "cell_type": "code",
   "execution_count": null,
   "metadata": {},
   "outputs": [],
   "source": [
    "[3..7]\n",
    "\n",
    "['a'..'g']"
   ]
  },
  {
   "cell_type": "markdown",
   "metadata": {},
   "source": [
    "If the increment is negative, the elements will be listed in the desceasing order:"
   ]
  },
  {
   "cell_type": "code",
   "execution_count": null,
   "metadata": {},
   "outputs": [],
   "source": [
    "[17..3]\n",
    "\n",
    "[17,14..3]"
   ]
  },
  {
   "cell_type": "markdown",
   "metadata": {},
   "source": [
    "The first example above returns an empty list since the step is not specified and so is one, and there are no integers larger than `17` but less or equal than `3`."
   ]
  },
  {
   "cell_type": "markdown",
   "metadata": {},
   "source": [
    "* A common task is putting two lists together. This is done by using the **concatenation** `++` operator.  "
   ]
  },
  {
   "cell_type": "code",
   "execution_count": null,
   "metadata": {},
   "outputs": [],
   "source": [
    "[1,3,7,9] ++ [3,3,1]"
   ]
  },
  {
   "cell_type": "markdown",
   "metadata": {},
   "source": [
    "**Warning** Repeated usage of the `++` operator on long lists (even if you append a singleton list to a list, for instance: `[1,2,3] ++ [4]`), forces Haskell has to *walk through the whole list* on the left side of `++`. Therefore, putting something at the end of a list that's fifty million entries long is going to take a while! However, putting something at the beginning of a list using the cons operator `:` is instantaneous! "
   ]
  },
  {
   "cell_type": "markdown",
   "metadata": {},
   "source": [
    "#### Empty list\n",
    "\n",
    "`[]` is an empty list, that is a list without elements. It still matters the type of the elements in an empty list: an empty list of `Int`'s and an empty list of `Char`'s belong to two different types!\n",
    "\n"
   ]
  },
  {
   "cell_type": "markdown",
   "metadata": {},
   "source": [
    "**Why do we need an empty list?** Any list is obtained by a repeated application of the cons operator to the empty list:\n",
    "\n",
    "$$[1,3,6] = 1 : (3 : (6 : [~])))$$\n",
    "\n"
   ]
  },
  {
   "cell_type": "markdown",
   "metadata": {},
   "source": [
    "**Do we need so many parenthesis?** The cons operation is so called *right associative* that means that in the expression $1 : 3 : 6 : [~]$ the operations `:` are applied starting from the right, so\n",
    "\n",
    "$$1 : 3 : 6 : [~] = 1 : (3 : (6 : [~])))$$\n",
    "\n",
    "and the result is a list $[1,3,6]$.\n",
    "\n"
   ]
  },
  {
   "cell_type": "markdown",
   "metadata": {},
   "source": [
    "**Warning!** The following lists \n",
    "\n",
    "$$[~],~~~~   [[~]],~~~~   [[~],[~],[~]]$$ \n",
    "\n",
    "are all different things. The first one is an empty list, the seconds one is a list that contains one empty list, the third one is a list that contains three empty lists."
   ]
  },
  {
   "cell_type": "markdown",
   "metadata": {},
   "source": [
    "#### Length, sum, null and elem functions\n",
    "\n"
   ]
  },
  {
   "cell_type": "markdown",
   "metadata": {},
   "source": [
    "Among many other useful functions defined for lists we briefly mention the following:\n",
    "\n",
    "* `length` takes a list and returns its length;\n",
    "\n",
    "* `null` checks if a list is empty;\n",
    "\n",
    "* `sum` takes a list of numbers and returns their sum;\n",
    "\n",
    "* `elem` takes an element `x` and a list of elements `l` of the same type and checks if `x` is an element of the list `l`."
   ]
  },
  {
   "cell_type": "code",
   "execution_count": null,
   "metadata": {},
   "outputs": [],
   "source": [
    "length [2,4,5,6,7]\n",
    "\n",
    "length []\n",
    "\n",
    "null []\n",
    "\n",
    "sum [-1,0,1,6,-5,-1]\n",
    "\n",
    "elem 5 [6,3,5,7,5]"
   ]
  },
  {
   "cell_type": "markdown",
   "metadata": {},
   "source": [
    "#### Infinite lists\n",
    "\n"
   ]
  },
  {
   "cell_type": "markdown",
   "metadata": {},
   "source": [
    "You can also use ranges to make infinite lists by just not specifying an upper limit. We can also specify a pattern how to create an infinite list.\n",
    "\n"
   ]
  },
  {
   "cell_type": "markdown",
   "metadata": {},
   "source": [
    "* `[1..]` is an infinite list $[1,2,3,4,5,...]$.\n",
    "\n"
   ]
  },
  {
   "cell_type": "markdown",
   "metadata": {},
   "source": [
    "* `[1,3..]` is an infinite list of integers $[1,3,5,7,9,...]$. The difference between the second and the first elements determine the increment step, which can also be *negative*.\n",
    "\n"
   ]
  },
  {
   "cell_type": "markdown",
   "metadata": {},
   "source": [
    "* A function `take` with parameters a positive integer `n` and a list `l` returns a list of first `n` elements in a (potentially infinite) list `l`. If there are less elements than the list length, all elements are returned."
   ]
  },
  {
   "cell_type": "code",
   "execution_count": null,
   "metadata": {},
   "outputs": [],
   "source": [
    "take 7 [1..] \n",
    "\n",
    "take 7 [1,3..]\n",
    "\n",
    "take 7 [5,3..]  \n",
    "\n",
    "take 7 [5..] \n",
    "\n",
    "take 7 ['x'..]"
   ]
  },
  {
   "cell_type": "markdown",
   "metadata": {},
   "source": [
    "### Strings"
   ]
  },
  {
   "cell_type": "markdown",
   "metadata": {},
   "source": [
    "**What is a string?** A string is a list of characters.\n",
    "\n"
   ]
  },
  {
   "cell_type": "markdown",
   "metadata": {},
   "source": [
    "The `String` type is the most basic form of representing strings in Haskell. It is a syntactic sugar for [Char] (the list of unicode characters type). \n",
    "\n"
   ]
  },
  {
   "cell_type": "markdown",
   "metadata": {},
   "source": [
    "So whenever you see `[Char]` in your compile errors, know this refers to the basic `String` type. By default, when you enter in a string literal in your Haskell code, the compiler infers it as a `String`."
   ]
  },
  {
   "cell_type": "markdown",
   "metadata": {},
   "source": [
    "**How to denote a string?** While char variables are surrounded by single quotes `''`, strings are surrounded by **double quotes `\"\"`**.\n",
    "\n"
   ]
  },
  {
   "cell_type": "code",
   "execution_count": null,
   "metadata": {},
   "outputs": [],
   "source": [
    "GHCI> :t 'a'\n",
    "'a' :: Char\n",
    "GHCI> :t \"Hello\"\n",
    "\"Hello\" :: [Char]"
   ]
  },
  {
   "cell_type": "markdown",
   "metadata": {},
   "source": [
    "`\"Hello\"` is just syntactic sugar for `['h','e','l','l','o']`. Because strings are lists, we can use list functions on them, which is really handy.\n",
    "\n"
   ]
  },
  {
   "cell_type": "markdown",
   "metadata": {},
   "source": [
    "A common task is putting two lists together. This is done by using the `++` operator. "
   ]
  },
  {
   "cell_type": "code",
   "execution_count": null,
   "metadata": {},
   "outputs": [],
   "source": [
    "\"Hello \" ++ \"world!\""
   ]
  },
  {
   "cell_type": "markdown",
   "metadata": {},
   "source": [
    "The other list functions also work as expexted:"
   ]
  },
  {
   "cell_type": "code",
   "execution_count": null,
   "metadata": {},
   "outputs": [],
   "source": [
    "length \"abc\"\n",
    "\n",
    "head \"Sugar\""
   ]
  },
  {
   "cell_type": "markdown",
   "metadata": {},
   "source": [
    "#### Escaping and breaking the string\n",
    "\n"
   ]
  },
  {
   "cell_type": "markdown",
   "metadata": {},
   "source": [
    "Some characters must be **escaped** to be represented inside a character or string literal. For example, a double quote character inside a string literal must be escaped, or else it will be treated as the end of the string. Haskell uses essentially the same single-character escapes as many other popular languages.\n",
    "\n"
   ]
  },
  {
   "cell_type": "markdown",
   "metadata": {},
   "source": [
    "* `\\0` is a null character.\n",
    "* `\\n` a is newline (line feed) character.\n",
    "* `\\r` is a carriage return.\n",
    "* `\\t` is a horizontal tab.\n",
    "* `\\v` is a vertical tab.\n",
    "* `\\\"` is a double quote.\n",
    "* `\\&` is an empty string.\n",
    "* `\\'` is a single quote.\n",
    "* `\\\\` is a backslash."
   ]
  },
  {
   "cell_type": "markdown",
   "metadata": {},
   "source": [
    "Any text consists of paragraphs, while paragraphs consist of sentenses, and, finally, sentences consist of words. So any text is just a *string* and there are some useful functions that break a given string into words or into lines. \n",
    "\n"
   ]
  },
  {
   "cell_type": "markdown",
   "metadata": {},
   "source": [
    "* `words :: String -> [String]`    creates an array of string from the original one, with a space characters serving as separators.\n",
    "\n",
    "* `unwords :: [String] -> String`  creates a string from an array of strings, it inserts space characters between original strings. \n",
    "\n",
    "* `lines :: String -> [String]`    creates an array of string from the original one, with new line characters `\\n` serving as separators.\n",
    "\n",
    "* `unlines :: [String] -> String`  creates a string from an array of strings, it inserts new line characters `\\n` between original strings. "
   ]
  },
  {
   "cell_type": "code",
   "execution_count": null,
   "metadata": {},
   "outputs": [],
   "source": [
    "words \"To be or not to be?\"\n",
    "\n",
    "lines \"How are you doing? \\n I'm fine, how about you?\""
   ]
  },
  {
   "cell_type": "markdown",
   "metadata": {},
   "source": [
    "### Tuples\n",
    "\n"
   ]
  },
  {
   "cell_type": "markdown",
   "metadata": {},
   "source": [
    "How we'd represent a two-dimensional vector in Haskell? If we need to represent a matrix\n",
    "$$\n",
    "    \\begin{pmatrix}\n",
    "        1 & 2 & 3 \\\\\n",
    "        4 & 5 & 6\n",
    "    \\end{pmatrix}\n",
    "$$"
   ]
  },
  {
   "cell_type": "markdown",
   "metadata": {},
   "source": [
    "we can think about it as a list of length 3 whose components are pairs:\n",
    "$$\n",
    "    [(1,4),(2,5),(3,6)]\n",
    "$$\n"
   ]
  },
  {
   "cell_type": "markdown",
   "metadata": {},
   "source": [
    "However, if one try to write `[(1,4),(2,5,7),(3,6)]` the error will be obtained, as all elements in a list should be pairs, not pairs or triples. Still the expression `[[1,4],[2,5,7],[3,6]]` works but it is not a list of pairs anymore."
   ]
  },
  {
   "cell_type": "markdown",
   "metadata": {},
   "source": [
    "Another feature distinguishing tuples from lists is that they can (and often are) **non-homogeneous**. For instance, the tuple consisting of a first name, last name, and an age of a person"
   ]
  },
  {
   "cell_type": "markdown",
   "metadata": {},
   "source": [
    "```haskell\n",
    "(\"John\", \"Smith\", 25) :: (String, String, Int)\n",
    "```"
   ]
  },
  {
   "cell_type": "markdown",
   "metadata": {},
   "source": [
    "has size 3 and its components have types `String`, `String` and `Int`."
   ]
  },
  {
   "cell_type": "markdown",
   "metadata": {},
   "source": [
    "#### Bounds on the tuple length\n",
    "\n",
    "There is no upper bound on the size of a tuple, but some Haskell implementations may restrict the size of tuples, and limit the instances associated with larger tuples. However, every Haskell implementation must support tuples up to size 15. The Prelude and libraries define tuple functions for tuples up to a size of 7.\n",
    "\n"
   ]
  },
  {
   "cell_type": "markdown",
   "metadata": {},
   "source": [
    "#### Constructing tuples\n",
    "\n",
    "We can construct a tuple by omitting the expressions surrounding the commas: thus `(x,y)` and `(,) x y` produce the same value. The same holds for tuple type constructors: `(Int,Bool,Int)` and `(,,) Int Bool Int` denote the same type."
   ]
  },
  {
   "cell_type": "code",
   "execution_count": null,
   "metadata": {},
   "outputs": [],
   "source": [
    "(,) 4 True\n",
    "\n",
    "(,,,) True 4 'A' \"Something\""
   ]
  },
  {
   "cell_type": "markdown",
   "metadata": {},
   "source": [
    "#### Type of tuple\n",
    "\n",
    "The type of the list of strings is just `[String]` and no matter how many lines we've stored in a list its type will remain unchanged. The same thing with the tuple is completely different."
   ]
  },
  {
   "cell_type": "markdown",
   "metadata": {},
   "source": [
    "* The type of a tuple **depends on the number of its elements**. For example, the type of tuple containing two `Double`'s and one `Int` is\n",
    "\n",
    "```haskell\n",
    "(Double, Double, Int)\n",
    "```\n",
    "\n",
    "   and the tuple `(3.2, 4.3, 4, Bool)` doesn't belong to this type."
   ]
  },
  {
   "cell_type": "markdown",
   "metadata": {},
   "source": [
    "* The type of a tuple **explicitly reflects its content**. So, if the function is applied to tuple of two strings, applying it to a tuple of three will not work, because the types of these tuples differ."
   ]
  },
  {
   "cell_type": "markdown",
   "metadata": {},
   "source": [
    "```haskell\n",
    "-- These types are different\n",
    "(String, String)\n",
    "(String, String, String)"
   ]
  },
  {
   "cell_type": "markdown",
   "metadata": {},
   "source": [
    "#### Pairs\n",
    "\n"
   ]
  },
  {
   "cell_type": "markdown",
   "metadata": {},
   "source": [
    "Tuples don't have indices, so one cannot easily extract the second component `'b'` of a quadruple `('a','b','c','d')`.\n",
    "\n"
   ]
  },
  {
   "cell_type": "markdown",
   "metadata": {},
   "source": [
    "However, for the most common type of tuples -- the pairs -- there are functions that extract the components.\n",
    "\n",
    "* `fst` returns the first item in a pair.\n",
    "\n",
    "* `snd` returns the second item in a pair.\n",
    "\n"
   ]
  },
  {
   "cell_type": "markdown",
   "metadata": {},
   "source": [
    "Similar functions are not predefined for bigger tuples because they are rare, and there are other ways to extract those values (like pattern matching)."
   ]
  },
  {
   "cell_type": "code",
   "execution_count": null,
   "metadata": {},
   "outputs": [],
   "source": [
    "fst ('A',438)\n",
    "\n",
    "snd ('A',438)"
   ]
  },
  {
   "cell_type": "markdown",
   "metadata": {},
   "source": [
    "There is a very useful function `zip` that creates a list of pairs out of two lists. The length of the resulting list is chosen to be the *shorter* one."
   ]
  },
  {
   "cell_type": "code",
   "execution_count": null,
   "metadata": {},
   "outputs": [],
   "source": [
    "zip [1..] ['a'..'g']"
   ]
  },
  {
   "cell_type": "markdown",
   "metadata": {},
   "source": [
    "## Polymorphic values and type variables\n",
    "\n"
   ]
  },
  {
   "cell_type": "markdown",
   "metadata": {},
   "source": [
    "**Polymorphic** means something that has multiple forms. Haskell incorporates polymorphic values and type variables.\n",
    "\n"
   ]
  },
  {
   "cell_type": "markdown",
   "metadata": {},
   "source": [
    "* **Polymorphic value** is a value that can have multiple types.\n",
    "\n",
    "* **Type variable** is a type that is universally defined in some way over all types. Polymorphic type expressions essentially describe families of types. \n",
    "\n"
   ]
  },
  {
   "cell_type": "markdown",
   "metadata": {},
   "source": [
    "The `fst` and `snd` functions defined for pairs are polymorphic. A function"
   ]
  },
  {
   "cell_type": "markdown",
   "metadata": {},
   "source": [
    "```haskell\n",
    "fst :: (Bool, Char) -> Bool\n",
    "```"
   ]
  },
  {
   "cell_type": "markdown",
   "metadata": {},
   "source": [
    "returns the first component of a pair that has type `Bool`. What if we'll need to define it for a different pair like `(Double, [Char])`? The problem is solved by using *type variables*."
   ]
  },
  {
   "cell_type": "markdown",
   "metadata": {},
   "source": [
    "```haskell\n",
    "fst :: (a, b) -> a\n",
    "```"
   ]
  },
  {
   "cell_type": "markdown",
   "metadata": {},
   "source": [
    "This means that the `fst` function takes a pair of type `(a, b)` and returns a value of type `a`. \n",
    "\n"
   ]
  },
  {
   "cell_type": "markdown",
   "metadata": {},
   "source": [
    "The lower case letters `a` and `b` are **type variables**, meaning they can be of any type. By using type variables, we can use the `fst` function with pairs of any type (**polymorphic values**)!"
   ]
  },
  {
   "cell_type": "markdown",
   "metadata": {},
   "source": [
    "**Important facts**\n",
    "\n",
    "* Polymorphic types denoted by different letters (like `a` and `b`) can be of the same type or of different types from each other. But the same letter `a` denotes the same type within the signature of a polymorphic function. \n",
    "\n",
    "* Specific types, like `Char`, `Bool`, `Int`, start with *capital* letters. But polymorphic types start with **lower case letters**. We can use longer names for polymorphic types, but the usual is to use single letters (i.e., `a`, `b`, `c`)."
   ]
  },
  {
   "cell_type": "markdown",
   "metadata": {},
   "source": [
    "Another example of polymorphic function is the `length` function defined for lists. "
   ]
  },
  {
   "cell_type": "markdown",
   "metadata": {},
   "source": [
    "```haskell\n",
    "length :: [a] -> Int\n",
    "```"
   ]
  },
  {
   "cell_type": "markdown",
   "metadata": {},
   "source": [
    "No matter what is a type of elements in a list, we always can find its length. \n",
    "\n"
   ]
  },
  {
   "cell_type": "markdown",
   "metadata": {},
   "source": [
    "Similarly, `head` and `tail` functions for lists"
   ]
  },
  {
   "cell_type": "markdown",
   "metadata": {},
   "source": [
    "```haskell\n",
    "head :: [a] -> a\n",
    "tail :: [a] -> [a]\n",
    "```"
   ]
  },
  {
   "cell_type": "markdown",
   "metadata": {},
   "source": [
    "are polymorphic. \n",
    "\n"
   ]
  },
  {
   "cell_type": "markdown",
   "metadata": {},
   "source": [
    "It doesn't matter what are the specific types when we are extracting a *head* of a list. \n",
    "\n"
   ]
  },
  {
   "cell_type": "markdown",
   "metadata": {},
   "source": [
    "* The parameter is a polymorphic list `[a]`. \n",
    "\n",
    "* The result has to be an element of the same type `a` as the elements of the list of type `[a]`. That's why it has to be `a`."
   ]
  }
 ],
 "metadata": {
  "celltoolbar": "Slideshow",
  "kernelspec": {
   "display_name": "Haskell",
   "language": "haskell",
   "name": "haskell"
  },
  "language_info": {
   "codemirror_mode": "ihaskell",
   "file_extension": ".hs",
   "mimetype": "text/x-haskell",
   "name": "haskell",
   "pygments_lexer": "Haskell",
   "version": "8.10.7"
  },
  "vscode": {
   "interpreter": {
    "hash": "31f2aee4e71d21fbe5cf8b01ff0e069b9275f58929596ceb00d14d90e3e16cd6"
   }
  }
 },
 "nbformat": 4,
 "nbformat_minor": 2
}
