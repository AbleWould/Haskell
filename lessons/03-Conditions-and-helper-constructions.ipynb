{
 "cells": [
  {
   "cell_type": "markdown",
   "metadata": {},
   "source": [
    "# Conditions and helper constructions"
   ]
  },
  {
   "cell_type": "markdown",
   "metadata": {},
   "source": [
    "## Outline\n",
    "\n",
    "* If-then-else expressions.\n",
    "\n",
    "* Guards in functions\n",
    "\n",
    "* Helper construction `let` \n",
    "\n",
    "* Helper construction `where`\n",
    "\n",
    "* Using `let` and `where` together"
   ]
  },
  {
   "cell_type": "markdown",
   "metadata": {},
   "source": [
    "## If-then-else expressions"
   ]
  },
  {
   "cell_type": "markdown",
   "metadata": {},
   "source": [
    "Often in your code you have to make a choice. There are several ways to express conditions. In Haskell we most commonly use **if-then-else** expressions:"
   ]
  },
  {
   "cell_type": "markdown",
   "metadata": {},
   "source": [
    "```haskell\n",
    "if Condition \n",
    "  then Expesssion1 \n",
    "  else Expesssion2\n",
    "```"
   ]
  },
  {
   "cell_type": "markdown",
   "metadata": {},
   "source": [
    "where `Condition` is a logical expression that yields `False` or `True`, `Expression1` is an expression value used in the `True` case, `Expression2` is the expression used in the `False` case. The function `checkLocalHost` function below checks if the argument is a localhost or not and reports the user the result."
   ]
  },
  {
   "cell_type": "code",
   "execution_count": null,
   "metadata": {},
   "outputs": [],
   "source": [
    "checkLocalhost :: String -> String\n",
    "checkLocalhost ip =\n",
    "    -- True or False?\n",
    "    if ip == \"127.0.0.1\"\n",
    "        -- When the condition is True the answer is\n",
    "        then \"It’s a localhost!\"\n",
    "        -- Otherwise the condition is False and the answer is\n",
    "        else \"No, it's not a localhost.\""
   ]
  },
  {
   "cell_type": "markdown",
   "metadata": {},
   "source": [
    "The `checkLocalhost` function is applied to a single argument of type `String` and returns another value of type `String`. The argument is a string `ip` containing the IP address, and the function checks if the string is equal to `\"127.0.0.1\"`. If the check is successful the function returns `\"It's a localhost!\"`, otherwise it returns `\"No, it's not a localhost.\"` \n",
    "\n",
    "In fact, the **if-then-else** operator here checks the value of the `Bool` variable `ip == \"127.0.0.1\"`."
   ]
  },
  {
   "cell_type": "markdown",
   "metadata": {},
   "source": [
    "### Important features"
   ]
  },
  {
   "cell_type": "markdown",
   "metadata": {},
   "source": [
    "While in imperative programming languages, the `else` is not mandatory, in Haskell `else` is mandatory! That is because in Haskell, every function has to return a value. So we are obligated to provide a result for both then and else. \n",
    "\n",
    "Both values under `then` and `else` must be of the same type."
   ]
  },
  {
   "cell_type": "markdown",
   "metadata": {},
   "source": [
    "## Guards\n",
    "\n",
    "Guards work similar like if-else statement but you can have multiple conditions. You can match a value against different cases and return the result for each case seperatly. The symbol `|` is used for guards. You also have the option to cover the case of all other posibilities, for which the keyword `otherwise` is used. What you have to take care of is that you cover all possibilities because in Haskell a function always has to return a result. "
   ]
  },
  {
   "cell_type": "code",
   "execution_count": null,
   "metadata": {},
   "outputs": [],
   "source": [
    "testValue :: Int -> String\n",
    "testValue n | n < 0 = \"Smaller then 0.\"\n",
    "            | n > 0 = \"Larger then 0.\"\n",
    "            | otherwise = \"Equals 0.\"\n",
    "\n",
    "-- Change the number to test it\n",
    "testValue 8"
   ]
  },
  {
   "cell_type": "markdown",
   "metadata": {},
   "source": [
    "You can use guards also to replace nested if-else statements. Below you can see an example of the functions parse1 and parse2 that do the same thing but use different aproaches. "
   ]
  },
  {
   "cell_type": "code",
   "execution_count": null,
   "metadata": {},
   "outputs": [],
   "source": [
    "parse1 :: Int -> String\n",
    "parse1 n = \n",
    "  if n == 1\n",
    "    then \"Number is 1.\"\n",
    "    else if n == 2\n",
    "         then \"Number is 2.\"\n",
    "         else \"The number is not 1 neither 2.\"\n",
    "\n",
    "parse2 :: Int -> String\n",
    "parse2 n \n",
    "  | n == 1 = \"Number is 1.\"\n",
    "  | n == 2 = \"Number is 2.\"\n",
    "  | otherwise = \"The number is not 1 neither 2.\""
   ]
  },
  {
   "cell_type": "markdown",
   "metadata": {},
   "source": [
    "## Let and where"
   ]
  },
  {
   "cell_type": "markdown",
   "metadata": {},
   "source": [
    "We will learn how to make functions more convenient and readable using `let` and `where` constructions."
   ]
  },
  {
   "cell_type": "markdown",
   "metadata": {},
   "source": [
    "### Let"
   ]
  },
  {
   "cell_type": "markdown",
   "metadata": {},
   "source": [
    "The `let-in` construction can define local variables in the folloing way:\n",
    "```haskell\n",
    "let DECLARATIONS \n",
    "in EXPRESSION\n",
    "```\n",
    "where `DECLARATIONS` are the local variables that are valid in the `EXPRESSION`."
   ]
  },
  {
   "cell_type": "markdown",
   "metadata": {},
   "source": [
    "In the definition of the following function "
   ]
  },
  {
   "cell_type": "code",
   "execution_count": null,
   "metadata": {},
   "outputs": [],
   "source": [
    "calculateTime :: Int -> Int\n",
    "calculateTime timeInS\n",
    "        | timeInS < 40 = timeInS + 120\n",
    "        | otherwise = timeInS + 8 + 120"
   ]
  },
  {
   "cell_type": "markdown",
   "metadata": {},
   "source": [
    "some *magic numbers* (`40`, `120`, and `8`) are used. Since we don't know what is the purpose of these numbers, we say that they are *magic*. To give some meaning to these values we can assign them to local variables in a `let-in` construction, where the name of the variable can describe the maning of the variable."
   ]
  },
  {
   "cell_type": "code",
   "execution_count": null,
   "metadata": {},
   "outputs": [],
   "source": [
    "calculateTime :: Int -> Int\n",
    "calculateTime timeInS =\n",
    "    let threshold   = 40\n",
    "        correction  = 120\n",
    "        delta       = 8\n",
    "    in\n",
    "      if timeInS < threshold \n",
    "      then timeInS + correction\n",
    "      else timeInS + delta + correction"
   ]
  },
  {
   "cell_type": "markdown",
   "metadata": {},
   "source": [
    "**Benefits of `let-in` construction**\n",
    "\n",
    "* Allows to introduce as many explanations for the following code as you like.\n",
    "* Expressions in between `let` and `in` make our code clearer and in many cases even shorter.\n",
    "* You can also define helper functions in the `let` block."
   ]
  },
  {
   "cell_type": "markdown",
   "metadata": {},
   "source": [
    "**Warning about `let-in` construction:** the expression introduced by the `let-in` construction exists only within the expression following the word `in`."
   ]
  },
  {
   "cell_type": "markdown",
   "metadata": {},
   "source": [
    "The expression `delta` in the code below"
   ]
  },
  {
   "cell_type": "code",
   "execution_count": null,
   "metadata": {},
   "outputs": [],
   "source": [
    "calculateTime :: Int -> Int\n",
    "calculateTime timeInS =\n",
    "    let threshold   = 40\n",
    "        correction  = 120\n",
    "    in\n",
    "      if timeInS < threshold \n",
    "      then timeInS + correction\n",
    "      else let delta = 8 \n",
    "           in timeInS + delta + correction"
   ]
  },
  {
   "cell_type": "markdown",
   "metadata": {},
   "source": [
    "is visible only inside the expression `timeInS + delta + correction`."
   ]
  },
  {
   "cell_type": "markdown",
   "metadata": {},
   "source": [
    "**Is it required to write every single expressions between `let` and `in` in separate line?** No, but they should be separated by the semicolon `;` as in the code below. "
   ]
  },
  {
   "cell_type": "code",
   "execution_count": null,
   "metadata": {},
   "outputs": [],
   "source": [
    "calculateTime :: Int -> Int\n",
    "calculateTime timeInS =\n",
    "    let threshold = 40; correction = 120\n",
    "    in\n",
    "      if timeInS < threshold \n",
    "      then timeInS + correction\n",
    "      else let delta = 8 \n",
    "           in timeInS + delta + correction"
   ]
  },
  {
   "cell_type": "markdown",
   "metadata": {},
   "source": [
    "### Where"
   ]
  },
  {
   "cell_type": "markdown",
   "metadata": {},
   "source": [
    "There is another way to introduce local variables using the `where` construction. The `where` keyword does almost the same thing as `let-in`, but the local variable definitions are set at the end of the function. Here is an example of using `where` for the `calculateTime` function."
   ]
  },
  {
   "cell_type": "code",
   "execution_count": null,
   "metadata": {},
   "outputs": [],
   "source": [
    "calculateTime :: Int -> Int\n",
    "calculateTime timeInS =\n",
    "    if timeInS < threshold \n",
    "    then timeInS + correction\n",
    "    else timeInS + delta + correction\n",
    "    where\n",
    "        threshold  = 40\n",
    "        correction = 120\n",
    "        delta      = 8"
   ]
  },
  {
   "cell_type": "markdown",
   "metadata": {},
   "source": [
    "How `where` differs from `let-in`? While `let-in` is used to create local variables visible only in the `in` expression, the variables in `where` are visible in any part of code preceding it."
   ]
  },
  {
   "cell_type": "markdown",
   "metadata": {},
   "source": [
    "### How to avoid writing the same code several times?"
   ]
  },
  {
   "cell_type": "markdown",
   "metadata": {},
   "source": [
    "One of the ways to save yourself from writing a long formula several times and how you can maintain clean and readable code is to name a function inside `let-in` or `where` constructions, and use it in a code after `in` or before `where`. Let's work on example where we determine whether a given cylindrical shape is a glass, a bucket, or a tank depending on its volume. The parameters are diameter and height of a cylinder."
   ]
  },
  {
   "cell_type": "code",
   "execution_count": null,
   "metadata": {},
   "outputs": [],
   "source": [
    "analyzeCylinder :: Float -> Float -> String\n",
    "analyzeCylinder diameter height\n",
    "       | maxGlassVolume == volume = \"The cylinder is a glass.\"\n",
    "       | maxBucketVolume == volume = \"The cylinder is a bucket.\"\n",
    "       | maxTankVolume == volume = \"The cylinder is a tank.\"\n",
    "       | otherwise = \"The cylinder is something new to me...\"\n",
    "    where\n",
    "        volume          = pi * diameter^2 * height / 4\n",
    "        maxGlassVolume  = 100\n",
    "        maxBucketVolume = 1000\n",
    "        maxTankVolume   = 10000"
   ]
  },
  {
   "cell_type": "markdown",
   "metadata": {},
   "source": [
    "### Let and where together"
   ]
  },
  {
   "cell_type": "markdown",
   "metadata": {},
   "source": [
    "We can use `let-in` and `where` together, within the same function, but the general advise is: **do not mix up these constructions without any real nead**. In the following function one part of local variables is located inside `let-in`, while the other part appers after `where` keyword."
   ]
  },
  {
   "cell_type": "code",
   "execution_count": null,
   "metadata": {},
   "outputs": [],
   "source": [
    "calculateTime :: Int -> Int\n",
    "calculateTime timeInS =\n",
    "    let threshold = 40 in\n",
    "      if timeInS < threshold \n",
    "      then timeInS + correction\n",
    "      else timeInS + delta + correction\n",
    "    where\n",
    "      correction = 120\n",
    "      delta      = 8"
   ]
  },
  {
   "cell_type": "markdown",
   "metadata": {},
   "source": [
    "**Can the expressions inside `let-in` and `where` depend on each other or on the parameter of the function?** In all previous examples we've used only simple expressions, where the numbers were substituted by their names. However, both constructions allow much more complicated scenarious."
   ]
  },
  {
   "cell_type": "code",
   "execution_count": null,
   "metadata": {},
   "outputs": [],
   "source": [
    "calculateTime :: Int -> Int\n",
    "calculateTime timeInS =\n",
    "    let threshold = 40 in\n",
    "      if timeInS < threshold \n",
    "      then timeInS + correction\n",
    "      else timeInS + delta + correction\n",
    "    where\n",
    "      delta      = correction - 4\n",
    "      correction = timeInS * 2"
   ]
  },
  {
   "cell_type": "markdown",
   "metadata": {},
   "source": [
    "Now `delta` depends on `correction`, and `correction` depends on the parameter `timeInS`. **The order of appearance of expressions in `let-in` and `where` doesn't matter, even if one expression uses the other.** In the following code `let`-expression uses the expression defined inside `where`:"
   ]
  },
  {
   "cell_type": "code",
   "execution_count": null,
   "metadata": {},
   "outputs": [],
   "source": [
    "calculateTime :: Int -> Int\n",
    "calculateTime timeInS =\n",
    "    let delta     = correction - 4\n",
    "        threshold = 40\n",
    "    in\n",
    "      if timeInS < threshold \n",
    "      then timeInS + correction\n",
    "      else timeInS + delta + correction\n",
    "    where\n",
    "      correction = timeInS * 2"
   ]
  },
  {
   "cell_type": "markdown",
   "metadata": {},
   "source": [
    "Here we've used the fact that `where`-expressions are visible in the any part of the code before `where`. However, `let`-expressions aren't visible in `where`. The following code"
   ]
  },
  {
   "cell_type": "code",
   "execution_count": null,
   "metadata": {},
   "outputs": [],
   "source": [
    "calculateTime :: Int -> Int\n",
    "calculateTime timeInS =\n",
    "    let delta     = correction - 4\n",
    "        threshold = 40\n",
    "    in\n",
    "      if timeInS < threshold \n",
    "      then timeInS + correction\n",
    "      else timeInS + delta + correction\n",
    "    where\n",
    "      correction = timeInS * 2 * threshold"
   ]
  },
  {
   "cell_type": "markdown",
   "metadata": {},
   "source": [
    "returns an error:\n",
    "```\n",
    "Not in scope: ‘threshold’\n",
    "```"
   ]
  },
  {
   "cell_type": "markdown",
   "metadata": {},
   "source": [
    "**Conclusion**: you cannot use `let`-expressions inside `where`-expressions, because the former are no longer included in the expression following the keyword `in`. <br>\n",
    "**Warning!** Even if you can use let-expressions with where-expressions together, in most cases, you use one or the other."
   ]
  },
  {
   "cell_type": "markdown",
   "metadata": {},
   "source": [
    "## Summary\n",
    "\n",
    "In this lesson we've discussed:\n",
    "\n",
    "* If-then-else statements and why you should always define the else case.\n",
    "\n",
    "* Guards that are a cleaner way to write nested if-else statement when multiple conditions apply.\n",
    "\n",
    "* Let and where constructions that allow to define local variables in code. They are used to avoid using \"magic numbers\" and writing the same formulas several times and to make the code clearer."
   ]
  }
 ],
 "metadata": {
  "kernelspec": {
   "display_name": "Python 3.10.4 64-bit",
   "language": "python",
   "name": "python3"
  },
  "language_info": {
   "name": "python",
   "version": "3.10.4"
  },
  "orig_nbformat": 4,
  "vscode": {
   "interpreter": {
    "hash": "e7370f93d1d0cde622a1f8e1c04877d8463912d04d973331ad4851f04de6915a"
   }
  }
 },
 "nbformat": 4,
 "nbformat_minor": 2
}
