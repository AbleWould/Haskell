{
 "cells": [
  {
   "cell_type": "markdown",
   "metadata": {
    "slideshow": {
     "slide_type": "slide"
    }
   },
   "source": [
    "# Conditions and helper constructions"
   ]
  },
  {
   "cell_type": "markdown",
   "metadata": {
    "slideshow": {
     "slide_type": "slide"
    }
   },
   "source": [
    "## Outline\n",
    "\n",
    "* If-then-else expressions.\n",
    "\n",
    "* Guards in functions\n",
    "\n",
    "* Helper construction `let` \n",
    "\n",
    "* Helper construction `where`\n",
    "\n",
    "* Using `let` and `where` together"
   ]
  },
  {
   "cell_type": "markdown",
   "metadata": {
    "slideshow": {
     "slide_type": "slide"
    }
   },
   "source": [
    "## If-then-else expressions"
   ]
  },
  {
   "cell_type": "markdown",
   "metadata": {
    "slideshow": {
     "slide_type": "skip"
    }
   },
   "source": [
    "Often in your code you have to make a choice. There are several ways to express conditions. In Haskell we most commonly use **if-then-else** expressions:"
   ]
  },
  {
   "cell_type": "markdown",
   "metadata": {
    "slideshow": {
     "slide_type": "subslide"
    }
   },
   "source": [
    "```haskell\n",
    "if <Condition> \n",
    "  then <Expesssion1>\n",
    "  else <Expesssion2>\n",
    "```"
   ]
  },
  {
   "cell_type": "markdown",
   "metadata": {
    "slideshow": {
     "slide_type": "slide"
    }
   },
   "source": [
    "Where `Condition` is a logical expression that yields `True` or `False`, `Expression1` is the expression used if `Condition` is `True`, and `Expression2` is the expression used if `Condition` is `False`. The function `checkLocalHost` below checks if the argument is localhost or not and reports it to the user."
   ]
  },
  {
   "cell_type": "code",
   "execution_count": 75,
   "metadata": {
    "slideshow": {
     "slide_type": "slide"
    }
   },
   "outputs": [
    {
     "data": {
      "text/plain": [
       "\"I's localhost!\""
      ]
     },
     "metadata": {},
     "output_type": "display_data"
    }
   ],
   "source": [
    "checkLocalhost :: String -> String\n",
    "checkLocalhost ip =\n",
    "    -- True or False?\n",
    "    if ip == \"127.0.0.1\"\n",
    "        -- When the condition is True the answer is\n",
    "        then \"I's localhost!\"\n",
    "        -- Otherwise the condition is False and the answer is\n",
    "        else \"No, it's not localhost.\"\n",
    "\n",
    "checkLocalhost \"127.0.0.1\""
   ]
  },
  {
   "cell_type": "markdown",
   "metadata": {
    "slideshow": {
     "slide_type": "skip"
    }
   },
   "source": [
    "The `checkLocalhost` function is applied to a single argument of type `String` and returns another value of type `String`. The argument is a string `ip` containing the IP address, and the function checks if the string is equal to `\"127.0.0.1\"`. If the check is successful the function returns `\"It's localhost!\"`, otherwise it returns `\"No, it's not localhost.\"` "
   ]
  },
  {
   "cell_type": "markdown",
   "metadata": {
    "slideshow": {
     "slide_type": "skip"
    }
   },
   "source": [
    "<div class=\"alert alert-block alert-info\">\n",
    "    While in imperative programming languages, the <code>else</code> is not mandatory, in Haskell, it is! That's because, in Haskell, every function has to return a value. So we are obligated to provide a result of the same type for both the <code>then</code> and <code>else</code> cases. \n",
    "</div>"
   ]
  },
  {
   "cell_type": "markdown",
   "metadata": {
    "slideshow": {
     "slide_type": "slide"
    }
   },
   "source": [
    "## Guards"
   ]
  },
  {
   "cell_type": "markdown",
   "metadata": {
    "slideshow": {
     "slide_type": "skip"
    }
   },
   "source": [
    "Now, imagine that we want to do a more complex check. Like checking if this year's birthday has some special meaning. We could use nested if-else statements like this:"
   ]
  },
  {
   "cell_type": "code",
   "execution_count": 103,
   "metadata": {
    "slideshow": {
     "slide_type": "slide"
    }
   },
   "outputs": [
    {
     "data": {
      "text/html": [
       "<style>/* Styles used for the Hoogle display in the pager */\n",
       ".hoogle-doc {\n",
       "display: block;\n",
       "padding-bottom: 1.3em;\n",
       "padding-left: 0.4em;\n",
       "}\n",
       ".hoogle-code {\n",
       "display: block;\n",
       "font-family: monospace;\n",
       "white-space: pre;\n",
       "}\n",
       ".hoogle-text {\n",
       "display: block;\n",
       "}\n",
       ".hoogle-name {\n",
       "color: green;\n",
       "font-weight: bold;\n",
       "}\n",
       ".hoogle-head {\n",
       "font-weight: bold;\n",
       "}\n",
       ".hoogle-sub {\n",
       "display: block;\n",
       "margin-left: 0.4em;\n",
       "}\n",
       ".hoogle-package {\n",
       "font-weight: bold;\n",
       "font-style: italic;\n",
       "}\n",
       ".hoogle-module {\n",
       "font-weight: bold;\n",
       "}\n",
       ".hoogle-class {\n",
       "font-weight: bold;\n",
       "}\n",
       ".get-type {\n",
       "color: green;\n",
       "font-weight: bold;\n",
       "font-family: monospace;\n",
       "display: block;\n",
       "white-space: pre-wrap;\n",
       "}\n",
       ".show-type {\n",
       "color: green;\n",
       "font-weight: bold;\n",
       "font-family: monospace;\n",
       "margin-left: 1em;\n",
       "}\n",
       ".mono {\n",
       "font-family: monospace;\n",
       "display: block;\n",
       "}\n",
       ".err-msg {\n",
       "color: red;\n",
       "font-style: italic;\n",
       "font-family: monospace;\n",
       "white-space: pre;\n",
       "display: block;\n",
       "}\n",
       "#unshowable {\n",
       "color: red;\n",
       "font-weight: bold;\n",
       "}\n",
       ".err-msg.in.collapse {\n",
       "padding-top: 0.7em;\n",
       "}\n",
       ".highlight-code {\n",
       "white-space: pre;\n",
       "font-family: monospace;\n",
       "}\n",
       ".suggestion-warning { \n",
       "font-weight: bold;\n",
       "color: rgb(200, 130, 0);\n",
       "}\n",
       ".suggestion-error { \n",
       "font-weight: bold;\n",
       "color: red;\n",
       "}\n",
       ".suggestion-name {\n",
       "font-weight: bold;\n",
       "}\n",
       "</style><div class=\"suggestion-name\" style=\"clear:both;\">Use guards</div><div class=\"suggestion-row\" style=\"float: left;\"><div class=\"suggestion-warning\">Found:</div><div class=\"highlight-code\" id=\"haskell\">specialBirthday age\n",
       "  = if age == 1 then\n",
       "        \"First birthday!\"\n",
       "    else\n",
       "        if age == 18 then\n",
       "            \"You're an adult!\"\n",
       "        else\n",
       "            if age == 60 then\n",
       "                \"Finally, I can stop caring about new lingo!\"\n",
       "            else\n",
       "                \"Nothing special\"</div></div><div class=\"suggestion-row\" style=\"float: left;\"><div class=\"suggestion-warning\">Why Not:</div><div class=\"highlight-code\" id=\"haskell\">specialBirthday age\n",
       "  | age == 1 = \"First birthday!\"\n",
       "  | age == 18 = \"You're an adult!\"\n",
       "  | age == 60 = \"Finally, I can stop caring about new lingo!\"\n",
       "  | otherwise = \"Nothing special\"</div></div>"
      ],
      "text/plain": [
       "Line 2: Use guards\n",
       "Found:\n",
       "specialBirthday age\n",
       "  = if age == 1 then\n",
       "        \"First birthday!\"\n",
       "    else\n",
       "        if age == 18 then\n",
       "            \"You're an adult!\"\n",
       "        else\n",
       "            if age == 60 then\n",
       "                \"Finally, I can stop caring about new lingo!\"\n",
       "            else\n",
       "                \"Nothing special\"\n",
       "Why not:\n",
       "specialBirthday age\n",
       "  | age == 1 = \"First birthday!\"\n",
       "  | age == 18 = \"You're an adult!\"\n",
       "  | age == 60 = \"Finally, I can stop caring about new lingo!\"\n",
       "  | otherwise = \"Nothing special\""
      ]
     },
     "metadata": {},
     "output_type": "display_data"
    }
   ],
   "source": [
    "specialBirthday :: Int -> [Char]\n",
    "specialBirthday age =\n",
    "  if age == 1\n",
    "    then \"First birthday!\"\n",
    "    else\n",
    "      if age == 18\n",
    "        then \"You're an adult!\"\n",
    "        else\n",
    "          if age == 60\n",
    "            then \"Finally, I can stop caring about new lingo!\"\n",
    "            else \"Nothing special\""
   ]
  },
  {
   "cell_type": "markdown",
   "metadata": {
    "slideshow": {
     "slide_type": "skip"
    }
   },
   "source": [
    "That's just a mess! Too complicated to both read and write. Luckily, we have guards!\n",
    "\n",
    "Guards work similarly to if-else statements, but you can have multiple conditions:"
   ]
  },
  {
   "cell_type": "markdown",
   "metadata": {
    "slideshow": {
     "slide_type": "slide"
    }
   },
   "source": [
    "```haskell\n",
    "expName arg\n",
    "  | <Condition1> = <Result1>\n",
    "  | <Condition2> = <Result2>\n",
    "  | <Condition3> = <Result3> \n",
    "  ...\n",
    "```"
   ]
  },
  {
   "cell_type": "markdown",
   "metadata": {
    "slideshow": {
     "slide_type": "skip"
    }
   },
   "source": [
    "We use the symbol `|` to indicate the beginning of each guard."
   ]
  },
  {
   "cell_type": "markdown",
   "metadata": {
    "slideshow": {
     "slide_type": "subslide"
    }
   },
   "source": [
    "<div class=\"alert alert-block alert-info\">\n",
    "    Notice that there's no <code>=</code> sign after <code>expName</code> arguments! That's a common pitfall when writing guards. Don't add that <code>=</code>!\n",
    "</div>"
   ]
  },
  {
   "cell_type": "markdown",
   "metadata": {
    "slideshow": {
     "slide_type": "skip"
    }
   },
   "source": [
    "With guards, we can write the `specialBirthday` function like this:"
   ]
  },
  {
   "cell_type": "code",
   "execution_count": 107,
   "metadata": {
    "slideshow": {
     "slide_type": "slide"
    }
   },
   "outputs": [
    {
     "data": {
      "text/html": [
       "<style>/* Styles used for the Hoogle display in the pager */\n",
       ".hoogle-doc {\n",
       "display: block;\n",
       "padding-bottom: 1.3em;\n",
       "padding-left: 0.4em;\n",
       "}\n",
       ".hoogle-code {\n",
       "display: block;\n",
       "font-family: monospace;\n",
       "white-space: pre;\n",
       "}\n",
       ".hoogle-text {\n",
       "display: block;\n",
       "}\n",
       ".hoogle-name {\n",
       "color: green;\n",
       "font-weight: bold;\n",
       "}\n",
       ".hoogle-head {\n",
       "font-weight: bold;\n",
       "}\n",
       ".hoogle-sub {\n",
       "display: block;\n",
       "margin-left: 0.4em;\n",
       "}\n",
       ".hoogle-package {\n",
       "font-weight: bold;\n",
       "font-style: italic;\n",
       "}\n",
       ".hoogle-module {\n",
       "font-weight: bold;\n",
       "}\n",
       ".hoogle-class {\n",
       "font-weight: bold;\n",
       "}\n",
       ".get-type {\n",
       "color: green;\n",
       "font-weight: bold;\n",
       "font-family: monospace;\n",
       "display: block;\n",
       "white-space: pre-wrap;\n",
       "}\n",
       ".show-type {\n",
       "color: green;\n",
       "font-weight: bold;\n",
       "font-family: monospace;\n",
       "margin-left: 1em;\n",
       "}\n",
       ".mono {\n",
       "font-family: monospace;\n",
       "display: block;\n",
       "}\n",
       ".err-msg {\n",
       "color: red;\n",
       "font-style: italic;\n",
       "font-family: monospace;\n",
       "white-space: pre;\n",
       "display: block;\n",
       "}\n",
       "#unshowable {\n",
       "color: red;\n",
       "font-weight: bold;\n",
       "}\n",
       ".err-msg.in.collapse {\n",
       "padding-top: 0.7em;\n",
       "}\n",
       ".highlight-code {\n",
       "white-space: pre;\n",
       "font-family: monospace;\n",
       "}\n",
       ".suggestion-warning { \n",
       "font-weight: bold;\n",
       "color: rgb(200, 130, 0);\n",
       "}\n",
       ".suggestion-error { \n",
       "font-weight: bold;\n",
       "color: red;\n",
       "}\n",
       ".suggestion-name {\n",
       "font-weight: bold;\n",
       "}\n",
       "</style><div class=\"suggestion-name\" style=\"clear:both;\">Use otherwise</div><div class=\"suggestion-row\" style=\"float: left;\"><div class=\"suggestion-warning\">Found:</div><div class=\"highlight-code\" id=\"haskell\">specialBirthday age\n",
       "  | age == 1 = \"First birthday!\"\n",
       "  | age == 18 = \"You're an adult!\"\n",
       "  | age == 60 = \"Finally, I can stop caring about new lingo!\"\n",
       "  | True = \"Nothing special\"</div></div><div class=\"suggestion-row\" style=\"float: left;\"><div class=\"suggestion-warning\">Why Not:</div><div class=\"highlight-code\" id=\"haskell\">specialBirthday age\n",
       "  | age == 1 = \"First birthday!\"\n",
       "  | age == 18 = \"You're an adult!\"\n",
       "  | age == 60 = \"Finally, I can stop caring about new lingo!\"\n",
       "  | otherwise = \"Nothing special\"</div></div>"
      ],
      "text/plain": [
       "Line 2: Use otherwise\n",
       "Found:\n",
       "specialBirthday age\n",
       "  | age == 1 = \"First birthday!\"\n",
       "  | age == 18 = \"You're an adult!\"\n",
       "  | age == 60 = \"Finally, I can stop caring about new lingo!\"\n",
       "  | True = \"Nothing special\"\n",
       "Why not:\n",
       "specialBirthday age\n",
       "  | age == 1 = \"First birthday!\"\n",
       "  | age == 18 = \"You're an adult!\"\n",
       "  | age == 60 = \"Finally, I can stop caring about new lingo!\"\n",
       "  | otherwise = \"Nothing special\""
      ]
     },
     "metadata": {},
     "output_type": "display_data"
    }
   ],
   "source": [
    "specialBirthday :: Int -> [Char]\n",
    "specialBirthday age\n",
    "  | age == 1 = \"First birthday!\"\n",
    "  | age == 18 = \"You're an adult!\"\n",
    "  | age == 60 = \"Finally, I can stop caring about new lingo!\"\n",
    "  | True = \"Nothing special\""
   ]
  },
  {
   "cell_type": "markdown",
   "metadata": {
    "slideshow": {
     "slide_type": "skip"
    }
   },
   "source": [
    "That last `True` is there to be a catch-all condition. A condition that always evaluates to `True` because it's literally `True`.\n",
    "\n",
    "This pattern of adding a last `True` in the last guard is so common that Haskell comes with a variable called `otherwise` that it's equal to `True` (`otherwise = True`) to make for an even more readable guard:"
   ]
  },
  {
   "cell_type": "code",
   "execution_count": 113,
   "metadata": {
    "slideshow": {
     "slide_type": "slide"
    }
   },
   "outputs": [
    {
     "data": {
      "text/plain": [
       "\"Finally, I can stop caring about new lingo!\""
      ]
     },
     "metadata": {},
     "output_type": "display_data"
    }
   ],
   "source": [
    "specialBirthday :: Int -> [Char]\n",
    "specialBirthday age\n",
    "  | age == 1 = \"First birthday!\"\n",
    "  | age == 18 = \"You're an adult!\"\n",
    "  | age == 60 = \"Finally, I can stop caring about new lingo!\"\n",
    "  | otherwise = \"Nothing special\"\n",
    "\n",
    "specialBirthday 60"
   ]
  },
  {
   "cell_type": "markdown",
   "metadata": {
    "slideshow": {
     "slide_type": "skip"
    }
   },
   "source": [
    "Now you can easily understand what this expression does with a quick glance!\n",
    "\n",
    "OK, that's it about conditional evaluations. Now let's see how we can take our function-syntax game up a notch with `let` and `where`!"
   ]
  },
  {
   "cell_type": "markdown",
   "metadata": {
    "slideshow": {
     "slide_type": "slide"
    }
   },
   "source": [
    "## Let and where"
   ]
  },
  {
   "cell_type": "markdown",
   "metadata": {
    "slideshow": {
     "slide_type": "notes"
    }
   },
   "source": [
    "`let` and `where` constructions are ways to store the results of intermediate computations and bind local variables inside the function's body. Let's start with `let`!"
   ]
  },
  {
   "cell_type": "markdown",
   "metadata": {
    "slideshow": {
     "slide_type": "slide"
    }
   },
   "source": [
    "### Let"
   ]
  },
  {
   "cell_type": "markdown",
   "metadata": {
    "slideshow": {
     "slide_type": "subslide"
    }
   },
   "source": [
    "The `let-in` construction can define local variables in the follwing way:\n",
    "\n",
    "```haskell\n",
    "func arg =\n",
    "    let <BINDING_1> \n",
    "        <BINDING_2> \n",
    "    in  <EXPR that uses BINDING_1 and BINDING_2>\n",
    "```\n",
    "\n",
    "where `<BINDING>` are the local variables that `<EXPR>` can access."
   ]
  },
  {
   "cell_type": "markdown",
   "metadata": {},
   "source": [
    "Now, let's create a function that takes two temperatures—one in Celsius and one in Fahrenheit—and returns the hotter one but in Kelvin. Those are quite a few conversions, aren't they?\n",
    "\n",
    "To go from Fahrenheit to Celsius, we have to first subtract 32 and then multiply by 5/9, like this:"
   ]
  },
  {
   "cell_type": "markdown",
   "metadata": {},
   "source": [
    " $tC = (tF - 32) * 5/9$"
   ]
  },
  {
   "cell_type": "markdown",
   "metadata": {},
   "source": [
    "To go from Celsius to Kelvin, we just need to add 273.16 like this:"
   ]
  },
  {
   "cell_type": "markdown",
   "metadata": {},
   "source": [
    "$tK = tC + 273.16$"
   ]
  },
  {
   "cell_type": "markdown",
   "metadata": {},
   "source": [
    "So, if we want to create **a single function** that dose all that, we can create something like this:"
   ]
  },
  {
   "cell_type": "code",
   "execution_count": null,
   "metadata": {},
   "outputs": [],
   "source": [
    "hotterInKelvin' :: Double -> Double -> Double\n",
    "hotterInKelvin' c f = if c > (f - 32) * 5 / 9 then c + 273.16 else ((f - 32) * 5 / 9) + 273.16"
   ]
  },
  {
   "cell_type": "markdown",
   "metadata": {},
   "source": [
    "It works, but that's textbook I-have-no-idea-what-I-wanted-to-do-with-that-two-weeks-ago code.\n",
    "\n",
    "A better approach is using `let` bindings for the intermediate expressions and writing the expression that pulls everything together at the `in` part:"
   ]
  },
  {
   "cell_type": "code",
   "execution_count": null,
   "metadata": {},
   "outputs": [],
   "source": [
    "hotterInKelvin :: Double -> Double -> Double\n",
    "hotterInKelvin c f =\n",
    "  let fToC t = (t - 32) * 5 / 9\n",
    "      cToK t = t + 273.16\n",
    "      fToK t = cToK (fToC t)\n",
    "   in if c > fToC f then cToK c else fToK f"
   ]
  },
  {
   "cell_type": "markdown",
   "metadata": {},
   "source": [
    "Now our code is way more readable and doesn't have all that repeated expressions!"
   ]
  },
  {
   "cell_type": "markdown",
   "metadata": {},
   "source": [
    "But wait, there's more! We can also use the `where` construction!"
   ]
  },
  {
   "cell_type": "markdown",
   "metadata": {},
   "source": [
    "### Where"
   ]
  },
  {
   "cell_type": "markdown",
   "metadata": {},
   "source": [
    "The `where` construction can define variables in the follwing way:\n",
    "\n",
    "```haskell\n",
    "func arg = <EXPRESSION that uses EXP_1 and EXP_2>\n",
    "    where <EXP_1>\n",
    "          <EXP_2>\n",
    "```\n",
    "\n",
    "where `<EXP>` are the variables that `<EXPRESSION>` can access."
   ]
  },
  {
   "cell_type": "markdown",
   "metadata": {},
   "source": [
    "So, the same `hotterInKelvin` function as before can be expressed with `where` like this:"
   ]
  },
  {
   "cell_type": "code",
   "execution_count": null,
   "metadata": {},
   "outputs": [],
   "source": [
    "hotterInKelvin'' :: Double -> Double -> Double\n",
    "hotterInKelvin'' c f = if c > fToC f then cToK c else fToK f\n",
    "  where\n",
    "    fToC t = (t - 32) * 5 / 9\n",
    "    cToK t = t + 273.16\n",
    "    fToK t = cToK (fToC t)"
   ]
  },
  {
   "cell_type": "markdown",
   "metadata": {},
   "source": [
    "TODO: Keep going from here."
   ]
  },
  {
   "cell_type": "markdown",
   "metadata": {},
   "source": [
    "**Benefits of `let-in` construction**\n",
    "\n",
    "* Allows to introduce as many explanations for the following code as you like.\n",
    "* Expressions in between `let` and `in` make our code clearer and in many cases even shorter.\n",
    "* You can also define helper functions in the `let` block."
   ]
  },
  {
   "cell_type": "markdown",
   "metadata": {},
   "source": [
    "**Warning about `let-in` construction:** the expression introduced by the `let-in` construction exists only within the expression following the word `in`."
   ]
  },
  {
   "cell_type": "markdown",
   "metadata": {},
   "source": [
    "The expression `delta` in the code below"
   ]
  },
  {
   "cell_type": "code",
   "execution_count": null,
   "metadata": {},
   "outputs": [],
   "source": [
    "calculateTime :: Int -> Int\n",
    "calculateTime timeInS =\n",
    "    let threshold   = 40\n",
    "        correction  = 120\n",
    "    in\n",
    "      if timeInS < threshold \n",
    "      then timeInS + correction\n",
    "      else let delta = 8 \n",
    "           in timeInS + delta + correction"
   ]
  },
  {
   "cell_type": "markdown",
   "metadata": {},
   "source": [
    "is visible only inside the expression `timeInS + delta + correction`."
   ]
  },
  {
   "cell_type": "markdown",
   "metadata": {},
   "source": [
    "**Is it required to write every single expressions between `let` and `in` in separate line?** No, but they should be separated by the semicolon `;` as in the code below. "
   ]
  },
  {
   "cell_type": "code",
   "execution_count": null,
   "metadata": {},
   "outputs": [],
   "source": [
    "calculateTime :: Int -> Int\n",
    "calculateTime timeInS =\n",
    "    let threshold = 40; correction = 120\n",
    "    in\n",
    "      if timeInS < threshold \n",
    "      then timeInS + correction\n",
    "      else let delta = 8 \n",
    "           in timeInS + delta + correction"
   ]
  },
  {
   "cell_type": "markdown",
   "metadata": {},
   "source": [
    "There is another way to introduce local variables using the `where` construction. The `where` keyword does almost the same thing as `let-in`, but the local variable definitions are set at the end of the function. Here is an example of using `where` for the `calculateTime` function."
   ]
  },
  {
   "cell_type": "code",
   "execution_count": null,
   "metadata": {},
   "outputs": [],
   "source": [
    "calculateTime :: Int -> Int\n",
    "calculateTime timeInS =\n",
    "    if timeInS < threshold \n",
    "    then timeInS + correction\n",
    "    else timeInS + delta + correction\n",
    "    where\n",
    "        threshold  = 40\n",
    "        correction = 120\n",
    "        delta      = 8"
   ]
  },
  {
   "cell_type": "markdown",
   "metadata": {},
   "source": [
    "How `where` differs from `let-in`? While `let-in` is used to create local variables visible only in the `in` expression, the variables in `where` are visible in any part of code preceding it."
   ]
  },
  {
   "cell_type": "markdown",
   "metadata": {},
   "source": [
    "### How to avoid writing the same code several times?"
   ]
  },
  {
   "cell_type": "markdown",
   "metadata": {},
   "source": [
    "One of the ways to save yourself from writing a long formula several times and how you can maintain clean and readable code is to name a function inside `let-in` or `where` constructions, and use it in a code after `in` or before `where`. Let's work on example where we determine whether a given cylindrical shape is a glass, a bucket, or a tank depending on its volume. The parameters are diameter and height of a cylinder."
   ]
  },
  {
   "cell_type": "code",
   "execution_count": null,
   "metadata": {},
   "outputs": [],
   "source": [
    "analyzeCylinder :: Float -> Float -> String\n",
    "analyzeCylinder diameter height\n",
    "       | volume < 10 = \"The cylinder is a glass.\"\n",
    "       | volume < 100 = \"The cylinder is a bucket.\"\n",
    "       | volume < 1000 = \"The cylinder is a tank.\"\n",
    "       | otherwise = \"The cylinder is something new to me...\"\n",
    "    where\n",
    "        volume = pi * diameter^2 * height / 4"
   ]
  },
  {
   "cell_type": "markdown",
   "metadata": {},
   "source": [
    "### Let and where together"
   ]
  },
  {
   "cell_type": "markdown",
   "metadata": {},
   "source": [
    "We can use `let-in` and `where` together, within the same function, but the general advise is: **do not mix up these constructions without any real nead**. In the following function one part of local variables is located inside `let-in`, while the other part appers after `where` keyword."
   ]
  },
  {
   "cell_type": "code",
   "execution_count": null,
   "metadata": {},
   "outputs": [],
   "source": [
    "calculateTime :: Int -> Int\n",
    "calculateTime timeInS =\n",
    "    let threshold = 40 in\n",
    "      if timeInS < threshold \n",
    "      then timeInS + correction\n",
    "      else timeInS + delta + correction\n",
    "    where\n",
    "      correction = 120\n",
    "      delta      = 8"
   ]
  },
  {
   "cell_type": "markdown",
   "metadata": {},
   "source": [
    "**Can the expressions inside `let-in` and `where` depend on each other or on the parameter of the function?** In all previous examples we've used only simple expressions, where the numbers were substituted by their names. However, both constructions allow much more complicated scenarious."
   ]
  },
  {
   "cell_type": "code",
   "execution_count": null,
   "metadata": {},
   "outputs": [],
   "source": [
    "calculateTime :: Int -> Int\n",
    "calculateTime timeInS =\n",
    "    let threshold = 40 in\n",
    "      if timeInS < threshold \n",
    "      then timeInS + correction\n",
    "      else timeInS + delta + correction\n",
    "    where\n",
    "      delta      = correction - 4\n",
    "      correction = timeInS * 2"
   ]
  },
  {
   "cell_type": "markdown",
   "metadata": {},
   "source": [
    "Now `delta` depends on `correction`, and `correction` depends on the parameter `timeInS`. **The order of appearance of expressions in `let-in` and `where` doesn't matter, even if one expression uses the other.** In the following code `let`-expression uses the expression defined inside `where`:"
   ]
  },
  {
   "cell_type": "code",
   "execution_count": null,
   "metadata": {},
   "outputs": [],
   "source": [
    "calculateTime :: Int -> Int\n",
    "calculateTime timeInS =\n",
    "    let delta     = correction - 4\n",
    "        threshold = 40\n",
    "    in\n",
    "      if timeInS < threshold \n",
    "      then timeInS + correction\n",
    "      else timeInS + delta + correction\n",
    "    where\n",
    "      correction = timeInS * 2"
   ]
  },
  {
   "cell_type": "markdown",
   "metadata": {},
   "source": [
    "Here we've used the fact that `where`-expressions are visible in the any part of the code before `where`. However, `let`-expressions aren't visible in `where`. The following code"
   ]
  },
  {
   "cell_type": "code",
   "execution_count": null,
   "metadata": {},
   "outputs": [],
   "source": [
    "calculateTime :: Int -> Int\n",
    "calculateTime timeInS =\n",
    "    let delta     = correction - 4\n",
    "        threshold = 40\n",
    "    in\n",
    "      if timeInS < threshold \n",
    "      then timeInS + correction\n",
    "      else timeInS + delta + correction\n",
    "    where\n",
    "      correction = timeInS * 2 * threshold"
   ]
  },
  {
   "cell_type": "markdown",
   "metadata": {},
   "source": [
    "returns an error:\n",
    "```\n",
    "Not in scope: ‘threshold’\n",
    "```"
   ]
  },
  {
   "cell_type": "markdown",
   "metadata": {},
   "source": [
    "**Conclusion**: you cannot use `let`-expressions inside `where`-expressions, because the former are no longer included in the expression following the keyword `in`. <br>\n",
    "**Warning!** Even if you can use let-expressions with where-expressions together, in most cases, you use one or the other."
   ]
  },
  {
   "cell_type": "markdown",
   "metadata": {},
   "source": [
    "## Summary\n",
    "\n",
    "In this lesson we've discussed:\n",
    "\n",
    "* If-then-else statements and why you should always define the else case.\n",
    "\n",
    "* Guards that are a cleaner way to write nested if-else statement when multiple conditions apply.\n",
    "\n",
    "* Let and where constructions that allow to define local variables in code. They are used to avoid using \"magic numbers\" and writing the same formulas several times and to make the code clearer."
   ]
  }
 ],
 "metadata": {
  "celltoolbar": "Slideshow",
  "kernelspec": {
   "display_name": "Python 3.8.2 64-bit",
   "language": "python",
   "name": "python3"
  },
  "language_info": {
   "codemirror_mode": "ihaskell",
   "file_extension": ".hs",
   "mimetype": "text/x-haskell",
   "name": "python",
   "pygments_lexer": "Haskell",
   "version": "3.8.2"
  },
  "vscode": {
   "interpreter": {
    "hash": "31f2aee4e71d21fbe5cf8b01ff0e069b9275f58929596ceb00d14d90e3e16cd6"
   }
  }
 },
 "nbformat": 4,
 "nbformat_minor": 2
}
